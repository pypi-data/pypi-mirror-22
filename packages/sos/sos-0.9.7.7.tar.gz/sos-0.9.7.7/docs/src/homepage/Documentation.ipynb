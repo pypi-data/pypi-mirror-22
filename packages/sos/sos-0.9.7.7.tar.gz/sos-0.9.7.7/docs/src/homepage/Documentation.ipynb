{
 "cells": [
  {
   "cell_type": "markdown",
   "metadata": {},
   "source": [
    "# Presentations"
   ]
  },
  {
   "cell_type": "markdown",
   "metadata": {},
   "source": [
    "[Script of Scripts for the writing and execution of scripts in multiple languages](doc/presentations/SoS_BCB_Jan23_2017/index.html)<br>\n",
    "The University of Texas, MD Anderson Cancer Center. Jan 23, 2017. "
   ]
  },
  {
   "cell_type": "markdown",
   "metadata": {},
   "source": [
    "# SoS Reference\n",
    "\n",
    "* [SoS syntax and structure of sos scripts](doc/documentation/SoS_Syntax.html)<br>\n",
    "  <small>An overview of the SoS syntax and key components of SoS scripts</small>\n",
    "    \n",
    "* [SoS Jupyter kernel, features and magics](doc/documentation/Notebook_Interface.html)<br>\n",
    "  <small>Using SoS with Jupyter notebook</small>\n",
    "\n",
    "* [Step options, statements and their options](doc/documentation/SoS_Step.html)<br>\n",
    "  <small>Section options, input, output, depends statements and their options.</small>\n",
    "\n",
    "* [SoS actions, targets, and functions](doc/documentation/Targets_and_Actions.html)<br>\n",
    "  <small>Complete references to all SoS functions, actions, and targets.</small>\n",
    "\n",
    "* [Host configuration and task options](doc/documentation/External_task.html)<br>\n",
    "  <small>Running and monitoring tasks externally</small>\n",
    "   \n",
    "* [Command-line Interface](doc/documentation/User_Interface.html)<br>\n",
    "  <small>Command line interface of SoS</small>\n",
    "\n",
    "* [Extending SoS](doc/documentation/Extending_SoS.html)<br>\n",
    "  <small>Define your own target, language, converter.</small>"
   ]
  },
  {
   "cell_type": "markdown",
   "metadata": {},
   "source": [
    "# Tutorials"
   ]
  },
  {
   "cell_type": "markdown",
   "metadata": {},
   "source": [
    "<table class=\"doc-table\">\n",
    "<tr><th colspan=\"2\"><br>Quick Tutorials</th></tr>\n",
    "<tr>\n",
    "    <td>SoS engine and its Jupyter frontend<br>\n",
    "        <small>Basic concept and usages of SoS</small>\n",
    "    </td>\n",
    "    <td><a href=\"doc/tutorials/Quick_Start_Guide.html\">Quick Start Guide</a><br>\n",
    "     <small>A quick tour of SoS features</small>\n",
    "    </td>\n",
    "</tr>\n",
    "<tr><th colspan=\"2\"><br>SoS a workflow engine</th></tr>\n",
    "<tr>\n",
    "    <td><a href=\"doc/tutorials/Execution_of_Workflow.html\">Execution of Workflow</a><br>\n",
    "     <small>Options and methods to execute a workflow</small>\n",
    "    </td>\n",
    "    <td><a href=\"doc/tutorials/Auxiliary_Steps.html\">Makefile-style workflows</a><br>\n",
    "    <small>Write and execute workflows in makefile style</small>\n",
    "    </td>\n",
    "</tr>\n",
    "<tr>\n",
    "   <td>\n",
    "   <a href=\"doc/tutorials/SoS_Docker_Guide.html\">SoS Docker Guide</a><br>\n",
    "   <small>Running commands in docker containers</small>\n",
    "   </td>\n",
    "   <td><a href=\"doc/tutorials/Generating_Reports.html\">Generating Reports</a><br>\n",
    "   Generate reports using [pandoc](http://pandoc.org/) or [Rmarkdown](http://rmarkdown.rstudio.com/)\n",
    "   </td>\n",
    "</tr>\n",
    "<tr>\n",
    "    <td><a href=\"doc/tutorials/File_Conversion.html\">File Conversion</a><br>\n",
    "   <small>Conversion between `.sos`, `.ipynb`, `.html` and other formats</small>\n",
    "    </td>\n",
    "    <td><a href=\"doc/tutorials/Project_Management.html\">Project Management</a><br>\n",
    "    <small>Manage files and archive projects.</small>\n",
    "    </td>\n",
    "</tr>\n",
    "<tr>\n",
    "   <td>\n",
    "    <a href=\"doc/tutorials/Remote_Execution.html\">Remote_Execution</a><br>\n",
    "    <small>Execute tasks on remote hosts with or without shared file systems</small>\n",
    "   </td>\n",
    "   <td></td>\n",
    "</tr>\n",
    "  \n",
    "<tr><th colspan=\"2\"><br>Interactive multi-language analysis using SoS</th></tr>\n",
    "  <tr>\n",
    "    <td>Working with multiple kernels<br>\n",
    "    <small>Using multiple languages in the same notebook</small>\n",
    "    </td>\n",
    "    <td>Preview and other magics of SoS<br>\n",
    "    <small>Preview of variables, expressions, and files in different formats</small>\n",
    "    </td>\n",
    "  </tr>\n",
    "  <tr>\n",
    "    <td>Workflows in Jupyter<br>\n",
    "    <small>Execute complete workflows in Jupyter</small>\n",
    "    </td>\n",
    "    <td>Task management in Jupyter<br>\n",
    "    <small>Check, stop and resume tasks</small>\n",
    "    </td>\n",
    "</tr>\n",
    " \n",
    "</table>"
   ]
  },
  {
   "cell_type": "markdown",
   "metadata": {},
   "source": [
    "# Examples\n",
    "\n",
    "SoS scripts for the maintenance of SoS\n",
    "* [update_toc.sos](doc/examples/update_toc.html)<br>\n",
    "   A sos script that was used by SoS to update TOC of the wiki pages.\n",
    "* [release](doc/examples/release.html)<br>\n",
    "   Script to manage SoS website and release SoS to pip, docker hub, etc\n",
    "\n",
    "Small scripts for bioinformatics analysis\n",
    "* [Fusion_sequences.sos](doc/examples/Fusion_sequences/Fusion_sequences.html) \n",
    "([repo](https://github.com/vatlab/SOS/tree/master/docs/src/examples/Fusion_sequences))<br>\n",
    "    A sos script that generates DNA and mRNA sequence around breakpoints. Nested workflows are used to handle all fusion candidates in all input files, and for multiple parameters."
   ]
  },
  {
   "cell_type": "code",
   "execution_count": null,
   "metadata": {
    "collapsed": true
   },
   "outputs": [],
   "source": []
  }
 ],
 "metadata": {
  "anaconda-cloud": {},
  "kernelspec": {
   "display_name": "SoS",
   "language": "sos",
   "name": "sos"
  },
  "language_info": {
   "codemirror_mode": "sos",
   "file_extension": ".sos",
   "mimetype": "text/x-sos",
   "name": "sos",
   "nbconvert_exporter": "sos.jupyter.converter.SoS_Exporter",
   "pygments_lexer": "sos"
  },
  "sos": {
   "celltoolbar": true,
   "kernels": [
    [
     "sos",
     "SoS",
     ""
    ],
    [
     "python3",
     "Python3",
     "#EAFAF1"
    ],
    [
     "bash",
     "Bash",
     "#E6EEFF"
    ],
    [
     "ir",
     "R",
     "#FDEDEC"
    ],
    [
     "python2",
     "Python2",
     "#F6FAEA"
    ]
   ],
   "panel": {
    "displayed": true,
    "height": 0,
    "style": "side"
   }
  },
  "toc": {
   "colors": {
    "hover_highlight": "#DAA520",
    "running_highlight": "#FF0000",
    "selected_highlight": "#FFD700"
   },
   "moveMenuLeft": true,
   "nav_menu": {
    "height": "45px",
    "width": "254px"
   },
   "navigate_menu": true,
   "number_sections": true,
   "sideBar": true,
   "threshold": 4,
   "toc_cell": false,
   "toc_section_display": "block",
   "toc_window_display": true
  }
 },
 "nbformat": 4,
 "nbformat_minor": 2
}
