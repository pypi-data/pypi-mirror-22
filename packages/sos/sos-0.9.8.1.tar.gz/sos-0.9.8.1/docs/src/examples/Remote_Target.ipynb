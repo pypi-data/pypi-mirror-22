{
 "cells": [
  {
   "cell_type": "code",
   "execution_count": 4,
   "metadata": {
    "kernel": "SoS"
   },
   "outputs": [
    {
     "data": {
      "text/html": [
       "<table id=\"table_nautilus_06f9d65f65aeb4efda8664d3cc66fa0a\" style=\"border: 0px\"><tr style=\"border: 0px\">\n",
       "                        <td style=\"border: 0px\">\n",
       "                        <i id=\"status_nautilus_06f9d65f65aeb4efda8664d3cc66fa0a\"\n",
       "                            class=\"fa fa-2x fa-fw fa-square-o\"\n",
       "                            onmouseover=\"$('#status_nautilus_06f9d65f65aeb4efda8664d3cc66fa0a').addClass('fa-stop').removeClass('fa-square-o')\"\n",
       "                            onmouseleave=\"$('#status_nautilus_06f9d65f65aeb4efda8664d3cc66fa0a').addClass('fa-square-o').removeClass('fa-stop')\"\n",
       "                            onclick=\"kill_task('06f9d65f65aeb4efda8664d3cc66fa0a', 'nautilus')\"\n",
       "                        ></i> </td>\n",
       "                        <td style=\"border:0px\"><a onclick=\"task_info('06f9d65f65aeb4efda8664d3cc66fa0a', 'nautilus')\"><pre>06f9d65f65aeb4efda8664d3cc66fa0a</pre></a></td>\n",
       "                        <td style=\"border:0px\">&nbsp;</td>\n",
       "                        <td style=\"border:0px;text-align=right;\">\n",
       "                        <pre><time id=\"duration_nautilus_06f9d65f65aeb4efda8664d3cc66fa0a\" datetime=\"1496983896867.4973\">23 min 8 sec</time></pre></td>\n",
       "                        </tr>\n",
       "                        </table>"
      ]
     },
     "metadata": {},
     "output_type": "display_data"
    }
   ],
   "source": [
    "%run -q nautilus \n",
    "\n",
    "input: remote('~/RNASeq/R376-8-P8/raw_data/R376-8-P8_S3_L001_R1_001.fastq.gz')\n",
    "output: \"${_input!dd}/QC/${_input!nnb}_fastqc.html\"\n",
    "\n",
    "task: walltime='30m', mem='4G'\n",
    "sh:\n",
    "    fastqc ${_input} --outdir ${_input!dd}/QC"
   ]
  },
  {
   "cell_type": "code",
   "execution_count": 2,
   "metadata": {
    "kernel": "SoS"
   },
   "outputs": [
    {
     "name": "stdout",
     "output_type": "stream",
     "text": [
      "1 task completed.\n"
     ]
    }
   ],
   "source": [
    "%run -q nautilus\n",
    "\n",
    "[QC: remote]\n",
    "input: '~/RNASeq/R376-8-P8/raw_data/R376-8-P8_S3_L001_R2_001.fastq.gz'\n",
    "output: \"${_input!dd}/QC/${_input!bnn}_fastqc.html\"\n",
    "\n",
    "task: walltime='30m', mem='4G'\n",
    "sh:\n",
    "    fastqc ${_input} --outdir ${_input!dd}/QC"
   ]
  },
  {
   "cell_type": "code",
   "execution_count": null,
   "metadata": {
    "collapsed": true
   },
   "outputs": [],
   "source": []
  }
 ],
 "metadata": {
  "kernelspec": {
   "display_name": "SoS",
   "language": "sos",
   "name": "sos"
  },
  "language_info": {
   "codemirror_mode": "sos",
   "file_extension": ".sos",
   "mimetype": "text/x-sos",
   "name": "sos",
   "nbconvert_exporter": "sos.jupyter.converter.SoS_Exporter",
   "pygments_lexer": "sos"
  },
  "sos": {
   "kernels": [
    [
     "SoS",
     "sos",
     "",
     ""
    ],
    [
     "Bash",
     "bash",
     "Bash",
     "#E6EEFF"
    ],
    [
     "JavaScript",
     "javascript",
     "JavaScript",
     "#00ff80"
    ],
    [
     "Python2",
     "python2",
     "Python2",
     "#F6FAEA"
    ],
    [
     "rik_local_remote",
     "rik_local_remote",
     "",
     ""
    ],
    [
     "R",
     "ir",
     "R",
     "#FDEDEC"
    ],
    [
     "Python3",
     "python3",
     "Python3",
     "#EAFAF1"
    ]
   ],
   "panel": {
    "displayed": true,
    "height": 0,
    "style": "side"
   }
  }
 },
 "nbformat": 4,
 "nbformat_minor": 2
}
