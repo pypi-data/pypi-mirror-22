{
 "cells": [
  {
   "cell_type": "markdown",
   "metadata": {},
   "source": [
    "# For the Curious"
   ]
  },
  {
   "cell_type": "markdown",
   "metadata": {},
   "source": [
    "If you are just curious about what SoS is and how it works, you can test SoS in our <a target=\"_blank\" href=\"http://ec2-34-192-184-206.compute-1.amazonaws.com:8000/\">public Jupyter server</a>. The `doc` directory contains all the documentations and tutorials that you can actually execute."
   ]
  },
  {
   "cell_type": "markdown",
   "metadata": {},
   "source": [
    "# Running SoS in Docker "
   ]
  },
  {
   "cell_type": "markdown",
   "metadata": {},
   "source": [
    "If you are using docker, you can run SoS directly using command\n",
    "\n",
    "```\n",
    "% docker run -it mdabioinfo/sos:latest /bin/bash\n",
    "```\n",
    "\n",
    "to enter a command prompt with sos command. More usefully, you can start a Jupyter server with [R](https://www.r-project.org/) and [IRkernel](https://github.com/IRkernel/IRkernel), Julia, Python, and SoS kernels, and many Python and R modules for data sciencists using command\n",
    "\n",
    "```\n",
    "% docker run -d -p 8888:8888 mdabioinfo/sos-notebook\n",
    "```\n",
    "\n",
    "After the docker is running in the background, you can start a browser and start working with a complete SoS environment with URL\n",
    "\n",
    "```\n",
    "http://localhost:8888\n",
    "```\n",
    "\n",
    "You can even use this docker image for your daily data analysis if you make your local directory available to the Jupyter server using command \n",
    "\n",
    "```\n",
    "% docker run -d -p 8888:8888 -v $HOME:/home/jovyan/work  mdabioinfo/sos-notebook\n",
    "```\n",
    "\n",
    "This command mounts your home directory (`$HOME`) to directory `work` under the home directory of the docker machine but you can mount any local directory to the docker image. This container is hosted at [our public Jupyter\n",
    "server](http://ec2-34-192-184-206.compute-1.amazonaws.com:8000/) from which you can open our sample notebooks and create your own notebooks without installing anything."
   ]
  },
  {
   "cell_type": "markdown",
   "metadata": {},
   "source": [
    "# Installing SoS locally"
   ]
  },
  {
   "cell_type": "markdown",
   "metadata": {},
   "source": [
    "SoS supports Linux, Mac OSX, and Windows systems and requires [Python 3](https://www.python.org/) (version 3.4 or later) so you will need to install Python 3 if you do not have it installed locally. We recommend [ananconda Python](https://www.continuum.io/downloads) because it is a complete Python environment with many packages for scientific computing."
   ]
  },
  {
   "cell_type": "markdown",
   "metadata": {},
   "source": [
    "After you have installed Python 3, you can install SoS with\n",
    "\n",
    "```\n",
    "% pip3 install sos\n",
    "```\n",
    "\n",
    "or \n",
    "\n",
    "```\n",
    "% pip install sos\n",
    "```\n",
    "\n",
    "depending on the command used for your Python 3 installation."
   ]
  },
  {
   "cell_type": "markdown",
   "metadata": {},
   "source": [
    "##  Supported Languages"
   ]
  },
  {
   "cell_type": "markdown",
   "metadata": {},
   "source": [
    "### Python 3"
   ]
  },
  {
   "cell_type": "markdown",
   "metadata": {},
   "source": [
    "No special installation is required because Jupyter notebook comes with Python 3 kernel."
   ]
  },
  {
   "cell_type": "markdown",
   "metadata": {},
   "source": [
    "### Python 2"
   ]
  },
  {
   "cell_type": "markdown",
   "metadata": {},
   "source": [
    "If you still have Python 2.x installed on your system and would like to use it with SoS, you will need to\n",
    "* Place executable `python2` or `python2.7` in your `$PATH` and use action `python2` for python2 scripts.\n",
    "* Install python2 kernel following directions [here](http://ipython.readthedocs.io/en/stable/install/kernel_install.html). Most likely you should be using commands\n",
    "  ```bash\n",
    "  python2.7 -m pip install ipykernel\n",
    "  python2.7 -m ipykernel install --user\n",
    "  ```  "
   ]
  },
  {
   "cell_type": "markdown",
   "metadata": {
    "kernel": "sos"
   },
   "source": [
    "### Bash"
   ]
  },
  {
   "cell_type": "markdown",
   "metadata": {},
   "source": [
    "Please install [Jupyter Bash Kernel](https://github.com/takluyver/bash_kernel) using commands\n",
    "\n",
    "```bash\n",
    "pip install bash_kernel\n",
    "python -m bash_kernel.install\n",
    "```"
   ]
  },
  {
   "cell_type": "markdown",
   "metadata": {},
   "source": [
    "### R"
   ]
  },
  {
   "cell_type": "markdown",
   "metadata": {},
   "source": [
    "The following packages are needed if you are using SoS with R\n",
    "\n",
    "* [R](https://www.r-project.org/) version 3.2 or later (for IRKernel)\n",
    "* [IRKernel](https://github.com/IRkernel/IRkernel) R kernel for Jupyter\n",
    "* Python [feather-format](https://github.com/wesm/feather) module for exchanging data frames between SoS/Python DataFrame and R data.frame. This\n",
    "module is not installed by default because it need to compile from source or [install from conda](https://pypi.python.org/pypi/feather-format)."
   ]
  },
  {
   "cell_type": "markdown",
   "metadata": {},
   "source": [
    "# Testing the Cutting-Edge\n",
    "\n",
    "You can get the latest git version of SoS with commands\n",
    "\n",
    "```\n",
    "% git clone https://github.com/vatlab/SOS.git\n",
    "% cd SOS\n",
    "% python setup.py install\n",
    "```"
   ]
  },
  {
   "cell_type": "markdown",
   "metadata": {},
   "source": [
    "# Running SoS in command line"
   ]
  },
  {
   "cell_type": "markdown",
   "metadata": {},
   "source": [
    "SoS can be executed in batch mode from command line or in interactive mode in [Jupyter Notebook](http://jupyter.org/). \n",
    "\n",
    "SoS uses a subcommand system with subcommands such as `run`, `dryrun`, `convert`, `pack`, `unpack`. You can get a list of subcommands using command\n",
    "\n",
    "```\n",
    "% sos -h\n",
    "```\n",
    "\n",
    "and usage of a particular subcomand using commands such as\n",
    "\n",
    "```\n",
    "% sos run -h\n",
    "```\n",
    "\n",
    "You can execute a SoS script `myscript` (or `myscript.sos`) in batch mode using command\n",
    "\n",
    "```\n",
    "% sos run myscript [options]\n",
    "```\n",
    "\n",
    "directly using command\n",
    "\n",
    "```\n",
    "% myscript [options]\n",
    "```\n",
    "\n",
    "if the script has shebang line \n",
    "\n",
    "```\n",
    "#!/usr/bin/env sos-runner\n",
    "```\n",
    "\n",
    "Please refer to chapter [Command Line Interface](doc/documentation/User_Interface.html) of the SoS documentation for more details."
   ]
  },
  {
   "cell_type": "markdown",
   "metadata": {},
   "source": [
    "# Running SoS interactively"
   ]
  },
  {
   "cell_type": "markdown",
   "metadata": {},
   "source": [
    "There are many ways to run SoS interactively. For example, you can\n",
    "\n",
    "* Run SoS in [iPython console](https://ipython.org/) with SoS IPython magics\n",
    "* Run SoS in [Jupyter](http://jupyter.org/) qtconsole with an IPython or SoS kernel\n",
    "* Run SoS in [Jupyter](http://jupyter.org/) notebook with an IPython or SoS kernel\n",
    "* Run SoS in [Spyder](https://pythonhosted.org/spyder/) with an IPython or SoS kernel\n",
    "\n",
    "The tutorial [Using SoS interactively](doc/tutorials/Using_SoS_Interactively.html) explains these options in details but most users would choose to [use SoS with Jupyter notebook](doc/tutorials/Using_SoS_with_Jupyter_Notebook.html). Briefly speaking, after the installation of SoS, you can use command\n",
    "\n",
    "```\n",
    "% jupyter notebook\n",
    "```\n",
    "\n",
    "to start a Jupyter notebook server, choose `SoS` from the dropdown menu to the Right, and create a new notebook."
   ]
  },
  {
   "cell_type": "markdown",
   "metadata": {},
   "source": [
    "# Starting a Jupyter Server with SoS Kernel"
   ]
  },
  {
   "cell_type": "markdown",
   "metadata": {},
   "source": [
    "One of the advantages of using a Jupyter notebook is the ability to access the notebook remotely. For example, you can start a Jupyter server from your office computer and connect to it from you home (as long as there is no firewall that blocks the assigned port).\n",
    "\n",
    "[The jupyter documentation](http://jupyter-notebook.readthedocs.io/en/latest/public_server.html) provides detailed instructions on how to start a Jupyter notebook server that accepts external connection. Generally speaking, you should run command\n",
    "\n",
    "```python\n",
    ">>> from notebook.auth import passwd\n",
    ">>> passwd()\n",
    "```\n",
    "\n",
    "from a Python shell to get `sha` presentation of a password. Generate a new configuration file (`~/.jupyter/jupyter_notebook_config.py`) with command\n",
    "\n",
    "```\n",
    "jupyter notebook --generate-config\n",
    "```\n",
    "\n",
    "and modify it with lines such as\n",
    "\n",
    "```python\n",
    "c.NotebookApp.ip = '*'\n",
    "c.NotebookApp.password = u'sha1:bcd259ccf...<your hashed password here>'\n",
    "c.NotebookApp.open_browser = False\n",
    "c.NotebookApp.port = 9999\n",
    "```\n",
    "\n",
    "Then, after you start your notebook server using command\n",
    "\n",
    "```\n",
    "% jupyter notebook\n",
    "```\n",
    "\n",
    "You should be able to access it remotely with URL\n",
    "\n",
    "```\n",
    "http://url-or-ip-of-notebook-server:9999/\n",
    "```"
   ]
  }
 ],
 "metadata": {
  "anaconda-cloud": {},
  "kernelspec": {
   "display_name": "SoS",
   "language": "sos",
   "name": "sos"
  },
  "language_info": {
   "codemirror_mode": "sos",
   "file_extension": ".sos",
   "mimetype": "text/x-sos",
   "name": "sos",
   "nbconvert_exporter": "sos.jupyter.converter.SoS_Exporter",
   "pygments_lexer": "sos"
  },
  "sos": {
   "kernels": [
    [
     "sos",
     "SoS",
     ""
    ],
    [
     "python3",
     "Python",
     "#EAFAF1"
    ],
    [
     "bash",
     "Bash",
     "#E6EEFF"
    ],
    [
     "ir",
     "R",
     "#FDEDEC"
    ]
   ]
  },
  "toc": {
   "colors": {
    "hover_highlight": "#DAA520",
    "running_highlight": "#FF0000",
    "selected_highlight": "#FFD700"
   },
   "moveMenuLeft": true,
   "nav_menu": {
    "height": "128px",
    "width": "254px"
   },
   "navigate_menu": true,
   "number_sections": true,
   "sideBar": true,
   "threshold": 4,
   "toc_cell": false,
   "toc_section_display": "block",
   "toc_window_display": false
  }
 },
 "nbformat": 4,
 "nbformat_minor": 2
}
