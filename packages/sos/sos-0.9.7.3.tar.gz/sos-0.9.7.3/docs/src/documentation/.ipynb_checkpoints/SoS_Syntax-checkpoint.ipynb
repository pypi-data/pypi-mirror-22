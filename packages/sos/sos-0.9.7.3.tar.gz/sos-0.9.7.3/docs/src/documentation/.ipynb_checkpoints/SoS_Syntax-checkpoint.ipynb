{
 "cells": [
  {
   "cell_type": "markdown",
   "metadata": {},
   "source": [
    "# SoS Syntax"
   ]
  },
  {
   "cell_type": "markdown",
   "metadata": {},
   "source": [
    "## Overview"
   ]
  },
  {
   "cell_type": "markdown",
   "metadata": {},
   "source": [
    "A SoS **script** defines one or more **workflows**, and each workflow consists of one or more **steps**. \n",
    "\n",
    "![workflow](../media/workflow.png)\n",
    "\n",
    "A SoS script contains **comments**, **statements**, and one or more SoS **steps**. A SoS **step** consists of a **header**\n",
    "with one or more step names and optional options. The body of a SoS step consists of optional **comments**, \n",
    "**statements**, **input**, **output**, **depends** files, **parameter** definitions, followed by step **process**. The following figure \n",
    "shows a sample script that defines a workflow with two steps:\n",
    "\n",
    "![sample_script](../media/sample_script.jpg)"
   ]
  },
  {
   "cell_type": "markdown",
   "metadata": {},
   "source": [
    "The above workflow is defined in a plain-text `.sos` file and displayed in a browser with syntax highlighting. The same workflow could be defined in a Jupyter notebook, with cells starting with section headers as follows: "
   ]
  },
  {
   "cell_type": "code",
   "execution_count": null,
   "metadata": {
    "collapsed": true,
    "kernel": "sos"
   },
   "outputs": [],
   "source": [
    "[global]\n",
    "local_resource = '~/Resource/'\n",
    "data_dir       = '~/Data/bams/'\n",
    "resource_dir   = '${local_resource}/resources/hg19/Ensembl/Genes'\n",
    "\n",
    "# samples to be processed\n",
    "parameter: samples = ['s312', 's315', 's312a', 's315a']"
   ]
  },
  {
   "cell_type": "code",
   "execution_count": null,
   "metadata": {
    "collapsed": true,
    "kernel": "sos"
   },
   "outputs": [],
   "source": [
    "[gff_0]\n",
    "# download gene models from the MISO website\n",
    "output: '${resource_dir}/Home_sapiens.GRCh37.65.gff.zip'\n",
    "download: dest_dir=resource_dir, decompress=True\n",
    "    http://genes.mit.edu/burgelab/miso/annotations/gene-models/Homo_sapiens.GRCh37.65.gff.zip"
   ]
  },
  {
   "cell_type": "code",
   "execution_count": null,
   "metadata": {
    "collapsed": true,
    "kernel": "sos"
   },
   "outputs": [],
   "source": [
    "[gff_1]\n",
    "# Index gtf file using index_gff\n",
    "output: '${resource_dir}/${hg19_gff_index}/genes.gff'\n",
    "task:   working_dir=resource_dir\n",
    "run:    docker_image='mdabioinfo/miso:latest'\n",
    "    rm -rf ${hg19_gff_index}\n",
    "    index_gff --index ${hg19_gff_file} ${hg19_gff_index}"
   ]
  },
  {
   "cell_type": "markdown",
   "metadata": {},
   "source": [
    "Note that a SoS Jupyter notebook can contain markdown cells and cells with other kernels but only cells starting with section headers (ignoring magics and comments etc) are parts of the workflow definition. Workflows in Jupyter notebook can be executed within the notebook using SoS magics, or executed from command line using commands such as `sos run`."
   ]
  },
  {
   "cell_type": "markdown",
   "metadata": {},
   "source": [
    "## Terminology & Grammar"
   ]
  },
  {
   "cell_type": "markdown",
   "metadata": {},
   "source": [
    "* **Script**: A SoS script that defines one or more workflows.\n",
    "* **Workflow**: A sequence of processes that can be executed to complete certain task.\n",
    "* **Step**: A step of a workflow that perform one piece of the workflow.\n",
    "* **Target**: Objects that are input and result of a SoS step, which are usually files, but can also be objects such as an executable command (with variable locations), and a SoS variable.\n",
    "* **Step options**: Options of the step that assist the definition of the workflow.\n",
    "* **Step input**: Specifies the input files of the step.\n",
    "* **Step output**: Specifies the output files and targets of the step.\n",
    "* **Step dependencies**: Specifies the files and targets that are required by the step.\n",
    "* **Step process**: The process that a step executes to complete specified work, specified as one or more Python statements. \n",
    "* **Task**: Part or all step process that will be executed and monitored outside of SoS. These are usually resource intensive jobs that will take long time to complete.\n",
    "* **Action**: SoS or user-defined Python functions. They differ from regular Python functions in that they may behave differently in different running mode of SoS (e.g. ignore when executed in dryrun mode)."
   ]
  },
  {
   "cell_type": "markdown",
   "metadata": {},
   "source": [
    "More formally defined, the SoS syntax obeys the following grammar, given in extended Backus-Naur form (EBNF):\n",
    "\n",
    "```\n",
    "Script         = {comment}, {statement}, {step};\n",
    "comment        = \"#\", text, NEWLINE\n",
    "assignment     = name, \"=\", expression, NEWLINE\n",
    "```\n",
    "\n",
    "with SoS steps defined as\n",
    "\n",
    "```\n",
    "step           = step_header,\n",
    "                 {comment}, {{statement}, [input | output | depends ]},\n",
    "                 [process, NEWLINE, {script} ]\n",
    "step_header    = \"[\", section_names, [\":\", names | options], \"]\", NEWLINE\n",
    "parameter      = \"parameter\", \":\", assignment\n",
    "input          = \"input\", \":\", [expressions], [\",\", options], NEWLINE\n",
    "output         = \"output\", \":\", [expressions], [\",\", options], NEWLINE\n",
    "depends        = \"depends\", \":\", [expressions], [\",\", options], NEWLINE\n",
    "task           = \"task\", \":\",  [options]\n",
    "action         = func_format | script_format\n",
    "func_format    = name, \"(\", [options], \")\"\n",
    "script_format  = name, \":\", [options], NEWLINE, script \n",
    "section_names  = section_name, \",\", section_name\n",
    "section_name   = name, \"(\", text, \")\"\n",
    "names          = name, {\",\", name}\n",
    "workflow       = name, ['_', steps], {\"+\", name, ['_', steps}\n",
    "assignment     = name, \"=\", expression, NEWLINW\n",
    "expressions    = expression, {\",\", expression}\n",
    "options        = option, {\",\" option}\n",
    "option         = name, \"=\", expression\n",
    "```\n",
    "\n",
    "Here `name`, `expression` and `statement` are arbitrary [Python 3](http://www.python.org) names, expression and statements with added SoS features."
   ]
  },
  {
   "cell_type": "markdown",
   "metadata": {},
   "source": [
    "## Basic Syntax"
   ]
  },
  {
   "cell_type": "markdown",
   "metadata": {},
   "source": [
    " If you are unfamiliar with Python, you can learn some basics of Python, usually in less than half a day, by reading some Python tutorials (e.g. [the official python tutorial](https://docs.python.org/3/tutorial/)). This [short introduction](https://docs.python.org/3/tutorial/introduction.html) is good enough for you to get started. A small difference between SoS and regular Python 3 syntax is that SoS is more lenient on the use of mixed tab and spaces for indentation. Although it is highly recommended that you use all spaces for indentation, SoS will give an warning and treat tabs as 4 spaces during execution."
   ]
  },
  {
   "cell_type": "markdown",
   "metadata": {},
   "source": [
    "### String interpolation"
   ]
  },
  {
   "cell_type": "markdown",
   "metadata": {},
   "source": [
    "On top of python string manipulation functions (`%` operator and [`str.format`](https://docs.python.org/3/library/stdtypes.html#str.format) function) and similar to recently introduced (Python 3.6) [format string](https://docs.python.org/3.6/reference/lexical_analysis.html#f-strings), SoS uses string interpolation to replace variables and expressions in string literals with their corresponding values. Unlike Python format string, SoS string interpolation **does not require any prefix**, and is **applied to only double quoted strings**.\n",
    "\n",
    "SoS string interpolation supports string format and an extended set of conversion specifications. Although configurable, the default sigil for SoS string interpolation is `'${ }'`, which means by default any expression between `${` and `}` would be evaluated by SoS. For example,"
   ]
  },
  {
   "cell_type": "code",
   "execution_count": 1,
   "metadata": {},
   "outputs": [
    {
     "name": "stdout",
     "output_type": "stream",
     "text": [
      "There are 2 samples named sample1.txt, sample2.txt\n"
     ]
    }
   ],
   "source": [
    "filenames = ['tmp/sample1.txt', 'tmp/sample2.txt']\n",
    "print(\"There are ${len(filenames)} samples named ${filenames!,b}\")"
   ]
  },
  {
   "cell_type": "markdown",
   "metadata": {},
   "source": [
    "Please refer to section [string interpolation](String_Interpolation.html) for details of this option."
   ]
  },
  {
   "cell_type": "markdown",
   "metadata": {},
   "source": [
    "### Script style function"
   ]
  },
  {
   "cell_type": "markdown",
   "metadata": {},
   "source": [
    "SoS allows you to write SoS `action` (basically a Python function) that accept a script (string) as the first parameter in a special script format. For example,\n",
    "\n",
    "```sos\n",
    "R(\"\"\"\n",
    "pdf('${input}')\n",
    "plot(0, 0)\n",
    "dev.off()\n",
    "\"\"\", workdir='result')\n",
    "```\n",
    "\n",
    "can be written as\n",
    "\n",
    "```sos\n",
    "R:     workdir='result'\n",
    "pdf('${_input}')\n",
    "plot(0, 0)\n",
    "dev.off()\n",
    "```"
   ]
  },
  {
   "cell_type": "markdown",
   "metadata": {},
   "source": [
    "**The script is a string without quotation marks** and the normal string interpolation will take place. You can also indent the script (add equal amount of leading white spaces to all lines) and write the action as\n",
    "\n",
    "```sos\n",
    "R:  workdir='result'\n",
    "   pdf('${_input}')\n",
    "   plot(0, 0)\n",
    "   dev.off()\n",
    "```\n",
    "\n",
    "The latter is much preferred because it avoids trouble if your script contains strings such as `[1]` and `option:` (and be treated as SoS directives), and more importantly, allows starting a new statement from a non-indented line. For example, `print('Hello world')` would be considered part of a R script in\n",
    "\n",
    "```sos\n",
    "R:  workdir='result'\n",
    "pdf('${_input}')\n",
    "plot(0, 0)\n",
    "dev.off()\n",
    "\n",
    "print('Hello world')\n",
    "```\n",
    "\n",
    "but a separate statement in \n",
    "\n",
    "```sos\n",
    "R:  workdir='result'\n",
    "   pdf('${_input}')\n",
    "   plot(0, 0)\n",
    "   dev.off()\n",
    "\n",
    "print('Hello world')\n",
    "```\n",
    "\n",
    "Although the script format is more concise and easier to read, it is limited to actions that accept a string as its first parameter and cannot return value or be used within `try/except` of `if/else` statements."
   ]
  },
  {
   "cell_type": "markdown",
   "metadata": {},
   "source": [
    "## File structure"
   ]
  },
  {
   "cell_type": "markdown",
   "metadata": {},
   "source": [
    "A complete SoS script would have a **header**, followed by a **global section** (without section header), and one or more SoS **sections** with header. SoS **pre-processors** can be used to include other scripts or exclude parts of the scripts conditionally. None of the parts is required so an empty script is a valid SoS script."
   ]
  },
  {
   "cell_type": "markdown",
   "metadata": {},
   "source": [
    "### File header"
   ]
  },
  {
   "cell_type": "markdown",
   "metadata": {},
   "source": [
    "A SoS script usually starts with lines\n",
    "\n",
    "```python\n",
    "#!/usr/bin/env sos-runner\n",
    "#fileformat=SOS1.0\n",
    "```\n",
    "\n",
    "The first line allows the script to be executed by command `sos-runner` if it is executed as an executable script. The second line tells SoS the format of the script. The `#fileformat` line does not have to be the first or second line but should be in the first comment block. SOS format 1.0 is assumed if no format line is present."
   ]
  },
  {
   "cell_type": "markdown",
   "metadata": {},
   "source": [
    "### Global section and default variables"
   ]
  },
  {
   "cell_type": "markdown",
   "metadata": {},
   "source": [
    "Python functions, classes, variables can be defined or imported (using Python `import` statement) before any SoS step is defined. These definitions usually contains variables such as version and date of the script, paths to various resources, and utility functions that will be used by later steps. **These definitions are visible to all steps of workflows**."
   ]
  },
  {
   "cell_type": "markdown",
   "metadata": {},
   "source": [
    "A global section can be defined without section header in a `.sos` file as statements before any sos step, or with a section `[global]`."
   ]
  },
  {
   "cell_type": "markdown",
   "metadata": {},
   "source": [
    "SoS defines the following variables before any variables are defined\n",
    "\n",
    "* **`SOS_VERSION`**: version of SoS command.\n",
    "* **`CONFIG`**: A dictionary of configurations specified by the global sos configuration file (`~/.sos/config.yml`), local configuration file (`./config.yaml`) and command line option `-c config_file`. "
   ]
  },
  {
   "cell_type": "markdown",
   "metadata": {},
   "source": [
    "### SoS Sections"
   ]
  },
  {
   "cell_type": "markdown",
   "metadata": {},
   "source": [
    "A **step** refers to a step of a SoS workflow and is defined by a **section** in a SoS script. A SoS script can define multiple workflows from multiple sections. A section can define multiple steps of one or more workflows.\n",
    "\n",
    "A section starts with header in the format of\n",
    "\n",
    "```\n",
    "[names: options]\n",
    "```\n",
    "\n",
    "The header should start with a `[` from the beginning of a line and end with a `]`. It can contain one or more names with optional section options. Please refer to [workflow specification](Workflow_Specification.html) for the specification of workflows from sections."
   ]
  },
  {
   "cell_type": "markdown",
   "metadata": {},
   "source": [
    "A section can have arbitrary Python statements and SoS-specific statements that define the input, output, and dependent targets, and external tasks of the step. These statements starts with keywords `input:`, `output:`, `depends:`, and `task:`. Please refer to [SoS step](SoS_Step.html) for more details about these statements."
   ]
  }
 ],
 "metadata": {
  "anaconda-cloud": {},
  "kernelspec": {
   "display_name": "SoS",
   "language": "sos",
   "name": "sos"
  },
  "language_info": {
   "codemirror_mode": "sos",
   "file_extension": ".sos",
   "mimetype": "text/x-sos",
   "name": "sos",
   "nbconvert_exporter": "sos.jupyter.converter.SoS_Exporter",
   "pygments_lexer": "sos"
  },
  "sos": {
   "celltoolbar": true,
   "kernels": [
    [
     "sos",
     "SoS",
     ""
    ],
    [
     "bash",
     "Bash",
     "#E6EEFF"
    ],
    [
     "python2",
     "Python2",
     "#F6FAEA"
    ],
    [
     "ir",
     "R",
     "#FDEDEC"
    ],
    [
     "python3",
     "Python3",
     "#EAFAF1"
    ]
   ],
   "panel": {
    "displayed": true,
    "height": 0,
    "style": "side"
   }
  },
  "toc": {
   "nav_menu": {
    "height": "386px",
    "width": "254px"
   },
   "navigate_menu": true,
   "number_sections": true,
   "sideBar": true,
   "threshold": 4,
   "toc_cell": false,
   "toc_section_display": "block",
   "toc_window_display": true
  }
 },
 "nbformat": 4,
 "nbformat_minor": 1
}
