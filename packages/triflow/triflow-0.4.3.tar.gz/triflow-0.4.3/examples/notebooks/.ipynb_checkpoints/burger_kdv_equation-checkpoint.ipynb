{
 "cells": [
  {
   "cell_type": "markdown",
   "metadata": {},
   "source": [
    "### The burger - kdv equation"
   ]
  },
  {
   "cell_type": "code",
   "execution_count": null,
   "metadata": {
    "ExecuteTime": {
     "end_time": "2017-05-10T08:33:53.036493Z",
     "start_time": "2017-05-10T08:33:53.020076Z"
    },
    "collapsed": true
   },
   "outputs": [],
   "source": [
    "import functools as ft\n",
    "import multiprocessing as mp\n",
    "import logging\n",
    "\n",
    "from IPython.display import Image, display, HTML\n",
    "import numpy as np\n",
    "from scipy.signal import gaussian\n",
    "\n",
    "import pylab as pl\n",
    "\n",
    "from triflow import Model, Simulation, schemes, displays\n",
    "\n",
    "pl.style.use('seaborn-white')\n",
    "\n",
    "%matplotlib inline"
   ]
  },
  {
   "cell_type": "markdown",
   "metadata": {},
   "source": [
    "This notebook is an attempt to reproduce the [Dedalus Project tutorial](http://nbviewer.jupyter.org/urls/bitbucket.org/dedalus-project/dedalus/raw/tip/docs/notebooks/dedalus_tutorial_problems_solvers.ipynb). The equation to solve is\n",
    "\n",
    "$$\\partial_{t}\\,U + U \\partial_{x}\\,U = a\\partial_{xx}\\,U + b\\partial_{xxx}\\,U$$"
   ]
  },
  {
   "cell_type": "code",
   "execution_count": null,
   "metadata": {
    "ExecuteTime": {
     "end_time": "2017-05-10T08:22:59.239610Z",
     "start_time": "2017-05-10T08:22:57.074387Z"
    },
    "collapsed": true,
    "scrolled": false
   },
   "outputs": [],
   "source": [
    "model = Model(\"-U * dxU + a * dxxU + b * dxxxU\",\n",
    "              \"U\", [\"a\", \"b\"])"
   ]
  },
  {
   "cell_type": "markdown",
   "metadata": {},
   "source": [
    "We discretize our spatial domain. `retstep=True` ask to return the spatial step."
   ]
  },
  {
   "cell_type": "code",
   "execution_count": null,
   "metadata": {
    "ExecuteTime": {
     "end_time": "2017-05-10T08:30:29.883893Z",
     "start_time": "2017-05-10T08:30:29.877720Z"
    },
    "collapsed": true
   },
   "outputs": [],
   "source": [
    "x, dx = np.linspace(-2, 6, 1000, retstep=True, endpoint=False)"
   ]
  },
  {
   "cell_type": "markdown",
   "metadata": {},
   "source": [
    "We initialize with the same initial condition as in the Dedalus tutorial"
   ]
  },
  {
   "cell_type": "code",
   "execution_count": null,
   "metadata": {
    "ExecuteTime": {
     "end_time": "2017-05-10T08:30:53.710464Z",
     "start_time": "2017-05-10T08:30:53.421728Z"
    },
    "collapsed": true
   },
   "outputs": [],
   "source": [
    "n = 20\n",
    "U = np.log(1 + np.cosh(n)**2/np.cosh(n*x)**2) / (2*n)\n",
    "\n",
    "fields = model.fields_template(x=x, U=U)\n",
    "\n",
    "pl.figure(figsize=(15, 4))\n",
    "pl.plot(fields.x, fields.U)\n",
    "pl.xlim(x.min(), fields.x.max())\n",
    "pl.show()"
   ]
  },
  {
   "cell_type": "markdown",
   "metadata": {},
   "source": [
    "We precise our parameters. The default scheme provide an automatic time_stepping."
   ]
  },
  {
   "cell_type": "code",
   "execution_count": null,
   "metadata": {
    "ExecuteTime": {
     "end_time": "2017-05-10T08:23:00.330795Z",
     "start_time": "2017-05-10T08:23:00.326619Z"
    },
    "collapsed": true
   },
   "outputs": [],
   "source": [
    "parameters = dict(a=2E-4, b=1E-4, periodic=False)"
   ]
  },
  {
   "cell_type": "markdown",
   "metadata": {
    "ExecuteTime": {
     "end_time": "2017-05-05T13:12:04.630245Z",
     "start_time": "2017-05-05T13:12:04.500514Z"
    }
   },
   "source": [
    "We initialize the simulation."
   ]
  },
  {
   "cell_type": "code",
   "execution_count": null,
   "metadata": {
    "ExecuteTime": {
     "end_time": "2017-05-10T08:23:15.828209Z",
     "start_time": "2017-05-10T08:23:15.822956Z"
    },
    "collapsed": true
   },
   "outputs": [],
   "source": [
    "t = 0\n",
    "simulation = Simulation(model, t, fields, parameters,\n",
    "                        dt=.05, tmax=10, tol=1E-3)"
   ]
  },
  {
   "cell_type": "markdown",
   "metadata": {},
   "source": [
    "We iterate on the simulation until the end."
   ]
  },
  {
   "cell_type": "code",
   "execution_count": null,
   "metadata": {
    "ExecuteTime": {
     "end_time": "2017-05-10T08:29:50.181345Z",
     "start_time": "2017-05-10T08:23:16.524106Z"
    },
    "collapsed": true,
    "scrolled": false
   },
   "outputs": [],
   "source": [
    "pl.figure(figsize=(15, 10))\n",
    "full_data = displays.window_data()\n",
    "for i, (t, fields) in enumerate(simulation):\n",
    "    if i % 10 == 0:\n",
    "        pl.fill_between(fields.x, fields.U + .1 * (i + 1),\n",
    "                        fields.U.min() - 1,\n",
    "                        color='darkred', zorder=-2 * i, alpha=.7)\n",
    "        pl.plot(fields.x, fields.U + .1 * (i + 1), \n",
    "                color='white',\n",
    "                zorder=-(2 * i) + 1)\n",
    "    print(f\"t: {t:g}\".ljust(80), end='\\r')\n",
    "    data = full_data.send((t, fields))\n",
    "pl.xlim(x.min(), fields.x.max())\n",
    "pl.show()"
   ]
  },
  {
   "cell_type": "code",
   "execution_count": null,
   "metadata": {
    "ExecuteTime": {
     "end_time": "2017-05-10T08:35:04.816378Z",
     "start_time": "2017-05-10T08:35:04.074257Z"
    },
    "collapsed": true
   },
   "outputs": [],
   "source": [
    "display(HTML(\"<h3>Triflow result</h3>\"))\n",
    "pl.figure(figsize=(12, 8))\n",
    "pl.pcolormesh(data['fields']['x'][-1], data['t'], data['fields']['U'], cmap='viridis')\n",
    "pl.colorbar()\n",
    "pl.show()\n",
    "display(HTML(\"<h3>Dedalus result</h3>\"))\n",
    "display(Image('dedalus-kdv.png'))"
   ]
  },
  {
   "cell_type": "code",
   "execution_count": null,
   "metadata": {
    "ExecuteTime": {
     "end_time": "2017-05-09T21:55:39.598439Z",
     "start_time": "2017-05-09T21:55:39.098143Z"
    },
    "collapsed": true
   },
   "outputs": [],
   "source": []
  },
  {
   "cell_type": "code",
   "execution_count": null,
   "metadata": {
    "collapsed": true
   },
   "outputs": [],
   "source": []
  }
 ],
 "metadata": {
  "_draft": {
   "nbviewer_url": "https://gist.github.com/921825d8cc19f2a9445d0bdad89de8b5"
  },
  "gist": {
   "data": {
    "description": "comparison-kdv.ipynb",
    "public": true
   },
   "id": "921825d8cc19f2a9445d0bdad89de8b5"
  },
  "kernelspec": {
   "display_name": "Python 3",
   "language": "python",
   "name": "python3"
  },
  "language_info": {
   "codemirror_mode": {
    "name": "ipython",
    "version": 3
   },
   "file_extension": ".py",
   "mimetype": "text/x-python",
   "name": "python",
   "nbconvert_exporter": "python",
   "pygments_lexer": "ipython3",
   "version": "3.6.0"
  },
  "toc": {
   "colors": {
    "hover_highlight": "#DAA520",
    "running_highlight": "#FF0000",
    "selected_highlight": "#FFD700"
   },
   "moveMenuLeft": true,
   "nav_menu": {
    "height": "12px",
    "width": "252px"
   },
   "navigate_menu": true,
   "number_sections": true,
   "sideBar": true,
   "threshold": 4,
   "toc_cell": false,
   "toc_section_display": "block",
   "toc_window_display": false
  }
 },
 "nbformat": 4,
 "nbformat_minor": 2
}
