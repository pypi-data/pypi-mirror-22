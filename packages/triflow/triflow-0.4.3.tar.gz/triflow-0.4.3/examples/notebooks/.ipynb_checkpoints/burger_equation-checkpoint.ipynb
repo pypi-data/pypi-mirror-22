{
 "cells": [
  {
   "cell_type": "markdown",
   "metadata": {},
   "source": [
    "### The burger equation"
   ]
  },
  {
   "cell_type": "code",
   "execution_count": 1,
   "metadata": {
    "ExecuteTime": {
     "end_time": "2017-05-09T09:23:02.941534Z",
     "start_time": "2017-05-09T09:23:01.965509Z"
    },
    "collapsed": true
   },
   "outputs": [],
   "source": [
    "import functools as ft\n",
    "import multiprocessing as mp\n",
    "import logging\n",
    "\n",
    "import numpy as np\n",
    "from scipy.signal import gaussian\n",
    "\n",
    "import pylab as pl\n",
    "\n",
    "from triflow import Model, Simulation, schemes, displays\n",
    "\n",
    "pl.style.use('seaborn-white')\n",
    "\n",
    "%matplotlib inline"
   ]
  },
  {
   "cell_type": "markdown",
   "metadata": {},
   "source": [
    "Burgers' equation is a fundamental partial differential equation occurring in various areas of applied mathematics, such as fluid mechanics, nonlinear acoustics, gas dynamics, traffic flow. It is named for Johannes Martinus Burgers (1895–1981). ([Wikipedia](https://en.wikipedia.org/wiki/Convection%E2%80%93diffusion_equation))\n",
    "\n",
    "The viscous Burger equation in 1D reads:\n",
    "$$\\partial_{t}U = k \\partial_{xx} U - U \\partial_{x} U$$\n",
    "\n",
    "with\n",
    "\n",
    "- $U$ the velocity\n",
    "- $k$ a diffusion convection\n",
    "\n",
    "The expected behaviour is a wave moving forward with a growing shock. This shock leads to discontinuity smoothed by the diffusion term."
   ]
  },
  {
   "cell_type": "code",
   "execution_count": 2,
   "metadata": {
    "ExecuteTime": {
     "end_time": "2017-05-09T09:23:04.448242Z",
     "start_time": "2017-05-09T09:23:02.943884Z"
    },
    "collapsed": true,
    "scrolled": false
   },
   "outputs": [],
   "source": [
    "model = Model(\"k * dxxU - U * dxU\",\n",
    "              \"U\", \"k\")"
   ]
  },
  {
   "cell_type": "markdown",
   "metadata": {},
   "source": [
    "We discretize our spatial domain. `retstep=True` ask to return the spatial step. We want periodic condition,\n",
    "so `endpoint=True` exclude the final node (which will be redondant with the\n",
    "first node, $x=0$ and $x=100$ are merged)"
   ]
  },
  {
   "cell_type": "code",
   "execution_count": 3,
   "metadata": {
    "ExecuteTime": {
     "end_time": "2017-05-09T09:23:04.452968Z",
     "start_time": "2017-05-09T09:23:04.449925Z"
    },
    "collapsed": true
   },
   "outputs": [],
   "source": [
    "x, dx = np.linspace(0, 100, 500, retstep=True, endpoint=False)"
   ]
  },
  {
   "cell_type": "markdown",
   "metadata": {},
   "source": [
    "We initialize with a simple gaussian pulse initial condition."
   ]
  },
  {
   "cell_type": "code",
   "execution_count": 4,
   "metadata": {
    "ExecuteTime": {
     "end_time": "2017-05-09T09:23:04.674883Z",
     "start_time": "2017-05-09T09:23:04.454332Z"
    }
   },
   "outputs": [
    {
     "data": {
      "image/png": "[encoded data removed]",
      "text/plain": [
       "<matplotlib.figure.Figure at 0x7fc53d1b5550>"
      ]
     },
     "metadata": {},
     "output_type": "display_data"
    }
   ],
   "source": [
    "U = gaussian(x.size, 20) * 2\n",
    "            \n",
    "fields = model.fields_template(x=x, U=U)\n",
    "\n",
    "pl.figure(figsize=(15, 4))\n",
    "pl.plot(fields.x, fields.U)\n",
    "pl.xlim(0, fields.x.max())\n",
    "pl.show()"
   ]
  },
  {
   "cell_type": "markdown",
   "metadata": {},
   "source": [
    "We precise our parameters. The default scheme provide an automatic time_stepping. We set the periodic flag to True"
   ]
  },
  {
   "cell_type": "code",
   "execution_count": 5,
   "metadata": {
    "ExecuteTime": {
     "end_time": "2017-05-09T09:23:04.681789Z",
     "start_time": "2017-05-09T09:23:04.677671Z"
    },
    "collapsed": true
   },
   "outputs": [],
   "source": [
    "parameters = dict(k=1E-1, c=20, periodic=True)"
   ]
  },
  {
   "cell_type": "markdown",
   "metadata": {
    "ExecuteTime": {
     "end_time": "2017-05-05T13:12:04.630245Z",
     "start_time": "2017-05-05T13:12:04.500514Z"
    }
   },
   "source": [
    "We initialize the simulation."
   ]
  },
  {
   "cell_type": "code",
   "execution_count": null,
   "metadata": {
    "ExecuteTime": {
     "start_time": "2017-05-09T09:23:02.263Z"
    },
    "collapsed": true
   },
   "outputs": [],
   "source": [
    "t = 0\n",
    "simulation = Simulation(model, t, fields, parameters,\n",
    "                        dt=.1, tmax=5, tol=1E-4)"
   ]
  },
  {
   "cell_type": "markdown",
   "metadata": {},
   "source": [
    "We iterate on the simulation until the end."
   ]
  },
  {
   "cell_type": "code",
   "execution_count": null,
   "metadata": {
    "ExecuteTime": {
     "start_time": "2017-05-09T09:23:02.299Z"
    },
    "scrolled": false
   },
   "outputs": [
    {
     "name": "stdout",
     "output_type": "stream",
     "text": [
      "t: 4.5                                                                          \r"
     ]
    }
   ],
   "source": [
    "pl.figure(figsize=(15, 10))\n",
    "for i, (t, fields) in enumerate(simulation):\n",
    "    if i % 2 == 0:\n",
    "        pl.fill_between(fields.x, fields.U + .1 * (i + 1),\n",
    "                        fields.U.min() - 1,\n",
    "                        color='darkred', zorder=-2 * i, alpha=.7)\n",
    "        pl.plot(fields.x, fields.U + .1 * (i + 1), \n",
    "                color='white',\n",
    "                zorder=-(2 * i) + 1)\n",
    "    print(f\"t: {t:g}\".ljust(80), end='\\r')\n",
    "pl.xlim(0, fields.x.max())\n",
    "pl.show()"
   ]
  },
  {
   "cell_type": "code",
   "execution_count": null,
   "metadata": {
    "collapsed": true
   },
   "outputs": [],
   "source": []
  }
 ],
 "metadata": {
  "_draft": {
   "nbviewer_url": "https://gist.github.com/d6966b1155fa102e6a77387dccaa8229"
  },
  "gist": {
   "data": {
    "description": "wave_equation.ipynb",
    "public": true
   },
   "id": "d6966b1155fa102e6a77387dccaa8229"
  },
  "kernelspec": {
   "display_name": "Python 3",
   "language": "python",
   "name": "python3"
  },
  "language_info": {
   "codemirror_mode": {
    "name": "ipython",
    "version": 3
   },
   "file_extension": ".py",
   "mimetype": "text/x-python",
   "name": "python",
   "nbconvert_exporter": "python",
   "pygments_lexer": "ipython3",
   "version": "3.6.0"
  },
  "toc": {
   "colors": {
    "hover_highlight": "#DAA520",
    "running_highlight": "#FF0000",
    "selected_highlight": "#FFD700"
   },
   "moveMenuLeft": true,
   "nav_menu": {
    "height": "12px",
    "width": "252px"
   },
   "navigate_menu": true,
   "number_sections": true,
   "sideBar": true,
   "threshold": 4,
   "toc_cell": false,
   "toc_section_display": "block",
   "toc_window_display": false
  }
 },
 "nbformat": 4,
 "nbformat_minor": 2
}
