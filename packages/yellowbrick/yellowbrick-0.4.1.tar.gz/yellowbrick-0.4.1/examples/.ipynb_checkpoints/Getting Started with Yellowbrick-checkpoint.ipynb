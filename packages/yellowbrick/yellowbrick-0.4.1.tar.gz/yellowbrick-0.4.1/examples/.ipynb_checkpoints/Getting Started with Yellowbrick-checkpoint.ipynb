{
 "cells": [
  {
   "cell_type": "code",
   "execution_count": 1,
   "metadata": {
    "collapsed": true
   },
   "outputs": [],
   "source": [
    "%matplotlib notebook"
   ]
  },
  {
   "cell_type": "markdown",
   "metadata": {},
   "source": [
    "# Getting Started with Yellowbrick \n"
   ]
  },
  {
   "cell_type": "markdown",
   "metadata": {},
   "source": [
    "## Alpha Testing \n",
    "\n",
    "We are looking for people to help us Alpha test the Yellowbrick project! Helping is simple: simply create a notebook that applies the concepts in this getting started guide to a small to medium size data set of your choice. Run through the examples with the dataset, and try to change options and customize as much as possible. After you've exercised the code with your examples, respond to our alpha testing survey!\n",
    "\n",
    "### Step One: Dataset \n",
    "\n",
    "Select a multivariate dataset of your own; the more datasets that we can run through Yellowbrick, the more likely we'll discover edge cases and exceptions! Note that the dataset must be well-suited to modeling with Scikit-Learn. In particular we recommend you choose a dataset whose target is suited to the following tasks:\n",
    "\n",
    "- [Regression](https://en.wikipedia.org/wiki/Regression_analysis) (target is a continuous variable)\n",
    "- [Classification](https://en.wikipedia.org/wiki/Classification_in_machine_learning) (target is a discrete variable) \n",
    "\n",
    "There are data sets that are well suited to both types of analysis; either way you'll be utilizing the testing methodology for one, the other, or both. In order to find a dataset, we recommend you try the following places:\n",
    "\n",
    "- [UCI Machine Learning Repository](http://archive.ics.uci.edu/ml/)\n",
    "- [MLData.org](http://mldata.org/)\n",
    "- [Awesome Public Datasets](https://github.com/caesar0301/awesome-public-datasets) \n",
    "\n",
    "You're more than welcome to choose a dataset of your own, but we do ask that you make at least the notebook containing your testing results publically available for us to review. If the data is also public (or you're willing to share it with the primary contributors) that will help us figure out bugs and required features much more easily! \n",
    "\n",
    "### Step Two: Notebook \n",
    "\n",
    "Create a notebook in a GitHub repository. We suggest the following:\n",
    "\n",
    "1. Fork the Yellowbrick repository \n",
    "2. Under the examples directory, create a directory with your GitHub username \n",
    "3. Create the notebook in examples/username/testing.ipynb \n",
    "\n",
    "You don't have to fork Yellowbrick, and can send us the notebook via Gist or your own repository, but if you do, you can initiate a pull request to have your example added to our gallery! \n",
    "\n",
    "### Step Three: Model with Yellowbrick and Scikit-Learn\n",
    "\n",
    "Add the following to the notebook:\n",
    "\n",
    "- A title in markdown \n",
    "- A description of the dataset and where it was obtained \n",
    "- A section that loads the data into a DataFrame or numpy matrix \n",
    "\n",
    "Then conduct the following modeling activities:\n",
    "\n",
    "- Feature analysis using Scikit-Learn and Yellowbrick \n",
    "- Estimator fitting using Scikit-Learn and Yellowbrick \n",
    "\n",
    "You can follow along with the guide above, the examples directory, or even create your own custom visualizers! The goal is that you create an end-to-end model from data loading to estimator(s) with visualizers along the way. \n",
    "\n",
    "**IMPORTANT**: please make sure you record all errors that you get and any tracebacks you receive for step four! \n",
    "\n",
    "### Step Four: Feedback \n",
    "\n",
    "Finally, submit feedback via the Google Form we have created:\n",
    "\n",
    "[https://goo.gl/forms/naoPUMFa1xNcafY83](https://goo.gl/forms/naoPUMFa1xNcafY83)\n",
    "\n",
    "This form is allowing us to aggregate multiple submissions and bugs so that we can coordinate the creation and management of issues. If you are the first to report a bug or feature request, we will make sure you're notified about the created issue! \n",
    "\n",
    "### Step Five: Thanks! \n",
    "\n",
    "Thank you for helping us make Yellowbrick better! We'd love to see pull requests for features you thought would be neat. We'll also be doing a user study, that we'd love for you to participate in. Stay tuned for more great things from Yellowbrick!"
   ]
  }
 ],
 "metadata": {
  "kernelspec": {
   "display_name": "Python 3",
   "language": "python",
   "name": "python3"
  },
  "language_info": {
   "codemirror_mode": {
    "name": "ipython",
    "version": 3
   },
   "file_extension": ".py",
   "mimetype": "text/x-python",
   "name": "python",
   "nbconvert_exporter": "python",
   "pygments_lexer": "ipython3",
   "version": "3.5.1"
  }
 },
 "nbformat": 4,
 "nbformat_minor": 0
}
