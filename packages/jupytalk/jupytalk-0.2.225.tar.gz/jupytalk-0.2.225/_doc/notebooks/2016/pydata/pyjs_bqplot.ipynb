{
  "cells": [
    {
      "cell_type": "markdown",
      "metadata": {},
      "source": [
        "# bqplot\n",
        "\n",
        "This library is well integrated with Jupyter and will probably stick for a long time. It mixes Python and Javascript. One drawback: you need to run the notebook everytime to get the graph, they don't stay because Jupyter server is sending them, they don't appear in the output."
      ]
    },
    {
      "cell_type": "markdown",
      "metadata": {},
      "source": [
        "[source](https://github.com/bloomberg/bqplot) [installation](https://pypi.python.org/pypi/bqplot/) [tutorial](https://github.com/bloomberg/bqplot) [gallerie](https://github.com/bloomberg/bqplot/tree/master/examples)"
      ]
    },
    {
      "cell_type": "code",
      "execution_count": null,
      "metadata": {
        "collapsed": true
      },
      "outputs": [],
      "source": [
        "%matplotlib inline"
      ]
    },
    {
      "cell_type": "code",
      "execution_count": null,
      "metadata": {
        "collapsed": false
      },
      "outputs": [
        {
          "data": {
            "text/html": [
              "<div id=\"my_id_menu_nb\">run previous cell, wait for 2 seconds</div>\n",
              "<script>\n",
              "function repeat_indent_string(n){\n",
              "    var a = \"\" ;\n",
              "    for ( ; n > 0 ; --n) {\n",
              "        a += \"    \";\n",
              "    }\n",
              "    return a;\n",
              "}\n",
              "var update_menu_string = function(begin, lfirst, llast, sformat, send, keep_item) {\n",
              "    var anchors = document.getElementsByClassName(\"section\");\n",
              "    if (anchors.length == 0) {\n",
              "        anchors = document.getElementsByClassName(\"text_cell_render rendered_html\");\n",
              "    }\n",
              "    var i,t;\n",
              "    var text_menu = begin;\n",
              "    var text_memo = \"<pre>\\nlength:\" + anchors.length + \"\\n\";\n",
              "    var ind = \"\";\n",
              "    var memo_level = 1;\n",
              "    var href;\n",
              "    var tags = [];\n",
              "    var main_item = 0;\n",
              "    for (i = 0; i <= llast; i++) {\n",
              "        tags.push(\"h\" + i);\n",
              "    }\n",
              "\n",
              "    for (i = 0; i < anchors.length; i++) {\n",
              "        text_memo += \"**\" + anchors[i].id + \"--\\n\";\n",
              "\n",
              "        var child = null;\n",
              "        for(t = 0; t < tags.length; t++) {\n",
              "            var r = anchors[i].getElementsByTagName(tags[t]);\n",
              "            if (r.length > 0) {\n",
              "child = r[0];\n",
              "break;\n",
              "            }\n",
              "        }\n",
              "        if (child == null){\n",
              "            text_memo += \"null\\n\";\n",
              "            continue;\n",
              "        }\n",
              "        if (anchors[i].hasAttribute(\"id\")) {\n",
              "            // when converted in RST\n",
              "            href = anchors[i].id;\n",
              "            text_memo += \"#1-\" + href;\n",
              "            // passer \u00e0 child suivant (le chercher)\n",
              "        }\n",
              "        else if (child.hasAttribute(\"id\")) {\n",
              "            // in a notebook\n",
              "            href = child.id;\n",
              "            text_memo += \"#2-\" + href;\n",
              "        }\n",
              "        else {\n",
              "            text_memo += \"#3-\" + \"*\" + \"\\n\";\n",
              "            continue;\n",
              "        }\n",
              "        var title = child.textContent;\n",
              "        var level = parseInt(child.tagName.substring(1,2));\n",
              "\n",
              "        text_memo += \"--\" + level + \"?\" + lfirst + \"--\" + title + \"\\n\";\n",
              "\n",
              "        if ((level < lfirst) || (level > llast)) {\n",
              "            continue ;\n",
              "        }\n",
              "        if (title.endsWith('\u00b6')) {\n",
              "            title = title.substring(0,title.length-1).replace(\"<\", \"&lt;\").replace(\">\", \"&gt;\").replace(\"&\", \"&amp;\")\n",
              "        }\n",
              "\n",
              "        if (title.length == 0) {\n",
              "            continue;\n",
              "        }\n",
              "\n",
              "        while (level < memo_level) {\n",
              "            text_menu += \"</ul>\\n\";\n",
              "            memo_level -= 1;\n",
              "        }\n",
              "        if (level == lfirst) {\n",
              "            main_item += 1;\n",
              "        }\n",
              "        if (keep_item != -1 && main_item != keep_item + 1) {\n",
              "            // alert(main_item + \" - \" + level + \" - \" + keep_item);\n",
              "            continue;\n",
              "        }\n",
              "        while (level > memo_level) {\n",
              "            text_menu += \"<ul>\\n\";\n",
              "            memo_level += 1;\n",
              "        }\n",
              "        text_menu += repeat_indent_string(level-2) + sformat.replace(\"__HREF__\", href).replace(\"__TITLE__\", title);\n",
              "    }\n",
              "    while (1 < memo_level) {\n",
              "        text_menu += \"</ul>\\n\";\n",
              "        memo_level -= 1;\n",
              "    }\n",
              "    text_menu += send;\n",
              "    //text_menu += \"\\n\" + text_memo;\n",
              "    return text_menu;\n",
              "};\n",
              "var update_menu = function() {\n",
              "    var sbegin = \"\";\n",
              "    var sformat = '<li><a href=\"#__HREF__\">__TITLE__</a></li>';\n",
              "    var send = \"\";\n",
              "    var keep_item = -1;\n",
              "    var text_menu = update_menu_string(sbegin, 2, 4, sformat, send, keep_item);\n",
              "    var menu = document.getElementById(\"my_id_menu_nb\");\n",
              "    menu.innerHTML=text_menu;\n",
              "};\n",
              "window.setTimeout(update_menu,2000);\n",
              "            </script>"
            ],
            "text/plain": [
              "<IPython.core.display.HTML object>"
            ]
          },
          "execution_count": null,
          "metadata": {},
          "output_type": "execute_result"
        }
      ],
      "source": [
        "from jyquickhelper import add_notebook_menu\n",
        "add_notebook_menu()"
      ]
    },
    {
      "cell_type": "markdown",
      "metadata": {},
      "source": [
        "## Setup\n",
        "\n",
        "Le module est install\u00e9 d'abord avec l'instruction ``pip install bqplot`` puis avec l'instruction ``jupyter nbextension enable --py bqplot``. Sans cela, le notebook semble bloqu\u00e9 dans l'ex\u00e9cution du code utilisant ce module."
      ]
    },
    {
      "cell_type": "code",
      "execution_count": null,
      "metadata": {
        "collapsed": true
      },
      "outputs": [],
      "source": [
        "import bqplot"
      ]
    },
    {
      "cell_type": "markdown",
      "metadata": {},
      "source": [
        "## Premiers exemples de la documentation"
      ]
    },
    {
      "cell_type": "code",
      "execution_count": null,
      "metadata": {
        "collapsed": false
      },
      "outputs": [],
      "source": [
        "from bqplot import pyplot as plt\n",
        "import numpy as np\n",
        "plt.figure(1)\n",
        "np.random.seed(0)\n",
        "n = 200\n",
        "x = np.linspace(0.0, 10.0, n)\n",
        "y = np.cumsum(np.random.randn(n))\n",
        "plt.plot(x,y, axes_options={'y': {'grid_lines': 'dashed'}})\n",
        "plt.show()"
      ]
    },
    {
      "cell_type": "code",
      "execution_count": null,
      "metadata": {
        "collapsed": false
      },
      "outputs": [],
      "source": [
        "import numpy as np\n",
        "from IPython.display import display\n",
        "import bqplot as bq\n",
        "\n",
        "size = 20\n",
        "np.random.seed(0)\n",
        "\n",
        "x_data = np.arange(size)\n",
        "\n",
        "x_ord = bq.OrdinalScale()\n",
        "y_sc = bq.LinearScale()\n",
        "\n",
        "bar = bq.Bars(x=x_data, y=np.random.randn(2, size), scales={'x': x_ord, 'y': y_sc},\n",
        "              type='stacked')\n",
        "line = bq.Lines(x=x_data, y=np.random.randn(size), scales={'x': x_ord, 'y': y_sc},\n",
        "                stroke_width=3, colors=['red'], display_legend=True, labels=['Line chart'])\n",
        "\n",
        "ax_x = bq.Axis(scale=x_ord)\n",
        "ax_y = bq.Axis(scale=y_sc, orientation='vertical', tick_format='0.2f', grid_lines='solid')\n",
        "\n",
        "fig = bq.Figure(marks=[bar, line], axes=[ax_x, ax_y])\n",
        "display(fig)"
      ]
    },
    {
      "cell_type": "markdown",
      "metadata": {
        "collapsed": true
      },
      "source": [
        "## Animation\n",
        "\n",
        "La seconde cellule d\u00e9finit le graphe. La troisi\u00e8me met \u00e0 jour le graphique avec une nouvelle s\u00e9rie. La mise \u00e0 jour est progressive."
      ]
    },
    {
      "cell_type": "code",
      "execution_count": null,
      "metadata": {
        "collapsed": true
      },
      "outputs": [],
      "source": [
        "import numpy as np\n",
        "import bqplot as bq\n",
        "from IPython.display import display"
      ]
    },
    {
      "cell_type": "code",
      "execution_count": null,
      "metadata": {
        "collapsed": false
      },
      "outputs": [],
      "source": [
        "xs = bq.LinearScale()\n",
        "ys = bq.LinearScale()\n",
        "x = np.arange(100)\n",
        "y = np.cumsum(np.random.randn(2, 100), axis=1) #two random walks\n",
        "\n",
        "line = bq.Lines(x=x, y=y, scales={'x': xs, 'y': ys}, colors=['red', 'green'])\n",
        "xax = bq.Axis(scale=xs, label='x', grid_lines='solid')\n",
        "yax = bq.Axis(scale=ys, orientation='vertical', tick_format='0.2f', label='y', grid_lines='solid')\n",
        "\n",
        "fig = bq.Figure(marks=[line], axes=[xax, yax], animation_duration=1000)\n",
        "display(fig)"
      ]
    },
    {
      "cell_type": "code",
      "execution_count": null,
      "metadata": {
        "collapsed": true
      },
      "outputs": [],
      "source": [
        "#update data of the line mark\n",
        "line.y = np.cumsum(np.random.randn(2, 100), axis=1)"
      ]
    },
    {
      "cell_type": "markdown",
      "metadata": {},
      "source": [
        "## Cartes"
      ]
    },
    {
      "cell_type": "code",
      "execution_count": null,
      "metadata": {
        "collapsed": true
      },
      "outputs": [],
      "source": [
        "from IPython.display import display\n",
        "from bqplot import (Figure, Map, Mercator, Orthographic, ColorScale, ColorAxis,\n",
        "                    AlbersUSA, topo_load, Tooltip)\n",
        "from pyquickhelper.filehelper import get_url_content_timeout\n",
        "url = \"https://raw.githubusercontent.com/bloomberg/bqplot/master/bqplot/map_data/\""
      ]
    },
    {
      "cell_type": "code",
      "execution_count": null,
      "metadata": {
        "collapsed": false
      },
      "outputs": [],
      "source": [
        "sc_geo = Mercator()\n",
        "x = Map(scales={'projection': sc_geo})\n",
        "fig = Figure(marks=[x], title='Basic Map Example')\n",
        "display(fig)"
      ]
    },
    {
      "cell_type": "code",
      "execution_count": null,
      "metadata": {
        "collapsed": false
      },
      "outputs": [],
      "source": [
        "sc_geo = Mercator()\n",
        "sc_c1 = ColorScale(scheme='YlOrRd')\n",
        "\n",
        "map_styles = {'color': {643: 105., 4: 21., 398: 23., 156: 42., 124:78., 76: 98.}, \n",
        "              'scales': {'projection': sc_geo, 'color': sc_c1}}\n",
        "\n",
        "axis = ColorAxis(scale=sc_c1)\n",
        "\n",
        "if False:\n",
        "    try:\n",
        "        x = Map(map_data=topo_load('map_data/WorldMap.json'), **map_styles)\n",
        "    except Exception as e:\n",
        "        print(e)\n",
        "        import os\n",
        "        maps = os.path.abspath('WorldMap.json')\n",
        "        get_url_content_timeout(url + 'WorldMap.json', output=maps)\n",
        "        tl = topo_load(os.path.abspath(\"WorldMap.json\"))\n",
        "        x = Map(map_data=tl, **map_styles)\n",
        "\n",
        "fig = Figure(marks=[x], axes=[axis],title='Choropleth Example')\n",
        "display(fig)"
      ]
    },
    {
      "cell_type": "markdown",
      "metadata": {},
      "source": [
        "On peut s\u00e9lectionner des zones de la carte suivante. Je recommande l'usage de Firefox ou Chrome."
      ]
    },
    {
      "cell_type": "code",
      "execution_count": null,
      "metadata": {
        "collapsed": true
      },
      "outputs": [],
      "source": [
        "def_tt = Tooltip(fields=['id', 'name'])\n",
        "map_mark = Map(scales={'projection': Mercator()}, tooltip=def_tt)\n",
        "map_mark.interactions = {'click': 'select', 'hover': 'tooltip'}\n",
        "fig = Figure(marks=[map_mark], title='Interactions Example')\n",
        "display(fig)"
      ]
    },
    {
      "cell_type": "markdown",
      "metadata": {},
      "source": [
        "## Interactions"
      ]
    },
    {
      "cell_type": "code",
      "execution_count": null,
      "metadata": {
        "collapsed": true
      },
      "outputs": [],
      "source": [
        "from bqplot import *\n",
        "from IPython.display import display\n",
        "import numpy as np\n",
        "import pandas as pd"
      ]
    },
    {
      "cell_type": "code",
      "execution_count": null,
      "metadata": {
        "collapsed": true
      },
      "outputs": [],
      "source": [
        "from ipywidgets import *"
      ]
    },
    {
      "cell_type": "code",
      "execution_count": null,
      "metadata": {
        "collapsed": false
      },
      "outputs": [],
      "source": [
        "x_sc = LinearScale()\n",
        "y_sc = LinearScale()\n",
        "\n",
        "x_data = np.arange(20)\n",
        "y_data = np.random.randn(20)\n",
        "\n",
        "dd = Dropdown(options=['First', 'Second', 'Third', 'Fourth'])\n",
        "scatter_chart = Scatter(x=x_data, y=y_data, scales= {'x': x_sc, 'y': y_sc}, default_colors=['dodgerblue'],\n",
        "                       names=np.arange(100, 200), names_unique=False, display_names=False, display_legend=True,\n",
        "                       labels=['Blue'])\n",
        "ins = Button(icon='fa-legal')\n",
        "scatter_chart.tooltip = ins\n",
        "\n",
        "scatter_chart2 = Scatter(x=x_data, y=np.random.randn(20), \n",
        "                         scales= {'x': x_sc, 'y': y_sc}, default_colors=['orangered'],\n",
        "                         tooltip=dd, names=np.arange(100, 200), names_unique=False, display_names=False, \n",
        "                         display_legend=True, labels=['Red'])\n",
        "\n",
        "ax_x = Axis(scale=x_sc)\n",
        "ax_y = Axis(scale=y_sc, orientation='vertical', tick_format='0.2f')\n",
        "\n",
        "fig = Figure(marks=[scatter_chart, scatter_chart2], axes=[ax_x, ax_y])\n",
        "display(fig)"
      ]
    },
    {
      "cell_type": "markdown",
      "metadata": {},
      "source": [
        "La cellule suivante attrape les \u00e9v\u00e9nements g\u00e9n\u00e9r\u00e9es par la souris et affiche ce qu'elle attrape."
      ]
    },
    {
      "cell_type": "code",
      "execution_count": null,
      "metadata": {
        "collapsed": true
      },
      "outputs": [],
      "source": [
        "def print_event(self, target):\n",
        "    print(target)\n",
        "\n",
        "# Adding call back to scatter events\n",
        "# print custom mssg on hover and background click of Blue Scatter\n",
        "scatter_chart.on_hover(print_event)\n",
        "scatter_chart.on_background_click(print_event)\n",
        "\n",
        "# print custom mssg on click of an element or legend of Red Scatter\n",
        "scatter_chart2.on_element_click(print_event)\n",
        "scatter_chart2.on_legend_click(print_event)"
      ]
    },
    {
      "cell_type": "markdown",
      "metadata": {},
      "source": [
        "On attrape un \u00e9v\u00e9nement pour afficher un graphe plus complexe."
      ]
    },
    {
      "cell_type": "code",
      "execution_count": null,
      "metadata": {
        "collapsed": true
      },
      "outputs": [],
      "source": [
        "# Adding figure as tooltip\n",
        "x_sc = LinearScale()\n",
        "y_sc = LinearScale()\n",
        "\n",
        "x_data = np.arange(10)\n",
        "y_data = np.random.randn(10)\n",
        "\n",
        "lc = Lines(x=x_data, y=y_data, scales={'x': x_sc, 'y':y_sc})\n",
        "ax_x = Axis(scale=x_sc)\n",
        "ax_y = Axis(scale=y_sc, orientation='vertical', tick_format='0.2f')\n",
        "tooltip_fig = Figure(marks=[lc], axes=[ax_x, ax_y], min_height=400, min_width=400)\n",
        "\n",
        "scatter_chart.tooltip = tooltip_fig"
      ]
    },
    {
      "cell_type": "code",
      "execution_count": null,
      "metadata": {
        "collapsed": true
      },
      "outputs": [],
      "source": [
        "# Changing interaction from hover to click for tooltip\n",
        "scatter_chart.interactions = {'click': 'tooltip'}"
      ]
    },
    {
      "cell_type": "code",
      "execution_count": null,
      "metadata": {
        "collapsed": true
      },
      "outputs": [],
      "source": []
    }
  ],
  "metadata": {
    "kernelspec": {
      "display_name": "Python 3",
      "language": "python",
      "name": "python3"
    },
    "language_info": {
      "codemirror_mode": {
        "name": "ipython",
        "version": 3
      },
      "file_extension": ".py",
      "mimetype": "text/x-python",
      "name": "python",
      "nbconvert_exporter": "python",
      "pygments_lexer": "ipython3",
      "version": "3.5.2"
    }
  },
  "nbformat": 4,
  "nbformat_minor": 0
}