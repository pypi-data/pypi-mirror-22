{
  "cells": [
    {
      "cell_type": "markdown",
      "metadata": {},
      "source": [
        "# vega\n",
        "\n",
        "[vega](https://github.com/vega/ipyvega) is an extension for the notebook which relies on [Vega](https://github.com/vega/vega)."
      ]
    },
    {
      "cell_type": "markdown",
      "metadata": {},
      "source": [
        "[documentation](https://vega.github.io/vega-lite/docs/) [source](https://github.com/vega/ipyvega) [installation](https://github.com/vega/ipyvega#python-package-index) [tutorial](https://github.com/vega/ipyvega/tree/master/notebooks) [tutorial js](https://vega.github.io/vega-lite/tutorials/getting_started.html) [gallery](https://github.com/vega/vega-lite) [gallery2](https://vega.github.io/vega-lite/examples/#stacked-and-layered-plots)"
      ]
    },
    {
      "cell_type": "code",
      "execution_count": null,
      "metadata": {
        "collapsed": false
      },
      "outputs": [
        {
          "data": {
            "text/html": [
              "<div id=\"my_id_menu_nb\">run previous cell, wait for 2 seconds</div>\n",
              "<script>\n",
              "function repeat_indent_string(n){\n",
              "    var a = \"\" ;\n",
              "    for ( ; n > 0 ; --n) {\n",
              "        a += \"    \";\n",
              "    }\n",
              "    return a;\n",
              "}\n",
              "var update_menu_string = function(begin, lfirst, llast, sformat, send, keep_item) {\n",
              "    var anchors = document.getElementsByClassName(\"section\");\n",
              "    if (anchors.length == 0) {\n",
              "        anchors = document.getElementsByClassName(\"text_cell_render rendered_html\");\n",
              "    }\n",
              "    var i,t;\n",
              "    var text_menu = begin;\n",
              "    var text_memo = \"<pre>\\nlength:\" + anchors.length + \"\\n\";\n",
              "    var ind = \"\";\n",
              "    var memo_level = 1;\n",
              "    var href;\n",
              "    var tags = [];\n",
              "    var main_item = 0;\n",
              "    for (i = 0; i <= llast; i++) {\n",
              "        tags.push(\"h\" + i);\n",
              "    }\n",
              "\n",
              "    for (i = 0; i < anchors.length; i++) {\n",
              "        text_memo += \"**\" + anchors[i].id + \"--\\n\";\n",
              "\n",
              "        var child = null;\n",
              "        for(t = 0; t < tags.length; t++) {\n",
              "            var r = anchors[i].getElementsByTagName(tags[t]);\n",
              "            if (r.length > 0) {\n",
              "child = r[0];\n",
              "break;\n",
              "            }\n",
              "        }\n",
              "        if (child == null){\n",
              "            text_memo += \"null\\n\";\n",
              "            continue;\n",
              "        }\n",
              "        if (anchors[i].hasAttribute(\"id\")) {\n",
              "            // when converted in RST\n",
              "            href = anchors[i].id;\n",
              "            text_memo += \"#1-\" + href;\n",
              "            // passer \u00e0 child suivant (le chercher)\n",
              "        }\n",
              "        else if (child.hasAttribute(\"id\")) {\n",
              "            // in a notebook\n",
              "            href = child.id;\n",
              "            text_memo += \"#2-\" + href;\n",
              "        }\n",
              "        else {\n",
              "            text_memo += \"#3-\" + \"*\" + \"\\n\";\n",
              "            continue;\n",
              "        }\n",
              "        var title = child.textContent;\n",
              "        var level = parseInt(child.tagName.substring(1,2));\n",
              "\n",
              "        text_memo += \"--\" + level + \"?\" + lfirst + \"--\" + title + \"\\n\";\n",
              "\n",
              "        if ((level < lfirst) || (level > llast)) {\n",
              "            continue ;\n",
              "        }\n",
              "        if (title.endsWith('\u00b6')) {\n",
              "            title = title.substring(0,title.length-1).replace(\"<\", \"&lt;\").replace(\">\", \"&gt;\").replace(\"&\", \"&amp;\")\n",
              "        }\n",
              "\n",
              "        if (title.length == 0) {\n",
              "            continue;\n",
              "        }\n",
              "\n",
              "        while (level < memo_level) {\n",
              "            text_menu += \"</ul>\\n\";\n",
              "            memo_level -= 1;\n",
              "        }\n",
              "        if (level == lfirst) {\n",
              "            main_item += 1;\n",
              "        }\n",
              "        if (keep_item != -1 && main_item != keep_item + 1) {\n",
              "            // alert(main_item + \" - \" + level + \" - \" + keep_item);\n",
              "            continue;\n",
              "        }\n",
              "        while (level > memo_level) {\n",
              "            text_menu += \"<ul>\\n\";\n",
              "            memo_level += 1;\n",
              "        }\n",
              "        text_menu += repeat_indent_string(level-2) + sformat.replace(\"__HREF__\", href).replace(\"__TITLE__\", title);\n",
              "    }\n",
              "    while (1 < memo_level) {\n",
              "        text_menu += \"</ul>\\n\";\n",
              "        memo_level -= 1;\n",
              "    }\n",
              "    text_menu += send;\n",
              "    //text_menu += \"\\n\" + text_memo;\n",
              "    return text_menu;\n",
              "};\n",
              "var update_menu = function() {\n",
              "    var sbegin = \"\";\n",
              "    var sformat = '<li><a href=\"#__HREF__\">__TITLE__</a></li>';\n",
              "    var send = \"\";\n",
              "    var keep_item = -1;\n",
              "    var text_menu = update_menu_string(sbegin, 2, 4, sformat, send, keep_item);\n",
              "    var menu = document.getElementById(\"my_id_menu_nb\");\n",
              "    menu.innerHTML=text_menu;\n",
              "};\n",
              "window.setTimeout(update_menu,2000);\n",
              "            </script>"
            ],
            "text/plain": [
              "<IPython.core.display.HTML object>"
            ]
          },
          "execution_count": null,
          "metadata": {},
          "output_type": "execute_result"
        }
      ],
      "source": [
        "from jyquickhelper import add_notebook_menu\n",
        "add_notebook_menu()"
      ]
    },
    {
      "cell_type": "markdown",
      "metadata": {},
      "source": [
        "## installation\n",
        "\n",
        "Javascript needs to be installed for Jupyter.\n",
        "\n",
        "```\n",
        "pip install jupyter pandas vega\n",
        "jupyter nbextension install --py vega\n",
        "jupyter nbextension enable vega --py\n",
        "```"
      ]
    },
    {
      "cell_type": "markdown",
      "metadata": {},
      "source": [
        "## example"
      ]
    },
    {
      "cell_type": "code",
      "execution_count": null,
      "metadata": {
        "collapsed": true
      },
      "outputs": [],
      "source": [
        "from vega import Vega"
      ]
    },
    {
      "cell_type": "code",
      "execution_count": null,
      "metadata": {
        "collapsed": false
      },
      "outputs": [
        {
          "data": {
            "text/html": [
              "<div class=\"vega-embed\" id=\"1855ea0a-fa4b-4008-a1af-9400bdacf81e\"></div>\n",
              "\n",
              "<style>\n",
              ".vega-embed svg, .vega-embed canvas {\n",
              "  border: 1px dotted gray;\n",
              "}\n",
              "\n",
              ".vega-embed .vega-actions a {\n",
              "  margin-right: 6px;\n",
              "}\n",
              "</style>\n"
            ]
          },
          "metadata": {
            "jupyter-vega": "#1855ea0a-fa4b-4008-a1af-9400bdacf81e"
          },
          "output_type": "display_data"
        },
        {
          "data": {
            "application/javascript": [
              "var spec = {\"padding\": {\"right\": 10, \"left\": 30, \"bottom\": 30, \"top\": 10}, \"marks\": [{\"properties\": {\"hover\": {\"fill\": {\"value\": \"red\"}}, \"update\": {\"fill\": {\"value\": \"steelblue\"}}, \"enter\": {\"y\": {\"scale\": \"y\", \"field\": \"y\"}, \"y2\": {\"scale\": \"y\", \"value\": 0}, \"width\": {\"offset\": -1, \"scale\": \"x\", \"band\": true}, \"x\": {\"scale\": \"x\", \"field\": \"x\"}}}, \"type\": \"rect\", \"from\": {\"data\": \"table\"}}], \"axes\": [{\"scale\": \"x\", \"type\": \"x\"}, {\"scale\": \"y\", \"type\": \"y\"}], \"scales\": [{\"name\": \"x\", \"domain\": {\"data\": \"table\", \"field\": \"x\"}, \"range\": \"width\", \"type\": \"ordinal\"}, {\"name\": \"y\", \"domain\": {\"data\": \"table\", \"field\": \"y\"}, \"range\": \"height\", \"type\": \"linear\", \"nice\": true}], \"height\": 200, \"data\": [{\"name\": \"table\", \"values\": [{\"y\": 28, \"x\": 1}, {\"y\": 55, \"x\": 2}, {\"y\": 43, \"x\": 3}, {\"y\": 91, \"x\": 4}, {\"y\": 81, \"x\": 5}, {\"y\": 53, \"x\": 6}, {\"y\": 19, \"x\": 7}, {\"y\": 87, \"x\": 8}, {\"y\": 52, \"x\": 9}, {\"y\": 48, \"x\": 10}, {\"y\": 24, \"x\": 11}, {\"y\": 49, \"x\": 12}, {\"y\": 87, \"x\": 13}, {\"y\": 66, \"x\": 14}, {\"y\": 17, \"x\": 15}, {\"y\": 27, \"x\": 16}, {\"y\": 68, \"x\": 17}, {\"y\": 16, \"x\": 18}, {\"y\": 49, \"x\": 19}, {\"y\": 15, \"x\": 20}]}], \"width\": 400};\n",
              "var selector = \"#1855ea0a-fa4b-4008-a1af-9400bdacf81e\";\n",
              "var type = \"vega\";\n",
              "\n",
              "var output_area = this;\n",
              "require(['nbextensions/jupyter-vega/index'], function(vega) {\n",
              "  vega.render(selector, spec, type, output_area);\n",
              "}, function (err) {\n",
              "  if (err.requireType !== 'scripterror') {\n",
              "    throw(err);\n",
              "  }\n",
              "});\n"
            ]
          },
          "metadata": {
            "jupyter-vega": "#1855ea0a-fa4b-4008-a1af-9400bdacf81e"
          },
          "output_type": "display_data"
        },
        {
          "data": {
            "image/png": "[encoded data removed]"
          },
          "metadata": {
            "jupyter-vega": "#1855ea0a-fa4b-4008-a1af-9400bdacf81e"
          },
          "output_type": "display_data"
        }
      ],
      "source": [
        "Vega({\n",
        "  \"width\": 400,\n",
        "  \"height\": 200,\n",
        "  \"padding\": {\"top\": 10, \"left\": 30, \"bottom\": 30, \"right\": 10},\n",
        "  \"data\": [\n",
        "    {\n",
        "      \"name\": \"table\",\n",
        "      \"values\": [\n",
        "        {\"x\": 1,  \"y\": 28}, {\"x\": 2,  \"y\": 55},\n",
        "        {\"x\": 3,  \"y\": 43}, {\"x\": 4,  \"y\": 91},\n",
        "        {\"x\": 5,  \"y\": 81}, {\"x\": 6,  \"y\": 53},\n",
        "        {\"x\": 7,  \"y\": 19}, {\"x\": 8,  \"y\": 87},\n",
        "        {\"x\": 9,  \"y\": 52}, {\"x\": 10, \"y\": 48},\n",
        "        {\"x\": 11, \"y\": 24}, {\"x\": 12, \"y\": 49},\n",
        "        {\"x\": 13, \"y\": 87}, {\"x\": 14, \"y\": 66},\n",
        "        {\"x\": 15, \"y\": 17}, {\"x\": 16, \"y\": 27},\n",
        "        {\"x\": 17, \"y\": 68}, {\"x\": 18, \"y\": 16},\n",
        "        {\"x\": 19, \"y\": 49}, {\"x\": 20, \"y\": 15}\n",
        "      ]\n",
        "    }\n",
        "  ],\n",
        "  \"scales\": [\n",
        "    {\n",
        "      \"name\": \"x\",\n",
        "      \"type\": \"ordinal\",\n",
        "      \"range\": \"width\",\n",
        "      \"domain\": {\"data\": \"table\", \"field\": \"x\"}\n",
        "    },\n",
        "    {\n",
        "      \"name\": \"y\",\n",
        "      \"type\": \"linear\",\n",
        "      \"range\": \"height\",\n",
        "      \"domain\": {\"data\": \"table\", \"field\": \"y\"},\n",
        "      \"nice\": True\n",
        "    }\n",
        "  ],\n",
        "  \"axes\": [\n",
        "    {\"type\": \"x\", \"scale\": \"x\"},\n",
        "    {\"type\": \"y\", \"scale\": \"y\"}\n",
        "  ],\n",
        "  \"marks\": [\n",
        "    {\n",
        "      \"type\": \"rect\",\n",
        "      \"from\": {\"data\": \"table\"},\n",
        "      \"properties\": {\n",
        "        \"enter\": {\n",
        "          \"x\": {\"scale\": \"x\", \"field\": \"x\"},\n",
        "          \"width\": {\"scale\": \"x\", \"band\": True, \"offset\": -1},\n",
        "          \"y\": {\"scale\": \"y\", \"field\": \"y\"},\n",
        "          \"y2\": {\"scale\": \"y\", \"value\": 0}\n",
        "        },\n",
        "        \"update\": {\n",
        "          \"fill\": {\"value\": \"steelblue\"}\n",
        "        },\n",
        "        \"hover\": { \"fill\": {\"value\": \"red\"} } } } ] })"
      ]
    },
    {
      "cell_type": "code",
      "execution_count": null,
      "metadata": {
        "collapsed": false
      },
      "outputs": [
        {
          "data": {
            "text/html": [
              "<div class=\"vega-embed\" id=\"3027cdf9-f628-4943-9deb-eb687bc59d6c\"></div>\n",
              "\n",
              "<style>\n",
              ".vega-embed svg, .vega-embed canvas {\n",
              "  border: 1px dotted gray;\n",
              "}\n",
              "\n",
              ".vega-embed .vega-actions a {\n",
              "  margin-right: 6px;\n",
              "}\n",
              "</style>\n"
            ]
          },
          "metadata": {
            "jupyter-vega": "#3027cdf9-f628-4943-9deb-eb687bc59d6c"
          },
          "output_type": "display_data"
        },
        {
          "data": {
            "application/javascript": [
              "var spec = {\"config\": {\"cell\": {\"width\": 500, \"height\": 350}, \"mark\": {\"stacked\": \"center\"}}, \"encoding\": {\"y\": {\"axis\": false, \"aggregate\": \"sum\", \"type\": \"quantitative\", \"field\": \"count\"}, \"color\": {\"scale\": {\"range\": \"category20b\"}, \"type\": \"nominal\", \"field\": \"series\"}, \"x\": {\"axis\": {\"labelAngle\": 0, \"axisWidth\": 0, \"tickSize\": 0, \"format\": \"%Y\"}, \"scale\": {\"nice\": \"month\"}, \"timeUnit\": \"yearmonth\", \"type\": \"temporal\", \"field\": \"date\"}}, \"data\": {\"url\": \"https://vega.github.io/vega-editor/app/data/unemployment-across-industries.json\"}, \"mark\": \"area\"};\n",
              "var selector = \"#3027cdf9-f628-4943-9deb-eb687bc59d6c\";\n",
              "var type = \"vega-lite\";\n",
              "\n",
              "var output_area = this;\n",
              "require(['nbextensions/jupyter-vega/index'], function(vega) {\n",
              "  vega.render(selector, spec, type, output_area);\n",
              "}, function (err) {\n",
              "  if (err.requireType !== 'scripterror') {\n",
              "    throw(err);\n",
              "  }\n",
              "});\n"
            ]
          },
          "metadata": {
            "jupyter-vega": "#3027cdf9-f628-4943-9deb-eb687bc59d6c"
          },
          "output_type": "display_data"
        },
        {
          "data": {
            "image/png": "[encoded data removed]"
          },
          "metadata": {
            "jupyter-vega": "#3027cdf9-f628-4943-9deb-eb687bc59d6c"
          },
          "output_type": "display_data"
        }
      ],
      "source": [
        "from vega import VegaLite\n",
        "import json\n",
        "from io import StringIO\n",
        "d = json.load(StringIO(\"\"\"\n",
        "{\n",
        "  \"data\": {\"url\": \"https://vega.github.io/vega-editor/app/data/unemployment-across-industries.json\"},\n",
        "  \"mark\": \"area\",\n",
        "  \"encoding\": {\n",
        "    \"x\": {\n",
        "      \"timeUnit\": \"yearmonth\", \"field\": \"date\", \"type\": \"temporal\",\n",
        "      \"scale\": {\"nice\": \"month\"},\n",
        "      \"axis\": {\"axisWidth\": 0, \"format\": \"%Y\", \"labelAngle\": 0, \"tickSize\": 0}\n",
        "    },\n",
        "    \"y\": {\n",
        "      \"aggregate\": \"sum\", \"field\": \"count\",\"type\": \"quantitative\",\n",
        "      \"axis\": false\n",
        "    },\n",
        "    \"color\": {\"field\":\"series\", \"type\":\"nominal\", \"scale\":{\"range\": \"category20b\"}}\n",
        "  },\n",
        "  \"config\": {\"cell\": {\"width\": 300, \"height\": 200}, \"mark\": {\"stacked\": \"center\"}}\n",
        "}\n",
        "\"\"\"))\n",
        "VegaLite(d)"
      ]
    },
    {
      "cell_type": "code",
      "execution_count": null,
      "metadata": {
        "collapsed": false
      },
      "outputs": [
        {
          "data": {
            "text/html": [
              "<div class=\"vega-embed\" id=\"8d3ce2c3-7392-4c55-a5f0-baf0e5bde167\"></div>\n",
              "\n",
              "<style>\n",
              ".vega-embed svg, .vega-embed canvas {\n",
              "  border: 1px dotted gray;\n",
              "}\n",
              "\n",
              ".vega-embed .vega-actions a {\n",
              "  margin-right: 6px;\n",
              "}\n",
              "</style>\n"
            ]
          },
          "metadata": {
            "jupyter-vega": "#8d3ce2c3-7392-4c55-a5f0-baf0e5bde167"
          },
          "output_type": "display_data"
        },
        {
          "data": {
            "application/javascript": [
              "var spec = {\"config\": {\"cell\": {\"width\": 500, \"height\": 350}, \"mark\": {\"stacked\": \"center\"}}, \"encoding\": {\"y\": {\"axis\": false, \"aggregate\": \"sum\", \"type\": \"quantitative\", \"field\": \"count\"}, \"color\": {\"scale\": {\"range\": \"category20b\"}, \"type\": \"nominal\", \"field\": \"series\"}, \"x\": {\"axis\": {\"labelAngle\": 0, \"axisWidth\": 0, \"tickSize\": 0, \"format\": \"%Y\"}, \"scale\": {\"nice\": \"month\"}, \"timeUnit\": \"yearmonth\", \"type\": \"temporal\", \"field\": \"date\"}}, \"data\": {\"url\": \"https://vega.github.io/vega-editor/app/data/unemployment-across-industries.json\"}, \"mark\": \"area\"};\n",
              "var selector = \"#8d3ce2c3-7392-4c55-a5f0-baf0e5bde167\";\n",
              "var type = \"vega\";\n",
              "\n",
              "var output_area = this;\n",
              "require(['nbextensions/jupyter-vega/index'], function(vega) {\n",
              "  vega.render(selector, spec, type, output_area);\n",
              "}, function (err) {\n",
              "  if (err.requireType !== 'scripterror') {\n",
              "    throw(err);\n",
              "  }\n",
              "});\n"
            ]
          },
          "metadata": {
            "jupyter-vega": "#8d3ce2c3-7392-4c55-a5f0-baf0e5bde167"
          },
          "output_type": "display_data"
        }
      ],
      "source": []
    },
    {
      "cell_type": "code",
      "execution_count": null,
      "metadata": {
        "collapsed": true
      },
      "outputs": [],
      "source": []
    }
  ],
  "metadata": {
    "kernelspec": {
      "display_name": "Python 3",
      "language": "python",
      "name": "python3"
    },
    "language_info": {
      "codemirror_mode": {
        "name": "ipython",
        "version": 3
      },
      "file_extension": ".py",
      "mimetype": "text/x-python",
      "name": "python",
      "nbconvert_exporter": "python",
      "pygments_lexer": "ipython3",
      "version": "3.5.2"
    }
  },
  "nbformat": 4,
  "nbformat_minor": 0
}