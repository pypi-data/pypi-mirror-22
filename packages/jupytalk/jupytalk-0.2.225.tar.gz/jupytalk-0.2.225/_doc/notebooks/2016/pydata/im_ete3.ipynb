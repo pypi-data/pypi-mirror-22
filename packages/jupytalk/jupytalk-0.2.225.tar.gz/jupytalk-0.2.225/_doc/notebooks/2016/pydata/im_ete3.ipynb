{
  "cells": [
    {
      "cell_type": "markdown",
      "metadata": {},
      "source": [
        "# ete3\n",
        "\n",
        "[ete3](http://etetoolkit.org/) draws nice trees."
      ]
    },
    {
      "cell_type": "markdown",
      "metadata": {},
      "source": [
        "[documentation](http://etetoolkit.org/docs/latest/index.html) [source](https://github.com/etetoolkit/ete/tree/master/ete3) [installation](https://pypi.python.org/pypi/ete3/) [tutorial](http://etetoolkit.org/docs/latest/tutorial/index.html) [gallery](http://etetoolkit.org/gallery/) [notebook](https://www.mrnoutahi.com/2016/01/09/Tree-manipulation-with-ETE/)"
      ]
    },
    {
      "cell_type": "code",
      "execution_count": null,
      "metadata": {
        "collapsed": false
      },
      "outputs": [
        {
          "data": {
            "text/html": [
              "<div id=\"my_id_menu_nb\">run previous cell, wait for 2 seconds</div>\n",
              "<script>\n",
              "function repeat_indent_string(n){\n",
              "    var a = \"\" ;\n",
              "    for ( ; n > 0 ; --n) {\n",
              "        a += \"    \";\n",
              "    }\n",
              "    return a;\n",
              "}\n",
              "var update_menu_string = function(begin, lfirst, llast, sformat, send, keep_item) {\n",
              "    var anchors = document.getElementsByClassName(\"section\");\n",
              "    if (anchors.length == 0) {\n",
              "        anchors = document.getElementsByClassName(\"text_cell_render rendered_html\");\n",
              "    }\n",
              "    var i,t;\n",
              "    var text_menu = begin;\n",
              "    var text_memo = \"<pre>\\nlength:\" + anchors.length + \"\\n\";\n",
              "    var ind = \"\";\n",
              "    var memo_level = 1;\n",
              "    var href;\n",
              "    var tags = [];\n",
              "    var main_item = 0;\n",
              "    for (i = 0; i <= llast; i++) {\n",
              "        tags.push(\"h\" + i);\n",
              "    }\n",
              "\n",
              "    for (i = 0; i < anchors.length; i++) {\n",
              "        text_memo += \"**\" + anchors[i].id + \"--\\n\";\n",
              "\n",
              "        var child = null;\n",
              "        for(t = 0; t < tags.length; t++) {\n",
              "            var r = anchors[i].getElementsByTagName(tags[t]);\n",
              "            if (r.length > 0) {\n",
              "child = r[0];\n",
              "break;\n",
              "            }\n",
              "        }\n",
              "        if (child == null){\n",
              "            text_memo += \"null\\n\";\n",
              "            continue;\n",
              "        }\n",
              "        if (anchors[i].hasAttribute(\"id\")) {\n",
              "            // when converted in RST\n",
              "            href = anchors[i].id;\n",
              "            text_memo += \"#1-\" + href;\n",
              "            // passer \u00e0 child suivant (le chercher)\n",
              "        }\n",
              "        else if (child.hasAttribute(\"id\")) {\n",
              "            // in a notebook\n",
              "            href = child.id;\n",
              "            text_memo += \"#2-\" + href;\n",
              "        }\n",
              "        else {\n",
              "            text_memo += \"#3-\" + \"*\" + \"\\n\";\n",
              "            continue;\n",
              "        }\n",
              "        var title = child.textContent;\n",
              "        var level = parseInt(child.tagName.substring(1,2));\n",
              "\n",
              "        text_memo += \"--\" + level + \"?\" + lfirst + \"--\" + title + \"\\n\";\n",
              "\n",
              "        if ((level < lfirst) || (level > llast)) {\n",
              "            continue ;\n",
              "        }\n",
              "        if (title.endsWith('\u00b6')) {\n",
              "            title = title.substring(0,title.length-1).replace(\"<\", \"&lt;\").replace(\">\", \"&gt;\").replace(\"&\", \"&amp;\")\n",
              "        }\n",
              "\n",
              "        if (title.length == 0) {\n",
              "            continue;\n",
              "        }\n",
              "\n",
              "        while (level < memo_level) {\n",
              "            text_menu += \"</ul>\\n\";\n",
              "            memo_level -= 1;\n",
              "        }\n",
              "        if (level == lfirst) {\n",
              "            main_item += 1;\n",
              "        }\n",
              "        if (keep_item != -1 && main_item != keep_item + 1) {\n",
              "            // alert(main_item + \" - \" + level + \" - \" + keep_item);\n",
              "            continue;\n",
              "        }\n",
              "        while (level > memo_level) {\n",
              "            text_menu += \"<ul>\\n\";\n",
              "            memo_level += 1;\n",
              "        }\n",
              "        text_menu += repeat_indent_string(level-2) + sformat.replace(\"__HREF__\", href).replace(\"__TITLE__\", title);\n",
              "    }\n",
              "    while (1 < memo_level) {\n",
              "        text_menu += \"</ul>\\n\";\n",
              "        memo_level -= 1;\n",
              "    }\n",
              "    text_menu += send;\n",
              "    //text_menu += \"\\n\" + text_memo;\n",
              "    return text_menu;\n",
              "};\n",
              "var update_menu = function() {\n",
              "    var sbegin = \"\";\n",
              "    var sformat = '<li><a href=\"#__HREF__\">__TITLE__</a></li>';\n",
              "    var send = \"\";\n",
              "    var keep_item = -1;\n",
              "    var text_menu = update_menu_string(sbegin, 2, 4, sformat, send, keep_item);\n",
              "    var menu = document.getElementById(\"my_id_menu_nb\");\n",
              "    menu.innerHTML=text_menu;\n",
              "};\n",
              "window.setTimeout(update_menu,2000);\n",
              "            </script>"
            ],
            "text/plain": [
              "<IPython.core.display.HTML object>"
            ]
          },
          "execution_count": null,
          "metadata": {},
          "output_type": "execute_result"
        }
      ],
      "source": [
        "from jyquickhelper import add_notebook_menu\n",
        "add_notebook_menu()"
      ]
    },
    {
      "cell_type": "markdown",
      "metadata": {},
      "source": [
        "## example"
      ]
    },
    {
      "cell_type": "code",
      "execution_count": null,
      "metadata": {
        "collapsed": false
      },
      "outputs": [
        {
          "name": "stdout",
          "output_type": "stream",
          "text": [
            "Example numerical matrix\n",
            "\n",
            "#Names\tcol1\tcol2\tcol3\tcol4\tcol5\tcol6\tcol7\n",
            "A\t-1.23\t-0.81\t1.79\t0.78\t-0.42\t-0.69\t0.58\n",
            "B\t-1.76\t-0.94\t1.16\t0.36\t0.41\t-0.35\t1.12\n",
            "C\t-2.19\t0.13\t0.65\t-0.51\t0.52\t1.04\t0.36\n",
            "D\t-1.22\t-0.98\t0.79\t-0.76\t-0.29\t1.54\t0.93\n",
            "E\t-1.47\t-0.83\t0.85\t0.07\t-0.81\t1.53\t0.65\n",
            "F\t-1.04\t-1.11\t0.87\t-0.14\t-0.80\t1.74\t0.48\n",
            "G\t-1.57\t-1.17\t1.29\t0.23\t-0.20\t1.17\t0.26\n",
            "H\t-1.53\t-1.25\t0.59\t-0.30\t0.32\t1.41\t0.77\n",
            "\n"
          ]
        }
      ],
      "source": [
        "from ete3 import ClusterTree\n",
        "# Example of a minimalistic numerical matrix. It is encoded as a text\n",
        "# string for convenience, but it usally be loaded from a text file.\n",
        "matrix = \"\"\"\n",
        "#Names\\tcol1\\tcol2\\tcol3\\tcol4\\tcol5\\tcol6\\tcol7\n",
        "A\\t-1.23\\t-0.81\\t1.79\\t0.78\\t-0.42\\t-0.69\\t0.58\n",
        "B\\t-1.76\\t-0.94\\t1.16\\t0.36\\t0.41\\t-0.35\\t1.12\n",
        "C\\t-2.19\\t0.13\\t0.65\\t-0.51\\t0.52\\t1.04\\t0.36\n",
        "D\\t-1.22\\t-0.98\\t0.79\\t-0.76\\t-0.29\\t1.54\\t0.93\n",
        "E\\t-1.47\\t-0.83\\t0.85\\t0.07\\t-0.81\\t1.53\\t0.65\n",
        "F\\t-1.04\\t-1.11\\t0.87\\t-0.14\\t-0.80\\t1.74\\t0.48\n",
        "G\\t-1.57\\t-1.17\\t1.29\\t0.23\\t-0.20\\t1.17\\t0.26\n",
        "H\\t-1.53\\t-1.25\\t0.59\\t-0.30\\t0.32\\t1.41\\t0.77\n",
        "\"\"\"\n",
        "print(\"Example numerical matrix\")\n",
        "print(matrix)"
      ]
    },
    {
      "cell_type": "code",
      "execution_count": null,
      "metadata": {
        "collapsed": false
      },
      "outputs": [
        {
          "name": "stdout",
          "output_type": "stream",
          "text": [
            "\n",
            "         /-A\n",
            "      /-|\n",
            "     |   \\-B\n",
            "   /-|\n",
            "  |  |   /-C\n",
            "  |   \\-|\n",
            "  |     |   /-D\n",
            "--|      \\-|\n",
            "  |         \\-E\n",
            "  |\n",
            "  |   /-F\n",
            "   \\-|\n",
            "     |   /-G\n",
            "      \\-|\n",
            "         \\-H\n"
          ]
        }
      ],
      "source": [
        "t = ClusterTree(\"(((A,B),(C,(D,E))),(F,(G,H)));\", text_array=matrix)\n",
        "print(t)"
      ]
    },
    {
      "cell_type": "code",
      "execution_count": null,
      "metadata": {
        "collapsed": false
      },
      "outputs": [
        {
          "data": {
            "image/png": "[encoded data removed]",
            "text/plain": [
              "<IPython.core.display.Image object>"
            ]
          },
          "execution_count": null,
          "metadata": {},
          "output_type": "execute_result"
        }
      ],
      "source": [
        "t.render(\"%%inline\", h=300)"
      ]
    },
    {
      "cell_type": "code",
      "execution_count": null,
      "metadata": {
        "collapsed": true
      },
      "outputs": [],
      "source": [
        "from ete3 import TreeStyle\n",
        "ts = TreeStyle()\n",
        "ts.show_branch_length = True # show branch length\n",
        "ts.show_branch_support = True # show support\n",
        "ts.show_leaf_name = True"
      ]
    },
    {
      "cell_type": "code",
      "execution_count": null,
      "metadata": {
        "collapsed": false
      },
      "outputs": [
        {
          "data": {
            "image/png": "[encoded data removed]",
            "text/plain": [
              "<IPython.core.display.Image object>"
            ]
          },
          "execution_count": null,
          "metadata": {},
          "output_type": "execute_result"
        }
      ],
      "source": [
        "t.render(\"%%inline\",tree_style=ts)"
      ]
    },
    {
      "cell_type": "code",
      "execution_count": null,
      "metadata": {
        "collapsed": false
      },
      "outputs": [
        {
          "data": {
            "image/png": "[encoded data removed]",
            "text/plain": [
              "<IPython.core.display.Image object>"
            ]
          },
          "execution_count": null,
          "metadata": {},
          "output_type": "execute_result"
        }
      ],
      "source": [
        "ts.layout_fn = \"heatmap\"\n",
        "t.render(\"%%inline\",tree_style=ts)"
      ]
    },
    {
      "cell_type": "code",
      "execution_count": null,
      "metadata": {
        "collapsed": false
      },
      "outputs": [
        {
          "data": {
            "image/png": "[encoded data removed]",
            "text/plain": [
              "<IPython.core.display.Image object>"
            ]
          },
          "execution_count": null,
          "metadata": {},
          "output_type": "execute_result"
        }
      ],
      "source": [
        "ts.layout_fn = \"cluster_cbars\"\n",
        "t.render(\"%%inline\",tree_style=ts)"
      ]
    },
    {
      "cell_type": "code",
      "execution_count": null,
      "metadata": {
        "collapsed": false
      },
      "outputs": [
        {
          "data": {
            "image/png": "[encoded data removed]",
            "text/plain": [
              "<IPython.core.display.Image object>"
            ]
          },
          "execution_count": null,
          "metadata": {},
          "output_type": "execute_result"
        }
      ],
      "source": [
        "ts.layout_fn = \"cluster_bars\"\n",
        "t.render(\"%%inline\",tree_style=ts)"
      ]
    },
    {
      "cell_type": "code",
      "execution_count": null,
      "metadata": {
        "collapsed": false
      },
      "outputs": [
        {
          "data": {
            "image/png": "[encoded data removed]",
            "text/plain": [
              "<IPython.core.display.Image object>"
            ]
          },
          "execution_count": null,
          "metadata": {},
          "output_type": "execute_result"
        }
      ],
      "source": [
        "ts.layout_fn = \"cluster_lines\"\n",
        "t.render(\"%%inline\",tree_style=ts)"
      ]
    },
    {
      "cell_type": "code",
      "execution_count": null,
      "metadata": {
        "collapsed": true
      },
      "outputs": [],
      "source": []
    }
  ],
  "metadata": {
    "kernelspec": {
      "display_name": "Python 3",
      "language": "python",
      "name": "python3"
    },
    "language_info": {
      "codemirror_mode": {
        "name": "ipython",
        "version": 3
      },
      "file_extension": ".py",
      "mimetype": "text/x-python",
      "name": "python",
      "nbconvert_exporter": "python",
      "pygments_lexer": "ipython3",
      "version": "3.5.2"
    }
  },
  "nbformat": 4,
  "nbformat_minor": 0
}