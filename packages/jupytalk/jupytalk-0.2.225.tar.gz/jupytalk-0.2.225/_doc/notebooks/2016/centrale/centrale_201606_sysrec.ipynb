{
  "cells": [
    {
      "cell_type": "markdown",
      "metadata": {
        "slideshow": {
          "slide_type": "slide"
        }
      },
      "source": [
        "# Recommandations sur le web\n",
        "\n",
        "Quelques pistes sur le fonctionnement des moteurs de recommandations sur le web."
      ]
    },
    {
      "cell_type": "markdown",
      "metadata": {},
      "source": [
        "![rs](img_bingrsam.png)"
      ]
    },
    {
      "cell_type": "code",
      "execution_count": null,
      "metadata": {
        "collapsed": false,
        "slideshow": {
          "slide_type": "subslide"
        }
      },
      "outputs": [
        {
          "data": {
            "text/html": [
              "<div id=\"my_id_menu_nb\">run previous cell, wait for 2 seconds</div>\n",
              "<script>\n",
              "function repeat_indent_string(n){\n",
              "    var a = \"\" ;\n",
              "    for ( ; n > 0 ; --n) {\n",
              "        a += \"    \";\n",
              "    }\n",
              "    return a;\n",
              "}\n",
              "var update_menu_string = function(begin, lfirst, llast, sformat, send, keep_item) {\n",
              "    var anchors = document.getElementsByClassName(\"section\");\n",
              "    if (anchors.length == 0) {\n",
              "        anchors = document.getElementsByClassName(\"text_cell_render rendered_html\");\n",
              "    }\n",
              "    var i,t;\n",
              "    var text_menu = begin;\n",
              "    var text_memo = \"<pre>\\nlength:\" + anchors.length + \"\\n\";\n",
              "    var ind = \"\";\n",
              "    var memo_level = 1;\n",
              "    var href;\n",
              "    var tags = [];\n",
              "    var main_item = 0;\n",
              "    for (i = 0; i <= llast; i++) {\n",
              "        tags.push(\"h\" + i);\n",
              "    }\n",
              "\n",
              "    for (i = 0; i < anchors.length; i++) {\n",
              "        text_memo += \"**\" + anchors[i].id + \"--\\n\";\n",
              "\n",
              "        var child = null;\n",
              "        for(t = 0; t < tags.length; t++) {\n",
              "            var r = anchors[i].getElementsByTagName(tags[t]);\n",
              "            if (r.length > 0) {\n",
              "child = r[0];\n",
              "break;\n",
              "            }\n",
              "        }\n",
              "        if (child == null){\n",
              "            text_memo += \"null\\n\";\n",
              "            continue;\n",
              "        }\n",
              "        if (anchors[i].hasAttribute(\"id\")) {\n",
              "            // when converted in RST\n",
              "            href = anchors[i].id;\n",
              "            text_memo += \"#1-\" + href;\n",
              "            // passer \u00e0 child suivant (le chercher)\n",
              "        }\n",
              "        else if (child.hasAttribute(\"id\")) {\n",
              "            // in a notebook\n",
              "            href = child.id;\n",
              "            text_memo += \"#2-\" + href;\n",
              "        }\n",
              "        else {\n",
              "            text_memo += \"#3-\" + \"*\" + \"\\n\";\n",
              "            continue;\n",
              "        }\n",
              "        var title = child.textContent;\n",
              "        var level = parseInt(child.tagName.substring(1,2));\n",
              "\n",
              "        text_memo += \"--\" + level + \"?\" + lfirst + \"--\" + title + \"\\n\";\n",
              "\n",
              "        if ((level < lfirst) || (level > llast)) {\n",
              "            continue ;\n",
              "        }\n",
              "        if (title.endsWith('\u00b6')) {\n",
              "            title = title.substring(0,title.length-1).replace(\"<\", \"&lt;\").replace(\">\", \"&gt;\").replace(\"&\", \"&amp;\")\n",
              "        }\n",
              "\n",
              "        if (title.length == 0) {\n",
              "            continue;\n",
              "        }\n",
              "\n",
              "        while (level < memo_level) {\n",
              "            text_menu += \"</ul>\\n\";\n",
              "            memo_level -= 1;\n",
              "        }\n",
              "        if (level == lfirst) {\n",
              "            main_item += 1;\n",
              "        }\n",
              "        if (keep_item != -1 && main_item != keep_item + 1) {\n",
              "            // alert(main_item + \" - \" + level + \" - \" + keep_item);\n",
              "            continue;\n",
              "        }\n",
              "        while (level > memo_level) {\n",
              "            text_menu += \"<ul>\\n\";\n",
              "            memo_level += 1;\n",
              "        }\n",
              "        text_menu += repeat_indent_string(level-2) + sformat.replace(\"__HREF__\", href).replace(\"__TITLE__\", title);\n",
              "    }\n",
              "    while (1 < memo_level) {\n",
              "        text_menu += \"</ul>\\n\";\n",
              "        memo_level -= 1;\n",
              "    }\n",
              "    text_menu += send;\n",
              "    //text_menu += \"\\n\" + text_memo;\n",
              "    return text_menu;\n",
              "};\n",
              "var update_menu = function() {\n",
              "    var sbegin = \"\";\n",
              "    var sformat = '<li><a href=\"#__HREF__\">__TITLE__</a></li>';\n",
              "    var send = \"\";\n",
              "    var keep_item = -1;\n",
              "    var text_menu = update_menu_string(sbegin, 2, 4, sformat, send, keep_item);\n",
              "    var menu = document.getElementById(\"my_id_menu_nb\");\n",
              "    menu.innerHTML=text_menu;\n",
              "};\n",
              "window.setTimeout(update_menu,2000);\n",
              "            </script>"
            ],
            "text/plain": [
              "<IPython.core.display.HTML object>"
            ]
          },
          "execution_count": null,
          "metadata": {},
          "output_type": "execute_result"
        }
      ],
      "source": [
        "from jyquickhelper import add_notebook_menu\n",
        "add_notebook_menu()"
      ]
    },
    {
      "cell_type": "markdown",
      "metadata": {
        "collapsed": true,
        "slideshow": {
          "slide_type": "slide"
        }
      },
      "source": [
        "## Formalisation d\u2019un syst\u00e8me de recommandation\n",
        "\n",
        "![grid](img_grid.png)\n",
        "\n"
      ]
    },
    {
      "cell_type": "markdown",
      "metadata": {
        "slideshow": {
          "slide_type": "subslide"
        }
      },
      "source": [
        "### Tenseur\n",
        "\n",
        "* Tenseur = matrice multidimensionnelle\n",
        "    * Utilisateur\n",
        "    * Produit\n",
        "    * Temps\n",
        "    * Localisation\n",
        "    * Contexte\n",
        "* Quelle valeur pour les paires non observ\u00e9es ?\n",
        "* Chaque dimension multiplie les possibilit\u00e9s sans multiplier les donn\u00e9es.\n",
        "* [Non-negative matrix factorization](https://en.wikipedia.org/wiki/Non-negative_matrix_factorization)"
      ]
    },
    {
      "cell_type": "markdown",
      "metadata": {
        "slideshow": {
          "slide_type": "subslide"
        }
      },
      "source": [
        "### Syst\u00e8me de recommandation, ranking\n",
        "\n",
        "* Ranking similaire \u00e0 un syst\u00e8me de recommandation\n",
        "    * Requ\u00eate --> r\u00e9sultats conseill\u00e9s\n",
        "    * Requ\u00eate --> requ\u00eates associ\u00e9es (Related Searches)\n",
        "* Recommandation pure\n",
        "    * Le syst\u00e8me n'utilise pas d'information sur le contenu\n",
        "    * Uniquement bas\u00e9e sur l'\u00e9valuation implicite faite par l'utilisateur (le clic)"
      ]
    },
    {
      "cell_type": "markdown",
      "metadata": {
        "slideshow": {
          "slide_type": "subslide"
        }
      },
      "source": [
        "### Recommandation en pratique\n",
        "\n",
        "* Syst\u00e8me de recommandation pure --> une feature\n",
        "* Features extraites \u00e0 partir du contenu, du contexte, de l'utilisateur\n",
        "* Utilisation de classifieurs interm\u00e9diaires (annotation manuelle, cat\u00e9gorisation)\n",
        "* Apprendre le feedback des utilisateurs, g\u00e9n\u00e9raliser l\u00e0 o\u00f9 il n'est pas\n",
        "\n",
        "![recsys](img_feat2.png)"
      ]
    },
    {
      "cell_type": "markdown",
      "metadata": {
        "slideshow": {
          "slide_type": "slide"
        }
      },
      "source": [
        "## Offline / Online\n",
        "\n",
        "**Online**\n",
        "\n",
        "* Le service qui d\u00e9livre les r\u00e9ponses \u00e0 l'utilisateur.\n",
        "* Quelques millisecondes\n",
        "\n",
        "**Offline**\n",
        "\n",
        "* Tout les traitements qui produisent les donn\u00e9es que le service online utilisent.\n",
        "* Data workflows\n",
        "* Rafra\u00eechissements fr\u00e9quents et p\u00e9riodiques"
      ]
    },
    {
      "cell_type": "markdown",
      "metadata": {
        "slideshow": {
          "slide_type": "subslide"
        }
      },
      "source": [
        "### Offline \u2013 cycle long \u2013 beaucoup de map reduce - machine learning\n",
        "\n",
        "* Utilisation de logs d'\u00e9v\u00e9nements (achats, clic)\n",
        "* G\u00e9n\u00e9ration de candidats : requ\u00eate --> liste de r\u00e9sultats, syst\u00e8me de recommandation\n",
        "* Extraction de features (requ\u00eate, r\u00e9sultat, paire requ\u00eate r\u00e9sultats)\n",
        "* Machine learning, targets construites \u00e0 partir des des clics\n",
        "\n",
        "Construction d'une liste de recommandations \u00e0 utiliser online $\\sim O(100M)$."
      ]
    },
    {
      "cell_type": "markdown",
      "metadata": {
        "slideshow": {
          "slide_type": "subslide"
        }
      },
      "source": [
        "### Online \u2013 cycle tr\u00e8s court\n",
        "\n",
        "* Ranking online --> doit \u00eatre rapide\n",
        "* Personnalisation ?\n",
        "* Compromis performance / pertinence"
      ]
    },
    {
      "cell_type": "markdown",
      "metadata": {
        "slideshow": {
          "slide_type": "subslide"
        }
      },
      "source": [
        "### Syst\u00e8mes de contr\u00f4le\n",
        "\n",
        "* Black lists / while lists\n",
        "* Possibilit\u00e9 de revenir \u00e0 une version ant\u00e9rieure"
      ]
    },
    {
      "cell_type": "markdown",
      "metadata": {
        "slideshow": {
          "slide_type": "subslide"
        }
      },
      "source": [
        "### Usure r\u00e9guli\u00e8re\n",
        "\n",
        "* Sans r\u00e9apprentissage : d\u00e9gradation des performances du ranker\n",
        "* Croissance r\u00e9guli\u00e8re des jeux de donn\u00e9es\n",
        "* Croissance des temps de traitements\n",
        "* Nouvelles requ\u00eates, livres, comment g\u00e9rer ?"
      ]
    },
    {
      "cell_type": "markdown",
      "metadata": {
        "slideshow": {
          "slide_type": "slide"
        }
      },
      "source": [
        "## Kaggle VS machine learning en continu\n",
        "\n",
        "* Kaggle = une comp\u00e9tition d'un jour\n",
        "    * Ing\u00e9ni\u00e9rie << recherche\n",
        "* Production = r\u00e9apprentissage en continu\n",
        "    * Ing\u00e9ni\u00e9rie > recherche"
      ]
    },
    {
      "cell_type": "markdown",
      "metadata": {
        "slideshow": {
          "slide_type": "subslide"
        }
      },
      "source": [
        "### Workflow, pipeline ML\n",
        "\n",
        "Always growing.\n",
        "\n",
        "![workflow](img_workflow2.png)"
      ]
    },
    {
      "cell_type": "markdown",
      "metadata": {
        "slideshow": {
          "slide_type": "subslide"
        }
      },
      "source": [
        "### Questions difficiles\n",
        "\n",
        "* Mesurer l'impact d'une modification ?\n",
        "    * Au d\u00e9but du pipeline ?\n",
        "    * A la fin du pipeline ?\n",
        "* Corr\u00e9lation entre\n",
        "    * La performance offline du pipeline\n",
        "    * Les pr\u00e9f\u00e9rences des utilisateurs (test A/B)\n",
        "* Impact d'une modification sur les donn\u00e9es d'apprentissages futures ?"
      ]
    },
    {
      "cell_type": "markdown",
      "metadata": {
        "slideshow": {
          "slide_type": "subslide"
        }
      },
      "source": [
        "### V\u00e9cu\n",
        "\n",
        "* Documentation manquante ou orale (black list, seuils...)\n",
        "* On pr\u00e9f\u00e8re ajouter un patchs que de modifier un code existant.\n",
        "* Impl\u00e9mentation pas forc\u00e9ment con\u00e7ue pour tout volume de donn\u00e9es.\n",
        "* Difficult\u00e9 de changer de technos ou d'algorithmes\n",
        "* Agilit\u00e9 contre robust\u00e9\n",
        "* Tests unitaires sur des clusters : pas de solutions miracles"
      ]
    },
    {
      "cell_type": "markdown",
      "metadata": {
        "slideshow": {
          "slide_type": "slide"
        }
      },
      "source": [
        "## Quelques paris sur l'avenir\n",
        "\n",
        "**M\u00e9trique **\n",
        "\n",
        "* R\u00f4le d\u2019une suggestion dans le parcours utilisateur ?\n",
        "* Clic sur une suggestion : est-elle dr\u00f4le ou pertinente ?\n",
        "* Appauvrissement des donn\u00e9es d\u00fb aux suggestions \n",
        "\n",
        "**Personnalisation renforc\u00e9e**\n",
        "\n",
        "* Un utilisateur voit diff\u00e9rentes suggestions m\u00eame s'il fait la m\u00eame requ\u00eate\n",
        "* Prise en compte de l'heure, de la m\u00e9t\u00e9o...\n",
        "\n",
        "**Apprentissage par renforcement**\n",
        "\n",
        "* Randomisation des algorithmes\n",
        "* Utiliser l'utilisateur pour faire converger le syst\u00e8me\n",
        "* [MWT](http://research.microsoft.com/en-us/projects/mwt/)"
      ]
    }
  ],
  "metadata": {
    "celltoolbar": "Slideshow",
    "kernelspec": {
      "display_name": "Python 3",
      "language": "python",
      "name": "python3"
    },
    "language_info": {
      "codemirror_mode": {
        "name": "ipython",
        "version": 3
      },
      "file_extension": ".py",
      "mimetype": "text/x-python",
      "name": "python",
      "nbconvert_exporter": "python",
      "pygments_lexer": "ipython3",
      "version": "3.5.2"
    }
  },
  "nbformat": 4,
  "nbformat_minor": 0
}