{
 "cells": [
  {
   "cell_type": "code",
   "execution_count": 1,
   "metadata": {
    "collapsed": false
   },
   "outputs": [
    {
     "name": "stdout",
     "output_type": "stream",
     "text": [
      "Source and citation\r\n",
      "\r\n",
      "- This notebook is a part of the `pytheos` package.\r\n",
      "- Website: http://github.com/SHDShim/pytheos.\r\n",
      "- How to cite: S.-H. Shim (2017) Pytheos - a python tool set for equations of state. DOI: 10.5281/zenodo.802392\r\n"
     ]
    }
   ],
   "source": [
    "%cat 0Source_Citation.txt"
   ]
  },
  {
   "cell_type": "code",
   "execution_count": 2,
   "metadata": {
    "collapsed": true
   },
   "outputs": [],
   "source": [
    "%matplotlib inline\n",
    "# %matplotlib notebook # for interactive"
   ]
  },
  {
   "cell_type": "markdown",
   "metadata": {},
   "source": [
    "For high dpi displays."
   ]
  },
  {
   "cell_type": "code",
   "execution_count": 3,
   "metadata": {
    "collapsed": true
   },
   "outputs": [],
   "source": [
    "%config InlineBackend.figure_format = 'retina'"
   ]
  },
  {
   "cell_type": "markdown",
   "metadata": {},
   "source": [
    "# 0. General note"
   ]
  },
  {
   "cell_type": "markdown",
   "metadata": {},
   "source": [
    "This example compares pressure calculated from `pytheos` and original publication for the gold scale by Speiale 2001."
   ]
  },
  {
   "cell_type": "markdown",
   "metadata": {},
   "source": [
    "# 1. Global setup"
   ]
  },
  {
   "cell_type": "code",
   "execution_count": 4,
   "metadata": {
    "collapsed": true
   },
   "outputs": [],
   "source": [
    "import matplotlib.pyplot as plt\n",
    "import numpy as np\n",
    "from uncertainties import unumpy as unp\n",
    "import pytheos as eos"
   ]
  },
  {
   "cell_type": "markdown",
   "metadata": {},
   "source": [
    "# 3. Compare"
   ]
  },
  {
   "cell_type": "code",
   "execution_count": 5,
   "metadata": {
    "collapsed": false
   },
   "outputs": [
    {
     "name": "stdout",
     "output_type": "stream",
     "text": [
      "[ 1.    0.98  0.96  0.94  0.92  0.9   0.88  0.86  0.84  0.82  0.8   0.78\n",
      "  0.76  0.74  0.72  0.7   0.68  0.66  0.64  0.62  0.6 ]\n"
     ]
    }
   ],
   "source": [
    "eta = np.linspace(1., 0.60, 21)\n",
    "print(eta)"
   ]
  },
  {
   "cell_type": "code",
   "execution_count": 6,
   "metadata": {
    "collapsed": true
   },
   "outputs": [],
   "source": [
    "speziale_mgo = eos.periclase.Speziale2001()"
   ]
  },
  {
   "cell_type": "code",
   "execution_count": 7,
   "metadata": {
    "collapsed": false
   },
   "outputs": [
    {
     "name": "stdout",
     "output_type": "stream",
     "text": [
      "P_static:  bm3\n",
      "P_thermal:  speziale\n",
      "P_anharmonic:  None\n",
      "P_electronic:  None\n"
     ]
    }
   ],
   "source": [
    "speziale_mgo.print_equations()"
   ]
  },
  {
   "cell_type": "code",
   "execution_count": 8,
   "metadata": {
    "collapsed": false
   },
   "outputs": [
    {
     "name": "stdout",
     "output_type": "stream",
     "text": [
      "P_static:  bm3\n",
      "P_thermal:  speziale\n",
      "P_anharmonic:  None\n",
      "P_electronic:  None\n"
     ]
    }
   ],
   "source": [
    "speziale_mgo.print_equations()"
   ]
  },
  {
   "cell_type": "code",
   "execution_count": 9,
   "metadata": {
    "collapsed": false
   },
   "outputs": [
    {
     "name": "stdout",
     "output_type": "stream",
     "text": [
      "Static:  OrderedDict([('v0', 74.698+/-0.001), ('k0', 160.2+/-0), ('k0p', 3.99+/-0.01)])\n",
      "Thermal:  OrderedDict([('v0', 74.698+/-0.001), ('gamma0', 1.524+/-0.03), ('q0', 1.65+/-0.4), ('q1', 11.8+/-0.2), ('theta0', 773.0+/-0)])\n",
      "Anharmonic:  None\n",
      "Electronic:  None\n"
     ]
    }
   ],
   "source": [
    "speziale_mgo.print_parameters()"
   ]
  },
  {
   "cell_type": "code",
   "execution_count": 10,
   "metadata": {
    "collapsed": true
   },
   "outputs": [],
   "source": [
    "v0 = 74.698"
   ]
  },
  {
   "cell_type": "code",
   "execution_count": 11,
   "metadata": {
    "collapsed": false
   },
   "outputs": [
    {
     "data": {
      "text/plain": [
       "24.943379399999998"
      ]
     },
     "execution_count": 11,
     "metadata": {},
     "output_type": "execute_result"
    }
   ],
   "source": [
    "speziale_mgo.three_r"
   ]
  },
  {
   "cell_type": "code",
   "execution_count": 12,
   "metadata": {
    "collapsed": true
   },
   "outputs": [],
   "source": [
    "v = v0 * (eta) \n",
    "temp = 3000."
   ]
  },
  {
   "cell_type": "code",
   "execution_count": 13,
   "metadata": {
    "collapsed": true
   },
   "outputs": [],
   "source": [
    "p = speziale_mgo.cal_p(v, temp * np.ones_like(v))"
   ]
  },
  {
   "cell_type": "code",
   "execution_count": 14,
   "metadata": {
    "collapsed": false
   },
   "outputs": [
    {
     "name": "stdout",
     "output_type": "stream",
     "text": [
      "for T =  3000.0\n",
      " 1.000  17.69+/-0.35\n",
      " 0.980  20.87+/-0.37\n",
      " 0.960  24.50+/-0.41\n",
      " 0.940  28.62+/-0.46\n",
      " 0.920  33.26+/-0.50\n",
      " 0.900  38.45+/-0.54\n",
      " 0.880  44.24+/-0.58\n",
      " 0.860  50.70+/-0.61\n",
      " 0.840  57.89+/-0.64\n",
      " 0.820  65.89+/-0.67\n",
      " 0.800  74.81+/-0.69\n",
      " 0.780  84.74+/-0.71\n",
      " 0.760  95.84+/-0.74\n",
      " 0.740  108.24+/-0.76\n",
      " 0.720  122.13+/-0.78\n",
      " 0.700  137.72+/-0.81\n",
      " 0.680  155.25+/-0.84\n",
      " 0.660  175.02+/-0.88\n",
      " 0.640  197.36+/-0.93\n",
      " 0.620  222.70+/-1.00\n",
      " 0.600  251.51+/-1.08\n"
     ]
    }
   ],
   "source": [
    "print('for T = ', temp)\n",
    "for eta_i, p_i in zip(eta, p):\n",
    "    print(\"{0: .3f} {1: .2f}\".format(eta_i, p_i))"
   ]
  },
  {
   "cell_type": "code",
   "execution_count": 15,
   "metadata": {
    "collapsed": false
   },
   "outputs": [
    {
     "name": "stdout",
     "output_type": "stream",
     "text": [
      "[ 1.    0.98  0.96  0.94  0.92  0.9   0.88  0.86  0.84  0.82  0.8   0.78\n",
      "  0.76  0.74  0.72  0.7   0.68  0.66  0.64  0.62  0.6 ]\n"
     ]
    }
   ],
   "source": [
    "v = speziale_mgo.cal_v(p, temp * np.ones_like(p), min_strain=0.6)\n",
    "print((v/v0))"
   ]
  },
  {
   "cell_type": "code",
   "execution_count": null,
   "metadata": {
    "collapsed": true
   },
   "outputs": [],
   "source": []
  }
 ],
 "metadata": {
  "anaconda-cloud": {},
  "kernelspec": {
   "display_name": "Python [conda env:py35]",
   "language": "python",
   "name": "conda-env-py35-py"
  },
  "language_info": {
   "codemirror_mode": {
    "name": "ipython",
    "version": 3
   },
   "file_extension": ".py",
   "mimetype": "text/x-python",
   "name": "python",
   "nbconvert_exporter": "python",
   "pygments_lexer": "ipython3",
   "version": "3.5.2"
  },
  "latex_envs": {
   "LaTeX_envs_menu_present": true,
   "autocomplete": true,
   "bibliofile": "biblio.bib",
   "cite_by": "apalike",
   "current_citInitial": 1,
   "eqLabelWithNumbers": true,
   "eqNumInitial": 0,
   "hotkeys": {
    "equation": "Ctrl-E",
    "itemize": "Ctrl-I"
   },
   "labels_anchors": false,
   "latex_user_defs": false,
   "report_style_numbering": false,
   "user_envs_cfg": false
  }
 },
 "nbformat": 4,
 "nbformat_minor": 1
}
