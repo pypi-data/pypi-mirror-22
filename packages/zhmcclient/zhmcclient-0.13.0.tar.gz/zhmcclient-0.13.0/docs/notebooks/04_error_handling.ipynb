{
 "cells": [
  {
   "cell_type": "markdown",
   "metadata": {},
   "source": [
    "# Tutorial 4: Error handling"
   ]
  },
  {
   "cell_type": "markdown",
   "metadata": {},
   "source": [
    "This tutorial explains how errors are reported by the zhmcclient package to its users, and how they can be handled."
   ]
  },
  {
   "cell_type": "markdown",
   "metadata": {},
   "source": [
    "Error handling in the zhmcclient package is based on Python exceptions.\n",
    "\n",
    "If you have not dealt with Python exceptions yet, here are a few good articles about them:\n",
    "\n",
    "* [Jeff Knupp: Write Cleaner Python: Use Exceptions](https://jeffknupp.com/blog/2013/02/06/write-cleaner-python-use-exceptions/)\n",
    "* [Eli Bendersky: Robust exception handling](http://eli.thegreenplace.net/2008/08/21/robust-exception-handling/)\n",
    "* [Ian Bicking: Re-raising Exceptions](http://www.ianbicking.org/blog/2007/09/re-raising-exceptions.html)\n",
    "* [Sheena: Writing and Using Custom Exceptions in Python](https://www.codementor.io/python/tutorial/how-to-write-python-custom-exceptions)\n",
    "* [Joel Spolsky: Exceptions](http://www.joelonsoftware.com/items/2003/10/13.html) (a critical view on exceptions)\n",
    "\n",
    "The zhmcclient package defines a number of exceptions to indicate specific error situations at run time. A prominent example is a connection error in the communication with the HMC, or invalid input parameters for an HMC operation.\n",
    "\n",
    "The zhmcclient exceptions are all derived from [`zhmcclient.Error`](https://python-zhmcclient.readthedocs.io/en/latest/general.html#zhmcclient.Error), in order to have a common base exception to catch.\n",
    "\n",
    "The zhmcclient exceptions are provided in order to have a stable definition for users of what can legally go wrong; they do not cover everything that can possibly go wrong. Any exception that is raised by the zhmcclient package that is not derived from `zhmcclient.Error` should be considered a programming error.\n",
    "\n",
    "The zhmcclient exceptions are:\n",
    "\n",
    "* [`zhmcclient.ConnectionError`](https://python-zhmcclient.readthedocs.io/en/latest/general.html#zhmcclient.ConnectionError) - indicates a problem with the connection to the HMC, at the transport level or below.\n",
    "* [`zhmcclient.AuthError`](https://python-zhmcclient.readthedocs.io/en/latest/general.html#zhmcclient.AuthError) - indicates an authentication error with the HMC, either at the TLS/SSL handshake level (e.g. with CA certificates), or at the HTTP level.\n",
    "* [`zhmcclient.HTTPError`](https://python-zhmcclient.readthedocs.io/en/latest/general.html#zhmcclient.HTTPError) - indicates that the HMC returned an HTTP response with a bad HTTP status code.\n",
    "* [`zhmcclient.ParseError`](https://python-zhmcclient.readthedocs.io/en/latest/general.html#zhmcclient.ParseError) - indicates a parsing error while processing a response from the HMC.\n",
    "* [`zhmcclient.VersionError`](https://python-zhmcclient.readthedocs.io/en/latest/general.html#zhmcclient.VersionError) - indicates that there is a version mismatch between the HMC API versions supported by the client and by the HMC.\n",
    "\n",
    "The zhmcclient documentation lists only the zhmcclient exceptions that can be raised. Other exceptions may in addition be raised and should be considered programming errors."
   ]
  },
  {
   "cell_type": "markdown",
   "metadata": {},
   "source": [
    "The following code can be used to trigger different exceptions:\n",
    "\n",
    "* `zhmcclient.ConnectionError`, if the HMC cannot be reached on the network.\n",
    "* `zhmcclient.AuthError`, if the HMC can be reached on the network, but the userid does not exist or the password is invalid.\n",
    "* `zhmcclient.HTTPError`, if the password is the empty string, or if it is an integer instead of a string.\n",
    "* Python `RuntimeError`, if you run this on a Python version that is not supported for the zhmcclient package (sorry, this was the only Python exception we could come up with for this particular piece of code)."
   ]
  },
  {
   "cell_type": "code",
   "execution_count": null,
   "metadata": {
    "collapsed": false
   },
   "outputs": [],
   "source": [
    "zhmc = '9.152.150.65'  # HMC IP address or host name\n",
    "userid = 'foo'         # HMC userid\n",
    "password= '123'        # HMC password\n",
    "\n",
    "import zhmcclient\n",
    "import requests\n",
    "requests.packages.urllib3.disable_warnings()\n",
    "try:\n",
    "    session = zhmcclient.Session(zhmc, userid, password)\n",
    "    session.logon()\n",
    "except zhmcclient.Error as exc:\n",
    "    print(\"%s: %s\" % (exc.__class__.__name__, exc))"
   ]
  },
  {
   "cell_type": "markdown",
   "metadata": {},
   "source": [
    "The code section above shows the basic approach for handling exceptions with the zhmcclient package:\n",
    "* Handle all exceptions derived from `zhmcclient.Error`.\n",
    "* Ignore all other exceptions (or let them be handled like you would handle programming errors)."
   ]
  }
 ],
 "metadata": {
  "kernelspec": {
   "display_name": "Python 2",
   "language": "python",
   "name": "python2"
  },
  "language_info": {
   "codemirror_mode": {
    "name": "ipython",
    "version": 2
   },
   "file_extension": ".py",
   "mimetype": "text/x-python",
   "name": "python",
   "nbconvert_exporter": "python",
   "pygments_lexer": "ipython2",
   "version": "2.7.12"
  }
 },
 "nbformat": 4,
 "nbformat_minor": 0
}
