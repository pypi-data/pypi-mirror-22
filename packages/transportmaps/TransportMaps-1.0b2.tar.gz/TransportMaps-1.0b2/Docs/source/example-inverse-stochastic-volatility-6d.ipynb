{
 "cells": [
  {
   "cell_type": "code",
   "execution_count": 1,
   "metadata": {
    "collapsed": true
   },
   "outputs": [],
   "source": [
    "import logging\n",
    "import h5py\n",
    "import dill\n",
    "import matplotlib.pyplot as plt\n",
    "import numpy as np\n",
    "import scipy.stats as stats\n",
    "import SpectralToolbox.Spectral1D as S1D\n",
    "import TransportMaps as TM\n",
    "import TransportMaps.Functionals as FUNC\n",
    "import TransportMaps.Maps as MAPS\n",
    "import TransportMaps.Distributions as DIST\n",
    "%matplotlib inline\n",
    "TM.setLogLevel(logging.INFO)"
   ]
  },
  {
   "cell_type": "markdown",
   "metadata": {},
   "source": [
    "# Sparse transports for Markov random fields\n",
    "\n",
    "Markov properties of the target distribution $\\nu_\\pi$ can be exploited in order to derive efficient low-dimensional approximations [[TR4]](aa-references.html#spantini2017). We alreadi discussed ([here](example-sequential-stocvol-6d.html)) the decomposability of direct transports $T$. Here we present explore the sparsity of the inverse transport $S$.\n",
    "\n",
    "We use again the stochastic volatility model as an example. See [[OR7]](aa-references.html#Hull1987) and [[OR8]](aa-references.html#Kim1998) for a presentation of the problem. We use the solution to the [sequential inference problem](example-sequential-stocvol-6d.html) to create a synthetic example, i.e. to generate a sample for which we will assume not to know its origin.\n",
    "\n",
    "Let us load such a sample (we use a $10^4$ long Markov chain from $\\nu_\\pi$) ..."
   ]
  },
  {
   "cell_type": "code",
   "execution_count": 2,
   "metadata": {
    "collapsed": false
   },
   "outputs": [],
   "source": [
    "f = h5py.File(\"aux/inv-stocvol/Sequential-IntSq-Postprocess.dill.hdf5\")\n",
    "x = f['metropolis-independent-proposal-samples']['x'][:]\n",
    "w = np.ones(x.shape[0]) / float(x.shape[0])\n",
    "f.close()"
   ]
  },
  {
   "cell_type": "markdown",
   "metadata": {},
   "source": [
    "Let us then define the distribution $\\nu_\\pi$ ..."
   ]
  },
  {
   "cell_type": "code",
   "execution_count": 3,
   "metadata": {
    "collapsed": false
   },
   "outputs": [],
   "source": [
    "class StocVol(DIST.Distribution):\n",
    "    def __init__(self, x):\n",
    "        super(StocVol,self).__init__(x.shape[1])\n",
    "        self.x = x\n",
    "    def quadrature(self, qtype, qparams, *args, **kwargs):\n",
    "        if qtype == 1: # We use 1 to indicate a Markov chain\n",
    "            nmax = self.x.shape[0]\n",
    "            if qparams > nmax:\n",
    "                raise ValueError(\"Maximum sample size (%d) exceeded\" % nmax)\n",
    "            x = self.x[:qparams,:]\n",
    "            w = np.ones(qparams)/float(qparams)\n",
    "        else: raise ValueError(\"Quadrature not defined\")\n",
    "        return (x,w)\n",
    "pi = StocVol(x)"
   ]
  },
  {
   "cell_type": "markdown",
   "metadata": {},
   "source": [
    "Let us now define a simple linear transformation that rescales the position of the sample to the hyper-cube $[-4,4]$ (as in the [introductory example](example-inverse-gumbel-1d.html)) ..."
   ]
  },
  {
   "cell_type": "code",
   "execution_count": 4,
   "metadata": {
    "collapsed": true
   },
   "outputs": [],
   "source": [
    "a = np.zeros(pi.dim)\n",
    "b = np.zeros(pi.dim)\n",
    "for d in range(pi.dim):\n",
    "    xmax = np.max(x[:,d])\n",
    "    xmin = np.min(x[:,d])\n",
    "    a[d] = 4*(xmin+xmax)/(xmin-xmax)\n",
    "    b[d] = 8./(xmax-xmin)\n",
    "L = MAPS.FrozenLinearDiagonalTransportMap(a, b)"
   ]
  },
  {
   "cell_type": "markdown",
   "metadata": {},
   "source": [
    "## Sparse inverse transports\n",
    "\n",
    "We know by construction that the stochastic volatility model will have the following Markov structure:\n",
    "\n",
    "![](Figures/SequentialHiddenMarkovModel.png)\n",
    "\n",
    "where $\\Theta=(\\mu,\\phi)$ and ${\\bf Z}_k \\in \\mathbb{R}$. Using the theory on sparse inverse transports [[TR4]](aa-references.html#spantini2017) we then expect $S$ to have the following sparsity structure:\n",
    "\n",
    "![](Figures/inv-sparsity.svg)\n",
    "\n",
    "Let us then assemble the map $S$ of total order 3."
   ]
  },
  {
   "cell_type": "code",
   "execution_count": 5,
   "metadata": {
    "collapsed": false
   },
   "outputs": [
    {
     "name": "stdout",
     "output_type": "stream",
     "text": [
      "Number of coefficients: 139\n"
     ]
    }
   ],
   "source": [
    "order = 3\n",
    "active_vars = [[0], [0,1], [0,1,2], [0,1,2,3],\n",
    "               [0,1,3,4], [0,1,4,5]]\n",
    "S = TM.Default_IsotropicIntegratedSquaredTriangularTransportMap(\n",
    "    6, order, 'total', active_vars=active_vars)\n",
    "print(\"Number of coefficients: %d\" % S.get_n_coeffs())"
   ]
  },
  {
   "cell_type": "markdown",
   "metadata": {},
   "source": [
    "## Variational solution\n",
    "\n",
    "We can now set up the problem\n",
    "\n",
    "$$\n",
    "\\hat{S} = \\arg\\min_{S\\in\\mathcal{T}_\\triangle} \\mathcal{D}_{\\rm KL}\n",
    "\\left( S_\\sharp L_\\sharp \\nu_\\pi \\middle\\Vert \\nu_\\rho \\right) \\;,\n",
    "$$\n",
    "\n",
    "where $\\mathcal{T}_\\triangle$ is the set of [integrated squared triangular transport maps](api-TransportMaps-Maps.html#TransportMaps.Maps.IntegratedSquaredTriangularTransportMap) (presented [here](example-gumbel-1d.html#Integrated-squared-parametrization)) of (total) order 3 and with the aforementioned sparsity pattern."
   ]
  },
  {
   "cell_type": "code",
   "execution_count": 6,
   "metadata": {
    "collapsed": false
   },
   "outputs": [
    {
     "name": "stdout",
     "output_type": "stream",
     "text": [
      "2017-04-18 10:22:14 INFO: IntegratedSquaredTriangularTransportMap: Optimization terminated successfully\n",
      "2017-04-18 10:22:14 INFO: IntegratedSquaredTriangularTransportMap:   Function value:          6.389832\n",
      "2017-04-18 10:22:14 INFO: IntegratedSquaredTriangularTransportMap:   Norm of the Jacobian:    0.001091\n",
      "2017-04-18 10:22:14 INFO: IntegratedSquaredTriangularTransportMap:   Number of iterations:        11\n",
      "2017-04-18 10:22:14 INFO: IntegratedSquaredTriangularTransportMap:   N. function evaluations:     12\n",
      "2017-04-18 10:22:14 INFO: IntegratedSquaredTriangularTransportMap:   N. Jacobian evaluations:     22\n",
      "2017-04-18 10:22:14 INFO: IntegratedSquaredTriangularTransportMap:   N. Hessian evaluations:      11\n"
     ]
    }
   ],
   "source": [
    "rho = DIST.StandardNormalDistribution(6)\n",
    "push_L_pi = DIST.PushForwardTransportMapDistribution(L, pi)\n",
    "push_SL_pi = DIST.PushForwardTransportMapDistribution(\n",
    "    S, push_L_pi)\n",
    "qtype = 1      # Monte-Carlo quadratures from pi\n",
    "qparams = 5000 # Number of MC points\n",
    "reg = {'type': 'L2',\n",
    "       'alpha': 1e-2} # L2 regularization\n",
    "tol = 1e-3     # Optimization tolerance\n",
    "ders = 2       # Use gradient and Hessian \n",
    "log = push_SL_pi.minimize_kl_divergence(\n",
    "    rho, qtype=qtype, qparams=qparams, regularization=reg,\n",
    "    tol=tol, ders=ders)"
   ]
  },
  {
   "cell_type": "markdown",
   "metadata": {},
   "source": [
    "Note that the solutioon of this variational problem **does not require** any evaluation of the density $\\pi$, but only evaluations of $\\rho$, which is trivial."
   ]
  },
  {
   "cell_type": "markdown",
   "metadata": {},
   "source": [
    "### Accuracy of the approximation\n",
    "\n",
    "In general the accuracy of this approximation cannot be evaluated as with the diagnostics presented for the direct approach, due to the un-availability of the density $\\pi$.\n",
    "\n",
    "For the sake of the presentation, though, we will compare the approximation $L^\\sharp S^\\sharp \\rho$ against the actual density $\\pi$, to check its accouracy."
   ]
  },
  {
   "cell_type": "code",
   "execution_count": 7,
   "metadata": {
    "collapsed": false
   },
   "outputs": [],
   "source": [
    "with open(\"aux/inv-stocvol/Distribution.dill\", 'rb') as in_stream:\n",
    "    pi_star = dill.load(in_stream)"
   ]
  },
  {
   "cell_type": "markdown",
   "metadata": {},
   "source": [
    "#### Variance diagnostic\n",
    "\n",
    "We compute the quantity $\\mathbb{V}{\\rm ar}_\\pi \\left( \\log \\frac{L^\\sharp S^\\sharp \\rho}{\\pi} \\right)$ ..."
   ]
  },
  {
   "cell_type": "code",
   "execution_count": 8,
   "metadata": {
    "collapsed": false
   },
   "outputs": [
    {
     "name": "stdout",
     "output_type": "stream",
     "text": [
      "Variance diagnostic: 3.960046e-01\n"
     ]
    }
   ],
   "source": [
    "import TransportMaps.Diagnostics as DIAG\n",
    "SL = MAPS.CompositeTransportMap(S, L)\n",
    "pull_SL_rho = DIST.PullBackTransportMapDistribution(SL, rho)\n",
    "var = DIAG.variance_approx_kl(pull_SL_rho, pi_star, x=x, w=w)\n",
    "print(\"Variance diagnostic: %e\" % var)"
   ]
  },
  {
   "cell_type": "markdown",
   "metadata": {},
   "source": [
    "#### PushForward conditionals\n",
    "\n",
    "We can plot slices of $S_\\sharp L_\\sharp \\nu_\\pi \\approx \\nu_\\rho \\sim \\mathcal{N}(0,{\\bf I})$ ..."
   ]
  },
  {
   "cell_type": "code",
   "execution_count": 9,
   "metadata": {
    "collapsed": false
   },
   "outputs": [
    {
     "name": "stderr",
     "output_type": "stream",
     "text": [
      "/home/dabi/VC-Projects/Software/Mine/Current/transport-maps/TransportMaps/Distributions/Examples/StochasticVolatility/StocVolHyperDistributions.py:488: RuntimeWarning: overflow encountered in exp\n",
      "  return -.5 * self.y**2. * np.exp(-Xt) -.5 * Xt\n"
     ]
    },
    {
     "data": {
      "image/png": "[encoded data removed]",
      "text/plain": [
       "<matplotlib.figure.Figure at 0x7f80c0016b38>"
      ]
     },
     "metadata": {},
     "output_type": "display_data"
    }
   ],
   "source": [
    "push_SL_pi_star = DIST.PushForwardTransportMapDistribution(SL, pi_star)\n",
    "fig = DIAG.plotAlignedConditionals( push_SL_pi_star, range_vec=[-5,5], \n",
    "    numPointsXax=20, fig=plt.figure(figsize=(6.5,6.5)), show_flag=False,\n",
    "    vartitles=[r\"$\\mu$\",r\"$\\phi$\",r\"${\\bf Z}_0$\",r\"${\\bf Z}_1$\",r\"${\\bf Z}_2$\",r\"${\\bf Z}_3$\"])"
   ]
  }
 ],
 "metadata": {
  "kernelspec": {
   "display_name": "Python 3",
   "language": "python",
   "name": "python3"
  },
  "language_info": {
   "codemirror_mode": {
    "name": "ipython",
    "version": 3
   },
   "file_extension": ".py",
   "mimetype": "text/x-python",
   "name": "python",
   "nbconvert_exporter": "python",
   "pygments_lexer": "ipython3",
   "version": "3.4.3"
  }
 },
 "nbformat": 4,
 "nbformat_minor": 2
}
