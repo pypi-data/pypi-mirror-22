{
 "cells": [
  {
   "cell_type": "markdown",
   "metadata": {},
   "source": [
    "# Time Domain Analysis "
   ]
  },
  {
   "cell_type": "markdown",
   "metadata": {},
   "source": [
    "## Intro"
   ]
  },
  {
   "cell_type": "markdown",
   "metadata": {},
   "source": [
    "S-parameters are measured in the frequency domain, but can be analysised in the frequency and/or time domain. In most cases, however, measurements are not made down to DC (frequency =0), so the time-domain transform is not complete, but useful non-theless. More information about the details of time domain analysis see [1]. \n",
    "\n",
    "This notebooks demonstrates how to use time-domain analysis in [scikit-rf](www.scikit-rf.org). A quick example is given first, followed by a more detailed explanation.\n",
    "\n",
    "References\n",
    "\n",
    "* [1] Agilent Time Domain Analysis Using a Network Analyzer (Application Note 1287-12) [pdf](http://cp.literature.agilent.com/litweb/pdf/5989-5723EN.pdf)"
   ]
  },
  {
   "cell_type": "markdown",
   "metadata": {},
   "source": [
    "## Quick Example"
   ]
  },
  {
   "cell_type": "code",
   "execution_count": null,
   "metadata": {
    "collapsed": false
   },
   "outputs": [],
   "source": [
    "import skrf as rf \n",
    "%matplotlib inline\n",
    "rf.stylely()\n",
    "from pylab import * \n",
    "\n",
    "probe = rf.Network('../metrology/oneport_tiered_calibration/probe.s2p')\n",
    "probe.plot_s_db_time()"
   ]
  },
  {
   "cell_type": "markdown",
   "metadata": {},
   "source": [
    "## Time Domain in Detail"
   ]
  },
  {
   "cell_type": "markdown",
   "metadata": {},
   "source": [
    "For this example we will use a waveguide-to-CPW probe, that was measured in [this example](./oneport_tiered_calibration/One Port Tiered Calibration.ipynb)  as a sample DUT. "
   ]
  },
  {
   "cell_type": "code",
   "execution_count": null,
   "metadata": {
    "collapsed": false
   },
   "outputs": [],
   "source": [
    "probe"
   ]
  },
  {
   "cell_type": "markdown",
   "metadata": {},
   "source": [
    "## Time Domain"
   ]
  },
  {
   "cell_type": "markdown",
   "metadata": {},
   "source": [
    "Plotting the Network in both frequency and time-domain"
   ]
  },
  {
   "cell_type": "code",
   "execution_count": null,
   "metadata": {
    "collapsed": false
   },
   "outputs": [],
   "source": [
    "# plot frequency and time-domain s-parameters\n",
    "figure(figsize=(8,4))\n",
    "subplot(121)\n",
    "probe.plot_s_db()\n",
    "title('Frequency Domain')\n",
    "subplot(122)\n",
    "probe.plot_s_db_time()\n",
    "title('Time Domain')\n",
    "tight_layout()"
   ]
  },
  {
   "cell_type": "markdown",
   "metadata": {},
   "source": [
    "Look at just the reflection coefficient from the waveguide port, you can see there is a large ripple present."
   ]
  },
  {
   "cell_type": "code",
   "execution_count": null,
   "metadata": {
    "collapsed": false
   },
   "outputs": [],
   "source": [
    "probe.plot_s_db(0,0)\n",
    "title('Reflection Coefficient From \\nWaveguide Port')"
   ]
  },
  {
   "cell_type": "markdown",
   "metadata": {},
   "source": [
    "This ripple is evidence of one or more (probably 3) impulse-like reflections. Plotting this in the time-domain we can see *when* these reflections occur."
   ]
  },
  {
   "cell_type": "code",
   "execution_count": null,
   "metadata": {
    "collapsed": false
   },
   "outputs": [],
   "source": [
    "probe.plot_s_db_time(0,0)\n",
    "title('Reflection Coefficient From \\nWaveguide Port, Time Domain')\n",
    "ylim(-100,0)"
   ]
  },
  {
   "cell_type": "markdown",
   "metadata": {},
   "source": [
    "From this plot we can see two dominant reflections; \n",
    "* one at $t=0$ns (the test-port) \n",
    "* and another  at $t=2$ns (who knows?!).\n"
   ]
  },
  {
   "cell_type": "markdown",
   "metadata": {},
   "source": [
    "## Determining Distance"
   ]
  },
  {
   "cell_type": "markdown",
   "metadata": {},
   "source": [
    "To make time-domain useful as a diagnostic tool, one would like to convert the x-axis to distance. This requires knowledge of the propagation velocity in the device.  **skrf** provides some transmission-line models in the module [skrf.media](http://scikit-rf.readthedocs.org/en/latest/reference/media/index.html), which we can be used for this.\n",
    "\n",
    "**However...**\n",
    "\n",
    "For dispersive media, such as rectangular waveguide, the phase velocity is a function of frequency, and transforming time to distance is not straightforward. As an approximation, you can normalize the x-axis to the speed of light.\n",
    "\n",
    "Alternativly, you can simulate the  a known device and compare the two time domain responses. This allows you to attribute quantatative meaning to the axes. For example, you could create an ideal delayed load as shown below.\n"
   ]
  },
  {
   "cell_type": "code",
   "execution_count": null,
   "metadata": {
    "collapsed": false
   },
   "outputs": [],
   "source": [
    "from skrf.media import RectangularWaveguide\n",
    "cm = 1e-2\n",
    "\n",
    "# create a rectangular waveguide media to gererate a theoretical network\n",
    "wr1p5 = RectangularWaveguide(frequency=probe.frequency, \n",
    "                             a=15*rf.mil,z0=1) \n",
    "\n",
    "# create an ideal delayed load, parameters are adjusted until the\n",
    "# theoretical response agrees with the measurement\n",
    "theory = wr1p5.delay_load(Gamma0=rf.db_2_mag(-20),\n",
    "                          d=2.4*cm)\n",
    "\n",
    "\n",
    "probe.plot_s_db_time(0,0, label = 'Measurement')\n",
    "theory.plot_s_db_time(label='-20dB @ 2.4cm from test-port')\n",
    "ylim(-100,0)"
   ]
  },
  {
   "cell_type": "markdown",
   "metadata": {},
   "source": [
    "This plot demonstrates a few important points:\n",
    "\n",
    "* the theortical delayed load is not a perfect impulse in time. This is due to the dispersion in waveguide. \n",
    "* the peak of the magnitude in time domain is not identical to that specified, this is "
   ]
  },
  {
   "cell_type": "markdown",
   "metadata": {},
   "source": [
    "## What the hell is Windowing?"
   ]
  },
  {
   "cell_type": "markdown",
   "metadata": {},
   "source": [
    "The `'plot_s_db_time()'` function does a few things. \n",
    "1. First it windows the s-parameters. \n",
    "* Then converts to time domain  \n",
    "* takes magnitude component, convert to dB\n",
    "* calculates time-axis s\n",
    "* plots\n",
    "\n",
    "A word about step 1: **windowing**. As mentioned above the s-parameter data is generally band-limited, meaning not measured down to DC. Thus, when a FFT is calculated, it is implicitly calculating the results of the entire spectrum multiplied by a rect window. This rect introduces artifacts in the time-domain results. To minimize these effects, the frequency response is *windowed*. \n",
    "\n",
    "In skrf this can be done explicitly using the `'windowed()'` function.  By default this function uses the hamming window, but can be adjusted through arguments. The result of windowing is show below. \n"
   ]
  },
  {
   "cell_type": "code",
   "execution_count": null,
   "metadata": {
    "collapsed": false
   },
   "outputs": [],
   "source": [
    "probe_w = probe.windowed()\n",
    "probe.plot_s_db(0,0, label = 'Oringal')\n",
    "probe_w.plot_s_db(0,0, label = 'Windowed')\n"
   ]
  },
  {
   "cell_type": "markdown",
   "metadata": {},
   "source": [
    "Ploting the two results in time domain, "
   ]
  },
  {
   "cell_type": "code",
   "execution_count": null,
   "metadata": {
    "collapsed": false
   },
   "outputs": [],
   "source": [
    "probe.plot_s_time_db(0,0, label = 'Original')\n",
    "probe_w.plot_s_time_db(0,0, label = 'Windowed')"
   ]
  },
  {
   "cell_type": "code",
   "execution_count": null,
   "metadata": {
    "collapsed": false
   },
   "outputs": [],
   "source": []
  }
 ],
 "metadata": {
  "anaconda-cloud": {},
  "kernelspec": {
   "display_name": "Python [default]",
   "language": "python",
   "name": "python3"
  },
  "language_info": {
   "codemirror_mode": {
    "name": "ipython",
    "version": 3
   },
   "file_extension": ".py",
   "mimetype": "text/x-python",
   "name": "python",
   "nbconvert_exporter": "python",
   "pygments_lexer": "ipython3",
   "version": "3.5.2"
  }
 },
 "nbformat": 4,
 "nbformat_minor": 0
}
