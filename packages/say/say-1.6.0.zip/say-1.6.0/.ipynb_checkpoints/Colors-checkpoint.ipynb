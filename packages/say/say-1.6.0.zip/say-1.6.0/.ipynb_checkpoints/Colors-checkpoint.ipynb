{
 "cells": [
  {
   "cell_type": "code",
   "execution_count": 16,
   "metadata": {},
   "outputs": [],
   "source": [
    "from say import fmt\n",
    "from colors import *"
   ]
  },
  {
   "cell_type": "code",
   "execution_count": 18,
   "metadata": {},
   "outputs": [
    {
     "name": "stdout",
     "output_type": "stream",
     "text": [
      "'\\x1b[34;41mthis\\x1b[0m'\n",
      "\u001b[34;41mthis\u001b[0m\n"
     ]
    }
   ],
   "source": [
    "def showansi(text, style):\n",
    "    \"\"\"\n",
    "    Show ANSI codes and results\n",
    "    \"\"\"\n",
    "    out = fmt(text, style=style)\n",
    "    print(repr(out))\n",
    "    print(out)\n",
    "    \n",
    "showansi('this', 'blue+red')"
   ]
  },
  {
   "cell_type": "code",
   "execution_count": null,
   "metadata": {},
   "outputs": [],
   "source": []
  },
  {
   "cell_type": "code",
   "execution_count": null,
   "metadata": {},
   "outputs": [],
   "source": []
  }
 ],
 "metadata": {
  "kernelspec": {
   "display_name": "Python 3",
   "language": "python",
   "name": "python3"
  },
  "language_info": {
   "codemirror_mode": {
    "name": "ipython",
    "version": 3
   },
   "file_extension": ".py",
   "mimetype": "text/x-python",
   "name": "python",
   "nbconvert_exporter": "python",
   "pygments_lexer": "ipython3",
   "version": "3.6.0"
  }
 },
 "nbformat": 4,
 "nbformat_minor": 2
}
