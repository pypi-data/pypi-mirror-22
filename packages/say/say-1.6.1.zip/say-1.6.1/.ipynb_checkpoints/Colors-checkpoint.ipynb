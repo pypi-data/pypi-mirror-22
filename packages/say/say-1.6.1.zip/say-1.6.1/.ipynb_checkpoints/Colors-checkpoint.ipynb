{
 "cells": [
  {
   "cell_type": "code",
   "execution_count": 4,
   "metadata": {},
   "outputs": [],
   "source": [
    "from say import fmt\n",
    "from colors import *\n",
    "import re"
   ]
  },
  {
   "cell_type": "code",
   "execution_count": 5,
   "metadata": {},
   "outputs": [
    {
     "name": "stdout",
     "output_type": "stream",
     "text": [
      "'\\x1b[34;41mthis\\x1b[0m'\n",
      "\u001b[34;41mthis\u001b[0m\n"
     ]
    }
   ],
   "source": [
    "def showansi(text, style):\n",
    "    \"\"\"\n",
    "    Show ANSI codes and results\n",
    "    \"\"\"\n",
    "    out = fmt(text, style=style)\n",
    "    print(repr(out))\n",
    "    print(out)\n",
    "    \n",
    "showansi('this', 'blue+red')"
   ]
  },
  {
   "cell_type": "code",
   "execution_count": null,
   "metadata": {},
   "outputs": [],
   "source": []
  },
  {
   "cell_type": "code",
   "execution_count": 2,
   "metadata": {},
   "outputs": [
    {
     "data": {
      "text/plain": [
       "\"'\\\\x1b[34;41m'\""
      ]
     },
     "execution_count": 2,
     "metadata": {},
     "output_type": "execute_result"
    }
   ],
   "source": [
    "ascii('\\x1b[34;41m')"
   ]
  },
  {
   "cell_type": "code",
   "execution_count": 3,
   "metadata": {},
   "outputs": [
    {
     "data": {
      "text/plain": [
       "13"
      ]
     },
     "execution_count": 3,
     "metadata": {},
     "output_type": "execute_result"
    }
   ],
   "source": [
    "len(ascii('\\x1b[34;41m'))"
   ]
  },
  {
   "cell_type": "code",
   "execution_count": 14,
   "metadata": {},
   "outputs": [
    {
     "data": {
      "text/plain": [
       "'\\\\\\\\x1b\\\\[.*?m'"
      ]
     },
     "execution_count": 14,
     "metadata": {},
     "output_type": "execute_result"
    }
   ],
   "source": [
    "ANSIPAT = r'\\\\x1b\\[.*?m'\n",
    "ANSIPAT"
   ]
  },
  {
   "cell_type": "code",
   "execution_count": 16,
   "metadata": {},
   "outputs": [
    {
     "name": "stdout",
     "output_type": "stream",
     "text": [
      "\\x1b[34;41m 11\n"
     ]
    },
    {
     "data": {
      "text/plain": [
       "<_sre.SRE_Match object; span=(0, 11), match='\\\\x1b[34;41m'>"
      ]
     },
     "execution_count": 16,
     "metadata": {},
     "output_type": "execute_result"
    }
   ],
   "source": [
    "ascii_seq = ascii('\\x1b[34;41m')[1:-1]\n",
    "print(ascii_seq, len(ascii_seq))\n",
    "match = re.match(ANSIPAT, ascii_seq)\n",
    "match"
   ]
  },
  {
   "cell_type": "code",
   "execution_count": 19,
   "metadata": {},
   "outputs": [
    {
     "name": "stdout",
     "output_type": "stream",
     "text": [
      "\u001b[42m\\x1b[34;41m\u001b[0m\n"
     ]
    }
   ],
   "source": [
    "print(color(match.group(0), bg='green'))"
   ]
  },
  {
   "cell_type": "markdown",
   "metadata": {},
   "source": [
    "It's hard to highlight ANSI sequences with ANSI color, because you're working through several different leevels of indirection and escaping. In this case, we're not looking at ASCII sequences directly, but at their ASCII representation. Which is needed to \"defang' the control codes."
   ]
  },
  {
   "cell_type": "code",
   "execution_count": null,
   "metadata": {},
   "outputs": [],
   "source": []
  }
 ],
 "metadata": {
  "kernelspec": {
   "display_name": "Python 3",
   "language": "python",
   "name": "python3"
  },
  "language_info": {
   "codemirror_mode": {
    "name": "ipython",
    "version": 3
   },
   "file_extension": ".py",
   "mimetype": "text/x-python",
   "name": "python",
   "nbconvert_exporter": "python",
   "pygments_lexer": "ipython3",
   "version": "3.6.0"
  }
 },
 "nbformat": 4,
 "nbformat_minor": 2
}
