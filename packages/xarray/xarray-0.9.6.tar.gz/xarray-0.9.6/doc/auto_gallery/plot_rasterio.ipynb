{
  "metadata": {
    "language_info": {
      "version": "3.5.3",
      "codemirror_mode": {
        "version": 3,
        "name": "ipython"
      },
      "pygments_lexer": "ipython3",
      "mimetype": "text/x-python",
      "nbconvert_exporter": "python",
      "file_extension": ".py",
      "name": "python"
    },
    "kernelspec": {
      "display_name": "Python 3",
      "language": "python",
      "name": "python3"
    }
  },
  "cells": [
    {
      "metadata": {
        "collapsed": false
      },
      "source": [
        "%matplotlib inline"
      ],
      "execution_count": null,
      "cell_type": "code",
      "outputs": []
    },
    {
      "metadata": {},
      "source": [
        "\n\n=================================\nParsing rasterio's geocoordinates\n=================================\n\n\nConverting a projection's cartesian coordinates into 2D longitudes and\nlatitudes.\n\nThese new coordinates might be handy for plotting and indexing, but it should\nbe kept in mind that a grid which is regular in projection coordinates will\nlikely be irregular in lon/lat. It is often recommended to work in the data's\noriginal map projection.\n\n"
      ],
      "cell_type": "markdown"
    },
    {
      "metadata": {
        "collapsed": false
      },
      "source": [
        "import os\nimport urllib.request\nimport numpy as np\nimport xarray as xr\nimport cartopy.crs as ccrs\nimport matplotlib.pyplot as plt\nfrom rasterio.warp import transform\n\n\n# Download the file from rasterio's repository\nurl = 'https://github.com/mapbox/rasterio/raw/master/tests/data/RGB.byte.tif'\nurllib.request.urlretrieve(url, 'RGB.byte.tif')\n\n# Read the data\nda = xr.open_rasterio('RGB.byte.tif')\n\n# Compute the lon/lat coordinates with rasterio.warp.transform\nny, nx = len(da['y']), len(da['x'])\nx, y = np.meshgrid(da['x'], da['y'])\n\n# Rasterio works with 1D arrays\nlon, lat = transform(da.crs, {'init': 'EPSG:4326'},\n                     x.flatten(), y.flatten())\nlon = np.asarray(lon).reshape((ny, nx))\nlat = np.asarray(lat).reshape((ny, nx))\nda.coords['lon'] = (('y', 'x'), lon)\nda.coords['lat'] = (('y', 'x'), lat)\n\n# Compute a greyscale out of the rgb image\ngreyscale = da.mean(dim='band')\n\n# Plot on a map\nax = plt.subplot(projection=ccrs.PlateCarree())\ngreyscale.plot(ax=ax, x='lon', y='lat', transform=ccrs.PlateCarree(),\n               cmap='Greys_r', add_colorbar=False)\nax.coastlines('10m', color='r')\nplt.show()\n\n# Delete the file\nos.remove('RGB.byte.tif')"
      ],
      "execution_count": null,
      "cell_type": "code",
      "outputs": []
    }
  ],
  "nbformat_minor": 0,
  "nbformat": 4
}