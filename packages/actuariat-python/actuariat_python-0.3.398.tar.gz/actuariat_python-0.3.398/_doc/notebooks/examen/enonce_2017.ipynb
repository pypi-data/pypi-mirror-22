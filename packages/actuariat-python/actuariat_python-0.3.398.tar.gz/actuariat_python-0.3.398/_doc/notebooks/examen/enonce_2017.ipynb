{
  "cells": [
    {
      "cell_type": "markdown",
      "metadata": {},
      "source": [
        "# Evaluation Python ann\u00e9e 2016-2017 - \u00e9nonc\u00e9\n",
        "\n",
        "Le r\u00e9pertoire [data](https://github.com/sdpython/actuariat_python/tree/master/_doc/notebooks/examen/data) contient deux fichiers csv simul\u00e9s al\u00e9atoirement dont il faudra se servir pour r\u00e9pondre aux 10 questions qui suivent. Chaque question vaut deux points. Le travail est \u00e0 rendre pour le lundi 20 f\u00e9vrier sous la forme d'un notebook envoy\u00e9 en pi\u00e8ce jointe d'un mail."
      ]
    },
    {
      "cell_type": "markdown",
      "metadata": {
        "collapsed": true
      },
      "source": [
        "## 1\n",
        "\n",
        "Deux fichiers sont extraits de la base de donn\u00e9es d'un m\u00e9decin.\n",
        "Un fichier contient des informations sur des personnes, un autre\n",
        "sur les rendez-vous pris par ces personnes. Quels sont-ils ?"
      ]
    },
    {
      "cell_type": "code",
      "execution_count": null,
      "metadata": {
        "collapsed": true
      },
      "outputs": [],
      "source": []
    },
    {
      "cell_type": "markdown",
      "metadata": {},
      "source": [
        "## 2\n",
        "\n",
        "On souhaite \u00e9tudier la relation entre le prix moyen pay\u00e9 par une personne,\n",
        "son \u00e2ge et son genre. Calculer le prix moyen pay\u00e9 par une personne ?"
      ]
    },
    {
      "cell_type": "code",
      "execution_count": null,
      "metadata": {
        "collapsed": true
      },
      "outputs": [],
      "source": []
    },
    {
      "cell_type": "markdown",
      "metadata": {},
      "source": [
        "## 3\n",
        "\n",
        "Faire la jointure entre les deux tables."
      ]
    },
    {
      "cell_type": "code",
      "execution_count": null,
      "metadata": {
        "collapsed": true
      },
      "outputs": [],
      "source": []
    },
    {
      "cell_type": "markdown",
      "metadata": {},
      "source": [
        "## 4\n",
        "\n",
        "Tracer deux nuages de points (age, prix moyen) et (genre, prix moyen) ?"
      ]
    },
    {
      "cell_type": "code",
      "execution_count": null,
      "metadata": {
        "collapsed": true
      },
      "outputs": [],
      "source": []
    },
    {
      "cell_type": "markdown",
      "metadata": {},
      "source": [
        "## 5\n",
        "\n",
        "Calculer les coefficients de la r\u00e9gression $prix\\_moyen \\sim age + genre$."
      ]
    },
    {
      "cell_type": "code",
      "execution_count": null,
      "metadata": {
        "collapsed": true
      },
      "outputs": [],
      "source": []
    },
    {
      "cell_type": "markdown",
      "metadata": {},
      "source": [
        "## 6\n",
        "\n",
        "On souhaite \u00e9tudier le prix d'une consultation en fonction du jour de la semaine.\n",
        "Ajouter une colonne dans la table de votre choix avec le jour de la semaine."
      ]
    },
    {
      "cell_type": "code",
      "execution_count": null,
      "metadata": {
        "collapsed": true
      },
      "outputs": [],
      "source": []
    },
    {
      "cell_type": "markdown",
      "metadata": {},
      "source": [
        "## 7\n",
        "\n",
        "Cr\u00e9er un graphe moustache qui permet de v\u00e9rifier cette hypoth\u00e8se."
      ]
    },
    {
      "cell_type": "code",
      "execution_count": null,
      "metadata": {
        "collapsed": true
      },
      "outputs": [],
      "source": []
    },
    {
      "cell_type": "markdown",
      "metadata": {},
      "source": [
        "## 8\n",
        "\n",
        "Ajouter une colonne dans la table de votre choix qui contient 365 si c'est le premier rendez-vous, le nombre de jour \u00e9coul\u00e9s depuis le pr\u00e9c\u00e9dent rendez-vous. On appelle cette colonne $delay$. On ajoute \u00e9galement la colonne $1/delay$."
      ]
    },
    {
      "cell_type": "code",
      "execution_count": null,
      "metadata": {
        "collapsed": true
      },
      "outputs": [],
      "source": []
    },
    {
      "cell_type": "markdown",
      "metadata": {},
      "source": [
        "## 9 \n",
        "\n",
        "Calculer les coefficients de la r\u00e9gression $prix \\sim age + genre + delay + 1/delay + jour\\_semaine$.\n"
      ]
    },
    {
      "cell_type": "code",
      "execution_count": null,
      "metadata": {
        "collapsed": true
      },
      "outputs": [],
      "source": []
    },
    {
      "cell_type": "markdown",
      "metadata": {},
      "source": [
        "## 10\n",
        "\n",
        "Comment comparer ce mod\u00e8le avec le pr\u00e9c\u00e9dent ? Impl\u00e9mentez le calcul qui vous permet de r\u00e9pondre \u00e0 cette question."
      ]
    },
    {
      "cell_type": "code",
      "execution_count": null,
      "metadata": {
        "collapsed": true
      },
      "outputs": [],
      "source": []
    }
  ],
  "metadata": {
    "kernelspec": {
      "display_name": "Python 3",
      "language": "python",
      "name": "python3"
    },
    "language_info": {
      "codemirror_mode": {
        "name": "ipython",
        "version": 3
      },
      "file_extension": ".py",
      "mimetype": "text/x-python",
      "name": "python",
      "nbconvert_exporter": "python",
      "pygments_lexer": "ipython3",
      "version": "3.5.2"
    }
  },
  "nbformat": 4,
  "nbformat_minor": 2
}