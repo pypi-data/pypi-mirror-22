{
  "cells": [
    {
      "cell_type": "markdown",
      "metadata": {},
      "source": [
        "# Donn\u00e9es, approches fonctionnelles - \u00e9nonc\u00e9\n",
        "\n",
        "L'approche fonctionnelle est une fa\u00e7on de traiter les donn\u00e9es en ne conservant qu'une petite partie en m\u00e9moire. D'une mani\u00e8re g\u00e9n\u00e9rale, cela s'applique \u00e0 tous les calculs qu'on peut faire avec le langage [SQL](https://fr.wikipedia.org/wiki/Structured_Query_Language). Le notebook utilisera des donn\u00e9es issues d'une table de mortalit\u00e9 extraite de [table de mortalit\u00e9 de 1960 \u00e0 2010](http://www.data-publica.com/opendata/7098--population-et-conditions-sociales-table-de-mortalite-de-1960-a-2010) (*le lien est cass\u00e9 car data-publica ne fournit plus ces donn\u00e9es, le notebook r\u00e9cup\u00e8re une copie*) qu'on r\u00e9cup\u00e8re \u00e0 l'aide de la fonction [table_mortalite_euro_stat](http://www.xavierdupre.fr/app/actuariat_python/helpsphinx/actuariat_python/data/population.html#actuariat_python.data.population.table_mortalite_euro_stat)."
      ]
    },
    {
      "cell_type": "code",
      "execution_count": null,
      "metadata": {
        "collapsed": false
      },
      "outputs": [
        {
          "name": "stdout",
          "output_type": "stream",
          "text": [
            "Populating the interactive namespace from numpy and matplotlib\n"
          ]
        },
        {
          "data": {
            "text/html": [
              "<div id=\"my_id_menu_nb\">run previous cell, wait for 2 seconds</div>\n",
              "<script>\n",
              "function repeat_indent_string(n){\n",
              "    var a = \"\" ;\n",
              "    for ( ; n > 0 ; --n) {\n",
              "        a += \"    \";\n",
              "    }\n",
              "    return a;\n",
              "}\n",
              "var update_menu_string = function(begin, lfirst, llast, sformat, send, keep_item) {\n",
              "    var anchors = document.getElementsByClassName(\"section\");\n",
              "    if (anchors.length == 0) {\n",
              "        anchors = document.getElementsByClassName(\"text_cell_render rendered_html\");\n",
              "    }\n",
              "    var i,t;\n",
              "    var text_menu = begin;\n",
              "    var text_memo = \"<pre>\\nlength:\" + anchors.length + \"\\n\";\n",
              "    var ind = \"\";\n",
              "    var memo_level = 1;\n",
              "    var href;\n",
              "    var tags = [];\n",
              "    var main_item = 0;\n",
              "    for (i = 0; i <= llast; i++) {\n",
              "        tags.push(\"h\" + i);\n",
              "    }\n",
              "\n",
              "    for (i = 0; i < anchors.length; i++) {\n",
              "        text_memo += \"**\" + anchors[i].id + \"--\\n\";\n",
              "\n",
              "        var child = null;\n",
              "        for(t = 0; t < tags.length; t++) {\n",
              "            var r = anchors[i].getElementsByTagName(tags[t]);\n",
              "            if (r.length > 0) {\n",
              "child = r[0];\n",
              "break;\n",
              "            }\n",
              "        }\n",
              "        if (child == null){\n",
              "            text_memo += \"null\\n\";\n",
              "            continue;\n",
              "        }\n",
              "        if (anchors[i].hasAttribute(\"id\")) {\n",
              "            // when converted in RST\n",
              "            href = anchors[i].id;\n",
              "            text_memo += \"#1-\" + href;\n",
              "            // passer \u00e0 child suivant (le chercher)\n",
              "        }\n",
              "        else if (child.hasAttribute(\"id\")) {\n",
              "            // in a notebook\n",
              "            href = child.id;\n",
              "            text_memo += \"#2-\" + href;\n",
              "        }\n",
              "        else {\n",
              "            text_memo += \"#3-\" + \"*\" + \"\\n\";\n",
              "            continue;\n",
              "        }\n",
              "        var title = child.textContent;\n",
              "        var level = parseInt(child.tagName.substring(1,2));\n",
              "\n",
              "        text_memo += \"--\" + level + \"?\" + lfirst + \"--\" + title + \"\\n\";\n",
              "\n",
              "        if ((level < lfirst) || (level > llast)) {\n",
              "            continue ;\n",
              "        }\n",
              "        if (title.endsWith('\u00b6')) {\n",
              "            title = title.substring(0,title.length-1).replace(\"<\", \"&lt;\").replace(\">\", \"&gt;\").replace(\"&\", \"&amp;\")\n",
              "        }\n",
              "\n",
              "        if (title.length == 0) {\n",
              "            continue;\n",
              "        }\n",
              "\n",
              "        while (level < memo_level) {\n",
              "            text_menu += \"</ul>\\n\";\n",
              "            memo_level -= 1;\n",
              "        }\n",
              "        if (level == lfirst) {\n",
              "            main_item += 1;\n",
              "        }\n",
              "        if (keep_item != -1 && main_item != keep_item + 1) {\n",
              "            // alert(main_item + \" - \" + level + \" - \" + keep_item);\n",
              "            continue;\n",
              "        }\n",
              "        while (level > memo_level) {\n",
              "            text_menu += \"<ul>\\n\";\n",
              "            memo_level += 1;\n",
              "        }\n",
              "        text_menu += repeat_indent_string(level-2) + sformat.replace(\"__HREF__\", href).replace(\"__TITLE__\", title);\n",
              "    }\n",
              "    while (1 < memo_level) {\n",
              "        text_menu += \"</ul>\\n\";\n",
              "        memo_level -= 1;\n",
              "    }\n",
              "    text_menu += send;\n",
              "    //text_menu += \"\\n\" + text_memo;\n",
              "    return text_menu;\n",
              "};\n",
              "var update_menu = function() {\n",
              "    var sbegin = \"\";\n",
              "    var sformat = '<li><a href=\"#__HREF__\">__TITLE__</a></li>';\n",
              "    var send = \"\";\n",
              "    var keep_item = -1;\n",
              "    var text_menu = update_menu_string(sbegin, 2, 4, sformat, send, keep_item);\n",
              "    var menu = document.getElementById(\"my_id_menu_nb\");\n",
              "    menu.innerHTML=text_menu;\n",
              "};\n",
              "window.setTimeout(update_menu,2000);\n",
              "            </script>"
            ],
            "text/plain": [
              "<IPython.core.display.HTML object>"
            ]
          },
          "execution_count": null,
          "metadata": {},
          "output_type": "execute_result"
        }
      ],
      "source": [
        "%pylab inline\n",
        "import matplotlib.pyplot as plt\n",
        "plt.style.use('ggplot')\n",
        "import pyensae\n",
        "from pyquickhelper.helpgen import NbImage\n",
        "from jyquickhelper import add_notebook_menu\n",
        "add_notebook_menu()"
      ]
    },
    {
      "cell_type": "code",
      "execution_count": null,
      "metadata": {
        "collapsed": false
      },
      "outputs": [
        {
          "data": {
            "text/html": [
              "<div>\n",
              "<table border=\"1\" class=\"dataframe\">\n",
              "  <thead>\n",
              "    <tr style=\"text-align: right;\">\n",
              "      <th></th>\n",
              "      <th>annee</th>\n",
              "      <th>valeur</th>\n",
              "      <th>age</th>\n",
              "      <th>age_num</th>\n",
              "      <th>indicateur</th>\n",
              "      <th>genre</th>\n",
              "      <th>pays</th>\n",
              "    </tr>\n",
              "  </thead>\n",
              "  <tbody>\n",
              "    <tr>\n",
              "      <th>0</th>\n",
              "      <td>2012</td>\n",
              "      <td>0.00000</td>\n",
              "      <td>Y01</td>\n",
              "      <td>1.0</td>\n",
              "      <td>DEATHRATE</td>\n",
              "      <td>F</td>\n",
              "      <td>AD</td>\n",
              "    </tr>\n",
              "    <tr>\n",
              "      <th>1</th>\n",
              "      <td>2014</td>\n",
              "      <td>0.00042</td>\n",
              "      <td>Y01</td>\n",
              "      <td>1.0</td>\n",
              "      <td>DEATHRATE</td>\n",
              "      <td>F</td>\n",
              "      <td>AL</td>\n",
              "    </tr>\n",
              "    <tr>\n",
              "      <th>2</th>\n",
              "      <td>2009</td>\n",
              "      <td>0.00080</td>\n",
              "      <td>Y01</td>\n",
              "      <td>1.0</td>\n",
              "      <td>DEATHRATE</td>\n",
              "      <td>F</td>\n",
              "      <td>AM</td>\n",
              "    </tr>\n",
              "    <tr>\n",
              "      <th>3</th>\n",
              "      <td>2008</td>\n",
              "      <td>0.00067</td>\n",
              "      <td>Y01</td>\n",
              "      <td>1.0</td>\n",
              "      <td>DEATHRATE</td>\n",
              "      <td>F</td>\n",
              "      <td>AM</td>\n",
              "    </tr>\n",
              "    <tr>\n",
              "      <th>4</th>\n",
              "      <td>2007</td>\n",
              "      <td>0.00052</td>\n",
              "      <td>Y01</td>\n",
              "      <td>1.0</td>\n",
              "      <td>DEATHRATE</td>\n",
              "      <td>F</td>\n",
              "      <td>AM</td>\n",
              "    </tr>\n",
              "  </tbody>\n",
              "</table>\n",
              "</div>"
            ],
            "text/plain": [
              "   annee   valeur  age  age_num indicateur genre pays\n",
              "0   2012  0.00000  Y01      1.0  DEATHRATE     F   AD\n",
              "1   2014  0.00042  Y01      1.0  DEATHRATE     F   AL\n",
              "2   2009  0.00080  Y01      1.0  DEATHRATE     F   AM\n",
              "3   2008  0.00067  Y01      1.0  DEATHRATE     F   AM\n",
              "4   2007  0.00052  Y01      1.0  DEATHRATE     F   AM"
            ]
          },
          "execution_count": null,
          "metadata": {},
          "output_type": "execute_result"
        }
      ],
      "source": [
        "from actuariat_python.data import table_mortalite_euro_stat \n",
        "table_mortalite_euro_stat()\n",
        "import pandas\n",
        "df = pandas.read_csv(\"mortalite.txt\", sep=\"\\t\", encoding=\"utf8\", low_memory=False)\n",
        "df.head()"
      ]
    },
    {
      "cell_type": "markdown",
      "metadata": {},
      "source": [
        "### It\u00e9rateur, G\u00e9n\u00e9rateur"
      ]
    },
    {
      "cell_type": "markdown",
      "metadata": {},
      "source": [
        "#### it\u00e9rateur\n",
        "\n",
        "La notion d'[it\u00e9rateur](https://fr.wikipedia.org/wiki/It%C3%A9rateur) est incournable dans ce genre d'approche fonctionnelle. Un it\u00e9rateur parcourt les \u00e9l\u00e9ments d'un ensemble. C'est le cas de la fonction [range](https://docs.python.org/3.4/library/functions.html#func-range)."
      ]
    },
    {
      "cell_type": "code",
      "execution_count": null,
      "metadata": {
        "collapsed": false
      },
      "outputs": [
        {
          "name": "stdout",
          "output_type": "stream",
          "text": [
            "<list_iterator object at 0x000001A50784C358> <class 'list_iterator'>\n"
          ]
        }
      ],
      "source": [
        "it = iter([0,1,2,3,4,5,6,7,8])\n",
        "print(it, type(it))"
      ]
    },
    {
      "cell_type": "markdown",
      "metadata": {},
      "source": [
        "Il faut le dissocier d'une [liste](https://docs.python.org/3.4/tutorial/datastructures.html#more-on-lists) qui est un [conteneur](https://docs.python.org/3/library/collections.html)."
      ]
    },
    {
      "cell_type": "code",
      "execution_count": null,
      "metadata": {
        "collapsed": false
      },
      "outputs": [
        {
          "data": {
            "text/plain": [
              "[0, 1, 2, 3, 4, 5, 6, 7, 8]"
            ]
          },
          "execution_count": null,
          "metadata": {},
          "output_type": "execute_result"
        }
      ],
      "source": [
        "[0,1,2,3,4,5,6,7,8]"
      ]
    },
    {
      "cell_type": "markdown",
      "metadata": {},
      "source": [
        "Pour s'en convaincre, on compare la taille d'un it\u00e9rateur avec celui d'une liste : la taille de l'it\u00e9rateur ne change pas quelque soit la liste, la taille de la liste cro\u00eet avec le nombre d'\u00e9l\u00e9ments qu'elle contient."
      ]
    },
    {
      "cell_type": "code",
      "execution_count": null,
      "metadata": {
        "collapsed": false
      },
      "outputs": [
        {
          "name": "stdout",
          "output_type": "stream",
          "text": [
            "56\n",
            "56\n",
            "136\n",
            "184\n"
          ]
        }
      ],
      "source": [
        "import sys\n",
        "print(sys.getsizeof(iter([0,1,2,3,4,5,6,7,8])))\n",
        "print(sys.getsizeof(iter([0,1,2,3,4,5,6,7,8,9,10,11,12,13,14])))\n",
        "print(sys.getsizeof([0,1,2,3,4,5,6,7,8]))\n",
        "print(sys.getsizeof([0,1,2,3,4,5,6,7,8,9,10,11,12,13,14]))"
      ]
    },
    {
      "cell_type": "markdown",
      "metadata": {},
      "source": [
        "L'it\u00e9rateur ne sait faire qu'une chose : passer \u00e0 l'\u00e9l\u00e9ment suivant et lancer une exception [StopIteration](https://docs.python.org/3.4/library/exceptions.html#StopIteration) lorsqu'il arrive \u00e0 la fin."
      ]
    },
    {
      "cell_type": "code",
      "execution_count": null,
      "metadata": {
        "collapsed": false
      },
      "outputs": [
        {
          "name": "stdout",
          "output_type": "stream",
          "text": [
            "0\n",
            "1\n",
            "2\n",
            "3\n",
            "4\n",
            "5\n",
            "6\n",
            "7\n",
            "8\n"
          ]
        },
        {
          "ename": "StopIteration",
          "evalue": "",
          "output_type": "error",
          "traceback": [
            "\u001b[0;31m---------------------------------------------------------------------------\u001b[0m",
            "\u001b[0;31mStopIteration\u001b[0m                             Traceback (most recent call last)",
            "\u001b[0;32m<ipython-input-6-3260960c0f0b>\u001b[0m in \u001b[0;36m<module>\u001b[0;34m()\u001b[0m\n\u001b[1;32m      9\u001b[0m \u001b[0mprint\u001b[0m\u001b[1;33m(\u001b[0m\u001b[0mnext\u001b[0m\u001b[1;33m(\u001b[0m\u001b[0mit\u001b[0m\u001b[1;33m)\u001b[0m\u001b[1;33m)\u001b[0m\u001b[1;33m\u001b[0m\u001b[0m\n\u001b[1;32m     10\u001b[0m \u001b[0mprint\u001b[0m\u001b[1;33m(\u001b[0m\u001b[0mnext\u001b[0m\u001b[1;33m(\u001b[0m\u001b[0mit\u001b[0m\u001b[1;33m)\u001b[0m\u001b[1;33m)\u001b[0m\u001b[1;33m\u001b[0m\u001b[0m\n\u001b[0;32m---> 11\u001b[0;31m \u001b[0mprint\u001b[0m\u001b[1;33m(\u001b[0m\u001b[0mnext\u001b[0m\u001b[1;33m(\u001b[0m\u001b[0mit\u001b[0m\u001b[1;33m)\u001b[0m\u001b[1;33m)\u001b[0m\u001b[1;33m\u001b[0m\u001b[0m\n\u001b[0m",
            "\u001b[0;31mStopIteration\u001b[0m: "
          ]
        }
      ],
      "source": [
        "it = iter([0,1,2,3,4,5,6,7,8])\n",
        "print(next(it))\n",
        "print(next(it))\n",
        "print(next(it))\n",
        "print(next(it))\n",
        "print(next(it))\n",
        "print(next(it))\n",
        "print(next(it))\n",
        "print(next(it))\n",
        "print(next(it))\n",
        "print(next(it))"
      ]
    },
    {
      "cell_type": "markdown",
      "metadata": {},
      "source": [
        "#### g\u00e9n\u00e9rateur\n",
        "\n",
        "Un [g\u00e9n\u00e9rateur](https://wiki.python.org/moin/Generators) se comporte comme un it\u00e9rateur, il retourne des \u00e9l\u00e9ments les uns \u00e0 la suite des autres que ces \u00e9l\u00e9ments soit dans un container ou pas."
      ]
    },
    {
      "cell_type": "code",
      "execution_count": null,
      "metadata": {
        "collapsed": false
      },
      "outputs": [
        {
          "data": {
            "text/plain": [
              "<generator object genere_nombre_pair at 0x000001A507A81FC0>"
            ]
          },
          "execution_count": null,
          "metadata": {},
          "output_type": "execute_result"
        }
      ],
      "source": [
        "def genere_nombre_pair(n):\n",
        "    for i in range(0,n):\n",
        "        yield 2*i\n",
        "        \n",
        "genere_nombre_pair(5)"
      ]
    },
    {
      "cell_type": "markdown",
      "metadata": {},
      "source": [
        "Appel\u00e9 comme suit, un g\u00e9n\u00e9rateur ne fait rien. On s'en convaint en ins\u00e9rant une instruction ``print`` dans la fonction :"
      ]
    },
    {
      "cell_type": "code",
      "execution_count": null,
      "metadata": {
        "collapsed": false
      },
      "outputs": [
        {
          "data": {
            "text/plain": [
              "<generator object genere_nombre_pair at 0x000001A507A81F68>"
            ]
          },
          "execution_count": null,
          "metadata": {},
          "output_type": "execute_result"
        }
      ],
      "source": [
        "def genere_nombre_pair(n):\n",
        "    for i in range(0,n):\n",
        "        print(\"je passe par l\u00e0\", i, n)\n",
        "        yield 2*i\n",
        "        \n",
        "genere_nombre_pair(5)"
      ]
    },
    {
      "cell_type": "markdown",
      "metadata": {},
      "source": [
        "Mais si on construit une liste avec tout ces nombres, on v\u00e9rifie que la fonction ``genere_nombre_pair`` est bien execut\u00e9e :"
      ]
    },
    {
      "cell_type": "code",
      "execution_count": null,
      "metadata": {
        "collapsed": false
      },
      "outputs": [
        {
          "name": "stdout",
          "output_type": "stream",
          "text": [
            "je passe par l\u00e0 0 5\n",
            "je passe par l\u00e0 1 5\n",
            "je passe par l\u00e0 2 5\n",
            "je passe par l\u00e0 3 5\n",
            "je passe par l\u00e0 4 5\n"
          ]
        },
        {
          "data": {
            "text/plain": [
              "[0, 2, 4, 6, 8]"
            ]
          },
          "execution_count": null,
          "metadata": {},
          "output_type": "execute_result"
        }
      ],
      "source": [
        "list(genere_nombre_pair(5))"
      ]
    },
    {
      "cell_type": "markdown",
      "metadata": {},
      "source": [
        "L'instruction ``next`` fonctionne de la m\u00eame fa\u00e7on :"
      ]
    },
    {
      "cell_type": "code",
      "execution_count": null,
      "metadata": {
        "collapsed": false
      },
      "outputs": [
        {
          "name": "stdout",
          "output_type": "stream",
          "text": [
            "0\n",
            "2\n",
            "4\n",
            "6\n",
            "8\n"
          ]
        },
        {
          "ename": "StopIteration",
          "evalue": "",
          "output_type": "error",
          "traceback": [
            "\u001b[0;31m---------------------------------------------------------------------------\u001b[0m",
            "\u001b[0;31mStopIteration\u001b[0m                             Traceback (most recent call last)",
            "\u001b[0;32m<ipython-input-10-cb3bdd50dd95>\u001b[0m in \u001b[0;36m<module>\u001b[0;34m()\u001b[0m\n\u001b[1;32m      9\u001b[0m \u001b[0mprint\u001b[0m\u001b[1;33m(\u001b[0m\u001b[0mnext\u001b[0m\u001b[1;33m(\u001b[0m\u001b[0mit\u001b[0m\u001b[1;33m)\u001b[0m\u001b[1;33m)\u001b[0m\u001b[1;33m\u001b[0m\u001b[0m\n\u001b[1;32m     10\u001b[0m \u001b[0mprint\u001b[0m\u001b[1;33m(\u001b[0m\u001b[0mnext\u001b[0m\u001b[1;33m(\u001b[0m\u001b[0mit\u001b[0m\u001b[1;33m)\u001b[0m\u001b[1;33m)\u001b[0m\u001b[1;33m\u001b[0m\u001b[0m\n\u001b[0;32m---> 11\u001b[0;31m \u001b[0mprint\u001b[0m\u001b[1;33m(\u001b[0m\u001b[0mnext\u001b[0m\u001b[1;33m(\u001b[0m\u001b[0mit\u001b[0m\u001b[1;33m)\u001b[0m\u001b[1;33m)\u001b[0m\u001b[1;33m\u001b[0m\u001b[0m\n\u001b[0m",
            "\u001b[0;31mStopIteration\u001b[0m: "
          ]
        }
      ],
      "source": [
        "def genere_nombre_pair(n):\n",
        "    for i in range(0,n):\n",
        "        yield 2*i\n",
        "        \n",
        "it = genere_nombre_pair(5)\n",
        "print(next(it))\n",
        "print(next(it))\n",
        "print(next(it))\n",
        "print(next(it))\n",
        "print(next(it))\n",
        "print(next(it))"
      ]
    },
    {
      "cell_type": "markdown",
      "metadata": {},
      "source": [
        "Le moyen le plus simple de parcourir les \u00e9l\u00e9ments retourn\u00e9s par un it\u00e9rateur ou un g\u00e9n\u00e9rateur est une boucle ``for`` :"
      ]
    },
    {
      "cell_type": "code",
      "execution_count": null,
      "metadata": {
        "collapsed": false
      },
      "outputs": [
        {
          "name": "stdout",
          "output_type": "stream",
          "text": [
            "0\n",
            "2\n",
            "4\n",
            "6\n",
            "8\n"
          ]
        }
      ],
      "source": [
        "it = genere_nombre_pair(5)\n",
        "for nombre in it:\n",
        "    print(nombre)"
      ]
    },
    {
      "cell_type": "markdown",
      "metadata": {},
      "source": [
        "On peut combiner les g\u00e9n\u00e9rateurs :"
      ]
    },
    {
      "cell_type": "code",
      "execution_count": null,
      "metadata": {
        "collapsed": false
      },
      "outputs": [
        {
          "name": "stdout",
          "output_type": "stream",
          "text": [
            "<function genere_multiple_six at 0x000001A507A94EA0>\n"
          ]
        }
      ],
      "source": [
        "def genere_nombre_pair(n):\n",
        "    for i in range(0,n):\n",
        "        print(\"pair\", i)\n",
        "        yield 2*i\n",
        "        \n",
        "def genere_multiple_six(n):\n",
        "    for pair in genere_nombre_pair(n):\n",
        "        print(\"six\", pair)\n",
        "        yield 3*pair\n",
        "        \n",
        "print(genere_multiple_six)"
      ]
    },
    {
      "cell_type": "code",
      "execution_count": null,
      "metadata": {
        "collapsed": false
      },
      "outputs": [
        {
          "name": "stdout",
          "output_type": "stream",
          "text": [
            "pair 0\n",
            "six 0\n",
            "0\n",
            "pair 1\n",
            "six 2\n",
            "6\n",
            "pair 2\n",
            "six 4\n",
            "12\n"
          ]
        }
      ],
      "source": [
        "for i in genere_multiple_six(3):\n",
        "    print(i)"
      ]
    },
    {
      "cell_type": "markdown",
      "metadata": {},
      "source": [
        "#### int\u00e9r\u00eat\n",
        "\n",
        "* Les it\u00e9rateurs et les g\u00e9n\u00e9rateurs sont des fonctions qui parcourent des ensembles d'\u00e9l\u00e9ments ou donne cette illusion.\n",
        "* Ils ne servent qu'\u00e0 passer \u00e0 l'\u00e9l\u00e9ment suivant.\n",
        "* Ils ne le font que si on le demande explicitement avec une boucle ``for`` par exemple. C'est pour cela qu'on parle d'\u00e9valuation paresseuse ou **lazy evaluation**.\n",
        "* On peut combiner les it\u00e9rateurs / g\u00e9n\u00e9rateurs.\n",
        "\n",
        "Il faut voir les it\u00e9rateurs et g\u00e9n\u00e9rateurs comme des flux, une ou plusieurs entr\u00e9es d'\u00e9l\u00e9ments, une sortie d'\u00e9l\u00e9ments, rien ne se passe tant qu'on n'envoie pas de l'eau pour faire tourner la roue."
      ]
    },
    {
      "cell_type": "markdown",
      "metadata": {},
      "source": [
        "#### lambda fonction\n",
        "\n",
        "Une fonction [lambda](http://sametmax.com/fonctions-anonymes-en-python-ou-lambda/) est une fonction plus courte d'\u00e9crire des fonctions tr\u00e8s simples."
      ]
    },
    {
      "cell_type": "code",
      "execution_count": null,
      "metadata": {
        "collapsed": false
      },
      "outputs": [
        {
          "data": {
            "text/plain": [
              "4"
            ]
          },
          "execution_count": null,
          "metadata": {},
          "output_type": "execute_result"
        }
      ],
      "source": [
        "def addition(x, y):\n",
        "    return x + y\n",
        "addition(1, 3)"
      ]
    },
    {
      "cell_type": "code",
      "execution_count": null,
      "metadata": {
        "collapsed": false
      },
      "outputs": [
        {
          "data": {
            "text/plain": [
              "4"
            ]
          },
          "execution_count": null,
          "metadata": {},
          "output_type": "execute_result"
        }
      ],
      "source": [
        "additionl = lambda x,y : x+y\n",
        "additionl(1, 3)"
      ]
    },
    {
      "cell_type": "markdown",
      "metadata": {},
      "source": [
        "### Exercice 1 : application aux grandes bases de donn\u00e9es\n",
        "\n",
        "Imaginons qu'on a une base de donn\u00e9es de 10 milliards de lignes. On doit lui appliquer deux traitements : ``f1``, ``f2``. On a deux options possibles :\n",
        "\n",
        "* Appliquer la fonction ``f1`` sur tous les \u00e9l\u00e9ments, puis appliquer ``f2`` sur tous les \u00e9l\u00e9ments transform\u00e9s par ``f1``.\n",
        "* Application la combinaison des g\u00e9n\u00e9rateurs ``f1``, ``f2`` sur chaque ligne de la base de donn\u00e9es.\n",
        "\n",
        "Que se passe-t-il si on a fait une erreur d'impl\u00e9mentation dans la fonction ``f2`` ?"
      ]
    },
    {
      "cell_type": "code",
      "execution_count": null,
      "metadata": {
        "collapsed": true
      },
      "outputs": [],
      "source": []
    },
    {
      "cell_type": "markdown",
      "metadata": {},
      "source": [
        "### Map/Reduce, approche fonctionnelle avec cytoolz\n",
        "\n",
        "On a vu les fonctions [iter](https://docs.python.org/3/library/functions.html#iter) et [next](https://docs.python.org/3/library/functions.html#next) mais on ne les utilise quasiment jamais. La programmation fonctionnelle consiste le plus souvent \u00e0 combiner des it\u00e9rateurs et g\u00e9n\u00e9rateurs pour ne les utiliser qu'au sein d'une boucle. C'est cette boucle qui appelle implicitement les deux fonctions [iter](https://docs.python.org/3/library/functions.html#iter) et [next](https://docs.python.org/3/library/functions.html#next).\n",
        "\n",
        "La combinaison d'it\u00e9rateurs fait sans cesse appel aux m\u00eames sch\u00e9mas logiques. Python impl\u00e9mente quelques sch\u00e9mas qu'on compl\u00e8te par un module tel que [cytoolz](https://pypi.python.org/pypi/cytoolz). Les deux modules [toolz](https://pypi.python.org/pypi/toolz) et [cytoolz](https://pypi.python.org/pypi/cytoolz) sont deux impl\u00e9mentations du m\u00eame ensemble de fonctions d\u00e9crit par la documentation : [pytoolz](http://toolz.readthedocs.org/en/latest/). [toolz](https://pypi.python.org/pypi/toolz) est une impl\u00e9mentation purement Python. [cytoolz](https://pypi.python.org/pypi/cytoolz) s'appuie sur le langage C++, elle est plus rapide.\n",
        "\n",
        "Par d\u00e9fault, les \u00e9l\u00e9ments entrent et sortent dans le m\u00eame ordre. La liste qui suit n'est pas exhaustive (voir [itertoolz](http://toolz.readthedocs.org/en/latest/api.html#itertoolz)). \n",
        "\n",
        "**sch\u00e9mas simples:**\n",
        "\n",
        "* [filter](https://docs.python.org/3/library/functions.html#filter) : s\u00e9lectionner des \u00e9l\u00e9ments, $n$ qui entrent, $<n$ qui sortent.\n",
        "* [map](https://docs.python.org/3/library/functions.html#map) : transformer les \u00e9l\u00e9ments, $n$ qui entrent, $n$ qui sortent.\n",
        "* [take](http://toolz.readthedocs.org/en/latest/api.html#toolz.itertoolz.take) : prendre les $k$ premiers \u00e9l\u00e9ments, $n$ qui entrent, $k <= n$ qui sortent.\n",
        "* [drop](http://toolz.readthedocs.org/en/latest/api.html#toolz.itertoolz.drop) : passer les $k$ premiers \u00e9l\u00e9ments, $n$ qui entrent, $n-k$ qui sortent.\n",
        "* [sorted](https://docs.python.org/3.4/library/functions.html#sorted) : tri les \u00e9l\u00e9ments, $n$ qui entrent, $n$ qui sortent dans un ordre diff\u00e9rent.\n",
        "* [reduce](https://docs.python.org/3.4/library/functools.html?highlight=reduce#functools.reduce) : aggr\u00e9ger (au sens de sommer) les \u00e9l\u00e9ments, $n$ qui entrent, 1 qui sort.\n",
        "* [concat](http://toolz.readthedocs.org/en/latest/api.html#toolz.itertoolz.concat) : fusionner deux s\u00e9quences d'\u00e9l\u00e9ments d\u00e9finies par deux it\u00e9rateurs, $n$ et $m$ qui entrent, $n+m$ qui sortent.\n",
        "\n",
        "**sch\u00e9mas complexes**\n",
        "\n",
        "Certains sch\u00e9mas sont la combinaison de sch\u00e9mas simples mais il est plus efficace d'utiliser la version combin\u00e9e.\n",
        "\n",
        "* [join](http://toolz.readthedocs.org/en/latest/api.html#toolz.itertoolz.join) : associe deux s\u00e9quences, $n$ et $m$ qui entrent, au pire $nm$ qui sortent.\n",
        "* [groupby](http://toolz.readthedocs.org/en/latest/api.html#toolz.itertoolz.groupby) : classe les \u00e9l\u00e9ments, $n$ qui entrent, $p<=n$ groupes d'\u00e9l\u00e9ments qui sortent.\n",
        "* [reduceby](http://toolz.readthedocs.org/en/latest/api.html#toolz.itertoolz.reduceby) : combinaison (*groupby*, *reduce*), $n$ qui entrent, $p<=n$ qui sortent.\n",
        "\n",
        "**sch\u00e9ma qui retourne un seul \u00e9l\u00e9ment**\n",
        "\n",
        "* [all](https://docs.python.org/3/library/functions.html#all) : vrai si tous les \u00e9l\u00e9ments sont vrais.\n",
        "* [any](https://docs.python.org/3/library/functions.html#any) : vrai si un \u00e9l\u00e9ments est vrai.\n",
        "* [first](http://toolz.readthedocs.org/en/latest/api.html#toolz.itertoolz.first) : premier \u00e9l\u00e9ment qui entre.\n",
        "* [last](http://toolz.readthedocs.org/en/latest/api.html#toolz.itertoolz.last) : dernier \u00e9l\u00e9ment qui sort.\n",
        "* min, max, sum, len...\n",
        "\n",
        "**sch\u00e9ma qui aggr\u00e8ge**\n",
        "\n",
        "* [add](https://docs.python.org/3.4/library/operator.html#operator.add) : utilis\u00e9 avec la fonction *reduce* pour aggr\u00e9ger les \u00e9l\u00e9ments et n'en retourner qu'un.\n",
        "\n",
        "[API PyToolz](http://toolz.readthedocs.org/en/latest/api.html) d\u00e9crit l'ensemble des fonctions disponibles."
      ]
    },
    {
      "cell_type": "markdown",
      "metadata": {},
      "source": [
        "### Exercice 2 : cytoolz\n",
        "\n",
        "La note d'un candidat \u00e0 un concours de patinage artistique fait la moyenne de trois moyennes parmi cinq, les deux extr\u00eames n'\u00e9tant pas prises en compte. Il faut calculer cette somme pour un ensemble de candidats avec [cytoolz](https://pypi.python.org/pypi/cytoolz)."
      ]
    },
    {
      "cell_type": "code",
      "execution_count": null,
      "metadata": {
        "collapsed": false
      },
      "outputs": [
        {
          "data": {
            "text/html": [
              "<div>\n",
              "<table border=\"1\" class=\"dataframe\">\n",
              "  <thead>\n",
              "    <tr style=\"text-align: right;\">\n",
              "      <th></th>\n",
              "      <th>juge</th>\n",
              "      <th>nom</th>\n",
              "      <th>note</th>\n",
              "    </tr>\n",
              "  </thead>\n",
              "  <tbody>\n",
              "    <tr>\n",
              "      <th>0</th>\n",
              "      <td>1</td>\n",
              "      <td>A</td>\n",
              "      <td>8</td>\n",
              "    </tr>\n",
              "    <tr>\n",
              "      <th>1</th>\n",
              "      <td>2</td>\n",
              "      <td>A</td>\n",
              "      <td>9</td>\n",
              "    </tr>\n",
              "    <tr>\n",
              "      <th>2</th>\n",
              "      <td>3</td>\n",
              "      <td>A</td>\n",
              "      <td>7</td>\n",
              "    </tr>\n",
              "    <tr>\n",
              "      <th>3</th>\n",
              "      <td>4</td>\n",
              "      <td>A</td>\n",
              "      <td>4</td>\n",
              "    </tr>\n",
              "    <tr>\n",
              "      <th>4</th>\n",
              "      <td>5</td>\n",
              "      <td>A</td>\n",
              "      <td>5</td>\n",
              "    </tr>\n",
              "    <tr>\n",
              "      <th>5</th>\n",
              "      <td>1</td>\n",
              "      <td>B</td>\n",
              "      <td>7</td>\n",
              "    </tr>\n",
              "    <tr>\n",
              "      <th>6</th>\n",
              "      <td>2</td>\n",
              "      <td>B</td>\n",
              "      <td>4</td>\n",
              "    </tr>\n",
              "    <tr>\n",
              "      <th>7</th>\n",
              "      <td>3</td>\n",
              "      <td>B</td>\n",
              "      <td>7</td>\n",
              "    </tr>\n",
              "    <tr>\n",
              "      <th>8</th>\n",
              "      <td>4</td>\n",
              "      <td>B</td>\n",
              "      <td>9</td>\n",
              "    </tr>\n",
              "    <tr>\n",
              "      <th>9</th>\n",
              "      <td>1</td>\n",
              "      <td>B</td>\n",
              "      <td>10</td>\n",
              "    </tr>\n",
              "    <tr>\n",
              "      <th>10</th>\n",
              "      <td>2</td>\n",
              "      <td>C</td>\n",
              "      <td>0</td>\n",
              "    </tr>\n",
              "    <tr>\n",
              "      <th>11</th>\n",
              "      <td>3</td>\n",
              "      <td>C</td>\n",
              "      <td>10</td>\n",
              "    </tr>\n",
              "    <tr>\n",
              "      <th>12</th>\n",
              "      <td>4</td>\n",
              "      <td>C</td>\n",
              "      <td>8</td>\n",
              "    </tr>\n",
              "    <tr>\n",
              "      <th>13</th>\n",
              "      <td>5</td>\n",
              "      <td>C</td>\n",
              "      <td>8</td>\n",
              "    </tr>\n",
              "    <tr>\n",
              "      <th>14</th>\n",
              "      <td>5</td>\n",
              "      <td>C</td>\n",
              "      <td>8</td>\n",
              "    </tr>\n",
              "  </tbody>\n",
              "</table>\n",
              "</div>"
            ],
            "text/plain": [
              "    juge nom  note\n",
              "0      1   A     8\n",
              "1      2   A     9\n",
              "2      3   A     7\n",
              "3      4   A     4\n",
              "4      5   A     5\n",
              "5      1   B     7\n",
              "6      2   B     4\n",
              "7      3   B     7\n",
              "8      4   B     9\n",
              "9      1   B    10\n",
              "10     2   C     0\n",
              "11     3   C    10\n",
              "12     4   C     8\n",
              "13     5   C     8\n",
              "14     5   C     8"
            ]
          },
          "execution_count": null,
          "metadata": {},
          "output_type": "execute_result"
        }
      ],
      "source": [
        "notes = [dict(nom=\"A\", juge=1, note=8),\n",
        "        dict(nom=\"A\", juge=2, note=9),\n",
        "        dict(nom=\"A\", juge=3, note=7),\n",
        "        dict(nom=\"A\", juge=4, note=4),\n",
        "        dict(nom=\"A\", juge=5, note=5),\n",
        "        dict(nom=\"B\", juge=1, note=7),\n",
        "        dict(nom=\"B\", juge=2, note=4),\n",
        "        dict(nom=\"B\", juge=3, note=7),\n",
        "        dict(nom=\"B\", juge=4, note=9),\n",
        "        dict(nom=\"B\", juge=1, note=10),\n",
        "        dict(nom=\"C\", juge=2, note=0),\n",
        "        dict(nom=\"C\", juge=3, note=10),\n",
        "        dict(nom=\"C\", juge=4, note=8),\n",
        "        dict(nom=\"C\", juge=5, note=8),        \n",
        "        dict(nom=\"C\", juge=5, note=8),        \n",
        "        ]\n",
        "\n",
        "import pandas\n",
        "pandas.DataFrame(notes)"
      ]
    },
    {
      "cell_type": "code",
      "execution_count": null,
      "metadata": {
        "collapsed": true
      },
      "outputs": [],
      "source": [
        "import cytoolz.itertoolz as itz\n",
        "import cytoolz.dicttoolz as dtz\n",
        "from functools import reduce\n",
        "from operator import add"
      ]
    },
    {
      "cell_type": "code",
      "execution_count": null,
      "metadata": {
        "collapsed": false
      },
      "outputs": [],
      "source": []
    },
    {
      "cell_type": "markdown",
      "metadata": {},
      "source": [
        "### Approche par colonne avec bcolz\n",
        "\n",
        "* [bcolz](https://pypi.python.org/pypi/bcolz)\n",
        "* [bcolz exemple avec MovieLens](http://nbviewer.ipython.org/github/Blosc/movielens-bench/blob/master/querying-ep14.ipynb)\n",
        "* [Tutorial on ctable objects](http://bcolz.blosc.org/tutorial.html#tutorial-on-ctable-objects)\n",
        "\n",
        "Les donn\u00e9es sont organis\u00e9es en colonnes. C'est int\u00e9ressant si la table contient beaucoup de colonnes. Passer en revue toutes les valeurs d'une colonne ne n\u00e9cessite pas la lecture de toute une ligne. Les donn\u00e9es sont stock\u00e9es sur disque et non en m\u00e9moire."
      ]
    },
    {
      "cell_type": "code",
      "execution_count": null,
      "metadata": {
        "collapsed": true
      },
      "outputs": [],
      "source": [
        "import bcolz.ctable"
      ]
    },
    {
      "cell_type": "markdown",
      "metadata": {},
      "source": [
        "C'est assez long :"
      ]
    },
    {
      "cell_type": "code",
      "execution_count": null,
      "metadata": {
        "collapsed": false
      },
      "outputs": [],
      "source": [
        "bd = bcolz.ctable.fromdataframe(df)"
      ]
    },
    {
      "cell_type": "code",
      "execution_count": null,
      "metadata": {
        "collapsed": false
      },
      "outputs": [
        {
          "data": {
            "text/plain": [
              "annee : carray((2781651,), int64)\n",
              "  nbytes := 21.22 MB; cbytes := 933.11 KB; ratio: 23.29\n",
              "  cparams := cparams(clevel=5, shuffle=1, cname='lz4', quantize=0)\n",
              "  chunklen := 65536; chunksize: 524288; blocksize: 32768\n",
              "[2012 2014 2009 ..., 1995 1994 1993]\n",
              "valeur : carray((2781651,), float64)\n",
              "  nbytes := 21.22 MB; cbytes := 13.20 MB; ratio: 1.61\n",
              "  cparams := cparams(clevel=5, shuffle=1, cname='lz4', quantize=0)\n",
              "  chunklen := 65536; chunksize: 524288; blocksize: 32768\n",
              "[  0.00000000e+00   4.20000000e-04   8.00000000e-04 ...,   7.67065300e+06\n",
              "   7.68429600e+06   7.62456800e+06]\n",
              "age : carray((2781651,), object)\n",
              "  nbytes := 47.94 MB; cbytes := 90.38 MB; ratio: 0.53\n",
              "  cparams := cparams(clevel=5, shuffle=1, cname='lz4', quantize=0)\n",
              "  chunklen := 65536; chunksize: 524288; blocksize: 18\n",
              "[Y01 Y01 Y01 ..., nan nan nan]\n",
              "age_num : carray((2781651,), float64)\n",
              "  nbytes := 21.22 MB; cbytes := 683.14 KB; ratio: 31.81\n",
              "  cparams := cparams(clevel=5, shuffle=1, cname='lz4', quantize=0)\n",
              "  chunklen := 65536; chunksize: 524288; blocksize: 32768\n",
              "[  1.   1.   1. ...,  nan  nan  nan]\n",
              "indicateur : carray((2781651,), <U10)\n",
              "  nbytes := 106.11 MB; cbytes := 1.64 MB; ratio: 64.52\n",
              "  cparams := cparams(clevel=5, shuffle=1, cname='lz4', quantize=0)\n",
              "  chunklen := 26214; chunksize: 1048560; blocksize: 32768\n",
              "['DEATHRATE' 'DEATHRATE' 'DEATHRATE' ..., 'TOTPYLIVED' 'TOTPYLIVED'\n",
              " 'TOTPYLIVED']\n",
              "genre : carray((2781651,), <U1)\n",
              "  nbytes := 10.61 MB; cbytes := 575.40 KB; ratio: 18.88\n",
              "  cparams := cparams(clevel=5, shuffle=1, cname='lz4', quantize=0)\n",
              "  chunklen := 131072; chunksize: 524288; blocksize: 32768\n",
              "['F' 'F' 'F' ..., 'T' 'T' 'T']\n",
              "pays : carray((2781651,), <U6)\n",
              "  nbytes := 63.67 MB; cbytes := 1.51 MB; ratio: 42.18\n",
              "  cparams := cparams(clevel=5, shuffle=1, cname='lz4', quantize=0)\n",
              "  chunklen := 21845; chunksize: 524280; blocksize: 32768\n",
              "['AD' 'AL' 'AM' ..., 'UK' 'UK' 'UK']"
            ]
          },
          "execution_count": null,
          "metadata": {},
          "output_type": "execute_result"
        }
      ],
      "source": [
        "bd.cols"
      ]
    },
    {
      "cell_type": "code",
      "execution_count": null,
      "metadata": {
        "collapsed": false
      },
      "outputs": [],
      "source": [
        "# r = bd[\"age_num==10\"]\n",
        "# \u00e0 voir sans doute si les autres modules ne satisfont pas."
      ]
    },
    {
      "cell_type": "markdown",
      "metadata": {},
      "source": [
        "### Blaze, odo : interfaces communes"
      ]
    },
    {
      "cell_type": "markdown",
      "metadata": {},
      "source": [
        "[Blaze](http://blaze.pydata.org/en/latest/) fournit une interface commune, proche de celle des Dataframe, pour de nombreux modules comme [bcolz](http://bcolz.blosc.org/)... [odo](https://odo.readthedocs.io/en/latest/) propose des outils de conversions dans de nombreux formats.\n",
        "\n",
        "* [Pandas to Blaze](http://blaze.pydata.org/en/latest/rosetta-pandas.html)\n",
        "\n",
        "Ils sont pr\u00e9sent\u00e9s dans un autre notebook. On reproduit ce qui se fait une une ligne avec [odo](https://odo.readthedocs.io/en/latest/)."
      ]
    },
    {
      "cell_type": "code",
      "execution_count": null,
      "metadata": {
        "collapsed": false
      },
      "outputs": [],
      "source": [
        "df.to_csv(\"mortalite_compresse.csv\", index=False)"
      ]
    },
    {
      "cell_type": "code",
      "execution_count": null,
      "metadata": {
        "collapsed": true
      },
      "outputs": [],
      "source": [
        "from pyquickhelper.filehelper import gzip_files\n",
        "gzip_files(\"mortalite_compresse.csv.gz\", [\"mortalite_compresse.csv\"], encoding=\"utf-8\")"
      ]
    },
    {
      "cell_type": "markdown",
      "metadata": {},
      "source": [
        "### Parall\u00e9lisation avec dask\n",
        "\n",
        "* [dask](http://dask.pydata.org/en/latest/)\n",
        "\n",
        "*dask* propose de parall\u00e9liser les op\u00e9rations usuelles qu'on applique \u00e0 un dataframe.\n",
        "\n",
        "L'op\u00e9ration suivante est tr\u00e8s rapide, signifiant que *dask* attend de savoir quoi faire avant de charger les donn\u00e9es :"
      ]
    },
    {
      "cell_type": "code",
      "execution_count": null,
      "metadata": {
        "collapsed": false
      },
      "outputs": [],
      "source": [
        "import dask.dataframe as dd\n",
        "fd = dd.read_csv('mortalite_compresse*.csv.gz', compression='gzip', blocksize=None)\n",
        "#fd = dd.read_csv('mortalite_compresse.csv', blocksize=None)"
      ]
    },
    {
      "cell_type": "markdown",
      "metadata": {},
      "source": [
        "Extraire les premi\u00e8res lignes prend tr\u00e8s peu de temps car *dask* ne d\u00e9compresse que le d\u00e9but :"
      ]
    },
    {
      "cell_type": "code",
      "execution_count": null,
      "metadata": {
        "collapsed": false
      },
      "outputs": [
        {
          "data": {
            "text/html": [
              "<div>\n",
              "<table border=\"1\" class=\"dataframe\">\n",
              "  <thead>\n",
              "    <tr style=\"text-align: right;\">\n",
              "      <th></th>\n",
              "      <th>annee</th>\n",
              "      <th>valeur</th>\n",
              "      <th>age</th>\n",
              "      <th>age_num</th>\n",
              "      <th>indicateur</th>\n",
              "      <th>genre</th>\n",
              "      <th>pays</th>\n",
              "    </tr>\n",
              "  </thead>\n",
              "  <tbody>\n",
              "    <tr>\n",
              "      <th>0</th>\n",
              "      <td>2012</td>\n",
              "      <td>0.00000</td>\n",
              "      <td>Y01</td>\n",
              "      <td>1.0</td>\n",
              "      <td>DEATHRATE</td>\n",
              "      <td>F</td>\n",
              "      <td>AD</td>\n",
              "    </tr>\n",
              "    <tr>\n",
              "      <th>1</th>\n",
              "      <td>2014</td>\n",
              "      <td>0.00042</td>\n",
              "      <td>Y01</td>\n",
              "      <td>1.0</td>\n",
              "      <td>DEATHRATE</td>\n",
              "      <td>F</td>\n",
              "      <td>AL</td>\n",
              "    </tr>\n",
              "    <tr>\n",
              "      <th>2</th>\n",
              "      <td>2009</td>\n",
              "      <td>0.00080</td>\n",
              "      <td>Y01</td>\n",
              "      <td>1.0</td>\n",
              "      <td>DEATHRATE</td>\n",
              "      <td>F</td>\n",
              "      <td>AM</td>\n",
              "    </tr>\n",
              "    <tr>\n",
              "      <th>3</th>\n",
              "      <td>2008</td>\n",
              "      <td>0.00067</td>\n",
              "      <td>Y01</td>\n",
              "      <td>1.0</td>\n",
              "      <td>DEATHRATE</td>\n",
              "      <td>F</td>\n",
              "      <td>AM</td>\n",
              "    </tr>\n",
              "    <tr>\n",
              "      <th>4</th>\n",
              "      <td>2007</td>\n",
              "      <td>0.00052</td>\n",
              "      <td>Y01</td>\n",
              "      <td>1.0</td>\n",
              "      <td>DEATHRATE</td>\n",
              "      <td>F</td>\n",
              "      <td>AM</td>\n",
              "    </tr>\n",
              "  </tbody>\n",
              "</table>\n",
              "</div>"
            ],
            "text/plain": [
              "   annee   valeur  age  age_num indicateur genre pays\n",
              "0   2012  0.00000  Y01      1.0  DEATHRATE     F   AD\n",
              "1   2014  0.00042  Y01      1.0  DEATHRATE     F   AL\n",
              "2   2009  0.00080  Y01      1.0  DEATHRATE     F   AM\n",
              "3   2008  0.00067  Y01      1.0  DEATHRATE     F   AM\n",
              "4   2007  0.00052  Y01      1.0  DEATHRATE     F   AM"
            ]
          },
          "execution_count": null,
          "metadata": {},
          "output_type": "execute_result"
        }
      ],
      "source": [
        "fd.head()"
      ]
    },
    {
      "cell_type": "code",
      "execution_count": null,
      "metadata": {
        "collapsed": false
      },
      "outputs": [
        {
          "data": {
            "text/plain": [
              "1"
            ]
          },
          "execution_count": null,
          "metadata": {},
          "output_type": "execute_result"
        }
      ],
      "source": [
        "fd.npartitions"
      ]
    },
    {
      "cell_type": "code",
      "execution_count": null,
      "metadata": {
        "collapsed": false
      },
      "outputs": [
        {
          "data": {
            "text/plain": [
              "(None, None)"
            ]
          },
          "execution_count": null,
          "metadata": {},
          "output_type": "execute_result"
        }
      ],
      "source": [
        "fd.divisions"
      ]
    },
    {
      "cell_type": "code",
      "execution_count": null,
      "metadata": {
        "collapsed": true
      },
      "outputs": [],
      "source": [
        "s = fd.sample(frac=0.01)"
      ]
    },
    {
      "cell_type": "code",
      "execution_count": null,
      "metadata": {
        "collapsed": false
      },
      "outputs": [
        {
          "data": {
            "text/html": [
              "<div>\n",
              "<table border=\"1\" class=\"dataframe\">\n",
              "  <thead>\n",
              "    <tr style=\"text-align: right;\">\n",
              "      <th></th>\n",
              "      <th>annee</th>\n",
              "      <th>valeur</th>\n",
              "      <th>age</th>\n",
              "      <th>age_num</th>\n",
              "      <th>indicateur</th>\n",
              "      <th>genre</th>\n",
              "      <th>pays</th>\n",
              "    </tr>\n",
              "  </thead>\n",
              "  <tbody>\n",
              "    <tr>\n",
              "      <th>2514555</th>\n",
              "      <td>2012</td>\n",
              "      <td>1.061787e+06</td>\n",
              "      <td>NaN</td>\n",
              "      <td>NaN</td>\n",
              "      <td>TOTPYLIVED</td>\n",
              "      <td>F</td>\n",
              "      <td>AD</td>\n",
              "    </tr>\n",
              "    <tr>\n",
              "      <th>1812522</th>\n",
              "      <td>2006</td>\n",
              "      <td>7.691800e+04</td>\n",
              "      <td>Y61</td>\n",
              "      <td>61.0</td>\n",
              "      <td>PYLIVED</td>\n",
              "      <td>M</td>\n",
              "      <td>AM</td>\n",
              "    </tr>\n",
              "    <tr>\n",
              "      <th>2352885</th>\n",
              "      <td>2008</td>\n",
              "      <td>7.170500e+04</td>\n",
              "      <td>Y68</td>\n",
              "      <td>68.0</td>\n",
              "      <td>SURVIVORS</td>\n",
              "      <td>T</td>\n",
              "      <td>RO</td>\n",
              "    </tr>\n",
              "    <tr>\n",
              "      <th>1018976</th>\n",
              "      <td>2013</td>\n",
              "      <td>1.162000e-02</td>\n",
              "      <td>Y62</td>\n",
              "      <td>62.0</td>\n",
              "      <td>PROBDEATH</td>\n",
              "      <td>M</td>\n",
              "      <td>MT</td>\n",
              "    </tr>\n",
              "    <tr>\n",
              "      <th>1960726</th>\n",
              "      <td>1999</td>\n",
              "      <td>7.475100e+04</td>\n",
              "      <td>Y70</td>\n",
              "      <td>70.0</td>\n",
              "      <td>PYLIVED</td>\n",
              "      <td>T</td>\n",
              "      <td>IE</td>\n",
              "    </tr>\n",
              "  </tbody>\n",
              "</table>\n",
              "</div>"
            ],
            "text/plain": [
              "         annee        valeur  age  age_num  indicateur genre pays\n",
              "2514555   2012  1.061787e+06  NaN      NaN  TOTPYLIVED     F   AD\n",
              "1812522   2006  7.691800e+04  Y61     61.0     PYLIVED     M   AM\n",
              "2352885   2008  7.170500e+04  Y68     68.0   SURVIVORS     T   RO\n",
              "1018976   2013  1.162000e-02  Y62     62.0   PROBDEATH     M   MT\n",
              "1960726   1999  7.475100e+04  Y70     70.0     PYLIVED     T   IE"
            ]
          },
          "execution_count": null,
          "metadata": {},
          "output_type": "execute_result"
        }
      ],
      "source": [
        "s.head()"
      ]
    },
    {
      "cell_type": "code",
      "execution_count": null,
      "metadata": {
        "collapsed": false
      },
      "outputs": [
        {
          "data": {
            "text/plain": [
              "dd.DataFrame<getitem..., npartitions=1>"
            ]
          },
          "execution_count": null,
          "metadata": {},
          "output_type": "execute_result"
        }
      ],
      "source": [
        "life = fd[fd.indicateur=='LIFEXP']\n",
        "life"
      ]
    },
    {
      "cell_type": "code",
      "execution_count": null,
      "metadata": {
        "collapsed": false
      },
      "outputs": [
        {
          "data": {
            "text/html": [
              "<div>\n",
              "<table border=\"1\" class=\"dataframe\">\n",
              "  <thead>\n",
              "    <tr style=\"text-align: right;\">\n",
              "      <th></th>\n",
              "      <th>annee</th>\n",
              "      <th>valeur</th>\n",
              "      <th>age</th>\n",
              "      <th>age_num</th>\n",
              "      <th>indicateur</th>\n",
              "      <th>genre</th>\n",
              "      <th>pays</th>\n",
              "    </tr>\n",
              "  </thead>\n",
              "  <tbody>\n",
              "    <tr>\n",
              "      <th>398874</th>\n",
              "      <td>2012</td>\n",
              "      <td>91.3</td>\n",
              "      <td>Y01</td>\n",
              "      <td>1.0</td>\n",
              "      <td>LIFEXP</td>\n",
              "      <td>F</td>\n",
              "      <td>AD</td>\n",
              "    </tr>\n",
              "    <tr>\n",
              "      <th>398875</th>\n",
              "      <td>2014</td>\n",
              "      <td>79.9</td>\n",
              "      <td>Y01</td>\n",
              "      <td>1.0</td>\n",
              "      <td>LIFEXP</td>\n",
              "      <td>F</td>\n",
              "      <td>AL</td>\n",
              "    </tr>\n",
              "    <tr>\n",
              "      <th>398876</th>\n",
              "      <td>2009</td>\n",
              "      <td>76.5</td>\n",
              "      <td>Y01</td>\n",
              "      <td>1.0</td>\n",
              "      <td>LIFEXP</td>\n",
              "      <td>F</td>\n",
              "      <td>AM</td>\n",
              "    </tr>\n",
              "    <tr>\n",
              "      <th>398877</th>\n",
              "      <td>2008</td>\n",
              "      <td>76.4</td>\n",
              "      <td>Y01</td>\n",
              "      <td>1.0</td>\n",
              "      <td>LIFEXP</td>\n",
              "      <td>F</td>\n",
              "      <td>AM</td>\n",
              "    </tr>\n",
              "    <tr>\n",
              "      <th>398878</th>\n",
              "      <td>2007</td>\n",
              "      <td>76.5</td>\n",
              "      <td>Y01</td>\n",
              "      <td>1.0</td>\n",
              "      <td>LIFEXP</td>\n",
              "      <td>F</td>\n",
              "      <td>AM</td>\n",
              "    </tr>\n",
              "  </tbody>\n",
              "</table>\n",
              "</div>"
            ],
            "text/plain": [
              "        annee  valeur  age  age_num indicateur genre pays\n",
              "398874   2012    91.3  Y01      1.0     LIFEXP     F   AD\n",
              "398875   2014    79.9  Y01      1.0     LIFEXP     F   AL\n",
              "398876   2009    76.5  Y01      1.0     LIFEXP     F   AM\n",
              "398877   2008    76.4  Y01      1.0     LIFEXP     F   AM\n",
              "398878   2007    76.5  Y01      1.0     LIFEXP     F   AM"
            ]
          },
          "execution_count": null,
          "metadata": {},
          "output_type": "execute_result"
        }
      ],
      "source": [
        "life.head()"
      ]
    },
    {
      "cell_type": "code",
      "execution_count": null,
      "metadata": {
        "collapsed": true
      },
      "outputs": [],
      "source": []
    }
  ],
  "metadata": {
    "kernelspec": {
      "display_name": "Python 3",
      "language": "python",
      "name": "python3"
    },
    "language_info": {
      "codemirror_mode": {
        "name": "ipython",
        "version": 3
      },
      "file_extension": ".py",
      "mimetype": "text/x-python",
      "name": "python",
      "nbconvert_exporter": "python",
      "pygments_lexer": "ipython3",
      "version": "3.5.2"
    }
  },
  "nbformat": 4,
  "nbformat_minor": 0
}