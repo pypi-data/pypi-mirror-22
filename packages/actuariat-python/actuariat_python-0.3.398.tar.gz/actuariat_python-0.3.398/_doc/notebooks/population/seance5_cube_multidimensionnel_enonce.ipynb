{
  "cells": [
    {
      "cell_type": "markdown",
      "metadata": {},
      "source": [
        "# Cube multidimensionnel - \u00e9nonc\u00e9\n",
        "\n",
        "Ce notebook aborde diff\u00e9rentes solutions pour traiter les donn\u00e9es qu'on repr\u00e9sente plus volontiers en plusieurs dimensions. Le mot-cl\u00e9 associ\u00e9 est [OLAP](https://en.wikipedia.org/wiki/Online_analytical_processing) ou cube OLAP. [Mondrian](http://community.pentaho.com/projects/mondrian/) est une solution open source, [cubes](http://cubes.databrewery.org/) est \u00e9crit en python. [Kylin](http://kylin.apache.org/) propose ce service sur des donn\u00e9es stock\u00e9es sur Hadoop. L'objectif est ici de d\u00e9couvrir pas d'explorer ces solutions."
      ]
    },
    {
      "cell_type": "code",
      "execution_count": null,
      "metadata": {
        "collapsed": false
      },
      "outputs": [
        {
          "name": "stdout",
          "output_type": "stream",
          "text": [
            "Populating the interactive namespace from numpy and matplotlib\n"
          ]
        },
        {
          "data": {
            "text/html": [
              "<b>Plan</b>\n",
              "<div id=\"my_menu_id\">run previous cell, wait for 2 seconds</div>\n",
              "<script>\n",
              "function repeat_indent_string(n){\n",
              "    var a = \"\" ;\n",
              "    for ( ; n > 0 ; --n) {\n",
              "        a += \"    \";\n",
              "    }\n",
              "    return a;\n",
              "}\n",
              "var update_menu_string = function(begin, lfirst, llast, sformat, send) {\n",
              "    var anchors = document.getElementsByClassName(\"section\");\n",
              "    if (anchors.length == 0) {\n",
              "        anchors = document.getElementsByClassName(\"text_cell_render rendered_html\");\n",
              "    }\n",
              "    var i,t;\n",
              "    var text_menu = begin;\n",
              "    var text_memo = \"<pre>\\nlength:\" + anchors.length + \"\\n\";\n",
              "    var ind = \"\";\n",
              "    var memo_level = 1;\n",
              "    var href;\n",
              "    var tags = [];\n",
              "    for (i = 0; i <= llast; i++) {\n",
              "        tags.push(\"h\" + i);\n",
              "    }\n",
              "\n",
              "    for (i = 0; i < anchors.length; i++) {\n",
              "        text_memo += \"**\" + anchors[i].id + \"--\\n\";\n",
              "\n",
              "        var child = null;\n",
              "        for(t = 0; t < tags.length; t++) {\n",
              "            var r = anchors[i].getElementsByTagName(tags[t]);\n",
              "            if (r.length > 0) {\n",
              "child = r[0];\n",
              "break;\n",
              "            }\n",
              "        }\n",
              "        if (child == null){\n",
              "            text_memo += \"null\\n\";\n",
              "            continue;\n",
              "        }\n",
              "\n",
              "        if (anchors[i].hasAttribute(\"id\")) {\n",
              "            // when converted in RST\n",
              "            href = anchors[i].id;\n",
              "            text_memo += \"#1-\" + href;\n",
              "            // passer \u00e0 child suivant (le chercher)\n",
              "        }\n",
              "        else if (child.hasAttribute(\"id\")) {\n",
              "            // in a notebook\n",
              "            href = child.id;\n",
              "            text_memo += \"#2-\" + href;\n",
              "        }\n",
              "        else {\n",
              "            text_memo += \"#3-\" + \"*\" + \"\\n\";\n",
              "            continue;\n",
              "        }\n",
              "        var title = child.textContent;\n",
              "        var level = parseInt(child.tagName.substring(1,2));\n",
              "\n",
              "        text_memo += \"--\" + level + \"?\" + lfirst + \"--\" + title + \"\\n\";\n",
              "\n",
              "        if ((level < lfirst) || (level > llast)) {\n",
              "            continue ;\n",
              "        }\n",
              "        if (title.endsWith('\u00b6')) {\n",
              "            title = title.substring(0,title.length-1).replace(\"<\", \"&lt;\").replace(\">\", \"&gt;\").replace(\"&\", \"&amp;\")\n",
              "        }\n",
              "\n",
              "        if (title.length == 0) {\n",
              "            continue;\n",
              "        }\n",
              "        while (level > memo_level) {\n",
              "            text_menu += \"<ul>\\n\";\n",
              "            memo_level += 1;\n",
              "        }\n",
              "        while (level < memo_level) {\n",
              "            text_menu += \"</ul>\\n\";\n",
              "            memo_level -= 1;\n",
              "        }\n",
              "        text_menu += repeat_indent_string(level-2) + sformat.replace(\"__HREF__\", href).replace(\"__TITLE__\", title);\n",
              "    }\n",
              "    while (1 < memo_level) {\n",
              "        text_menu += \"</ul>\\n\";\n",
              "        memo_level -= 1;\n",
              "    }\n",
              "    text_menu += send;\n",
              "    //text_menu += \"\\n\" + text_memo;\n",
              "    return text_menu;\n",
              "};\n",
              "var update_menu = function() {\n",
              "    var sbegin = \"\";\n",
              "    var sformat = '<li><a href=\"#__HREF__\">__TITLE__</a></li>';\n",
              "    var send = \"\";\n",
              "    var text_menu = update_menu_string(sbegin, 2, 4, sformat, send);\n",
              "    var menu = document.getElementById(\"my_menu_id\");\n",
              "    menu.innerHTML=text_menu;\n",
              "};\n",
              "window.setTimeout(update_menu,2000);\n",
              "            </script>"
            ],
            "text/plain": [
              "<IPython.core.display.HTML object>"
            ]
          },
          "execution_count": null,
          "metadata": {},
          "output_type": "execute_result"
        }
      ],
      "source": [
        "%pylab inline\n",
        "import matplotlib.pyplot as plt\n",
        "plt.style.use('ggplot')\n",
        "import pyensae\n",
        "from pyquickhelper.helpgen import NbImage\n",
        "from jyquickhelper import add_notebook_menu\n",
        "add_notebook_menu()"
      ]
    },
    {
      "cell_type": "markdown",
      "metadata": {},
      "source": [
        "### Repr\u00e9sentation"
      ]
    },
    {
      "cell_type": "markdown",
      "metadata": {},
      "source": [
        "Le module [pandas](http://pandas.pydata.org/) manipule des tables et c'est la fa\u00e7on la plus commune de repr\u00e9senter les donn\u00e9es. Lorsque les donn\u00e9es sont multidimensionnelles, on distingue les coordonn\u00e9es des valeurs :"
      ]
    },
    {
      "cell_type": "code",
      "execution_count": null,
      "metadata": {
        "collapsed": false
      },
      "outputs": [
        {
          "data": {
            "image/png": "[encoded data removed]",
            "text/plain": [
              "<IPython.core.display.Image object>"
            ]
          },
          "execution_count": null,
          "metadata": {},
          "output_type": "execute_result"
        }
      ],
      "source": [
        "NbImage(\"cube1.png\")"
      ]
    },
    {
      "cell_type": "markdown",
      "metadata": {
        "collapsed": true
      },
      "source": [
        "Dans cet exemple, il y a :\n",
        "    \n",
        "* 3 coordonn\u00e9es : Age, Profession, Ann\u00e9ee\n",
        "* 2 valeurs : Esp\u00e9rance de vie, Population\n",
        "\n",
        "On peut repr\u00e9senter les donn\u00e9s \u00e9galement comme ceci :"
      ]
    },
    {
      "cell_type": "code",
      "execution_count": null,
      "metadata": {
        "collapsed": false
      },
      "outputs": [
        {
          "data": {
            "image/png": "[encoded data removed]",
            "text/plain": [
              "<IPython.core.display.Image object>"
            ]
          },
          "execution_count": null,
          "metadata": {},
          "output_type": "execute_result"
        }
      ],
      "source": [
        "NbImage(\"cube2.png\")"
      ]
    },
    {
      "cell_type": "markdown",
      "metadata": {},
      "source": [
        "C'est assez simple. Prenons un exemple : [table de mortalit\u00e9 de 1960 \u00e0 2010](http://www.data-publica.com/opendata/7098--population-et-conditions-sociales-table-de-mortalite-de-1960-a-2010) qu'on r\u00e9cup\u00e8re \u00e0 l'aide de la fonction [table_mortalite_euro_stat](http://www.xavierdupre.fr/app/actuariat_python/helpsphinx/actuariat_python/data/population.html#actuariat_python.data.population.table_mortalite_euro_stat). C'est assez long (4-5 minutes) sur l'ensemble des donn\u00e9es car elles doivent \u00eatre pr\u00e9trait\u00e9es (voir la documentation de la fonction). Pour \u00e9couter, il faut utiliser le param\u00e8tre *stop_at*."
      ]
    },
    {
      "cell_type": "code",
      "execution_count": null,
      "metadata": {
        "collapsed": false
      },
      "outputs": [
        {
          "data": {
            "text/plain": [
              "'mortalite.txt'"
            ]
          },
          "execution_count": null,
          "metadata": {},
          "output_type": "execute_result"
        }
      ],
      "source": [
        "from actuariat_python.data import table_mortalite_euro_stat \n",
        "table_mortalite_euro_stat()"
      ]
    },
    {
      "cell_type": "code",
      "execution_count": null,
      "metadata": {
        "collapsed": false
      },
      "outputs": [
        {
          "data": {
            "text/plain": [
              "os.stat_result(st_mode=33206, st_ino=73183493945221205, st_dev=2797837379, st_nlink=1, st_uid=0, st_gid=0, st_size=104871002, st_atime=1445699900, st_mtime=1445699915, st_ctime=1445699900)"
            ]
          },
          "execution_count": null,
          "metadata": {},
          "output_type": "execute_result"
        }
      ],
      "source": [
        "import os\n",
        "os.stat(\"mortalite.txt\")"
      ]
    },
    {
      "cell_type": "code",
      "execution_count": null,
      "metadata": {
        "collapsed": false
      },
      "outputs": [
        {
          "data": {
            "text/html": [
              "<div>\n",
              "<table border=\"1\" class=\"dataframe\">\n",
              "  <thead>\n",
              "    <tr style=\"text-align: right;\">\n",
              "      <th></th>\n",
              "      <th>annee</th>\n",
              "      <th>valeur</th>\n",
              "      <th>age</th>\n",
              "      <th>age_num</th>\n",
              "      <th>indicateur</th>\n",
              "      <th>genre</th>\n",
              "      <th>pays</th>\n",
              "    </tr>\n",
              "  </thead>\n",
              "  <tbody>\n",
              "    <tr>\n",
              "      <th>0</th>\n",
              "      <td>2009</td>\n",
              "      <td>0.00080</td>\n",
              "      <td>Y01</td>\n",
              "      <td>1</td>\n",
              "      <td>DEATHRATE</td>\n",
              "      <td>F</td>\n",
              "      <td>AM</td>\n",
              "    </tr>\n",
              "    <tr>\n",
              "      <th>1</th>\n",
              "      <td>2008</td>\n",
              "      <td>0.00067</td>\n",
              "      <td>Y01</td>\n",
              "      <td>1</td>\n",
              "      <td>DEATHRATE</td>\n",
              "      <td>F</td>\n",
              "      <td>AM</td>\n",
              "    </tr>\n",
              "    <tr>\n",
              "      <th>2</th>\n",
              "      <td>2007</td>\n",
              "      <td>0.00052</td>\n",
              "      <td>Y01</td>\n",
              "      <td>1</td>\n",
              "      <td>DEATHRATE</td>\n",
              "      <td>F</td>\n",
              "      <td>AM</td>\n",
              "    </tr>\n",
              "    <tr>\n",
              "      <th>3</th>\n",
              "      <td>2006</td>\n",
              "      <td>0.00123</td>\n",
              "      <td>Y01</td>\n",
              "      <td>1</td>\n",
              "      <td>DEATHRATE</td>\n",
              "      <td>F</td>\n",
              "      <td>AM</td>\n",
              "    </tr>\n",
              "    <tr>\n",
              "      <th>4</th>\n",
              "      <td>2013</td>\n",
              "      <td>0.00016</td>\n",
              "      <td>Y01</td>\n",
              "      <td>1</td>\n",
              "      <td>DEATHRATE</td>\n",
              "      <td>F</td>\n",
              "      <td>AT</td>\n",
              "    </tr>\n",
              "  </tbody>\n",
              "</table>\n",
              "</div>"
            ],
            "text/plain": [
              "   annee   valeur  age  age_num indicateur genre pays\n",
              "0   2009  0.00080  Y01        1  DEATHRATE     F   AM\n",
              "1   2008  0.00067  Y01        1  DEATHRATE     F   AM\n",
              "2   2007  0.00052  Y01        1  DEATHRATE     F   AM\n",
              "3   2006  0.00123  Y01        1  DEATHRATE     F   AM\n",
              "4   2013  0.00016  Y01        1  DEATHRATE     F   AT"
            ]
          },
          "execution_count": null,
          "metadata": {},
          "output_type": "execute_result"
        }
      ],
      "source": [
        "import pandas\n",
        "df = pandas.read_csv(\"mortalite.txt\", sep=\"\\t\", encoding=\"utf8\", low_memory=False)\n",
        "df.head()"
      ]
    },
    {
      "cell_type": "markdown",
      "metadata": {},
      "source": [
        "### Cubes de donn\u00e9es avec xarray"
      ]
    },
    {
      "cell_type": "markdown",
      "metadata": {},
      "source": [
        "#### cr\u00e9ation\n",
        "\n",
        "Cette r\u00e9pr\u00e9sentation sous forme de table n'est pas toujours tr\u00e8s lisible. Les informations sont souvent r\u00e9p\u00e9t\u00e9es et les donn\u00e9es sont vraiment multidimensionnelles. Le module [xarray](http://xarray.pydata.org/en/stable/) propose de distinguer les coordonn\u00e9es des valeurs pour proposer des manipulations plus intuitives. Le module propose un DataFrame multidimensionnelle [DataSet](http://xarray.pydata.org/en/stable/data-structures.html#dataset)."
      ]
    },
    {
      "cell_type": "code",
      "execution_count": null,
      "metadata": {
        "collapsed": false
      },
      "outputs": [
        {
          "data": {
            "text/plain": [
              "Index(['annee', 'valeur', 'age', 'age_num', 'indicateur', 'genre', 'pays'], dtype='object')"
            ]
          },
          "execution_count": null,
          "metadata": {},
          "output_type": "execute_result"
        }
      ],
      "source": [
        "from actuariat_python.data import table_mortalite_euro_stat \n",
        "table_mortalite_euro_stat()\n",
        "import pandas\n",
        "df = pandas.read_csv(\"mortalite.txt\", sep=\"\\t\", encoding=\"utf8\", low_memory=False)\n",
        "df.columns"
      ]
    },
    {
      "cell_type": "markdown",
      "metadata": {},
      "source": [
        "Dans ce cas-ci, pour reprendre la temrinologie du module [xarray](http://xarray.pydata.org/en/stable/), nous avons :\n",
        "\n",
        "* les **dimensions** : annee, age_num, pays, genre\n",
        "* les **valeurs** : une valeur par indicateur\n",
        "\n",
        "On peut passer d'un [DataFrame](http://pandas.pydata.org/pandas-docs/stable/generated/pandas.DataFrame.html) \u00e0 un [DataSet](http://xarray.pydata.org/en/stable/data-structures.html#dataset) de la fa\u00e7on suivante :\n",
        "\n",
        "* les colonnes ind\u00e9x\u00e9es repr\u00e9sentent les dimensions\n",
        "* les colonnes non ind\u00e9x\u00e9es sont les valeurs\n",
        "\n",
        "On garde supprime les colonnes qui ne nous int\u00e9ressent pas et les valeurs manquantes :"
      ]
    },
    {
      "cell_type": "code",
      "execution_count": null,
      "metadata": {
        "collapsed": false
      },
      "outputs": [
        {
          "data": {
            "text/plain": [
              "(Index(['annee', 'valeur', 'age', 'age_num', 'indicateur', 'genre', 'pays'], dtype='object'),\n",
              " Index(['annee', 'age_num', 'indicateur', 'pays', 'genre', 'valeur'], dtype='object'))"
            ]
          },
          "execution_count": null,
          "metadata": {},
          "output_type": "execute_result"
        }
      ],
      "source": [
        "df2 = df[[\"annee\", \"age_num\",\"indicateur\",\"pays\",\"genre\",\"valeur\"]].dropna().reset_index(drop=True)\n",
        "df.columns, df2.columns"
      ]
    },
    {
      "cell_type": "code",
      "execution_count": null,
      "metadata": {
        "collapsed": false
      },
      "outputs": [
        {
          "data": {
            "text/html": [
              "<div>\n",
              "<table border=\"1\" class=\"dataframe\">\n",
              "  <thead>\n",
              "    <tr style=\"text-align: right;\">\n",
              "      <th></th>\n",
              "      <th>annee</th>\n",
              "      <th>age_num</th>\n",
              "      <th>indicateur</th>\n",
              "      <th>pays</th>\n",
              "      <th>genre</th>\n",
              "      <th>valeur</th>\n",
              "    </tr>\n",
              "  </thead>\n",
              "  <tbody>\n",
              "    <tr>\n",
              "      <th>0</th>\n",
              "      <td>2009</td>\n",
              "      <td>1</td>\n",
              "      <td>DEATHRATE</td>\n",
              "      <td>AM</td>\n",
              "      <td>F</td>\n",
              "      <td>0.00080</td>\n",
              "    </tr>\n",
              "    <tr>\n",
              "      <th>1</th>\n",
              "      <td>2008</td>\n",
              "      <td>1</td>\n",
              "      <td>DEATHRATE</td>\n",
              "      <td>AM</td>\n",
              "      <td>F</td>\n",
              "      <td>0.00067</td>\n",
              "    </tr>\n",
              "    <tr>\n",
              "      <th>2</th>\n",
              "      <td>2007</td>\n",
              "      <td>1</td>\n",
              "      <td>DEATHRATE</td>\n",
              "      <td>AM</td>\n",
              "      <td>F</td>\n",
              "      <td>0.00052</td>\n",
              "    </tr>\n",
              "    <tr>\n",
              "      <th>3</th>\n",
              "      <td>2006</td>\n",
              "      <td>1</td>\n",
              "      <td>DEATHRATE</td>\n",
              "      <td>AM</td>\n",
              "      <td>F</td>\n",
              "      <td>0.00123</td>\n",
              "    </tr>\n",
              "    <tr>\n",
              "      <th>4</th>\n",
              "      <td>2013</td>\n",
              "      <td>1</td>\n",
              "      <td>DEATHRATE</td>\n",
              "      <td>AT</td>\n",
              "      <td>F</td>\n",
              "      <td>0.00016</td>\n",
              "    </tr>\n",
              "  </tbody>\n",
              "</table>\n",
              "</div>"
            ],
            "text/plain": [
              "   annee  age_num indicateur pays genre   valeur\n",
              "0   2009        1  DEATHRATE   AM     F  0.00080\n",
              "1   2008        1  DEATHRATE   AM     F  0.00067\n",
              "2   2007        1  DEATHRATE   AM     F  0.00052\n",
              "3   2006        1  DEATHRATE   AM     F  0.00123\n",
              "4   2013        1  DEATHRATE   AT     F  0.00016"
            ]
          },
          "execution_count": null,
          "metadata": {},
          "output_type": "execute_result"
        }
      ],
      "source": [
        "df2.head()"
      ]
    },
    {
      "cell_type": "code",
      "execution_count": null,
      "metadata": {
        "collapsed": false
      },
      "outputs": [],
      "source": [
        "df2[\"indicateur\"] = df2[\"indicateur\"].astype(str)\n",
        "df2[\"genre\"] = df2[\"genre\"].astype(str)\n",
        "df2[\"pays\"] = df2[\"pays\"].astype(str)"
      ]
    },
    {
      "cell_type": "code",
      "execution_count": null,
      "metadata": {
        "collapsed": false
      },
      "outputs": [
        {
          "data": {
            "text/plain": [
              "annee           int64\n",
              "age_num       float64\n",
              "indicateur     object\n",
              "pays           object\n",
              "genre          object\n",
              "valeur        float64\n",
              "dtype: object"
            ]
          },
          "execution_count": null,
          "metadata": {},
          "output_type": "execute_result"
        }
      ],
      "source": [
        "df2.dtypes"
      ]
    },
    {
      "cell_type": "markdown",
      "metadata": {},
      "source": [
        "L'op\u00e9ration complexe consiste \u00e0 faire passer les valeurs de la colonne *indicateur* en tant que colonnes. C'est l'objet de la m\u00e9thode [pivot_table](http://pandas.pydata.org/pandas-docs/stable/generated/pandas.DataFrame.pivot_table.html?highlight=pivot#pandas.DataFrame.pivot_table) :"
      ]
    },
    {
      "cell_type": "code",
      "execution_count": null,
      "metadata": {
        "collapsed": false
      },
      "outputs": [
        {
          "data": {
            "text/html": [
              "<div>\n",
              "<table border=\"1\" class=\"dataframe\">\n",
              "  <thead>\n",
              "    <tr style=\"text-align: right;\">\n",
              "      <th></th>\n",
              "      <th></th>\n",
              "      <th></th>\n",
              "      <th>indicateur</th>\n",
              "      <th>DEATHRATE</th>\n",
              "      <th>LIFEXP</th>\n",
              "      <th>PROBDEATH</th>\n",
              "      <th>PROBSURV</th>\n",
              "      <th>PYLIVED</th>\n",
              "      <th>SURVIVORS</th>\n",
              "      <th>TOTPYLIVED</th>\n",
              "    </tr>\n",
              "    <tr>\n",
              "      <th>annee</th>\n",
              "      <th>age_num</th>\n",
              "      <th>pays</th>\n",
              "      <th>genre</th>\n",
              "      <th></th>\n",
              "      <th></th>\n",
              "      <th></th>\n",
              "      <th></th>\n",
              "      <th></th>\n",
              "      <th></th>\n",
              "      <th></th>\n",
              "    </tr>\n",
              "  </thead>\n",
              "  <tbody>\n",
              "    <tr>\n",
              "      <th rowspan=\"5\" valign=\"top\">1960</th>\n",
              "      <th rowspan=\"5\" valign=\"top\">1</th>\n",
              "      <th rowspan=\"3\" valign=\"top\">BE</th>\n",
              "      <th>F</th>\n",
              "      <td>0.00159</td>\n",
              "      <td>73.7</td>\n",
              "      <td>0.00159</td>\n",
              "      <td>0.99841</td>\n",
              "      <td>97316</td>\n",
              "      <td>97393</td>\n",
              "      <td>7179465</td>\n",
              "    </tr>\n",
              "    <tr>\n",
              "      <th>M</th>\n",
              "      <td>0.00207</td>\n",
              "      <td>68.2</td>\n",
              "      <td>0.00207</td>\n",
              "      <td>0.99793</td>\n",
              "      <td>96420</td>\n",
              "      <td>96520</td>\n",
              "      <td>6580601</td>\n",
              "    </tr>\n",
              "    <tr>\n",
              "      <th>T</th>\n",
              "      <td>0.00184</td>\n",
              "      <td>70.9</td>\n",
              "      <td>0.00184</td>\n",
              "      <td>0.99816</td>\n",
              "      <td>96856</td>\n",
              "      <td>96945</td>\n",
              "      <td>6874529</td>\n",
              "    </tr>\n",
              "    <tr>\n",
              "      <th rowspan=\"2\" valign=\"top\">BG</th>\n",
              "      <th>F</th>\n",
              "      <td>0.00652</td>\n",
              "      <td>73.2</td>\n",
              "      <td>0.00650</td>\n",
              "      <td>0.99350</td>\n",
              "      <td>95502</td>\n",
              "      <td>95813</td>\n",
              "      <td>7017023</td>\n",
              "    </tr>\n",
              "    <tr>\n",
              "      <th>M</th>\n",
              "      <td>0.00644</td>\n",
              "      <td>70.0</td>\n",
              "      <td>0.00642</td>\n",
              "      <td>0.99358</td>\n",
              "      <td>94801</td>\n",
              "      <td>95107</td>\n",
              "      <td>6653130</td>\n",
              "    </tr>\n",
              "  </tbody>\n",
              "</table>\n",
              "</div>"
            ],
            "text/plain": [
              "indicateur                DEATHRATE  LIFEXP  PROBDEATH  PROBSURV  PYLIVED  \\\n",
              "annee age_num pays genre                                                    \n",
              "1960  1       BE   F        0.00159    73.7    0.00159   0.99841    97316   \n",
              "                   M        0.00207    68.2    0.00207   0.99793    96420   \n",
              "                   T        0.00184    70.9    0.00184   0.99816    96856   \n",
              "              BG   F        0.00652    73.2    0.00650   0.99350    95502   \n",
              "                   M        0.00644    70.0    0.00642   0.99358    94801   \n",
              "\n",
              "indicateur                SURVIVORS  TOTPYLIVED  \n",
              "annee age_num pays genre                         \n",
              "1960  1       BE   F          97393     7179465  \n",
              "                   M          96520     6580601  \n",
              "                   T          96945     6874529  \n",
              "              BG   F          95813     7017023  \n",
              "                   M          95107     6653130  "
            ]
          },
          "execution_count": null,
          "metadata": {},
          "output_type": "execute_result"
        }
      ],
      "source": [
        "piv = df2.pivot_table(index=[\"annee\", \"age_num\",\"pays\",\"genre\"],\n",
        "                columns=[\"indicateur\"],\n",
        "               values=\"valeur\")\n",
        "piv.head()"
      ]
    },
    {
      "cell_type": "code",
      "execution_count": null,
      "metadata": {
        "collapsed": false
      },
      "outputs": [
        {
          "data": {
            "text/plain": [
              "indicateur\n",
              "DEATHRATE     float64\n",
              "LIFEXP        float64\n",
              "PROBDEATH     float64\n",
              "PROBSURV      float64\n",
              "PYLIVED       float64\n",
              "SURVIVORS     float64\n",
              "TOTPYLIVED    float64\n",
              "dtype: object"
            ]
          },
          "execution_count": null,
          "metadata": {},
          "output_type": "execute_result"
        }
      ],
      "source": [
        "piv.dtypes"
      ]
    },
    {
      "cell_type": "markdown",
      "metadata": {},
      "source": [
        "Les donn\u00e9es sont maintenant pr\u00eates \u00e0 passer sous *xarray* :"
      ]
    },
    {
      "cell_type": "code",
      "execution_count": null,
      "metadata": {
        "collapsed": false
      },
      "outputs": [
        {
          "data": {
            "text/plain": [
              "<xarray.Dataset>\n",
              "Dimensions:     (age_num: 84, annee: 54, genre: 3, pays: 54)\n",
              "Coordinates:\n",
              "  * annee       (annee) int64 1960 1961 1962 1963 1964 1965 1966 1967 1968 ...\n",
              "  * age_num     (age_num) float64 1.0 2.0 3.0 4.0 5.0 6.0 7.0 8.0 9.0 10.0 ...\n",
              "  * pays        (pays) object 'AM' 'AT' 'AZ' 'BE' 'BG' 'BY' 'CH' 'CY' 'CZ' ...\n",
              "  * genre       (genre) object 'F' 'M' 'T'\n",
              "Data variables:\n",
              "    DEATHRATE   (annee, age_num, pays, genre) float64 nan nan nan nan nan ...\n",
              "    LIFEXP      (annee, age_num, pays, genre) float64 nan nan nan nan nan ...\n",
              "    PROBDEATH   (annee, age_num, pays, genre) float64 nan nan nan nan nan ...\n",
              "    PROBSURV    (annee, age_num, pays, genre) float64 nan nan nan nan nan ...\n",
              "    PYLIVED     (annee, age_num, pays, genre) float64 nan nan nan nan nan ...\n",
              "    SURVIVORS   (annee, age_num, pays, genre) float64 nan nan nan nan nan ...\n",
              "    TOTPYLIVED  (annee, age_num, pays, genre) float64 nan nan nan nan nan ..."
            ]
          },
          "execution_count": null,
          "metadata": {},
          "output_type": "execute_result"
        }
      ],
      "source": [
        "import xarray\n",
        "ds = xarray.Dataset.from_dataframe(piv)\n",
        "ds"
      ]
    },
    {
      "cell_type": "markdown",
      "metadata": {},
      "source": [
        "#### s\u00e9lection\n",
        "\n",
        "Il est facile ensuite d'extraire les donn\u00e9es d'un pays avec la m\u00e9thode [sel](http://xarray.pydata.org/en/stable/indexing.html#indexing-and-selecting-data) :"
      ]
    },
    {
      "cell_type": "code",
      "execution_count": null,
      "metadata": {
        "collapsed": false
      },
      "outputs": [
        {
          "data": {
            "text/plain": [
              "<xarray.Dataset>\n",
              "Dimensions:     (age_num: 84, annee: 54, genre: 3, pays: 1)\n",
              "Coordinates:\n",
              "  * annee       (annee) int64 1960 1961 1962 1963 1964 1965 1966 1967 1968 ...\n",
              "  * age_num     (age_num) float64 1.0 2.0 3.0 4.0 5.0 6.0 7.0 8.0 9.0 10.0 ...\n",
              "  * pays        (pays) object 'FR'\n",
              "  * genre       (genre) object 'F' 'M' 'T'\n",
              "Data variables:\n",
              "    DEATHRATE   (annee, age_num, pays, genre) float64 nan nan nan nan nan ...\n",
              "    LIFEXP      (annee, age_num, pays, genre) float64 nan nan nan nan nan ...\n",
              "    PROBDEATH   (annee, age_num, pays, genre) float64 nan nan nan nan nan ...\n",
              "    PROBSURV    (annee, age_num, pays, genre) float64 nan nan nan nan nan ...\n",
              "    PYLIVED     (annee, age_num, pays, genre) float64 nan nan nan nan nan ...\n",
              "    SURVIVORS   (annee, age_num, pays, genre) float64 nan nan nan nan nan ...\n",
              "    TOTPYLIVED  (annee, age_num, pays, genre) float64 nan nan nan nan nan ..."
            ]
          },
          "execution_count": null,
          "metadata": {},
          "output_type": "execute_result"
        }
      ],
      "source": [
        "ds.sel(pays=[\"FR\"])"
      ]
    },
    {
      "cell_type": "markdown",
      "metadata": {},
      "source": [
        "Ou de plusieurs pays :"
      ]
    },
    {
      "cell_type": "code",
      "execution_count": null,
      "metadata": {
        "collapsed": false
      },
      "outputs": [
        {
          "data": {
            "text/plain": [
              "<xarray.Dataset>\n",
              "Dimensions:     (age_num: 84, annee: 54, genre: 3, pays: 2)\n",
              "Coordinates:\n",
              "  * annee       (annee) int64 1960 1961 1962 1963 1964 1965 1966 1967 1968 ...\n",
              "  * age_num     (age_num) float64 1.0 2.0 3.0 4.0 5.0 6.0 7.0 8.0 9.0 10.0 ...\n",
              "  * pays        (pays) object 'FR' 'BE'\n",
              "  * genre       (genre) object 'F' 'M' 'T'\n",
              "Data variables:\n",
              "    DEATHRATE   (annee, age_num, pays, genre) float64 nan nan nan 0.00159 ...\n",
              "    LIFEXP      (annee, age_num, pays, genre) float64 nan nan nan 73.7 68.2 ...\n",
              "    PROBDEATH   (annee, age_num, pays, genre) float64 nan nan nan 0.00159 ...\n",
              "    PROBSURV    (annee, age_num, pays, genre) float64 nan nan nan 0.9984 ...\n",
              "    PYLIVED     (annee, age_num, pays, genre) float64 nan nan nan 9.732e+04 ...\n",
              "    SURVIVORS   (annee, age_num, pays, genre) float64 nan nan nan 9.739e+04 ...\n",
              "    TOTPYLIVED  (annee, age_num, pays, genre) float64 nan nan nan 7.179e+06 ..."
            ]
          },
          "execution_count": null,
          "metadata": {},
          "output_type": "execute_result"
        }
      ],
      "source": [
        "ds.sel(pays=[\"FR\", \"BE\"])"
      ]
    },
    {
      "cell_type": "markdown",
      "metadata": {},
      "source": [
        "Ou plusieurs dimensions :"
      ]
    },
    {
      "cell_type": "code",
      "execution_count": null,
      "metadata": {
        "collapsed": false
      },
      "outputs": [
        {
          "data": {
            "text/plain": [
              "<xarray.Dataset>\n",
              "Dimensions:     (age_num: 84, genre: 3)\n",
              "Coordinates:\n",
              "    annee       int64 2000\n",
              "  * age_num     (age_num) float64 1.0 2.0 3.0 4.0 5.0 6.0 7.0 8.0 9.0 10.0 ...\n",
              "    pays        object 'FR'\n",
              "  * genre       (genre) object 'F' 'M' 'T'\n",
              "Data variables:\n",
              "    DEATHRATE   (age_num, genre) float64 0.00043 0.00046 0.00044 0.00021 ...\n",
              "    LIFEXP      (age_num, genre) float64 82.3 74.7 78.5 81.3 73.7 77.6 80.3 ...\n",
              "    PROBDEATH   (age_num, genre) float64 0.00043 0.00046 0.00044 0.00021 ...\n",
              "    PROBSURV    (age_num, genre) float64 0.9996 0.9995 0.9996 0.9998 0.9997 ...\n",
              "    PYLIVED     (age_num, genre) float64 9.957e+04 9.944e+04 9.951e+04 ...\n",
              "    SURVIVORS   (age_num, genre) float64 9.959e+04 9.947e+04 9.953e+04 ...\n",
              "    TOTPYLIVED  (age_num, genre) float64 8.196e+06 7.432e+06 7.817e+06 ..."
            ]
          },
          "execution_count": null,
          "metadata": {},
          "output_type": "execute_result"
        }
      ],
      "source": [
        "ds.sel(pays=\"FR\", annee=2000)"
      ]
    },
    {
      "cell_type": "markdown",
      "metadata": {},
      "source": [
        "Pour acc\u00e9der \u00e0 la s\u00e9rie ``LIFEXP`` pour les hommes, les ann\u00e9es 2000 et 2010, le pays ``FR``, on fait la diff\u00e9rence, puis on la r\u00e9cup\u00e8re sous forme de DataFrame :"
      ]
    },
    {
      "cell_type": "code",
      "execution_count": null,
      "metadata": {
        "collapsed": false
      },
      "outputs": [
        {
          "data": {
            "text/html": [
              "<div>\n",
              "<table border=\"1\" class=\"dataframe\">\n",
              "  <thead>\n",
              "    <tr style=\"text-align: right;\">\n",
              "      <th></th>\n",
              "      <th>LIFEXP</th>\n",
              "      <th>genre</th>\n",
              "      <th>pays</th>\n",
              "    </tr>\n",
              "    <tr>\n",
              "      <th>age_num</th>\n",
              "      <th></th>\n",
              "      <th></th>\n",
              "      <th></th>\n",
              "    </tr>\n",
              "  </thead>\n",
              "  <tbody>\n",
              "    <tr>\n",
              "      <th>1</th>\n",
              "      <td>2.6</td>\n",
              "      <td>T</td>\n",
              "      <td>FR</td>\n",
              "    </tr>\n",
              "    <tr>\n",
              "      <th>2</th>\n",
              "      <td>2.6</td>\n",
              "      <td>T</td>\n",
              "      <td>FR</td>\n",
              "    </tr>\n",
              "    <tr>\n",
              "      <th>3</th>\n",
              "      <td>2.6</td>\n",
              "      <td>T</td>\n",
              "      <td>FR</td>\n",
              "    </tr>\n",
              "    <tr>\n",
              "      <th>4</th>\n",
              "      <td>2.6</td>\n",
              "      <td>T</td>\n",
              "      <td>FR</td>\n",
              "    </tr>\n",
              "    <tr>\n",
              "      <th>5</th>\n",
              "      <td>2.6</td>\n",
              "      <td>T</td>\n",
              "      <td>FR</td>\n",
              "    </tr>\n",
              "  </tbody>\n",
              "</table>\n",
              "</div>"
            ],
            "text/plain": [
              "         LIFEXP genre pays\n",
              "age_num                   \n",
              "1           2.6     T   FR\n",
              "2           2.6     T   FR\n",
              "3           2.6     T   FR\n",
              "4           2.6     T   FR\n",
              "5           2.6     T   FR"
            ]
          },
          "execution_count": null,
          "metadata": {},
          "output_type": "execute_result"
        }
      ],
      "source": [
        "(ds.sel(pays=\"FR\", annee=2010, genre=\"T\")[\"LIFEXP\"] - \n",
        " ds.sel(pays=\"FR\", annee=2000, genre=\"T\")[\"LIFEXP\"]).to_dataframe().head()"
      ]
    },
    {
      "cell_type": "markdown",
      "metadata": {},
      "source": [
        "On a gagn\u00e9 presque deux ans et demi d'esp\u00e9rance de vie \u00e0 la naissance en 10 ans."
      ]
    },
    {
      "cell_type": "code",
      "execution_count": null,
      "metadata": {
        "collapsed": false
      },
      "outputs": [
        {
          "data": {
            "text/html": [
              "<div>\n",
              "<table border=\"1\" class=\"dataframe\">\n",
              "  <thead>\n",
              "    <tr style=\"text-align: right;\">\n",
              "      <th></th>\n",
              "      <th></th>\n",
              "      <th>LIFEXP</th>\n",
              "      <th>annee</th>\n",
              "    </tr>\n",
              "    <tr>\n",
              "      <th>age_num</th>\n",
              "      <th>genre</th>\n",
              "      <th></th>\n",
              "      <th></th>\n",
              "    </tr>\n",
              "  </thead>\n",
              "  <tbody>\n",
              "    <tr>\n",
              "      <th rowspan=\"2\" valign=\"top\">1</th>\n",
              "      <th>F</th>\n",
              "      <td>2.6</td>\n",
              "      <td>2010</td>\n",
              "    </tr>\n",
              "    <tr>\n",
              "      <th>M</th>\n",
              "      <td>-0.3</td>\n",
              "      <td>2010</td>\n",
              "    </tr>\n",
              "    <tr>\n",
              "      <th rowspan=\"2\" valign=\"top\">2</th>\n",
              "      <th>F</th>\n",
              "      <td>2.7</td>\n",
              "      <td>2010</td>\n",
              "    </tr>\n",
              "    <tr>\n",
              "      <th>M</th>\n",
              "      <td>-0.4</td>\n",
              "      <td>2010</td>\n",
              "    </tr>\n",
              "    <tr>\n",
              "      <th>3</th>\n",
              "      <th>F</th>\n",
              "      <td>2.7</td>\n",
              "      <td>2010</td>\n",
              "    </tr>\n",
              "  </tbody>\n",
              "</table>\n",
              "</div>"
            ],
            "text/plain": [
              "               LIFEXP  annee\n",
              "age_num genre               \n",
              "1       F         2.6   2010\n",
              "        M        -0.3   2010\n",
              "2       F         2.7   2010\n",
              "        M        -0.4   2010\n",
              "3       F         2.7   2010"
            ]
          },
          "execution_count": null,
          "metadata": {},
          "output_type": "execute_result"
        }
      ],
      "source": [
        "(ds.sel(pays=\"FR\", annee=2010, genre=[\"F\",\"M\"])[\"LIFEXP\"] - \n",
        " ds.sel(pays=\"UK\", annee=2010, genre=[\"F\",\"M\"])[\"LIFEXP\"]).to_dataframe().head()"
      ]
    },
    {
      "cell_type": "markdown",
      "metadata": {},
      "source": [
        "#### Quelques graphes"
      ]
    },
    {
      "cell_type": "code",
      "execution_count": null,
      "metadata": {
        "collapsed": false
      },
      "outputs": [
        {
          "data": {
            "text/plain": [
              "<matplotlib.axes._subplots.AxesSubplot at 0x1bf22320>"
            ]
          },
          "execution_count": null,
          "metadata": {},
          "output_type": "execute_result"
        },
        {
          "data": {
            "image/png": "[encoded data removed]",
            "text/plain": [
              "<matplotlib.figure.Figure at 0x1bf229b0>"
            ]
          },
          "metadata": {},
          "output_type": "display_data"
        }
      ],
      "source": [
        "ds.sel(annee=2010,age_num=1,genre=\"T\")[\"LIFEXP\"].to_dataframe() \\\n",
        "            .sort_values(\"LIFEXP\", ascending=False) \\\n",
        "            .plot(y=\"LIFEXP\", kind=\"bar\", figsize=(16,6), ylim=[65,85])"
      ]
    },
    {
      "cell_type": "code",
      "execution_count": null,
      "metadata": {
        "collapsed": false
      },
      "outputs": [
        {
          "data": {
            "text/plain": [
              "[<matplotlib.lines.Line2D at 0x1539ca58>]"
            ]
          },
          "execution_count": null,
          "metadata": {},
          "output_type": "execute_result"
        },
        {
          "data": {
            "image/png": "[encoded data removed]",
            "text/plain": [
              "<matplotlib.figure.Figure at 0x14a06fd0>"
            ]
          },
          "metadata": {},
          "output_type": "display_data"
        }
      ],
      "source": [
        "ds.sel(annee=2010,genre=\"T\",pays=\"FR\")[\"LIFEXP\"].plot()"
      ]
    },
    {
      "cell_type": "markdown",
      "metadata": {},
      "source": [
        "### Exercice 1 : que font les lignes suivantes ?\n",
        "\n",
        "On pourra s'aider des pages :\n",
        "\n",
        "* [align nad reindex](http://xarray.pydata.org/en/stable/indexing.html#align-and-reindex)\n",
        "* [transforming datasets](http://xarray.pydata.org/en/stable/data-structures.html?highlight=assign#transforming-datasets)"
      ]
    },
    {
      "cell_type": "code",
      "execution_count": null,
      "metadata": {
        "collapsed": false
      },
      "outputs": [
        {
          "data": {
            "text/plain": [
              "<xarray.Dataset>\n",
              "Dimensions:      (age_num: 84, annee: 54, genre: 3, pays: 54)\n",
              "Coordinates:\n",
              "  * annee        (annee) int64 1960 1961 1962 1963 1964 1965 1966 1967 1968 ...\n",
              "  * age_num      (age_num) float64 1.0 2.0 3.0 4.0 5.0 6.0 7.0 8.0 9.0 10.0 ...\n",
              "  * pays         (pays) object 'AM' 'AT' 'AZ' 'BE' 'BG' 'BY' 'CH' 'CY' 'CZ' ...\n",
              "  * genre        (genre) object 'F' 'M' 'T'\n",
              "Data variables:\n",
              "    DEATHRATE    (annee, age_num, pays, genre) float64 nan nan nan nan nan ...\n",
              "    LIFEXP       (annee, age_num, pays, genre) float64 nan nan nan nan nan ...\n",
              "    PROBDEATH    (annee, age_num, pays, genre) float64 nan nan nan nan nan ...\n",
              "    PROBSURV     (annee, age_num, pays, genre) float64 nan nan nan nan nan ...\n",
              "    PYLIVED      (annee, age_num, pays, genre) float64 nan nan nan nan nan ...\n",
              "    SURVIVORS    (annee, age_num, pays, genre) float64 nan nan nan nan nan ...\n",
              "    TOTPYLIVED   (annee, age_num, pays, genre) float64 nan nan nan nan nan ...\n",
              "    LIFEEXP_add  (annee, age_num, pays, genre) float64 nan nan nan nan nan ..."
            ]
          },
          "execution_count": null,
          "metadata": {},
          "output_type": "execute_result"
        }
      ],
      "source": [
        "ds.assign(LIFEEXP_add = ds.LIFEXP-1)"
      ]
    },
    {
      "cell_type": "code",
      "execution_count": null,
      "metadata": {
        "collapsed": false
      },
      "outputs": [],
      "source": [
        "meanp = ds.mean(dim=\"pays\")\n",
        "ds1, ds2 = xarray.align(ds, meanp, join='outer')"
      ]
    },
    {
      "cell_type": "code",
      "execution_count": null,
      "metadata": {
        "collapsed": false
      },
      "outputs": [],
      "source": [
        "joined = ds1.assign(meanp = ds2[\"LIFEXP\"])"
      ]
    },
    {
      "cell_type": "code",
      "execution_count": null,
      "metadata": {
        "collapsed": false
      },
      "outputs": [
        {
          "data": {
            "text/html": [
              "<div>\n",
              "<table border=\"1\" class=\"dataframe\">\n",
              "  <thead>\n",
              "    <tr style=\"text-align: right;\">\n",
              "      <th></th>\n",
              "      <th></th>\n",
              "      <th></th>\n",
              "      <th></th>\n",
              "      <th>DEATHRATE</th>\n",
              "      <th>LIFEXP</th>\n",
              "      <th>PROBDEATH</th>\n",
              "      <th>PROBSURV</th>\n",
              "      <th>PYLIVED</th>\n",
              "      <th>SURVIVORS</th>\n",
              "      <th>TOTPYLIVED</th>\n",
              "      <th>meanp</th>\n",
              "    </tr>\n",
              "    <tr>\n",
              "      <th>age_num</th>\n",
              "      <th>annee</th>\n",
              "      <th>genre</th>\n",
              "      <th>pays</th>\n",
              "      <th></th>\n",
              "      <th></th>\n",
              "      <th></th>\n",
              "      <th></th>\n",
              "      <th></th>\n",
              "      <th></th>\n",
              "      <th></th>\n",
              "      <th></th>\n",
              "    </tr>\n",
              "  </thead>\n",
              "  <tbody>\n",
              "    <tr>\n",
              "      <th rowspan=\"5\" valign=\"top\">1</th>\n",
              "      <th rowspan=\"5\" valign=\"top\">1960</th>\n",
              "      <th rowspan=\"5\" valign=\"top\">F</th>\n",
              "      <th>AM</th>\n",
              "      <td>NaN</td>\n",
              "      <td>NaN</td>\n",
              "      <td>NaN</td>\n",
              "      <td>NaN</td>\n",
              "      <td>NaN</td>\n",
              "      <td>NaN</td>\n",
              "      <td>NaN</td>\n",
              "      <td>73.52</td>\n",
              "    </tr>\n",
              "    <tr>\n",
              "      <th>AT</th>\n",
              "      <td>NaN</td>\n",
              "      <td>NaN</td>\n",
              "      <td>NaN</td>\n",
              "      <td>NaN</td>\n",
              "      <td>NaN</td>\n",
              "      <td>NaN</td>\n",
              "      <td>NaN</td>\n",
              "      <td>73.52</td>\n",
              "    </tr>\n",
              "    <tr>\n",
              "      <th>AZ</th>\n",
              "      <td>NaN</td>\n",
              "      <td>NaN</td>\n",
              "      <td>NaN</td>\n",
              "      <td>NaN</td>\n",
              "      <td>NaN</td>\n",
              "      <td>NaN</td>\n",
              "      <td>NaN</td>\n",
              "      <td>73.52</td>\n",
              "    </tr>\n",
              "    <tr>\n",
              "      <th>BE</th>\n",
              "      <td>0.00159</td>\n",
              "      <td>73.7</td>\n",
              "      <td>0.00159</td>\n",
              "      <td>0.99841</td>\n",
              "      <td>97316</td>\n",
              "      <td>97393</td>\n",
              "      <td>7179465</td>\n",
              "      <td>73.52</td>\n",
              "    </tr>\n",
              "    <tr>\n",
              "      <th>BG</th>\n",
              "      <td>0.00652</td>\n",
              "      <td>73.2</td>\n",
              "      <td>0.00650</td>\n",
              "      <td>0.99350</td>\n",
              "      <td>95502</td>\n",
              "      <td>95813</td>\n",
              "      <td>7017023</td>\n",
              "      <td>73.52</td>\n",
              "    </tr>\n",
              "  </tbody>\n",
              "</table>\n",
              "</div>"
            ],
            "text/plain": [
              "                          DEATHRATE  LIFEXP  PROBDEATH  PROBSURV  PYLIVED  \\\n",
              "age_num annee genre pays                                                    \n",
              "1       1960  F     AM          NaN     NaN        NaN       NaN      NaN   \n",
              "                    AT          NaN     NaN        NaN       NaN      NaN   \n",
              "                    AZ          NaN     NaN        NaN       NaN      NaN   \n",
              "                    BE      0.00159    73.7    0.00159   0.99841    97316   \n",
              "                    BG      0.00652    73.2    0.00650   0.99350    95502   \n",
              "\n",
              "                          SURVIVORS  TOTPYLIVED  meanp  \n",
              "age_num annee genre pays                                \n",
              "1       1960  F     AM          NaN         NaN  73.52  \n",
              "                    AT          NaN         NaN  73.52  \n",
              "                    AZ          NaN         NaN  73.52  \n",
              "                    BE        97393     7179465  73.52  \n",
              "                    BG        95813     7017023  73.52  "
            ]
          },
          "execution_count": null,
          "metadata": {},
          "output_type": "execute_result"
        }
      ],
      "source": [
        "joined.to_dataframe().head()"
      ]
    },
    {
      "cell_type": "markdown",
      "metadata": {},
      "source": [
        "### Lire, \u00e9crire des datasets"
      ]
    },
    {
      "cell_type": "markdown",
      "metadata": {},
      "source": [
        "Le module [xarray](http://xarray.pydata.org/en/stable/) s'appuie sur le module [netCDF4](https://github.com/Unidata/netcdf4-python) qui lui-m\u00eame est un [wrapper](https://fr.wikipedia.org/wiki/Adaptateur_(patron_de_conception)) poython de la libraire [netCDF-c](https://github.com/Unidata/netcdf-c). Celle-ci est sp\u00e9cialis\u00e9e dans la lecture et l'\u00e9criture de donn\u00e9es scientifiques. Concr\u00e8tement, ce n'est pas [xarray](http://xarray.pydata.org/en/stable/) qui s'en occupe mais [netCDF4](https://github.com/Unidata/netcdf4-python). Cela explique la syntaxe d\u00e9crite par [Serialization and IO](http://xarray.pydata.org/en/stable/io.html#serialization-and-io) :"
      ]
    },
    {
      "cell_type": "code",
      "execution_count": null,
      "metadata": {
        "collapsed": false
      },
      "outputs": [
        {
          "data": {
            "text/plain": [
              "Data variables:\n",
              "    DEATHRATE   (annee, age_num, pays, genre) float64 nan nan nan nan nan ...\n",
              "    LIFEXP      (annee, age_num, pays, genre) float64 nan nan nan nan nan ...\n",
              "    PROBDEATH   (annee, age_num, pays, genre) float64 nan nan nan nan nan ...\n",
              "    PROBSURV    (annee, age_num, pays, genre) float64 nan nan nan nan nan ...\n",
              "    PYLIVED     (annee, age_num, pays, genre) float64 nan nan nan nan nan ...\n",
              "    SURVIVORS   (annee, age_num, pays, genre) float64 nan nan nan nan nan ...\n",
              "    TOTPYLIVED  (annee, age_num, pays, genre) float64 nan nan nan nan nan ..."
            ]
          },
          "execution_count": null,
          "metadata": {},
          "output_type": "execute_result"
        }
      ],
      "source": [
        "ds.data_vars"
      ]
    },
    {
      "cell_type": "code",
      "execution_count": null,
      "metadata": {
        "collapsed": false
      },
      "outputs": [
        {
          "name": "stdout",
          "output_type": "stream",
          "text": [
            "l'\u00e9criture a \u00e9chou\u00e9\n"
          ]
        }
      ],
      "source": [
        "try:\n",
        "    ds.to_netcdf('mortalite.nc')\n",
        "except ValueError as e:\n",
        "    # it breaks with pandas 0.17\n",
        "    # xarray has to be updated\n",
        "    print(\"l'\u00e9criture a \u00e9chou\u00e9\")\n",
        "    pass"
      ]
    },
    {
      "cell_type": "markdown",
      "metadata": {},
      "source": [
        "C'est un format binaire plus efficace que le format texte :"
      ]
    },
    {
      "cell_type": "code",
      "execution_count": null,
      "metadata": {
        "collapsed": false
      },
      "outputs": [],
      "source": [
        "import os\n",
        "if os.path.exists(\"mortalite.nc\"):\n",
        "    os.stat('mortalite.nc').st_size, os.stat('mortalite.txt').st_size"
      ]
    },
    {
      "cell_type": "markdown",
      "metadata": {},
      "source": [
        "On relit :"
      ]
    },
    {
      "cell_type": "code",
      "execution_count": null,
      "metadata": {
        "collapsed": false
      },
      "outputs": [],
      "source": [
        "if os.path.exists(\"mortalite.nc\"):\n",
        "    ds_lu = xarray.open_dataset('mortalite.nc')\n",
        "    ds_lu"
      ]
    },
    {
      "cell_type": "markdown",
      "metadata": {},
      "source": [
        "Le module [xarray](http://xarray.pydata.org/en/stable/) propose \u00e9galement de lire des donn\u00e9es de plusieurs fichiers pour ne former qu'un seul dataset (voir [Combining multiple files](http://xarray.pydata.org/en/stable/io.html#combining-multiple-files)) :"
      ]
    },
    {
      "cell_type": "code",
      "execution_count": null,
      "metadata": {
        "collapsed": false
      },
      "outputs": [
        {
          "data": {
            "text/plain": [
              "['AM', 'AT', 'AZ', 'BE', 'BG']"
            ]
          },
          "execution_count": null,
          "metadata": {},
          "output_type": "execute_result"
        }
      ],
      "source": [
        "pays = list(_.values for _ in ds[\"pays\"])\n",
        "pays[:5]"
      ]
    },
    {
      "cell_type": "code",
      "execution_count": null,
      "metadata": {
        "collapsed": false
      },
      "outputs": [
        {
          "name": "stdout",
          "output_type": "stream",
          "text": [
            "enregistre AM\n",
            "l'\u00e9criture a \u00e9chou\u00e9 pour AM\n",
            "enregistre AT\n",
            "l'\u00e9criture a \u00e9chou\u00e9 pour AT\n",
            "enregistre AZ\n",
            "l'\u00e9criture a \u00e9chou\u00e9 pour AZ\n",
            "enregistre BE\n",
            "l'\u00e9criture a \u00e9chou\u00e9 pour BE\n",
            "enregistre BG\n",
            "l'\u00e9criture a \u00e9chou\u00e9 pour BG\n"
          ]
        }
      ],
      "source": [
        "for p in pays[:5]:\n",
        "    print(\"enregistre\", p)\n",
        "    d = ds.sel(pays=[p])\n",
        "    try:\n",
        "        d.to_netcdf(\"mortalite_pays_%s.nc\" % p)\n",
        "    except ValueError:\n",
        "        print(\"l'\u00e9criture a \u00e9chou\u00e9 pour\", p)"
      ]
    },
    {
      "cell_type": "markdown",
      "metadata": {},
      "source": [
        "On relit :"
      ]
    },
    {
      "cell_type": "code",
      "execution_count": null,
      "metadata": {
        "collapsed": false
      },
      "outputs": [],
      "source": [
        "import os\n",
        "if os.path.exists(\"mortalite_pays_AM.nc\"):\n",
        "    ds_lu2 = xarray.open_mfdataset('mortalite_pays*.nc')\n",
        "    ds_lu2"
      ]
    },
    {
      "cell_type": "markdown",
      "metadata": {},
      "source": [
        "A quoi \u00e7a sert ?\n",
        "\n",
        "Lorsqu'on travaille avec des gros fichiers de donn\u00e9es, on cherche \u00e0 retarder le plus possible l'ex\u00e9cution d'un calcul, on manipule les donn\u00e9es sans les charger en m\u00e9moire. On appelle ceci [\u00e9valuation paresseuse](https://fr.wikipedia.org/wiki/%C3%89valuation_paresseuse) ou [lazy evaluation](https://en.wikipedia.org/wiki/Lazy_evaluation) en anglais. [xarray](http://xarray.pydata.org/en/stable/) et [dask](http://dask.pydata.org/en/latest/) permettent de faire cela (voir [Using dask with xarray](http://xarray.pydata.org/en/stable/dask.html#dask-io)). La logique qu'on suit est alors assez proche de la [programmation fonctionnelle](https://fr.wikipedia.org/wiki/Programmation_fonctionnelle)."
      ]
    },
    {
      "cell_type": "code",
      "execution_count": null,
      "metadata": {
        "collapsed": true
      },
      "outputs": [],
      "source": []
    }
  ],
  "metadata": {
    "kernelspec": {
      "display_name": "Python 3",
      "language": "python",
      "name": "python3"
    },
    "language_info": {
      "codemirror_mode": {
        "name": "ipython",
        "version": 3
      },
      "file_extension": ".py",
      "mimetype": "text/x-python",
      "name": "python",
      "nbconvert_exporter": "python",
      "pygments_lexer": "ipython3",
      "version": "3.5.2"
    }
  },
  "nbformat": 4,
  "nbformat_minor": 0
}