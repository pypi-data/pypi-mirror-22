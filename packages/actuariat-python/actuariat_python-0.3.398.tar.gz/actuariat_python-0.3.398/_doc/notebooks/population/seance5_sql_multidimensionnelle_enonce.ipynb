{
  "cells": [
    {
      "cell_type": "markdown",
      "metadata": {},
      "source": [
        "# Donn\u00e9es multidimensionnelles SQL - \u00e9nonc\u00e9\n",
        "\n",
        "Ce notebook propose l'utilisation de SQL avec [SQLite](https://sqlite.org/) pour manipuler les donn\u00e9es depuis un notebook (avec le module [sqlite3](https://docs.python.org/3.6/library/sqlite3.html))."
      ]
    },
    {
      "cell_type": "code",
      "execution_count": null,
      "metadata": {
        "collapsed": false
      },
      "outputs": [
        {
          "name": "stdout",
          "output_type": "stream",
          "text": [
            "Populating the interactive namespace from numpy and matplotlib\n"
          ]
        },
        {
          "data": {
            "text/html": [
              "<b>Plan</b>\n",
              "<div id=\"my_menu_id\">run previous cell, wait for 2 seconds</div>\n",
              "<script>\n",
              "function repeat_indent_string(n){\n",
              "    var a = \"\" ;\n",
              "    for ( ; n > 0 ; --n) {\n",
              "        a += \"    \";\n",
              "    }\n",
              "    return a;\n",
              "}\n",
              "var update_menu_string = function(begin, lfirst, llast, sformat, send) {\n",
              "    var anchors = document.getElementsByClassName(\"section\");\n",
              "    if (anchors.length == 0) {\n",
              "        anchors = document.getElementsByClassName(\"text_cell_render rendered_html\");\n",
              "    }\n",
              "    var i,t;\n",
              "    var text_menu = begin;\n",
              "    var text_memo = \"<pre>\\nlength:\" + anchors.length + \"\\n\";\n",
              "    var ind = \"\";\n",
              "    var memo_level = 1;\n",
              "    var href;\n",
              "    var tags = [];\n",
              "    for (i = 0; i <= llast; i++) {\n",
              "        tags.push(\"h\" + i);\n",
              "    }\n",
              "\n",
              "    for (i = 0; i < anchors.length; i++) {\n",
              "        text_memo += \"**\" + anchors[i].id + \"--\\n\";\n",
              "\n",
              "        var child = null;\n",
              "        for(t = 0; t < tags.length; t++) {\n",
              "            var r = anchors[i].getElementsByTagName(tags[t]);\n",
              "            if (r.length > 0) {\n",
              "child = r[0];\n",
              "break;\n",
              "            }\n",
              "        }\n",
              "        if (child == null){\n",
              "            text_memo += \"null\\n\";\n",
              "            continue;\n",
              "        }\n",
              "\n",
              "        if (anchors[i].hasAttribute(\"id\")) {\n",
              "            // when converted in RST\n",
              "            href = anchors[i].id;\n",
              "            text_memo += \"#1-\" + href;\n",
              "            // passer \u00e0 child suivant (le chercher)\n",
              "        }\n",
              "        else if (child.hasAttribute(\"id\")) {\n",
              "            // in a notebook\n",
              "            href = child.id;\n",
              "            text_memo += \"#2-\" + href;\n",
              "        }\n",
              "        else {\n",
              "            text_memo += \"#3-\" + \"*\" + \"\\n\";\n",
              "            continue;\n",
              "        }\n",
              "        var title = child.textContent;\n",
              "        var level = parseInt(child.tagName.substring(1,2));\n",
              "\n",
              "        text_memo += \"--\" + level + \"?\" + lfirst + \"--\" + title + \"\\n\";\n",
              "\n",
              "        if ((level < lfirst) || (level > llast)) {\n",
              "            continue ;\n",
              "        }\n",
              "        if (title.endsWith('\u00b6')) {\n",
              "            title = title.substring(0,title.length-1).replace(\"<\", \"&lt;\").replace(\">\", \"&gt;\").replace(\"&\", \"&amp;\")\n",
              "        }\n",
              "\n",
              "        if (title.length == 0) {\n",
              "            continue;\n",
              "        }\n",
              "        while (level > memo_level) {\n",
              "            text_menu += \"<ul>\\n\";\n",
              "            memo_level += 1;\n",
              "        }\n",
              "        while (level < memo_level) {\n",
              "            text_menu += \"</ul>\\n\";\n",
              "            memo_level -= 1;\n",
              "        }\n",
              "        text_menu += repeat_indent_string(level-2) + sformat.replace(\"__HREF__\", href).replace(\"__TITLE__\", title);\n",
              "    }\n",
              "    while (1 < memo_level) {\n",
              "        text_menu += \"</ul>\\n\";\n",
              "        memo_level -= 1;\n",
              "    }\n",
              "    text_menu += send;\n",
              "    //text_menu += \"\\n\" + text_memo;\n",
              "    return text_menu;\n",
              "};\n",
              "var update_menu = function() {\n",
              "    var sbegin = \"\";\n",
              "    var sformat = '<li><a href=\"#__HREF__\">__TITLE__</a></li>';\n",
              "    var send = \"\";\n",
              "    var text_menu = update_menu_string(sbegin, 2, 4, sformat, send);\n",
              "    var menu = document.getElementById(\"my_menu_id\");\n",
              "    menu.innerHTML=text_menu;\n",
              "};\n",
              "window.setTimeout(update_menu,2000);\n",
              "            </script>"
            ],
            "text/plain": [
              "<IPython.core.display.HTML object>"
            ]
          },
          "execution_count": null,
          "metadata": {},
          "output_type": "execute_result"
        }
      ],
      "source": [
        "%pylab inline\n",
        "import matplotlib.pyplot as plt\n",
        "plt.style.use('ggplot')\n",
        "import pyensae\n",
        "from pyquickhelper.helpgen import NbImage\n",
        "from jyquickhelper import add_notebook_menu\n",
        "add_notebook_menu()"
      ]
    },
    {
      "cell_type": "markdown",
      "metadata": {},
      "source": [
        "### Repr\u00e9sentation"
      ]
    },
    {
      "cell_type": "markdown",
      "metadata": {},
      "source": [
        "Le module [pandas](http://pandas.pydata.org/) manipule des tables et c'est la fa\u00e7on la plus commune de repr\u00e9senter les donn\u00e9es. Lorsque les donn\u00e9es sont multidimensionnelles, on distingue les coordonn\u00e9es des valeurs :"
      ]
    },
    {
      "cell_type": "code",
      "execution_count": null,
      "metadata": {
        "collapsed": false
      },
      "outputs": [
        {
          "data": {
            "image/png": "[encoded data removed]",
            "text/plain": [
              "<IPython.core.display.Image object>"
            ]
          },
          "execution_count": null,
          "metadata": {},
          "output_type": "execute_result"
        }
      ],
      "source": [
        "NbImage(\"cube1.png\")"
      ]
    },
    {
      "cell_type": "markdown",
      "metadata": {
        "collapsed": true
      },
      "source": [
        "Dans cet exemple, il y a :\n",
        "    \n",
        "* 3 coordonn\u00e9es : Age, Profession, Ann\u00e9ee\n",
        "* 2 valeurs : Esp\u00e9rance de vie, Population\n",
        "\n",
        "On peut repr\u00e9senter les donn\u00e9s \u00e9galement comme ceci :"
      ]
    },
    {
      "cell_type": "code",
      "execution_count": null,
      "metadata": {
        "collapsed": false
      },
      "outputs": [
        {
          "data": {
            "image/png": "[encoded data removed]",
            "text/plain": [
              "<IPython.core.display.Image object>"
            ]
          },
          "execution_count": null,
          "metadata": {},
          "output_type": "execute_result"
        }
      ],
      "source": [
        "NbImage(\"cube2.png\")"
      ]
    },
    {
      "cell_type": "markdown",
      "metadata": {},
      "source": [
        "C'est assez simple. Prenons un exemple : [table de mortalit\u00e9 de 1960 \u00e0 2010](http://www.data-publica.com/opendata/7098--population-et-conditions-sociales-table-de-mortalite-de-1960-a-2010) qu'on r\u00e9cup\u00e8re \u00e0 l'aide de la fonction [table_mortalite_euro_stat](http://www.xavierdupre.fr/app/actuariat_python/helpsphinx/actuariat_python/data/population.html#actuariat_python.data.population.table_mortalite_euro_stat). C'est assez long (4-5 minutes) sur l'ensemble des donn\u00e9es car elles doivent \u00eatre pr\u00e9trait\u00e9es (voir la documentation de la fonction). Pour \u00e9couter, il faut utiliser le param\u00e8tre *stop_at*."
      ]
    },
    {
      "cell_type": "code",
      "execution_count": null,
      "metadata": {
        "collapsed": false
      },
      "outputs": [
        {
          "data": {
            "text/plain": [
              "'mortalite.txt'"
            ]
          },
          "execution_count": null,
          "metadata": {},
          "output_type": "execute_result"
        }
      ],
      "source": [
        "from actuariat_python.data import table_mortalite_euro_stat \n",
        "table_mortalite_euro_stat()"
      ]
    },
    {
      "cell_type": "code",
      "execution_count": null,
      "metadata": {
        "collapsed": false
      },
      "outputs": [
        {
          "data": {
            "text/plain": [
              "os.stat_result(st_mode=33206, st_ino=4222124650782732, st_dev=2797837379, st_nlink=1, st_uid=0, st_gid=0, st_size=105075819, st_atime=1453573270, st_mtime=1453573285, st_ctime=1453573270)"
            ]
          },
          "execution_count": null,
          "metadata": {},
          "output_type": "execute_result"
        }
      ],
      "source": [
        "import os\n",
        "os.stat(\"mortalite.txt\")"
      ]
    },
    {
      "cell_type": "code",
      "execution_count": null,
      "metadata": {
        "collapsed": false
      },
      "outputs": [
        {
          "data": {
            "text/html": [
              "<div>\n",
              "<table border=\"1\" class=\"dataframe\">\n",
              "  <thead>\n",
              "    <tr style=\"text-align: right;\">\n",
              "      <th></th>\n",
              "      <th>annee</th>\n",
              "      <th>valeur</th>\n",
              "      <th>age</th>\n",
              "      <th>age_num</th>\n",
              "      <th>indicateur</th>\n",
              "      <th>genre</th>\n",
              "      <th>pays</th>\n",
              "    </tr>\n",
              "  </thead>\n",
              "  <tbody>\n",
              "    <tr>\n",
              "      <th>0</th>\n",
              "      <td>2009</td>\n",
              "      <td>0.00080</td>\n",
              "      <td>Y01</td>\n",
              "      <td>1</td>\n",
              "      <td>DEATHRATE</td>\n",
              "      <td>F</td>\n",
              "      <td>AM</td>\n",
              "    </tr>\n",
              "    <tr>\n",
              "      <th>1</th>\n",
              "      <td>2008</td>\n",
              "      <td>0.00067</td>\n",
              "      <td>Y01</td>\n",
              "      <td>1</td>\n",
              "      <td>DEATHRATE</td>\n",
              "      <td>F</td>\n",
              "      <td>AM</td>\n",
              "    </tr>\n",
              "    <tr>\n",
              "      <th>2</th>\n",
              "      <td>2007</td>\n",
              "      <td>0.00052</td>\n",
              "      <td>Y01</td>\n",
              "      <td>1</td>\n",
              "      <td>DEATHRATE</td>\n",
              "      <td>F</td>\n",
              "      <td>AM</td>\n",
              "    </tr>\n",
              "    <tr>\n",
              "      <th>3</th>\n",
              "      <td>2006</td>\n",
              "      <td>0.00123</td>\n",
              "      <td>Y01</td>\n",
              "      <td>1</td>\n",
              "      <td>DEATHRATE</td>\n",
              "      <td>F</td>\n",
              "      <td>AM</td>\n",
              "    </tr>\n",
              "    <tr>\n",
              "      <th>4</th>\n",
              "      <td>2013</td>\n",
              "      <td>0.00016</td>\n",
              "      <td>Y01</td>\n",
              "      <td>1</td>\n",
              "      <td>DEATHRATE</td>\n",
              "      <td>F</td>\n",
              "      <td>AT</td>\n",
              "    </tr>\n",
              "  </tbody>\n",
              "</table>\n",
              "</div>"
            ],
            "text/plain": [
              "   annee   valeur  age  age_num indicateur genre pays\n",
              "0   2009  0.00080  Y01        1  DEATHRATE     F   AM\n",
              "1   2008  0.00067  Y01        1  DEATHRATE     F   AM\n",
              "2   2007  0.00052  Y01        1  DEATHRATE     F   AM\n",
              "3   2006  0.00123  Y01        1  DEATHRATE     F   AM\n",
              "4   2013  0.00016  Y01        1  DEATHRATE     F   AT"
            ]
          },
          "execution_count": null,
          "metadata": {},
          "output_type": "execute_result"
        }
      ],
      "source": [
        "import pandas\n",
        "df = pandas.read_csv(\"mortalite.txt\", sep=\"\\t\", encoding=\"utf8\", low_memory=False)\n",
        "df.head()"
      ]
    },
    {
      "cell_type": "markdown",
      "metadata": {},
      "source": [
        "Les indicateurs pour deux \u00e2ges diff\u00e9rents :"
      ]
    },
    {
      "cell_type": "code",
      "execution_count": null,
      "metadata": {
        "collapsed": false
      },
      "outputs": [
        {
          "data": {
            "text/html": [
              "<div>\n",
              "<table border=\"1\" class=\"dataframe\">\n",
              "  <thead>\n",
              "    <tr style=\"text-align: right;\">\n",
              "      <th></th>\n",
              "      <th>annee</th>\n",
              "      <th>valeur</th>\n",
              "      <th>age</th>\n",
              "      <th>age_num</th>\n",
              "      <th>indicateur</th>\n",
              "      <th>genre</th>\n",
              "      <th>pays</th>\n",
              "    </tr>\n",
              "  </thead>\n",
              "  <tbody>\n",
              "    <tr>\n",
              "      <th>86895</th>\n",
              "      <td>2000</td>\n",
              "      <td>0.00502</td>\n",
              "      <td>Y60</td>\n",
              "      <td>60</td>\n",
              "      <td>DEATHRATE</td>\n",
              "      <td>F</td>\n",
              "      <td>FR</td>\n",
              "    </tr>\n",
              "    <tr>\n",
              "      <th>88435</th>\n",
              "      <td>2000</td>\n",
              "      <td>0.00486</td>\n",
              "      <td>Y61</td>\n",
              "      <td>61</td>\n",
              "      <td>DEATHRATE</td>\n",
              "      <td>F</td>\n",
              "      <td>FR</td>\n",
              "    </tr>\n",
              "    <tr>\n",
              "      <th>482573</th>\n",
              "      <td>2000</td>\n",
              "      <td>25.80000</td>\n",
              "      <td>Y60</td>\n",
              "      <td>60</td>\n",
              "      <td>LIFEXP</td>\n",
              "      <td>F</td>\n",
              "      <td>FR</td>\n",
              "    </tr>\n",
              "    <tr>\n",
              "      <th>484098</th>\n",
              "      <td>2000</td>\n",
              "      <td>24.90000</td>\n",
              "      <td>Y61</td>\n",
              "      <td>61</td>\n",
              "      <td>LIFEXP</td>\n",
              "      <td>F</td>\n",
              "      <td>FR</td>\n",
              "    </tr>\n",
              "    <tr>\n",
              "      <th>876261</th>\n",
              "      <td>2000</td>\n",
              "      <td>0.00501</td>\n",
              "      <td>Y60</td>\n",
              "      <td>60</td>\n",
              "      <td>PROBDEATH</td>\n",
              "      <td>F</td>\n",
              "      <td>FR</td>\n",
              "    </tr>\n",
              "    <tr>\n",
              "      <th>877801</th>\n",
              "      <td>2000</td>\n",
              "      <td>0.00485</td>\n",
              "      <td>Y61</td>\n",
              "      <td>61</td>\n",
              "      <td>PROBDEATH</td>\n",
              "      <td>F</td>\n",
              "      <td>FR</td>\n",
              "    </tr>\n",
              "    <tr>\n",
              "      <th>1272615</th>\n",
              "      <td>2000</td>\n",
              "      <td>0.99499</td>\n",
              "      <td>Y60</td>\n",
              "      <td>60</td>\n",
              "      <td>PROBSURV</td>\n",
              "      <td>F</td>\n",
              "      <td>FR</td>\n",
              "    </tr>\n",
              "    <tr>\n",
              "      <th>1274155</th>\n",
              "      <td>2000</td>\n",
              "      <td>0.99515</td>\n",
              "      <td>Y61</td>\n",
              "      <td>61</td>\n",
              "      <td>PROBSURV</td>\n",
              "      <td>F</td>\n",
              "      <td>FR</td>\n",
              "    </tr>\n",
              "    <tr>\n",
              "      <th>1668215</th>\n",
              "      <td>2000</td>\n",
              "      <td>93076.00000</td>\n",
              "      <td>Y60</td>\n",
              "      <td>60</td>\n",
              "      <td>PYLIVED</td>\n",
              "      <td>F</td>\n",
              "      <td>FR</td>\n",
              "    </tr>\n",
              "    <tr>\n",
              "      <th>1669740</th>\n",
              "      <td>2000</td>\n",
              "      <td>92618.00000</td>\n",
              "      <td>Y61</td>\n",
              "      <td>61</td>\n",
              "      <td>PYLIVED</td>\n",
              "      <td>F</td>\n",
              "      <td>FR</td>\n",
              "    </tr>\n",
              "    <tr>\n",
              "      <th>2061149</th>\n",
              "      <td>2000</td>\n",
              "      <td>93310.00000</td>\n",
              "      <td>Y60</td>\n",
              "      <td>60</td>\n",
              "      <td>SURVIVORS</td>\n",
              "      <td>F</td>\n",
              "      <td>FR</td>\n",
              "    </tr>\n",
              "    <tr>\n",
              "      <th>2062674</th>\n",
              "      <td>2000</td>\n",
              "      <td>92843.00000</td>\n",
              "      <td>Y61</td>\n",
              "      <td>61</td>\n",
              "      <td>SURVIVORS</td>\n",
              "      <td>F</td>\n",
              "      <td>FR</td>\n",
              "    </tr>\n",
              "    <tr>\n",
              "      <th>2454128</th>\n",
              "      <td>2000</td>\n",
              "      <td>2405594.00000</td>\n",
              "      <td>Y60</td>\n",
              "      <td>60</td>\n",
              "      <td>TOTPYLIVED</td>\n",
              "      <td>F</td>\n",
              "      <td>FR</td>\n",
              "    </tr>\n",
              "    <tr>\n",
              "      <th>2455653</th>\n",
              "      <td>2000</td>\n",
              "      <td>2312517.00000</td>\n",
              "      <td>Y61</td>\n",
              "      <td>61</td>\n",
              "      <td>TOTPYLIVED</td>\n",
              "      <td>F</td>\n",
              "      <td>FR</td>\n",
              "    </tr>\n",
              "  </tbody>\n",
              "</table>\n",
              "</div>"
            ],
            "text/plain": [
              "         annee         valeur  age  age_num  indicateur genre pays\n",
              "86895     2000        0.00502  Y60       60   DEATHRATE     F   FR\n",
              "88435     2000        0.00486  Y61       61   DEATHRATE     F   FR\n",
              "482573    2000       25.80000  Y60       60      LIFEXP     F   FR\n",
              "484098    2000       24.90000  Y61       61      LIFEXP     F   FR\n",
              "876261    2000        0.00501  Y60       60   PROBDEATH     F   FR\n",
              "877801    2000        0.00485  Y61       61   PROBDEATH     F   FR\n",
              "1272615   2000        0.99499  Y60       60    PROBSURV     F   FR\n",
              "1274155   2000        0.99515  Y61       61    PROBSURV     F   FR\n",
              "1668215   2000    93076.00000  Y60       60     PYLIVED     F   FR\n",
              "1669740   2000    92618.00000  Y61       61     PYLIVED     F   FR\n",
              "2061149   2000    93310.00000  Y60       60   SURVIVORS     F   FR\n",
              "2062674   2000    92843.00000  Y61       61   SURVIVORS     F   FR\n",
              "2454128   2000  2405594.00000  Y60       60  TOTPYLIVED     F   FR\n",
              "2455653   2000  2312517.00000  Y61       61  TOTPYLIVED     F   FR"
            ]
          },
          "execution_count": null,
          "metadata": {},
          "output_type": "execute_result"
        }
      ],
      "source": [
        "df [ ((df.age==\"Y60\") | (df.age==\"Y61\")) & (df.annee == 2000) & (df.pays==\"FR\") & (df.genre==\"F\")]"
      ]
    },
    {
      "cell_type": "markdown",
      "metadata": {},
      "source": [
        "### Exercice 1 : filtre\n",
        "\n",
        "On veut comparer les esp\u00e9rances de vie pour deux pays et deux ann\u00e9es."
      ]
    },
    {
      "cell_type": "code",
      "execution_count": null,
      "metadata": {
        "collapsed": true
      },
      "outputs": [],
      "source": [
        "#"
      ]
    },
    {
      "cell_type": "markdown",
      "metadata": {},
      "source": [
        "### Donn\u00e9es trop grosses pour tenir en m\u00e9moire : SQLite\n"
      ]
    },
    {
      "cell_type": "code",
      "execution_count": null,
      "metadata": {
        "collapsed": false
      },
      "outputs": [
        {
          "data": {
            "text/plain": [
              "(2760921, 7)"
            ]
          },
          "execution_count": null,
          "metadata": {},
          "output_type": "execute_result"
        }
      ],
      "source": [
        "df.shape"
      ]
    },
    {
      "cell_type": "markdown",
      "metadata": {},
      "source": [
        "Les donn\u00e9es sont trop grosses pour tenir dans une feuille Excel. Pour les consulter, il n'y a pas d'autres moyens que d'en regarder des extraits. Que passe quand m\u00eame ceci n'est pas possible ? Quelques solutions :\n",
        "\n",
        "* augmenter la m\u00e9moire de l'ordinateur, avec 20 Go, on peut faire beaucoup de choses\n",
        "* stocker les donn\u00e9es dans un serveur SQL\n",
        "* stocker les donn\u00e9es sur un syst\u00e8me distribu\u00e9 (cloud, Hadoop, ...)\n",
        "\n",
        "La seconde option n'est pas toujours simple, il faut installer un serveur SQL. Pour aller plus vite, on peut simplement utiliser [SQLite](https://www.sqlite.org/) qui est une fa\u00e7on de faire du SQL sans serveur (cela prend quelques minutes). On utilise la m\u00e9thode [to_sql](http://pandas.pydata.org/pandas-docs/stable/generated/pandas.DataFrame.to_sql.html)."
      ]
    },
    {
      "cell_type": "code",
      "execution_count": null,
      "metadata": {
        "collapsed": false
      },
      "outputs": [],
      "source": [
        "import sqlite3\n",
        "from pandas.io import sql\n",
        "cnx = sqlite3.connect('mortalite.db3')\n",
        "try:\n",
        "    df.to_sql(name='mortalite', con=cnx)\n",
        "except ValueError as e:\n",
        "    if \"Table 'mortalite' already exists\" not in str(e):\n",
        "        # seulement si l'erreur ne vient pas du fait que cela \n",
        "        # a d\u00e9j\u00e0 \u00e9t\u00e9 fait\n",
        "        raise e\n",
        "# on peut ajouter d'autres dataframe \u00e0 la table comme si elle \u00e9tait cr\u00e9\u00e9e par morceau\n",
        "# voir le param\u00e8tre if_exists de la fonction to_sql"
      ]
    },
    {
      "cell_type": "markdown",
      "metadata": {},
      "source": [
        "On peut maintenant r\u00e9cup\u00e9rer un morceau avec la fonction [read_sql](http://pandas.pydata.org/pandas-docs/stable/generated/pandas.read_sql.html?highlight=read_sql#pandas.read_sql)."
      ]
    },
    {
      "cell_type": "code",
      "execution_count": null,
      "metadata": {
        "collapsed": false
      },
      "outputs": [
        {
          "data": {
            "text/html": [
              "<div>\n",
              "<table border=\"1\" class=\"dataframe\">\n",
              "  <thead>\n",
              "    <tr style=\"text-align: right;\">\n",
              "      <th></th>\n",
              "      <th>index</th>\n",
              "      <th>annee</th>\n",
              "      <th>valeur</th>\n",
              "      <th>age</th>\n",
              "      <th>age_num</th>\n",
              "      <th>indicateur</th>\n",
              "      <th>genre</th>\n",
              "      <th>pays</th>\n",
              "    </tr>\n",
              "  </thead>\n",
              "  <tbody>\n",
              "    <tr>\n",
              "      <th>0</th>\n",
              "      <td>69225</td>\n",
              "      <td>2009</td>\n",
              "      <td>0.00290</td>\n",
              "      <td>Y50</td>\n",
              "      <td>50</td>\n",
              "      <td>DEATHRATE</td>\n",
              "      <td>F</td>\n",
              "      <td>AM</td>\n",
              "    </tr>\n",
              "    <tr>\n",
              "      <th>1</th>\n",
              "      <td>69226</td>\n",
              "      <td>2008</td>\n",
              "      <td>0.00333</td>\n",
              "      <td>Y50</td>\n",
              "      <td>50</td>\n",
              "      <td>DEATHRATE</td>\n",
              "      <td>F</td>\n",
              "      <td>AM</td>\n",
              "    </tr>\n",
              "    <tr>\n",
              "      <th>2</th>\n",
              "      <td>69227</td>\n",
              "      <td>2007</td>\n",
              "      <td>0.00292</td>\n",
              "      <td>Y50</td>\n",
              "      <td>50</td>\n",
              "      <td>DEATHRATE</td>\n",
              "      <td>F</td>\n",
              "      <td>AM</td>\n",
              "    </tr>\n",
              "    <tr>\n",
              "      <th>3</th>\n",
              "      <td>69228</td>\n",
              "      <td>2006</td>\n",
              "      <td>0.00371</td>\n",
              "      <td>Y50</td>\n",
              "      <td>50</td>\n",
              "      <td>DEATHRATE</td>\n",
              "      <td>F</td>\n",
              "      <td>AM</td>\n",
              "    </tr>\n",
              "    <tr>\n",
              "      <th>4</th>\n",
              "      <td>69229</td>\n",
              "      <td>2013</td>\n",
              "      <td>0.00194</td>\n",
              "      <td>Y50</td>\n",
              "      <td>50</td>\n",
              "      <td>DEATHRATE</td>\n",
              "      <td>F</td>\n",
              "      <td>AT</td>\n",
              "    </tr>\n",
              "  </tbody>\n",
              "</table>\n",
              "</div>"
            ],
            "text/plain": [
              "   index  annee   valeur  age  age_num indicateur genre pays\n",
              "0  69225   2009  0.00290  Y50       50  DEATHRATE     F   AM\n",
              "1  69226   2008  0.00333  Y50       50  DEATHRATE     F   AM\n",
              "2  69227   2007  0.00292  Y50       50  DEATHRATE     F   AM\n",
              "3  69228   2006  0.00371  Y50       50  DEATHRATE     F   AM\n",
              "4  69229   2013  0.00194  Y50       50  DEATHRATE     F   AT"
            ]
          },
          "execution_count": null,
          "metadata": {},
          "output_type": "execute_result"
        }
      ],
      "source": [
        "import pandas\n",
        "example = pandas.read_sql('select * from mortalite where age_num==50 limit 5', cnx)\n",
        "example"
      ]
    },
    {
      "cell_type": "markdown",
      "metadata": {},
      "source": [
        "L'ensemble des donn\u00e9es restent sur le disque, seul le r\u00e9sultat de la requ\u00eate est charg\u00e9 en m\u00e9moire. Si on ne peut pas faire tenir les donn\u00e9es en m\u00e9moire, il faut soit en obtenir une vue partielle (un \u00e9chantillon al\u00e9atoire, un vue filtr\u00e9e), soit une vue agr\u00e9gr\u00e9e.\n",
        "\n",
        "Pour finir, il faut fermer la connexion pour laisser d'autres applications ou notebook modifier la base ou tout simplement supprimer le fichier."
      ]
    },
    {
      "cell_type": "code",
      "execution_count": null,
      "metadata": {
        "collapsed": true
      },
      "outputs": [],
      "source": [
        "cnx.close()"
      ]
    },
    {
      "cell_type": "markdown",
      "metadata": {},
      "source": [
        "Sous Windows, on peut consulter la base avec le logiciel [SQLiteSpy](http://www.yunqa.de/delphi/doku.php/products/sqlitespy/index)."
      ]
    },
    {
      "cell_type": "code",
      "execution_count": null,
      "metadata": {
        "collapsed": false
      },
      "outputs": [
        {
          "data": {
            "image/png": "[encoded data removed]",
            "text/plain": [
              "<IPython.core.display.Image object>"
            ]
          },
          "execution_count": null,
          "metadata": {},
          "output_type": "execute_result"
        }
      ],
      "source": [
        "NbImage(\"sqlite.png\")"
      ]
    },
    {
      "cell_type": "markdown",
      "metadata": {},
      "source": [
        "Sous Linux ou Max, on peut utiliser une extension Firefox [SQLite Manager](https://addons.mozilla.org/en-US/firefox/addon/sqlite-manager/?src). Dans ce notebook, on utilisera la commande magique [%%SQL](http://www.xavierdupre.fr/app/pyensae/helpsphinx/notebooks/pyensae_sql_magic.html) du module [pyensae](http://www.xavierdupre.fr/app/pyensae/helpsphinx/) : "
      ]
    },
    {
      "cell_type": "code",
      "execution_count": null,
      "metadata": {
        "collapsed": false
      },
      "outputs": [
        {
          "data": {
            "text/plain": [
              "<pyensae.sql.sql_interface_database.InterfaceSQLDatabase at 0xaa11f28>"
            ]
          },
          "execution_count": null,
          "metadata": {},
          "output_type": "execute_result"
        }
      ],
      "source": [
        "import pyensae\n",
        "%SQL_connect mortalite.db3"
      ]
    },
    {
      "cell_type": "code",
      "execution_count": null,
      "metadata": {
        "collapsed": false
      },
      "outputs": [
        {
          "data": {
            "text/plain": [
              "['mortalite']"
            ]
          },
          "execution_count": null,
          "metadata": {},
          "output_type": "execute_result"
        }
      ],
      "source": [
        "%SQL_tables"
      ]
    },
    {
      "cell_type": "code",
      "execution_count": null,
      "metadata": {
        "collapsed": false
      },
      "outputs": [
        {
          "data": {
            "text/plain": [
              "{0: ('index', int),\n",
              " 1: ('annee', int),\n",
              " 2: ('valeur', float),\n",
              " 3: ('age', str),\n",
              " 4: ('age_num', float),\n",
              " 5: ('indicateur', str),\n",
              " 6: ('genre', str),\n",
              " 7: ('pays', str)}"
            ]
          },
          "execution_count": null,
          "metadata": {},
          "output_type": "execute_result"
        }
      ],
      "source": [
        "%SQL_schema mortalite"
      ]
    },
    {
      "cell_type": "code",
      "execution_count": null,
      "metadata": {
        "collapsed": false
      },
      "outputs": [
        {
          "data": {
            "text/html": [
              "<div>\n",
              "<table border=\"1\" class=\"dataframe\">\n",
              "  <thead>\n",
              "    <tr style=\"text-align: right;\">\n",
              "      <th></th>\n",
              "      <th>COUNT(*)</th>\n",
              "    </tr>\n",
              "  </thead>\n",
              "  <tbody>\n",
              "    <tr>\n",
              "      <th>0</th>\n",
              "      <td>2760921</td>\n",
              "    </tr>\n",
              "  </tbody>\n",
              "</table>\n",
              "</div>"
            ],
            "text/plain": [
              "   COUNT(*)\n",
              "0   2760921"
            ]
          },
          "execution_count": null,
          "metadata": {},
          "output_type": "execute_result"
        }
      ],
      "source": [
        "%%SQL\n",
        "SELECT COUNT(*) FROM mortalite"
      ]
    },
    {
      "cell_type": "code",
      "execution_count": null,
      "metadata": {
        "collapsed": false
      },
      "outputs": [],
      "source": [
        "%SQL_close"
      ]
    },
    {
      "cell_type": "markdown",
      "metadata": {
        "collapsed": true
      },
      "source": [
        "### Exercice 2 : \u00e9chantillon al\u00e9atoire\n",
        "\n",
        "Si on ne peut pas faire tenir les donn\u00e9es en m\u00e9moire, on peut soit regarder les premi\u00e8res lignes soit prendre un \u00e9chantillon al\u00e9atoire. Deux options :\n",
        "\n",
        "* [Dataframe.sample](http://pandas.pydata.org/pandas-docs/stable/generated/pandas.DataFrame.sample.html)\n",
        "* [create_function](https://docs.python.org/3.4/library/sqlite3.html#sqlite3.Connection.create_function)\n",
        "\n",
        "La premi\u00e8re fonction est simple :"
      ]
    },
    {
      "cell_type": "code",
      "execution_count": null,
      "metadata": {
        "collapsed": false
      },
      "outputs": [
        {
          "data": {
            "text/plain": [
              "((276092, 7), (2760921, 7))"
            ]
          },
          "execution_count": null,
          "metadata": {},
          "output_type": "execute_result"
        }
      ],
      "source": [
        "sample = df.sample(frac=0.1)\n",
        "sample.shape, df.shape"
      ]
    },
    {
      "cell_type": "markdown",
      "metadata": {},
      "source": [
        "Je ne sais pas si cela peut \u00eatre r\u00e9alis\u00e9 sans charger les donn\u00e9es en m\u00e9moire. Si les donn\u00e9es p\u00e8sent 20 Go, cette m\u00e9thode n'aboutira pas. Pourtant, on veut juste un \u00e9chantillon pour commencer \u00e0 regarder les donn\u00e9es. On utilise la seconde option avec [create_function](https://docs.python.org/3.4/library/sqlite3.html#sqlite3.Connection.create_function) et la fonction suivante :"
      ]
    },
    {
      "cell_type": "code",
      "execution_count": null,
      "metadata": {
        "collapsed": true
      },
      "outputs": [],
      "source": [
        "import random  #loi uniforme\n",
        "def echantillon(proportion):\n",
        "    return 1 if random.random() < proportion else 0"
      ]
    },
    {
      "cell_type": "code",
      "execution_count": null,
      "metadata": {
        "collapsed": false
      },
      "outputs": [],
      "source": [
        "import sqlite3\n",
        "from pandas.io import sql\n",
        "cnx = sqlite3.connect('mortalite.db3')"
      ]
    },
    {
      "cell_type": "code",
      "execution_count": null,
      "metadata": {
        "collapsed": true
      },
      "outputs": [],
      "source": [
        "cnx.create_function('echantillon', 1, echantillon)"
      ]
    },
    {
      "cell_type": "markdown",
      "metadata": {},
      "source": [
        "Que faut-il \u00e9crire ici pour r\u00e9cup\u00e9rer 1% de la table ?"
      ]
    },
    {
      "cell_type": "code",
      "execution_count": null,
      "metadata": {
        "collapsed": true
      },
      "outputs": [],
      "source": [
        "import pandas\n",
        "#example = pandas.read_sql(' ???  ', cnx)\n",
        "#example"
      ]
    },
    {
      "cell_type": "code",
      "execution_count": null,
      "metadata": {
        "collapsed": true
      },
      "outputs": [],
      "source": [
        "cnx.close()"
      ]
    },
    {
      "cell_type": "markdown",
      "metadata": {
        "collapsed": true
      },
      "source": [
        "### Pseudo Map/Reduce avec SQLite"
      ]
    },
    {
      "cell_type": "markdown",
      "metadata": {},
      "source": [
        "La liste des [mots-cl\u00e9s du langage SQL utilis\u00e9s par SQLite](https://www.sqlite.org/keyword_index.html) n'est pas aussi riche que d'autres solutions de serveurs SQL. La m\u00e9diane ne semble pas en faire partie. Cependant, pour une ann\u00e9e, un genre, un \u00e2ge donn\u00e9, on voudrait calculer la m\u00e9diane de l'esp\u00e9rance de vie sur l'ensembles des pays."
      ]
    },
    {
      "cell_type": "code",
      "execution_count": null,
      "metadata": {
        "collapsed": true
      },
      "outputs": [],
      "source": [
        "import sqlite3, pandas\n",
        "from pandas.io import sql\n",
        "cnx = sqlite3.connect('mortalite.db3')"
      ]
    },
    {
      "cell_type": "code",
      "execution_count": null,
      "metadata": {
        "collapsed": false
      },
      "outputs": [
        {
          "data": {
            "text/html": [
              "<div>\n",
              "<table border=\"1\" class=\"dataframe\">\n",
              "  <thead>\n",
              "    <tr style=\"text-align: right;\">\n",
              "      <th></th>\n",
              "      <th>pays</th>\n",
              "      <th>count(*)</th>\n",
              "    </tr>\n",
              "  </thead>\n",
              "  <tbody>\n",
              "    <tr>\n",
              "      <th>0</th>\n",
              "      <td>AM</td>\n",
              "      <td>7224</td>\n",
              "    </tr>\n",
              "    <tr>\n",
              "      <th>1</th>\n",
              "      <td>AT</td>\n",
              "      <td>79464</td>\n",
              "    </tr>\n",
              "    <tr>\n",
              "      <th>2</th>\n",
              "      <td>AZ</td>\n",
              "      <td>12642</td>\n",
              "    </tr>\n",
              "    <tr>\n",
              "      <th>3</th>\n",
              "      <td>BE</td>\n",
              "      <td>97524</td>\n",
              "    </tr>\n",
              "    <tr>\n",
              "      <th>4</th>\n",
              "      <td>BG</td>\n",
              "      <td>97524</td>\n",
              "    </tr>\n",
              "    <tr>\n",
              "      <th>5</th>\n",
              "      <td>BY</td>\n",
              "      <td>5418</td>\n",
              "    </tr>\n",
              "    <tr>\n",
              "      <th>6</th>\n",
              "      <td>CH</td>\n",
              "      <td>97524</td>\n",
              "    </tr>\n",
              "    <tr>\n",
              "      <th>7</th>\n",
              "      <td>CY</td>\n",
              "      <td>37926</td>\n",
              "    </tr>\n",
              "    <tr>\n",
              "      <th>8</th>\n",
              "      <td>CZ</td>\n",
              "      <td>97524</td>\n",
              "    </tr>\n",
              "    <tr>\n",
              "      <th>9</th>\n",
              "      <td>DE</td>\n",
              "      <td>52374</td>\n",
              "    </tr>\n",
              "    <tr>\n",
              "      <th>10</th>\n",
              "      <td>DE_TOT</td>\n",
              "      <td>97524</td>\n",
              "    </tr>\n",
              "    <tr>\n",
              "      <th>11</th>\n",
              "      <td>DK</td>\n",
              "      <td>72240</td>\n",
              "    </tr>\n",
              "    <tr>\n",
              "      <th>12</th>\n",
              "      <td>EA16</td>\n",
              "      <td>35688</td>\n",
              "    </tr>\n",
              "    <tr>\n",
              "      <th>13</th>\n",
              "      <td>EA17</td>\n",
              "      <td>35688</td>\n",
              "    </tr>\n",
              "    <tr>\n",
              "      <th>14</th>\n",
              "      <td>EA18</td>\n",
              "      <td>21672</td>\n",
              "    </tr>\n",
              "    <tr>\n",
              "      <th>15</th>\n",
              "      <td>EA19</td>\n",
              "      <td>21672</td>\n",
              "    </tr>\n",
              "    <tr>\n",
              "      <th>16</th>\n",
              "      <td>EE</td>\n",
              "      <td>97524</td>\n",
              "    </tr>\n",
              "    <tr>\n",
              "      <th>17</th>\n",
              "      <td>EEA30</td>\n",
              "      <td>21672</td>\n",
              "    </tr>\n",
              "    <tr>\n",
              "      <th>18</th>\n",
              "      <td>EEA31</td>\n",
              "      <td>21672</td>\n",
              "    </tr>\n",
              "    <tr>\n",
              "      <th>19</th>\n",
              "      <td>EFTA</td>\n",
              "      <td>36120</td>\n",
              "    </tr>\n",
              "    <tr>\n",
              "      <th>20</th>\n",
              "      <td>EL</td>\n",
              "      <td>95718</td>\n",
              "    </tr>\n",
              "    <tr>\n",
              "      <th>21</th>\n",
              "      <td>ES</td>\n",
              "      <td>70434</td>\n",
              "    </tr>\n",
              "    <tr>\n",
              "      <th>22</th>\n",
              "      <td>EU27</td>\n",
              "      <td>21672</td>\n",
              "    </tr>\n",
              "    <tr>\n",
              "      <th>23</th>\n",
              "      <td>EU28</td>\n",
              "      <td>21672</td>\n",
              "    </tr>\n",
              "    <tr>\n",
              "      <th>24</th>\n",
              "      <td>FI</td>\n",
              "      <td>61404</td>\n",
              "    </tr>\n",
              "    <tr>\n",
              "      <th>25</th>\n",
              "      <td>FR</td>\n",
              "      <td>28896</td>\n",
              "    </tr>\n",
              "    <tr>\n",
              "      <th>26</th>\n",
              "      <td>FX</td>\n",
              "      <td>48762</td>\n",
              "    </tr>\n",
              "    <tr>\n",
              "      <th>27</th>\n",
              "      <td>GE</td>\n",
              "      <td>10836</td>\n",
              "    </tr>\n",
              "    <tr>\n",
              "      <th>28</th>\n",
              "      <td>HR</td>\n",
              "      <td>23478</td>\n",
              "    </tr>\n",
              "    <tr>\n",
              "      <th>29</th>\n",
              "      <td>HU</td>\n",
              "      <td>97524</td>\n",
              "    </tr>\n",
              "    <tr>\n",
              "      <th>30</th>\n",
              "      <td>IE</td>\n",
              "      <td>50646</td>\n",
              "    </tr>\n",
              "    <tr>\n",
              "      <th>31</th>\n",
              "      <td>IS</td>\n",
              "      <td>93912</td>\n",
              "    </tr>\n",
              "    <tr>\n",
              "      <th>32</th>\n",
              "      <td>IT</td>\n",
              "      <td>52374</td>\n",
              "    </tr>\n",
              "    <tr>\n",
              "      <th>33</th>\n",
              "      <td>LI</td>\n",
              "      <td>36120</td>\n",
              "    </tr>\n",
              "    <tr>\n",
              "      <th>34</th>\n",
              "      <td>LT</td>\n",
              "      <td>79464</td>\n",
              "    </tr>\n",
              "    <tr>\n",
              "      <th>35</th>\n",
              "      <td>LU</td>\n",
              "      <td>79464</td>\n",
              "    </tr>\n",
              "    <tr>\n",
              "      <th>36</th>\n",
              "      <td>LV</td>\n",
              "      <td>21672</td>\n",
              "    </tr>\n",
              "    <tr>\n",
              "      <th>37</th>\n",
              "      <td>MD</td>\n",
              "      <td>12642</td>\n",
              "    </tr>\n",
              "    <tr>\n",
              "      <th>38</th>\n",
              "      <td>ME</td>\n",
              "      <td>16254</td>\n",
              "    </tr>\n",
              "    <tr>\n",
              "      <th>39</th>\n",
              "      <td>MK</td>\n",
              "      <td>36120</td>\n",
              "    </tr>\n",
              "    <tr>\n",
              "      <th>40</th>\n",
              "      <td>MT</td>\n",
              "      <td>50901</td>\n",
              "    </tr>\n",
              "    <tr>\n",
              "      <th>41</th>\n",
              "      <td>NL</td>\n",
              "      <td>52374</td>\n",
              "    </tr>\n",
              "    <tr>\n",
              "      <th>42</th>\n",
              "      <td>NO</td>\n",
              "      <td>97524</td>\n",
              "    </tr>\n",
              "    <tr>\n",
              "      <th>43</th>\n",
              "      <td>PL</td>\n",
              "      <td>43344</td>\n",
              "    </tr>\n",
              "    <tr>\n",
              "      <th>44</th>\n",
              "      <td>PT</td>\n",
              "      <td>97524</td>\n",
              "    </tr>\n",
              "    <tr>\n",
              "      <th>45</th>\n",
              "      <td>RO</td>\n",
              "      <td>83076</td>\n",
              "    </tr>\n",
              "    <tr>\n",
              "      <th>46</th>\n",
              "      <td>RS</td>\n",
              "      <td>25284</td>\n",
              "    </tr>\n",
              "    <tr>\n",
              "      <th>47</th>\n",
              "      <td>RU</td>\n",
              "      <td>9030</td>\n",
              "    </tr>\n",
              "    <tr>\n",
              "      <th>48</th>\n",
              "      <td>SE</td>\n",
              "      <td>83076</td>\n",
              "    </tr>\n",
              "    <tr>\n",
              "      <th>49</th>\n",
              "      <td>SI</td>\n",
              "      <td>57792</td>\n",
              "    </tr>\n",
              "    <tr>\n",
              "      <th>50</th>\n",
              "      <td>SK</td>\n",
              "      <td>97524</td>\n",
              "    </tr>\n",
              "    <tr>\n",
              "      <th>51</th>\n",
              "      <td>TR</td>\n",
              "      <td>9030</td>\n",
              "    </tr>\n",
              "    <tr>\n",
              "      <th>52</th>\n",
              "      <td>UA</td>\n",
              "      <td>10836</td>\n",
              "    </tr>\n",
              "    <tr>\n",
              "      <th>53</th>\n",
              "      <td>UK</td>\n",
              "      <td>37926</td>\n",
              "    </tr>\n",
              "  </tbody>\n",
              "</table>\n",
              "</div>"
            ],
            "text/plain": [
              "      pays  count(*)\n",
              "0       AM      7224\n",
              "1       AT     79464\n",
              "2       AZ     12642\n",
              "3       BE     97524\n",
              "4       BG     97524\n",
              "5       BY      5418\n",
              "6       CH     97524\n",
              "7       CY     37926\n",
              "8       CZ     97524\n",
              "9       DE     52374\n",
              "10  DE_TOT     97524\n",
              "11      DK     72240\n",
              "12    EA16     35688\n",
              "13    EA17     35688\n",
              "14    EA18     21672\n",
              "15    EA19     21672\n",
              "16      EE     97524\n",
              "17   EEA30     21672\n",
              "18   EEA31     21672\n",
              "19    EFTA     36120\n",
              "20      EL     95718\n",
              "21      ES     70434\n",
              "22    EU27     21672\n",
              "23    EU28     21672\n",
              "24      FI     61404\n",
              "25      FR     28896\n",
              "26      FX     48762\n",
              "27      GE     10836\n",
              "28      HR     23478\n",
              "29      HU     97524\n",
              "30      IE     50646\n",
              "31      IS     93912\n",
              "32      IT     52374\n",
              "33      LI     36120\n",
              "34      LT     79464\n",
              "35      LU     79464\n",
              "36      LV     21672\n",
              "37      MD     12642\n",
              "38      ME     16254\n",
              "39      MK     36120\n",
              "40      MT     50901\n",
              "41      NL     52374\n",
              "42      NO     97524\n",
              "43      PL     43344\n",
              "44      PT     97524\n",
              "45      RO     83076\n",
              "46      RS     25284\n",
              "47      RU      9030\n",
              "48      SE     83076\n",
              "49      SI     57792\n",
              "50      SK     97524\n",
              "51      TR      9030\n",
              "52      UA     10836\n",
              "53      UK     37926"
            ]
          },
          "execution_count": null,
          "metadata": {},
          "output_type": "execute_result"
        }
      ],
      "source": [
        "pandas.read_sql('select pays,count(*) from mortalite group by pays', cnx)"
      ]
    },
    {
      "cell_type": "markdown",
      "metadata": {},
      "source": [
        "Il n'y a pas le m\u00eame nombre de donn\u00e9es selon les pays, il est probable que le nombre de pays pour lesquels il existe des donn\u00e9es varie selon les \u00e2ges et les ann\u00e9es."
      ]
    },
    {
      "cell_type": "code",
      "execution_count": null,
      "metadata": {
        "collapsed": false
      },
      "outputs": [],
      "source": [
        "query = \"\"\"SELECT nb_country, COUNT(*) AS nb_rows FROM (\n",
        "                SELECT annee,age,age_num, count(*) AS nb_country FROM mortalite \n",
        "                WHERE indicateur==\"LIFEXP\" AND genre==\"F\"\n",
        "                GROUP BY annee,age,age_num\n",
        "            ) GROUP BY nb_country\"\"\"\n",
        "df = pandas.read_sql(query, cnx)"
      ]
    },
    {
      "cell_type": "code",
      "execution_count": null,
      "metadata": {
        "collapsed": false
      },
      "outputs": [
        {
          "data": {
            "text/html": [
              "<div>\n",
              "<table border=\"1\" class=\"dataframe\">\n",
              "  <thead>\n",
              "    <tr style=\"text-align: right;\">\n",
              "      <th></th>\n",
              "      <th>nb_country</th>\n",
              "      <th>nb_rows</th>\n",
              "    </tr>\n",
              "  </thead>\n",
              "  <tbody>\n",
              "    <tr>\n",
              "      <th>37</th>\n",
              "      <td>104</td>\n",
              "      <td>5</td>\n",
              "    </tr>\n",
              "    <tr>\n",
              "      <th>36</th>\n",
              "      <td>102</td>\n",
              "      <td>2</td>\n",
              "    </tr>\n",
              "  </tbody>\n",
              "</table>\n",
              "</div>"
            ],
            "text/plain": [
              "    nb_country  nb_rows\n",
              "37         104        5\n",
              "36         102        2"
            ]
          },
          "execution_count": null,
          "metadata": {},
          "output_type": "execute_result"
        }
      ],
      "source": [
        "df.sort_values(\"nb_country\", ascending=False).head(n=2)"
      ]
    },
    {
      "cell_type": "code",
      "execution_count": null,
      "metadata": {
        "collapsed": false
      },
      "outputs": [
        {
          "data": {
            "text/plain": [
              "<matplotlib.axes._subplots.AxesSubplot at 0xaa32b00>"
            ]
          },
          "execution_count": null,
          "metadata": {},
          "output_type": "execute_result"
        }
      ],
      "source": [
        "df.plot(x=\"nb_country\", y=\"nb_rows\")"
      ]
    },
    {
      "cell_type": "markdown",
      "metadata": {},
      "source": [
        "Soit un nombre inconstant de pays. Le fait qu'on est 100 pays sugg\u00e8re qu'on ait une erreur \u00e9galement."
      ]
    },
    {
      "cell_type": "code",
      "execution_count": null,
      "metadata": {
        "collapsed": false
      },
      "outputs": [],
      "source": [
        "query = \"\"\"SELECT annee,age,age_num, count(*) AS nb_country FROM mortalite \n",
        "                WHERE indicateur==\"LIFEXP\" AND genre==\"F\"\n",
        "                GROUP BY annee,age,age_num\n",
        "                HAVING nb_country >= 100\"\"\"\n",
        "df = pandas.read_sql(query, cnx)"
      ]
    },
    {
      "cell_type": "code",
      "execution_count": null,
      "metadata": {
        "collapsed": false
      },
      "outputs": [
        {
          "data": {
            "text/html": [
              "<div>\n",
              "<table border=\"1\" class=\"dataframe\">\n",
              "  <thead>\n",
              "    <tr style=\"text-align: right;\">\n",
              "      <th></th>\n",
              "      <th>annee</th>\n",
              "      <th>age</th>\n",
              "      <th>age_num</th>\n",
              "      <th>nb_country</th>\n",
              "    </tr>\n",
              "  </thead>\n",
              "  <tbody>\n",
              "    <tr>\n",
              "      <th>0</th>\n",
              "      <td>2006</td>\n",
              "      <td>None</td>\n",
              "      <td>None</td>\n",
              "      <td>104</td>\n",
              "    </tr>\n",
              "    <tr>\n",
              "      <th>1</th>\n",
              "      <td>2007</td>\n",
              "      <td>None</td>\n",
              "      <td>None</td>\n",
              "      <td>104</td>\n",
              "    </tr>\n",
              "    <tr>\n",
              "      <th>2</th>\n",
              "      <td>2008</td>\n",
              "      <td>None</td>\n",
              "      <td>None</td>\n",
              "      <td>104</td>\n",
              "    </tr>\n",
              "    <tr>\n",
              "      <th>3</th>\n",
              "      <td>2009</td>\n",
              "      <td>None</td>\n",
              "      <td>None</td>\n",
              "      <td>104</td>\n",
              "    </tr>\n",
              "    <tr>\n",
              "      <th>4</th>\n",
              "      <td>2010</td>\n",
              "      <td>None</td>\n",
              "      <td>None</td>\n",
              "      <td>104</td>\n",
              "    </tr>\n",
              "  </tbody>\n",
              "</table>\n",
              "</div>"
            ],
            "text/plain": [
              "   annee   age age_num  nb_country\n",
              "0   2006  None    None         104\n",
              "1   2007  None    None         104\n",
              "2   2008  None    None         104\n",
              "3   2009  None    None         104\n",
              "4   2010  None    None         104"
            ]
          },
          "execution_count": null,
          "metadata": {},
          "output_type": "execute_result"
        }
      ],
      "source": [
        "df.head()"
      ]
    },
    {
      "cell_type": "markdown",
      "metadata": {},
      "source": [
        "Ce sont des valeurs manquantes. Le probl\u00e8me pour calculer la m\u00e9diane pour chaque observation est qu'il faut d'abord regrouper les lignes de la table par indicateur puis choisir la m\u00e9diane dans chaque de ces petits groupes. On s'inspire pour cela de la logique Map/Reduce et de la fonction [create_aggregate](https://docs.python.org/3.4/library/sqlite3.html#sqlite3.Connection.create_aggregate)."
      ]
    },
    {
      "cell_type": "markdown",
      "metadata": {},
      "source": [
        "### Exercice 3 : reducer SQL"
      ]
    },
    {
      "cell_type": "markdown",
      "metadata": {},
      "source": [
        "Il faut compl\u00e9ter le programme suivant."
      ]
    },
    {
      "cell_type": "code",
      "execution_count": null,
      "metadata": {
        "collapsed": true
      },
      "outputs": [],
      "source": [
        "class ReducerMediane:\n",
        "    def __init__(self):\n",
        "        # ???\n",
        "        pass\n",
        "    def step(self, value):\n",
        "        # ???\n",
        "        #\n",
        "        pass\n",
        "    def finalize(self):\n",
        "        # ???\n",
        "        # return ... //2 ]\n",
        "        pass\n",
        "    \n",
        "cnx.create_aggregate(\"ReducerMediane\", 1, ReducerMediane)    "
      ]
    },
    {
      "cell_type": "code",
      "execution_count": null,
      "metadata": {
        "collapsed": false
      },
      "outputs": [],
      "source": [
        "#query = \"\"\"SELECT annee,age,age_num, ...... AS mediane FROM mortalite \n",
        "#                WHERE indicateur==\"LIFEXP\" AND genre==\"F\"\n",
        "#                GROUP BY annee,age,age_num\"\"\"\n",
        "#df = pandas.read_sql(query, cnx)"
      ]
    },
    {
      "cell_type": "code",
      "execution_count": null,
      "metadata": {
        "collapsed": true
      },
      "outputs": [],
      "source": [
        "cnx.close()"
      ]
    },
    {
      "cell_type": "markdown",
      "metadata": {
        "collapsed": true
      },
      "source": [
        "### Notion d'index"
      ]
    },
    {
      "cell_type": "markdown",
      "metadata": {},
      "source": [
        "En SQL et pour de grandes tables, la notion d'index joue un r\u00f4le important pour acc\u00e9l\u00e9rer les op\u00e9rations de jointures (``JOIN``) ou de regroupement (``GROUP BY``). L'article [A thorough guide to SQLite database operations in Python](http://sebastianraschka.com/Articles/2014_sqlite_in_python_tutorial.html) montre comment faire les principales op\u00e9rations."
      ]
    },
    {
      "cell_type": "code",
      "execution_count": null,
      "metadata": {
        "collapsed": true
      },
      "outputs": [],
      "source": []
    }
  ],
  "metadata": {
    "kernelspec": {
      "display_name": "Python 3",
      "language": "python",
      "name": "python3"
    },
    "language_info": {
      "codemirror_mode": {
        "name": "ipython",
        "version": 3
      },
      "file_extension": ".py",
      "mimetype": "text/x-python",
      "name": "python",
      "nbconvert_exporter": "python",
      "pygments_lexer": "ipython3",
      "version": "3.5.2"
    }
  },
  "nbformat": 4,
  "nbformat_minor": 0
}