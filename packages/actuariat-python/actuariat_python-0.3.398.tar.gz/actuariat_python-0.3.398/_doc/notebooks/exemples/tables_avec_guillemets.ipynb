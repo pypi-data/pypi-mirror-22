{
  "cells": [
    {
      "cell_type": "markdown",
      "metadata": {},
      "source": [
        "# Tables avec guillemets\n",
        "\n",
        "Le fichier de donn\u00e9es \u00e0 g\u00e9rer contient quelques d\u00e9sagr\u00e9ment avec des guillements qui g\u00eanent la lecture lorsqu'on applique les exemples donn\u00e9s par la documentation de [pandas](http://pandas.pydata.org/)."
      ]
    },
    {
      "cell_type": "markdown",
      "metadata": {},
      "source": [
        " Voici l'exemple :"
      ]
    },
    {
      "cell_type": "code",
      "execution_count": null,
      "metadata": {
        "collapsed": true
      },
      "outputs": [],
      "source": [
        "texte =  \"\"\"\n",
        "\"Libell\u00e9\",\"Produit\",\"Prix\",\"Quantite\"\n",
        "\"L123\",\"meuble\",\"1000\",\"1\"\n",
        "\"L321\",\"portable\",\"500\",\"2\"\n",
        "\"L333\",\"lampe\",\"100\",\"4\"\n",
        "\"\"\"\n",
        "\n",
        "with open(\"exemple_fichier.txt\", \"w\", encoding=\"utf8\") as f:\n",
        "    f.write(texte)"
      ]
    },
    {
      "cell_type": "markdown",
      "metadata": {},
      "source": [
        "Le param\u00e8tre *encoding* de la fonction [open](https://docs.python.org/3/library/functions.html#open) est utilis\u00e9 pour pr\u00e9ciser que le texte contient des caract\u00e8res non [ASCII](https://fr.wikipedia.org/wiki/American_Standard_Code_for_Information_Interchange), typiquement des accents. Mais pandas g\u00e8re plut\u00f4t bien ce bruit."
      ]
    },
    {
      "cell_type": "code",
      "execution_count": null,
      "metadata": {
        "collapsed": false
      },
      "outputs": [
        {
          "data": {
            "text/html": [
              "<div style=\"max-height:1000px;max-width:1500px;overflow:auto;\">\n",
              "<table border=\"1\" class=\"dataframe\">\n",
              "  <thead>\n",
              "    <tr style=\"text-align: right;\">\n",
              "      <th></th>\n",
              "      <th>Libell\u00e9</th>\n",
              "      <th>Produit</th>\n",
              "      <th>Prix</th>\n",
              "      <th>Quantite</th>\n",
              "    </tr>\n",
              "  </thead>\n",
              "  <tbody>\n",
              "    <tr>\n",
              "      <th>0</th>\n",
              "      <td>L123</td>\n",
              "      <td>meuble</td>\n",
              "      <td>1000</td>\n",
              "      <td>1</td>\n",
              "    </tr>\n",
              "    <tr>\n",
              "      <th>1</th>\n",
              "      <td>L321</td>\n",
              "      <td>portable</td>\n",
              "      <td>500</td>\n",
              "      <td>2</td>\n",
              "    </tr>\n",
              "    <tr>\n",
              "      <th>2</th>\n",
              "      <td>L333</td>\n",
              "      <td>lampe</td>\n",
              "      <td>100</td>\n",
              "      <td>4</td>\n",
              "    </tr>\n",
              "  </tbody>\n",
              "</table>\n",
              "</div>"
            ],
            "text/plain": [
              "  Libell\u00e9   Produit  Prix  Quantite\n",
              "0    L123    meuble  1000         1\n",
              "1    L321  portable   500         2\n",
              "2    L333     lampe   100         4"
            ]
          },
          "execution_count": null,
          "metadata": {},
          "output_type": "execute_result"
        }
      ],
      "source": [
        "import pandas\n",
        "df = pandas.read_csv(\"exemple_fichier.txt\", encoding=\"utf8\")\n",
        "df"
      ]
    },
    {
      "cell_type": "markdown",
      "metadata": {},
      "source": [
        "On v\u00e9rifie que les variables num\u00e9riques sont num\u00e9riques :"
      ]
    },
    {
      "cell_type": "code",
      "execution_count": null,
      "metadata": {
        "collapsed": false
      },
      "outputs": [
        {
          "data": {
            "text/plain": [
              "Libell\u00e9     object\n",
              "Produit     object\n",
              "Prix         int64\n",
              "Quantite     int64\n",
              "dtype: object"
            ]
          },
          "execution_count": null,
          "metadata": {},
          "output_type": "execute_result"
        }
      ],
      "source": [
        "df.dtypes"
      ]
    },
    {
      "cell_type": "markdown",
      "metadata": {},
      "source": [
        "On peut d\u00e9cider de conserver les guillements en sp\u00e9cifiant le param\u00e8tre *quoting* :"
      ]
    },
    {
      "cell_type": "code",
      "execution_count": null,
      "metadata": {
        "collapsed": false
      },
      "outputs": [
        {
          "data": {
            "text/html": [
              "<div style=\"max-height:1000px;max-width:1500px;overflow:auto;\">\n",
              "<table border=\"1\" class=\"dataframe\">\n",
              "  <thead>\n",
              "    <tr style=\"text-align: right;\">\n",
              "      <th></th>\n",
              "      <th>\"Libell\u00e9\"</th>\n",
              "      <th>\"Produit\"</th>\n",
              "      <th>\"Prix\"</th>\n",
              "      <th>\"Quantite\"</th>\n",
              "    </tr>\n",
              "  </thead>\n",
              "  <tbody>\n",
              "    <tr>\n",
              "      <th>0</th>\n",
              "      <td>\"L123\"</td>\n",
              "      <td>\"meuble\"</td>\n",
              "      <td>\"1000\"</td>\n",
              "      <td>\"1\"</td>\n",
              "    </tr>\n",
              "    <tr>\n",
              "      <th>1</th>\n",
              "      <td>\"L321\"</td>\n",
              "      <td>\"portable\"</td>\n",
              "      <td>\"500\"</td>\n",
              "      <td>\"2\"</td>\n",
              "    </tr>\n",
              "    <tr>\n",
              "      <th>2</th>\n",
              "      <td>\"L333\"</td>\n",
              "      <td>\"lampe\"</td>\n",
              "      <td>\"100\"</td>\n",
              "      <td>\"4\"</td>\n",
              "    </tr>\n",
              "  </tbody>\n",
              "</table>\n",
              "</div>"
            ],
            "text/plain": [
              "  \"Libell\u00e9\"   \"Produit\"  \"Prix\" \"Quantite\"\n",
              "0    \"L123\"    \"meuble\"  \"1000\"        \"1\"\n",
              "1    \"L321\"  \"portable\"   \"500\"        \"2\"\n",
              "2    \"L333\"     \"lampe\"   \"100\"        \"4\""
            ]
          },
          "execution_count": null,
          "metadata": {},
          "output_type": "execute_result"
        }
      ],
      "source": [
        "df2 = pandas.read_csv(\"exemple_fichier.txt\", encoding=\"utf8\" ,quoting=3)\n",
        "df2"
      ]
    },
    {
      "cell_type": "code",
      "execution_count": null,
      "metadata": {
        "collapsed": false
      },
      "outputs": [
        {
          "data": {
            "text/plain": [
              "\"Libell\u00e9\"     object\n",
              "\"Produit\"     object\n",
              "\"Prix\"        object\n",
              "\"Quantite\"    object\n",
              "dtype: object"
            ]
          },
          "execution_count": null,
          "metadata": {},
          "output_type": "execute_result"
        }
      ],
      "source": [
        "df2.dtypes"
      ]
    },
    {
      "cell_type": "markdown",
      "metadata": {},
      "source": [
        "Et si jamais les virgules sont des points-virgules, il faut pr\u00e9ciser le param\u00e8tre *sep* :"
      ]
    },
    {
      "cell_type": "code",
      "execution_count": null,
      "metadata": {
        "collapsed": false
      },
      "outputs": [
        {
          "data": {
            "text/html": [
              "<div style=\"max-height:1000px;max-width:1500px;overflow:auto;\">\n",
              "<table border=\"1\" class=\"dataframe\">\n",
              "  <thead>\n",
              "    <tr style=\"text-align: right;\">\n",
              "      <th></th>\n",
              "      <th>Libell\u00e9</th>\n",
              "      <th>Produit</th>\n",
              "      <th>Prix</th>\n",
              "      <th>Quantite</th>\n",
              "    </tr>\n",
              "  </thead>\n",
              "  <tbody>\n",
              "    <tr>\n",
              "      <th>0</th>\n",
              "      <td>L123</td>\n",
              "      <td>meuble</td>\n",
              "      <td>1000</td>\n",
              "      <td>1</td>\n",
              "    </tr>\n",
              "    <tr>\n",
              "      <th>1</th>\n",
              "      <td>L321</td>\n",
              "      <td>portable</td>\n",
              "      <td>500</td>\n",
              "      <td>2</td>\n",
              "    </tr>\n",
              "    <tr>\n",
              "      <th>2</th>\n",
              "      <td>L333</td>\n",
              "      <td>lampe</td>\n",
              "      <td>100</td>\n",
              "      <td>4</td>\n",
              "    </tr>\n",
              "  </tbody>\n",
              "</table>\n",
              "</div>"
            ],
            "text/plain": [
              "  Libell\u00e9   Produit  Prix  Quantite\n",
              "0    L123    meuble  1000         1\n",
              "1    L321  portable   500         2\n",
              "2    L333     lampe   100         4"
            ]
          },
          "execution_count": null,
          "metadata": {},
          "output_type": "execute_result"
        }
      ],
      "source": [
        "texte =  \"\"\"\n",
        "\"Libell\u00e9\";\"Produit\";\"Prix\";\"Quantite\"\n",
        "\"L123\";\"meuble\";\"1000\";\"1\"\n",
        "\"L321\";\"portable\";\"500\";\"2\"\n",
        "\"L333\";\"lampe\";\"100\";\"4\"\n",
        "\"\"\"\n",
        "\n",
        "with open(\"exemple_fichier2.txt\", \"w\", encoding=\"utf8\") as f:\n",
        "    f.write(texte)\n",
        "    \n",
        "df3 = pandas.read_csv(\"exemple_fichier2.txt\", encoding=\"utf8\", sep=\";\")\n",
        "df3    "
      ]
    },
    {
      "cell_type": "markdown",
      "metadata": {},
      "source": [
        "Et si jamais le fichier initial est tr\u00e8s grand... On veut simplement lire les premi\u00e8res lignes :"
      ]
    },
    {
      "cell_type": "code",
      "execution_count": null,
      "metadata": {
        "collapsed": false
      },
      "outputs": [
        {
          "data": {
            "text/html": [
              "<div style=\"max-height:1000px;max-width:1500px;overflow:auto;\">\n",
              "<table border=\"1\" class=\"dataframe\">\n",
              "  <thead>\n",
              "    <tr style=\"text-align: right;\">\n",
              "      <th></th>\n",
              "      <th>Libell\u00e9</th>\n",
              "      <th>Produit</th>\n",
              "      <th>Prix</th>\n",
              "      <th>Quantite</th>\n",
              "    </tr>\n",
              "  </thead>\n",
              "  <tbody>\n",
              "    <tr>\n",
              "      <th>0</th>\n",
              "      <td>L123</td>\n",
              "      <td>meuble</td>\n",
              "      <td>1000</td>\n",
              "      <td>1</td>\n",
              "    </tr>\n",
              "    <tr>\n",
              "      <th>1</th>\n",
              "      <td>L321</td>\n",
              "      <td>portable</td>\n",
              "      <td>500</td>\n",
              "      <td>2</td>\n",
              "    </tr>\n",
              "  </tbody>\n",
              "</table>\n",
              "</div>"
            ],
            "text/plain": [
              "  Libell\u00e9   Produit  Prix  Quantite\n",
              "0    L123    meuble  1000         1\n",
              "1    L321  portable   500         2"
            ]
          },
          "execution_count": null,
          "metadata": {},
          "output_type": "execute_result"
        }
      ],
      "source": [
        "df4 = pandas.read_csv(\"exemple_fichier2.txt\", encoding=\"utf8\", sep=\";\", nrows=2)\n",
        "df4"
      ]
    },
    {
      "cell_type": "markdown",
      "metadata": {},
      "source": [
        "Ou encore une lecture par morceau de 2 lignes :"
      ]
    },
    {
      "cell_type": "code",
      "execution_count": null,
      "metadata": {
        "collapsed": false
      },
      "outputs": [
        {
          "name": "stdout",
          "output_type": "stream",
          "text": [
            "extrait 0\n",
            "  Libell\u00e9   Produit  Prix  Quantite\n",
            "0    L123    meuble  1000         1\n",
            "1    L321  portable   500         2\n",
            "extrait 1\n",
            "  Libell\u00e9 Produit  Prix  Quantite\n",
            "0    L333   lampe   100         4\n"
          ]
        }
      ],
      "source": [
        "reader = pandas.read_csv(\"exemple_fichier2.txt\", encoding=\"utf8\", sep=\";\", iterator=True, chunksize=2)\n",
        "for i, extrait in enumerate(reader):\n",
        "    print(\"extrait\",i)\n",
        "    print(extrait)"
      ]
    },
    {
      "cell_type": "code",
      "execution_count": null,
      "metadata": {
        "collapsed": true
      },
      "outputs": [],
      "source": []
    }
  ],
  "metadata": {
    "kernelspec": {
      "display_name": "Python 3",
      "language": "python",
      "name": "python3"
    },
    "language_info": {
      "codemirror_mode": {
        "name": "ipython",
        "version": 3
      },
      "file_extension": ".py",
      "mimetype": "text/x-python",
      "name": "python",
      "nbconvert_exporter": "python",
      "pygments_lexer": "ipython3",
      "version": "3.5.2"
    }
  },
  "nbformat": 4,
  "nbformat_minor": 0
}