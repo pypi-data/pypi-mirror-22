{
  "cells": [
    {
      "cell_type": "markdown",
      "metadata": {},
      "source": [
        "# Reconstruction de synonymes - \u00e9nonc\u00e9\n",
        "\n",
        "Ce notebook est plus un jeu. On r\u00e9cup\u00e8re d'abord des synonymes via la base [WOLF](http://alpage.inria.fr/~sagot/wolf-en.html). On ne garde que les synonymes compos\u00e9 d'un seul mot. On prend ensuite un texte quelconque qu'on d\u00e9coupe en phrase. Pour chaque phrase qu'on rencontre, on remplace des mots au hasard par leur synonymes. Chaque phrase sera pr\u00e9sente une fois \u00e0 l'identique et plusieurs fois avec des synonymes diff\u00e9rents. L'objectif est alors de proposer une m\u00e9thode pour reconstruire la base de synonymes."
      ]
    },
    {
      "cell_type": "code",
      "execution_count": null,
      "metadata": {
        "collapsed": false
      },
      "outputs": [
        {
          "data": {
            "text/html": [
              "<b>Plan</b>\n",
              "<div id=\"my_menu_id\">run previous cell, wait for 2 seconds</div>\n",
              "<script>\n",
              "function repeat_indent_string(n){\n",
              "    var a = \"\" ;\n",
              "    for ( ; n > 0 ; --n) {\n",
              "        a += \"    \";\n",
              "    }\n",
              "    return a;\n",
              "}\n",
              "var update_menu_string = function(begin, lfirst, llast, sformat, send) {\n",
              "    var anchors = document.getElementsByClassName(\"section\");\n",
              "    if (anchors.length == 0) {\n",
              "        anchors = document.getElementsByClassName(\"text_cell_render rendered_html\");\n",
              "    }\n",
              "    var i,t;\n",
              "    var text_menu = begin;\n",
              "    var text_memo = \"<pre>\\nlength:\" + anchors.length + \"\\n\";\n",
              "    var ind = \"\";\n",
              "    var memo_level = 1;\n",
              "    var href;\n",
              "    var tags = [];\n",
              "    for (i = 0; i <= llast; i++) {\n",
              "        tags.push(\"h\" + i);\n",
              "    }\n",
              "\n",
              "    for (i = 0; i < anchors.length; i++) {\n",
              "        text_memo += \"**\" + anchors[i].id + \"--\\n\";\n",
              "\n",
              "        var child = null;\n",
              "        for(t = 0; t < tags.length; t++) {\n",
              "            var r = anchors[i].getElementsByTagName(tags[t]);\n",
              "            if (r.length > 0) {\n",
              "child = r[0];\n",
              "break;\n",
              "            }\n",
              "        }\n",
              "        if (child == null){\n",
              "            text_memo += \"null\\n\";\n",
              "            continue;\n",
              "        }\n",
              "\n",
              "        if (anchors[i].hasAttribute(\"id\")) {\n",
              "            // when converted in RST\n",
              "            href = anchors[i].id;\n",
              "            text_memo += \"#1-\" + href;\n",
              "            // passer \u00e0 child suivant (le chercher)\n",
              "        }\n",
              "        else if (child.hasAttribute(\"id\")) {\n",
              "            // in a notebook\n",
              "            href = child.id;\n",
              "            text_memo += \"#2-\" + href;\n",
              "        }\n",
              "        else {\n",
              "            text_memo += \"#3-\" + \"*\" + \"\\n\";\n",
              "            continue;\n",
              "        }\n",
              "        var title = child.textContent;\n",
              "        var level = parseInt(child.tagName.substring(1,2));\n",
              "\n",
              "        text_memo += \"--\" + level + \"?\" + lfirst + \"--\" + title + \"\\n\";\n",
              "\n",
              "        if ((level < lfirst) || (level > llast)) {\n",
              "            continue ;\n",
              "        }\n",
              "        if (title.endsWith('\u00b6')) {\n",
              "            title = title.substring(0,title.length-1).replace(\"<\", \"&lt;\").replace(\">\", \"&gt;\").replace(\"&\", \"&amp;\")\n",
              "        }\n",
              "\n",
              "        if (title.length == 0) {\n",
              "            continue;\n",
              "        }\n",
              "        while (level > memo_level) {\n",
              "            text_menu += \"<ul>\\n\";\n",
              "            memo_level += 1;\n",
              "        }\n",
              "        while (level < memo_level) {\n",
              "            text_menu += \"</ul>\\n\";\n",
              "            memo_level -= 1;\n",
              "        }\n",
              "        text_menu += repeat_indent_string(level-2) + sformat.replace(\"__HREF__\", href).replace(\"__TITLE__\", title);\n",
              "    }\n",
              "    while (1 < memo_level) {\n",
              "        text_menu += \"</ul>\\n\";\n",
              "        memo_level -= 1;\n",
              "    }\n",
              "    text_menu += send;\n",
              "    //text_menu += \"\\n\" + text_memo;\n",
              "    return text_menu;\n",
              "};\n",
              "var update_menu = function() {\n",
              "    var sbegin = \"\";\n",
              "    var sformat = '<li><a href=\"#__HREF__\">__TITLE__</a></li>';\n",
              "    var send = \"\";\n",
              "    var text_menu = update_menu_string(sbegin, 2, 4, sformat, send);\n",
              "    var menu = document.getElementById(\"my_menu_id\");\n",
              "    menu.innerHTML=text_menu;\n",
              "};\n",
              "window.setTimeout(update_menu,2000);\n",
              "            </script>"
            ],
            "text/plain": [
              "<IPython.core.display.HTML object>"
            ]
          },
          "execution_count": null,
          "metadata": {},
          "output_type": "execute_result"
        }
      ],
      "source": [
        "from jyquickhelper import add_notebook_menu\n",
        "add_notebook_menu()"
      ]
    },
    {
      "cell_type": "markdown",
      "metadata": {},
      "source": [
        "## Construction de la base de synonymes"
      ]
    },
    {
      "cell_type": "code",
      "execution_count": null,
      "metadata": {
        "collapsed": false
      },
      "outputs": [
        {
          "data": {
            "text/plain": [
              "['.\\\\wolf-1.0b4.xml.', 'debvisdic-strict.dtd']"
            ]
          },
          "execution_count": null,
          "metadata": {},
          "output_type": "execute_result"
        }
      ],
      "source": [
        "from actuariat_python.data import wolf_xml\n",
        "wolf_xml()"
      ]
    },
    {
      "cell_type": "code",
      "execution_count": null,
      "metadata": {
        "collapsed": false
      },
      "outputs": [
        {
          "name": "stdout",
          "output_type": "stream",
          "text": [
            "['respirer', 'inspirer']\n"
          ]
        }
      ],
      "source": [
        "from actuariat_python.data import enumerate_wolf_synonyms\n",
        "for syn in enumerate_wolf_synonyms(\"wolf-1.0b4.xml\"):\n",
        "    print(syn)\n",
        "    break"
      ]
    },
    {
      "cell_type": "markdown",
      "metadata": {},
      "source": [
        "On passe en revue toute la basse (il y a environ 120.000 lignes) et on s'arr\u00eate apr\u00e8s 10000 synonymes car sinon, cela prend un temps fou."
      ]
    },
    {
      "cell_type": "code",
      "execution_count": null,
      "metadata": {
        "collapsed": false,
        "scrolled": false
      },
      "outputs": [
        {
          "name": "stdout",
          "output_type": "stream",
          "text": [
            "line 0 allsyn 0\n"
          ]
        },
        {
          "data": {
            "text/plain": [
              "10002"
            ]
          },
          "execution_count": null,
          "metadata": {},
          "output_type": "execute_result"
        }
      ],
      "source": [
        "allsyn = {}\n",
        "for line, syn in enumerate(enumerate_wolf_synonyms(\"wolf-1.0b4.xml\")):\n",
        "    if line % 10000 == 0: print(\"line\", line, \"allsyn\", len(allsyn))\n",
        "    clean = [_.lower() for _ in syn if \" \" not in _]\n",
        "    if len(clean) > 1:\n",
        "        for word in clean:\n",
        "            if word not in allsyn:\n",
        "                allsyn[word] = set(clean)\n",
        "                continue\n",
        "            else:\n",
        "                for cl in clean:\n",
        "                    allsyn[word].add(cl)\n",
        "    if len(allsyn) > 10000:\n",
        "        break\n",
        "len(allsyn)"
      ]
    },
    {
      "cell_type": "markdown",
      "metadata": {},
      "source": [
        "On affiche les premiers groupes :"
      ]
    },
    {
      "cell_type": "code",
      "execution_count": null,
      "metadata": {
        "collapsed": false
      },
      "outputs": [
        {
          "name": "stdout",
          "output_type": "stream",
          "text": [
            "commerciable {'commercialisable', 'commerciable'}\n",
            "r\u00e9former {'corriger', 'rectifier', 'amender', 'rem\u00e9dier', 'lib\u00e9rer', 'am\u00e9liorer', 'd\u00e9livrer', 'r\u00e9former'}\n",
            "herbe {'voile', 'croisi\u00e8re', 'herbe'}\n",
            "bancal {'vacillant', 'vieux', 'branlant', 'd\u00e9labr\u00e9', 'chambranlant', 'bancal', 'caduc', 'chancelant', 'boiteux'}\n",
            "querelle {'diff\u00e9rend', 'dispute', 'querelle', 'litige', 'contravention'}\n",
            "explicitement {'clairement', 'explicitement', '\u00e9videmment', 'univoquement'}\n",
            "extraconjugal {'adult\u00e8re', 'extraconjugal'}\n",
            "m\u00e9ticuleusement {'m\u00e9ticuleusement', 'soigneusement'}\n",
            "\u00e9paul\u00e9-jet\u00e9 {'propre', '\u00e9paul\u00e9-jet\u00e9', 'pur'}\n",
            "arcade {'arcade', 'arc'}\n",
            "majoritairement {'primordialement', 'majoritairement'}\n"
          ]
        }
      ],
      "source": [
        "i = 0\n",
        "for k, v in allsyn.items():\n",
        "    print(k,v)\n",
        "    i += 1\n",
        "    if i > 10:\n",
        "        break"
      ]
    },
    {
      "cell_type": "markdown",
      "metadata": {},
      "source": [
        "## G\u00e9n\u00e9ration d'une base de phrases modifi\u00e9es\n",
        "\n",
        "On utilise [Zadig](https://fr.wikipedia.org/wiki/Zadig)."
      ]
    },
    {
      "cell_type": "code",
      "execution_count": null,
      "metadata": {
        "collapsed": false
      },
      "outputs": [],
      "source": [
        "import urllib.request\n",
        "with urllib.request.urlopen(\"http://www.gutenberg.org/cache/epub/4647/pg4647.txt\") as u:\n",
        "    content = u.read()"
      ]
    },
    {
      "cell_type": "code",
      "execution_count": null,
      "metadata": {
        "collapsed": true
      },
      "outputs": [],
      "source": [
        "char = content.decode(encoding=\"utf-8\")"
      ]
    },
    {
      "cell_type": "markdown",
      "metadata": {},
      "source": [
        "On d\u00e9coupe en mot."
      ]
    },
    {
      "cell_type": "code",
      "execution_count": null,
      "metadata": {
        "collapsed": false
      },
      "outputs": [],
      "source": [
        "import re\n",
        "reg = re.compile(\"([- a-zA-Z\u00e2\u00e0\u00e4\u00e9\u00e8\u00eb\u00ea\u00ee\u00ef\u00f4\u00f6\u00f9\u00fb\u00fc']+)\")\n",
        "phrases = [_.lower() for _ in reg.findall(char)]"
      ]
    },
    {
      "cell_type": "code",
      "execution_count": null,
      "metadata": {
        "collapsed": false
      },
      "outputs": [
        {
          "name": "stdout",
          "output_type": "stream",
          "text": [
            "desterham\n",
            " il parla en ces termes\n",
            "toiles de justice\n",
            " ab\u00eemes de science\n",
            " miroirs de v\u00e9rit\u00e9\n",
            " qui\n",
            "avez la pesanteur du plomb\n",
            " la duret\u00e9 du fer\n",
            " l'\u00e9clat du diamant\n",
            "et beaucoup d'affinit\u00e9 avec l'or\n",
            " puisqu'il m'est permis de\n"
          ]
        }
      ],
      "source": [
        "for i, phrase in enumerate(phrases):\n",
        "    if i >= 990:\n",
        "        print(phrase)\n",
        "    if i >= 1000:\n",
        "        break"
      ]
    },
    {
      "cell_type": "markdown",
      "metadata": {},
      "source": [
        "On g\u00e9n\u00e8re les phrases modifi\u00e9es :"
      ]
    },
    {
      "cell_type": "code",
      "execution_count": null,
      "metadata": {
        "collapsed": false
      },
      "outputs": [
        {
          "data": {
            "text/plain": [
              "[['vibrer', 'le', 'intellectuel'],\n",
              " ['chatouiller', 'le', 'obscur'],\n",
              " ['chatouiller', 'le', 'intellectuel'],\n",
              " ['chatouiller', 'le', '\u00e9sot\u00e9rique'],\n",
              " ['chatouiller', 'le', 'c\u00e9r\u00e9bral']]"
            ]
          },
          "execution_count": null,
          "metadata": {},
          "output_type": "execute_result"
        }
      ],
      "source": [
        "import random\n",
        "def modification(phrase, allsyn, nmax=10):\n",
        "    mots = phrase.split()\n",
        "    options = []\n",
        "    nb = 1\n",
        "    for mot in mots:\n",
        "        if mot in allsyn:\n",
        "            options.append(list(set([mot] + list(allsyn[mot]))))\n",
        "        else:\n",
        "            options.append([mot])\n",
        "        nb *= len(options[-1])\n",
        "    if nb == 1:\n",
        "        return [phrase]\n",
        "    else:\n",
        "        res = []\n",
        "        for i in range(0, min(nmax, nb//2+1, nb)):\n",
        "            sol = []\n",
        "            for mot in options:\n",
        "                h = random.randint(0, len(mot)-1)\n",
        "                sol.append(mot[h])\n",
        "            res.append(sol)\n",
        "        return res\n",
        "            \n",
        "modification(\"chatouiller le c\u00e9r\u00e9bral\", allsyn)"
      ]
    },
    {
      "cell_type": "markdown",
      "metadata": {},
      "source": [
        "On traite tous les mots :"
      ]
    },
    {
      "cell_type": "code",
      "execution_count": null,
      "metadata": {
        "collapsed": false
      },
      "outputs": [
        {
          "data": {
            "text/plain": [
              "7099"
            ]
          },
          "execution_count": null,
          "metadata": {},
          "output_type": "execute_result"
        }
      ],
      "source": [
        "len(phrases)"
      ]
    },
    {
      "cell_type": "code",
      "execution_count": null,
      "metadata": {
        "collapsed": false
      },
      "outputs": [
        {
          "data": {
            "text/plain": [
              "('total', 32358, 'initial', 7099)"
            ]
          },
          "execution_count": null,
          "metadata": {},
          "output_type": "execute_result"
        }
      ],
      "source": [
        "with open(\"zadig_augmente.txt\", \"w\", encoding=\"utf-8\") as f:\n",
        "    total = 0\n",
        "    init = 0\n",
        "    for i, phrase in enumerate(phrases):\n",
        "        augm = modification(phrase, allsyn)\n",
        "        init += 1\n",
        "        for au in augm:\n",
        "            f.write(\" \".join(au) + \"\\n\")\n",
        "            total += 1\n",
        "\"total\", total, \"initial\", init"
      ]
    },
    {
      "cell_type": "markdown",
      "metadata": {},
      "source": [
        "## Exercice : retrouver une partie des synonymes \u00e0 partir du dernier fichier cr\u00e9\u00e9\n",
        "\n",
        "Le fichier utilis\u00e9 peut \u00eatre g\u00e9n\u00e9r\u00e9 \u00e0 partir du code pr\u00e9c\u00e9dent ou utiliser cette version : [zadig_augmente.zip](http://www.xavierdupre.fr/enseignement/complements/zadig_augmente.zip)."
      ]
    },
    {
      "cell_type": "code",
      "execution_count": null,
      "metadata": {
        "collapsed": false
      },
      "outputs": [
        {
          "data": {
            "text/plain": [
              "['zadig_augmente.txt']"
            ]
          },
          "execution_count": null,
          "metadata": {},
          "output_type": "execute_result"
        }
      ],
      "source": [
        "import pyensae\n",
        "pyensae.download_data(\"zadig_augmente.zip\")"
      ]
    },
    {
      "cell_type": "code",
      "execution_count": null,
      "metadata": {
        "collapsed": true
      },
      "outputs": [],
      "source": []
    }
  ],
  "metadata": {
    "kernelspec": {
      "display_name": "Python 3",
      "language": "python",
      "name": "python3"
    },
    "language_info": {
      "codemirror_mode": {
        "name": "ipython",
        "version": 3
      },
      "file_extension": ".py",
      "mimetype": "text/x-python",
      "name": "python",
      "nbconvert_exporter": "python",
      "pygments_lexer": "ipython3",
      "version": "3.5.2"
    }
  },
  "nbformat": 4,
  "nbformat_minor": 0
}