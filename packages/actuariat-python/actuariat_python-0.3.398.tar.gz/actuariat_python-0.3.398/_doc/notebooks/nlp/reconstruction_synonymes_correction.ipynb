{
  "cells": [
    {
      "cell_type": "markdown",
      "metadata": {},
      "source": [
        "# Reconstruction de synonymes - correction\n",
        "\n",
        "On s'int\u00e9resse la construction automatiquement de synonymes. En r\u00e9sum\u00e9 :\n",
        "\n",
        "* les synonymes via la base [WOLF](http://alpage.inria.fr/~sagot/wolf-en.html)\n",
        "* on ne garde que les synonymes compos\u00e9 d'un seul mot\n",
        "* on prend ensuite un texte quelconque qu'on d\u00e9coupe en phrase\n",
        "* pour chaque phrase qu'on rencontre, on remplace des mots au hasard par leur synonymes\n",
        "* chaque phrase sera pr\u00e9sente une fois \u00e0 l'identique et plusieurs fois avec des synonymes diff\u00e9rents\n",
        "\n",
        "L'objectif est alors de proposer une m\u00e9thode pour reconstruire la base de synonymes."
      ]
    },
    {
      "cell_type": "code",
      "execution_count": null,
      "metadata": {
        "collapsed": false
      },
      "outputs": [
        {
          "data": {
            "text/html": [
              "<b>Plan</b>\n",
              "<div id=\"my_menu_id\">run previous cell, wait for 2 seconds</div>\n",
              "<script>\n",
              "function repeat_indent_string(n){\n",
              "    var a = \"\" ;\n",
              "    for ( ; n > 0 ; --n) {\n",
              "        a += \"    \";\n",
              "    }\n",
              "    return a;\n",
              "}\n",
              "var update_menu_string = function(begin, lfirst, llast, sformat, send) {\n",
              "    var anchors = document.getElementsByClassName(\"section\");\n",
              "    if (anchors.length == 0) {\n",
              "        anchors = document.getElementsByClassName(\"text_cell_render rendered_html\");\n",
              "    }\n",
              "    var i,t;\n",
              "    var text_menu = begin;\n",
              "    var text_memo = \"<pre>\\nlength:\" + anchors.length + \"\\n\";\n",
              "    var ind = \"\";\n",
              "    var memo_level = 1;\n",
              "    var href;\n",
              "    var tags = [];\n",
              "    for (i = 0; i <= llast; i++) {\n",
              "        tags.push(\"h\" + i);\n",
              "    }\n",
              "\n",
              "    for (i = 0; i < anchors.length; i++) {\n",
              "        text_memo += \"**\" + anchors[i].id + \"--\\n\";\n",
              "\n",
              "        var child = null;\n",
              "        for(t = 0; t < tags.length; t++) {\n",
              "            var r = anchors[i].getElementsByTagName(tags[t]);\n",
              "            if (r.length > 0) {\n",
              "child = r[0];\n",
              "break;\n",
              "            }\n",
              "        }\n",
              "        if (child == null){\n",
              "            text_memo += \"null\\n\";\n",
              "            continue;\n",
              "        }\n",
              "\n",
              "        if (anchors[i].hasAttribute(\"id\")) {\n",
              "            // when converted in RST\n",
              "            href = anchors[i].id;\n",
              "            text_memo += \"#1-\" + href;\n",
              "            // passer \u00e0 child suivant (le chercher)\n",
              "        }\n",
              "        else if (child.hasAttribute(\"id\")) {\n",
              "            // in a notebook\n",
              "            href = child.id;\n",
              "            text_memo += \"#2-\" + href;\n",
              "        }\n",
              "        else {\n",
              "            text_memo += \"#3-\" + \"*\" + \"\\n\";\n",
              "            continue;\n",
              "        }\n",
              "        var title = child.textContent;\n",
              "        var level = parseInt(child.tagName.substring(1,2));\n",
              "\n",
              "        text_memo += \"--\" + level + \"?\" + lfirst + \"--\" + title + \"\\n\";\n",
              "\n",
              "        if ((level < lfirst) || (level > llast)) {\n",
              "            continue ;\n",
              "        }\n",
              "        if (title.endsWith('\u00b6')) {\n",
              "            title = title.substring(0,title.length-1).replace(\"<\", \"&lt;\").replace(\">\", \"&gt;\").replace(\"&\", \"&amp;\")\n",
              "        }\n",
              "\n",
              "        if (title.length == 0) {\n",
              "            continue;\n",
              "        }\n",
              "        while (level > memo_level) {\n",
              "            text_menu += \"<ul>\\n\";\n",
              "            memo_level += 1;\n",
              "        }\n",
              "        while (level < memo_level) {\n",
              "            text_menu += \"</ul>\\n\";\n",
              "            memo_level -= 1;\n",
              "        }\n",
              "        text_menu += repeat_indent_string(level-2) + sformat.replace(\"__HREF__\", href).replace(\"__TITLE__\", title);\n",
              "    }\n",
              "    while (1 < memo_level) {\n",
              "        text_menu += \"</ul>\\n\";\n",
              "        memo_level -= 1;\n",
              "    }\n",
              "    text_menu += send;\n",
              "    //text_menu += \"\\n\" + text_memo;\n",
              "    return text_menu;\n",
              "};\n",
              "var update_menu = function() {\n",
              "    var sbegin = \"\";\n",
              "    var sformat = '<li><a href=\"#__HREF__\">__TITLE__</a></li>';\n",
              "    var send = \"\";\n",
              "    var text_menu = update_menu_string(sbegin, 2, 4, sformat, send);\n",
              "    var menu = document.getElementById(\"my_menu_id\");\n",
              "    menu.innerHTML=text_menu;\n",
              "};\n",
              "window.setTimeout(update_menu,2000);\n",
              "            </script>"
            ],
            "text/plain": [
              "<IPython.core.display.HTML object>"
            ]
          },
          "execution_count": null,
          "metadata": {},
          "output_type": "execute_result"
        }
      ],
      "source": [
        "from jyquickhelper import add_notebook_menu\n",
        "add_notebook_menu()"
      ]
    },
    {
      "cell_type": "markdown",
      "metadata": {},
      "source": [
        "## G\u00e9n\u00e9ration des donn\u00e9es"
      ]
    },
    {
      "cell_type": "markdown",
      "metadata": {},
      "source": [
        "### Construction de la base de synonymes"
      ]
    },
    {
      "cell_type": "code",
      "execution_count": null,
      "metadata": {
        "collapsed": false
      },
      "outputs": [
        {
          "data": {
            "text/plain": [
              "['.\\\\wolf-1.0b4.xml.', 'debvisdic-strict.dtd']"
            ]
          },
          "execution_count": null,
          "metadata": {},
          "output_type": "execute_result"
        }
      ],
      "source": [
        "from actuariat_python.data import wolf_xml\n",
        "wolf_xml()"
      ]
    },
    {
      "cell_type": "code",
      "execution_count": null,
      "metadata": {
        "collapsed": false
      },
      "outputs": [
        {
          "name": "stdout",
          "output_type": "stream",
          "text": [
            "['respirer', 'inspirer']\n"
          ]
        }
      ],
      "source": [
        "from actuariat_python.data import enumerate_wolf_synonyms\n",
        "for syn in enumerate_wolf_synonyms(\"wolf-1.0b4.xml\"):\n",
        "    print(syn)\n",
        "    break"
      ]
    },
    {
      "cell_type": "markdown",
      "metadata": {},
      "source": [
        "On passe en revue toute la basse (il y a environ 120.000 lignes) et on s'arr\u00eate apr\u00e8s 10000 synonymes car sinon, cela prend un temps fou."
      ]
    },
    {
      "cell_type": "code",
      "execution_count": null,
      "metadata": {
        "collapsed": false,
        "scrolled": false
      },
      "outputs": [
        {
          "name": "stdout",
          "output_type": "stream",
          "text": [
            "line 0 allsyn 0\n"
          ]
        },
        {
          "data": {
            "text/plain": [
              "10002"
            ]
          },
          "execution_count": null,
          "metadata": {},
          "output_type": "execute_result"
        }
      ],
      "source": [
        "allsyn = {}\n",
        "for line, syn in enumerate(enumerate_wolf_synonyms(\"wolf-1.0b4.xml\")):\n",
        "    if line % 10000 == 0: print(\"line\", line, \"allsyn\", len(allsyn))\n",
        "    clean = [_.lower() for _ in syn if \" \" not in _]\n",
        "    if len(clean) > 1:\n",
        "        for word in clean:\n",
        "            if word not in allsyn:\n",
        "                allsyn[word] = set(clean)\n",
        "                continue\n",
        "            else:\n",
        "                for cl in clean:\n",
        "                    allsyn[word].add(cl)\n",
        "    if len(allsyn) > 10000:\n",
        "        break\n",
        "len(allsyn)"
      ]
    },
    {
      "cell_type": "markdown",
      "metadata": {},
      "source": [
        "On affiche les premiers groupes :"
      ]
    },
    {
      "cell_type": "code",
      "execution_count": null,
      "metadata": {
        "collapsed": false
      },
      "outputs": [
        {
          "name": "stdout",
          "output_type": "stream",
          "text": [
            "commerciable {'commercialisable', 'commerciable'}\n",
            "r\u00e9former {'corriger', 'rectifier', 'amender', 'rem\u00e9dier', 'lib\u00e9rer', 'am\u00e9liorer', 'd\u00e9livrer', 'r\u00e9former'}\n",
            "herbe {'voile', 'croisi\u00e8re', 'herbe'}\n",
            "bancal {'vacillant', 'vieux', 'branlant', 'd\u00e9labr\u00e9', 'chambranlant', 'bancal', 'caduc', 'chancelant', 'boiteux'}\n",
            "querelle {'diff\u00e9rend', 'dispute', 'querelle', 'litige', 'contravention'}\n",
            "explicitement {'clairement', 'explicitement', '\u00e9videmment', 'univoquement'}\n",
            "extraconjugal {'adult\u00e8re', 'extraconjugal'}\n",
            "m\u00e9ticuleusement {'m\u00e9ticuleusement', 'soigneusement'}\n",
            "\u00e9paul\u00e9-jet\u00e9 {'propre', '\u00e9paul\u00e9-jet\u00e9', 'pur'}\n",
            "arcade {'arcade', 'arc'}\n",
            "majoritairement {'primordialement', 'majoritairement'}\n"
          ]
        }
      ],
      "source": [
        "i = 0\n",
        "for k, v in allsyn.items():\n",
        "    print(k,v)\n",
        "    i += 1\n",
        "    if i > 10:\n",
        "        break"
      ]
    },
    {
      "cell_type": "markdown",
      "metadata": {},
      "source": [
        "### G\u00e9n\u00e9ration d'une base de phrases modifi\u00e9es\n",
        "\n",
        "On utilise [Zadig](https://fr.wikipedia.org/wiki/Zadig)."
      ]
    },
    {
      "cell_type": "code",
      "execution_count": null,
      "metadata": {
        "collapsed": false
      },
      "outputs": [],
      "source": [
        "import urllib.request\n",
        "with urllib.request.urlopen(\"http://www.gutenberg.org/cache/epub/4647/pg4647.txt\") as u:\n",
        "    content = u.read()"
      ]
    },
    {
      "cell_type": "code",
      "execution_count": null,
      "metadata": {
        "collapsed": true
      },
      "outputs": [],
      "source": [
        "char = content.decode(encoding=\"utf-8\")"
      ]
    },
    {
      "cell_type": "markdown",
      "metadata": {},
      "source": [
        "On d\u00e9coupe en mot."
      ]
    },
    {
      "cell_type": "code",
      "execution_count": null,
      "metadata": {
        "collapsed": false
      },
      "outputs": [],
      "source": [
        "import re\n",
        "reg = re.compile(\"([- a-zA-Z\u00e2\u00e0\u00e4\u00e9\u00e8\u00eb\u00ea\u00ee\u00ef\u00f4\u00f6\u00f9\u00fb\u00fc']+)\")\n",
        "phrases = [_.lower() for _ in reg.findall(char)]"
      ]
    },
    {
      "cell_type": "code",
      "execution_count": null,
      "metadata": {
        "collapsed": false
      },
      "outputs": [
        {
          "name": "stdout",
          "output_type": "stream",
          "text": [
            "desterham\n",
            " il parla en ces termes\n",
            "toiles de justice\n",
            " ab\u00eemes de science\n",
            " miroirs de v\u00e9rit\u00e9\n",
            " qui\n",
            "avez la pesanteur du plomb\n",
            " la duret\u00e9 du fer\n",
            " l'\u00e9clat du diamant\n",
            "et beaucoup d'affinit\u00e9 avec l'or\n",
            " puisqu'il m'est permis de\n"
          ]
        }
      ],
      "source": [
        "for i, phrase in enumerate(phrases):\n",
        "    if i >= 990:\n",
        "        print(phrase)\n",
        "    if i >= 1000:\n",
        "        break"
      ]
    },
    {
      "cell_type": "markdown",
      "metadata": {},
      "source": [
        "On g\u00e9n\u00e8re les phrases modifi\u00e9es :"
      ]
    },
    {
      "cell_type": "code",
      "execution_count": null,
      "metadata": {
        "collapsed": false
      },
      "outputs": [
        {
          "data": {
            "text/plain": [
              "[['vibrer', 'le', 'intellectuel'],\n",
              " ['chatouiller', 'le', 'obscur'],\n",
              " ['chatouiller', 'le', 'intellectuel'],\n",
              " ['chatouiller', 'le', '\u00e9sot\u00e9rique'],\n",
              " ['chatouiller', 'le', 'c\u00e9r\u00e9bral']]"
            ]
          },
          "execution_count": null,
          "metadata": {},
          "output_type": "execute_result"
        }
      ],
      "source": [
        "import random\n",
        "def modification(phrase, allsyn, nmax=10):\n",
        "    mots = phrase.split()\n",
        "    options = []\n",
        "    nb = 1\n",
        "    for mot in mots:\n",
        "        if mot in allsyn:\n",
        "            options.append(list(set([mot] + list(allsyn[mot]))))\n",
        "        else:\n",
        "            options.append([mot])\n",
        "        nb *= len(options[-1])\n",
        "    if nb == 1:\n",
        "        return [phrase]\n",
        "    else:\n",
        "        res = []\n",
        "        for i in range(0, min(nmax, nb//2+1, nb)):\n",
        "            sol = []\n",
        "            for mot in options:\n",
        "                h = random.randint(0, len(mot)-1)\n",
        "                sol.append(mot[h])\n",
        "            res.append(sol)\n",
        "        return res\n",
        "            \n",
        "modification(\"chatouiller le c\u00e9r\u00e9bral\", allsyn)"
      ]
    },
    {
      "cell_type": "markdown",
      "metadata": {},
      "source": [
        "On traite tous les mots :"
      ]
    },
    {
      "cell_type": "code",
      "execution_count": null,
      "metadata": {
        "collapsed": false
      },
      "outputs": [
        {
          "data": {
            "text/plain": [
              "7099"
            ]
          },
          "execution_count": null,
          "metadata": {},
          "output_type": "execute_result"
        }
      ],
      "source": [
        "len(phrases)"
      ]
    },
    {
      "cell_type": "code",
      "execution_count": null,
      "metadata": {
        "collapsed": false
      },
      "outputs": [
        {
          "data": {
            "text/plain": [
              "('total', 32358, 'initial', 7099)"
            ]
          },
          "execution_count": null,
          "metadata": {},
          "output_type": "execute_result"
        }
      ],
      "source": [
        "with open(\"zadig_augmente.txt\", \"w\", encoding=\"utf-8\") as f:\n",
        "    total = 0\n",
        "    init = 0\n",
        "    for i, phrase in enumerate(phrases):\n",
        "        augm = modification(phrase, allsyn)\n",
        "        init += 1\n",
        "        for au in augm:\n",
        "            f.write(\" \".join(au) + \"\\n\")\n",
        "            total += 1\n",
        "\"total\", total, \"initial\", init"
      ]
    },
    {
      "cell_type": "markdown",
      "metadata": {},
      "source": [
        "## Exercice : retrouver une partie des synonymes \u00e0 partir du dernier fichier cr\u00e9\u00e9\n",
        "\n",
        "Le fichier utilis\u00e9 peut \u00eatre g\u00e9n\u00e9r\u00e9 \u00e0 partir du code pr\u00e9c\u00e9dent ou utiliser cette version : [zadig_augmente.zip](http://www.xavierdupre.fr/enseignement/complements/zadig_augmente.zip)."
      ]
    },
    {
      "cell_type": "code",
      "execution_count": null,
      "metadata": {
        "collapsed": false
      },
      "outputs": [
        {
          "data": {
            "text/plain": [
              "['zadig_augmente.txt']"
            ]
          },
          "execution_count": null,
          "metadata": {},
          "output_type": "execute_result"
        }
      ],
      "source": [
        "import pyensae\n",
        "pyensae.download_data(\"zadig_augmente.zip\")"
      ]
    },
    {
      "cell_type": "markdown",
      "metadata": {},
      "source": [
        "On lit le texte pour voir un peu de qu'il contient :"
      ]
    },
    {
      "cell_type": "code",
      "execution_count": null,
      "metadata": {
        "collapsed": false
      },
      "outputs": [
        {
          "data": {
            "text/plain": [
              "32358"
            ]
          },
          "execution_count": null,
          "metadata": {},
          "output_type": "execute_result"
        }
      ],
      "source": [
        "with open(\"zadig_augmente.txt\", \"r\", encoding=\"utf-8\") as f:\n",
        "    lines = f.readlines()\n",
        "len(lines)"
      ]
    },
    {
      "cell_type": "code",
      "execution_count": null,
      "metadata": {
        "collapsed": false
      },
      "outputs": [
        {
          "data": {
            "text/plain": [
              "['pas r\u00e9pondit rien\\n',\n",
              " 'ne r\u00e9pondit rien\\n',\n",
              " 'non r\u00e9pondit rien\\n',\n",
              " '  e t   a l l a\\n',\n",
              " \"jeter voix mari l'envieux\\n\"]"
            ]
          },
          "execution_count": null,
          "metadata": {},
          "output_type": "execute_result"
        }
      ],
      "source": [
        "lines[10000:10005]"
      ]
    },
    {
      "cell_type": "markdown",
      "metadata": {},
      "source": [
        "On supprime les caract\u00e8res ind\u00e9sirables avec la fonction [strip](https://docs.python.org/3.4/library/stdtypes.html#str.strip) :"
      ]
    },
    {
      "cell_type": "code",
      "execution_count": null,
      "metadata": {
        "collapsed": false
      },
      "outputs": [
        {
          "data": {
            "text/plain": [
              "['pas r\u00e9pondit rien',\n",
              " 'ne r\u00e9pondit rien',\n",
              " 'non r\u00e9pondit rien',\n",
              " 'e t   a l l a',\n",
              " \"jeter voix mari l'envieux\"]"
            ]
          },
          "execution_count": null,
          "metadata": {},
          "output_type": "execute_result"
        }
      ],
      "source": [
        "lines = [ line.strip(\"\\n \\t\\r\") for line in lines ]\n",
        "lines[10000:10005]"
      ]
    },
    {
      "cell_type": "markdown",
      "metadata": {},
      "source": [
        "Pour d\u00e9tecter les synonymes, on imagine le processus suivant qu'on pourra am\u00e9liorer au vu des premiers r\u00e9sultats :"
      ]
    },
    {
      "cell_type": "code",
      "execution_count": null,
      "metadata": {
        "collapsed": false
      },
      "outputs": [
        {
          "data": {
            "image/png": "[encoded data removed]",
            "text/plain": [
              "<IPython.core.display.Image object>"
            ]
          },
          "execution_count": null,
          "metadata": {},
          "output_type": "execute_result"
        }
      ],
      "source": [
        "from pyquickhelper.helpgen import NbImage\n",
        "NbImage(\"synoym.png\")"
      ]
    },
    {
      "cell_type": "markdown",
      "metadata": {},
      "source": [
        "On supprime les phrases qui incluent des espaces entre chaque lettre. On a la choix entre les garder, les jeter ou les corriger. On choisit l'option la plus simple : les jeter quitte \u00e0 y revenir plus tard. Si un espace existe en chaque lettre, cela veut que le nombre de lettres (sans espace) est \u00e9gal au nombre de mot."
      ]
    },
    {
      "cell_type": "code",
      "execution_count": null,
      "metadata": {
        "collapsed": false
      },
      "outputs": [
        {
          "data": {
            "text/plain": [
              "(29378, 32358)"
            ]
          },
          "execution_count": null,
          "metadata": {},
          "output_type": "execute_result"
        }
      ],
      "source": [
        "garde = []\n",
        "for line in lines:\n",
        "    nbchar = len(line.replace(\" \", \"\"))\n",
        "    nbword = len(line.split())\n",
        "    if nbchar > nbword:\n",
        "        garde.append(line)\n",
        "len(garde), len(lines)"
      ]
    },
    {
      "cell_type": "code",
      "execution_count": null,
      "metadata": {
        "collapsed": false
      },
      "outputs": [
        {
          "data": {
            "text/plain": [
              "['copyright laws for your country before downloading dor\u00e9 redistributing',\n",
              " 'copyright laws for your country before downloading or redistributing',\n",
              " 'this or any other project gutenberg file',\n",
              " 'this or any other project gutenberg file',\n",
              " 'do not change or edit it without written permission']"
            ]
          },
          "execution_count": null,
          "metadata": {},
          "output_type": "execute_result"
        }
      ],
      "source": [
        "garde[:5]"
      ]
    },
    {
      "cell_type": "markdown",
      "metadata": {},
      "source": [
        "On d\u00e9coupe en mot avec la fonction [split](https://docs.python.org/3.4/library/stdtypes.html#str.split) :"
      ]
    },
    {
      "cell_type": "code",
      "execution_count": null,
      "metadata": {
        "collapsed": false
      },
      "outputs": [
        {
          "data": {
            "text/plain": [
              "[['copyright',\n",
              "  'laws',\n",
              "  'for',\n",
              "  'your',\n",
              "  'country',\n",
              "  'before',\n",
              "  'downloading',\n",
              "  'dor\u00e9',\n",
              "  'redistributing'],\n",
              " ['copyright',\n",
              "  'laws',\n",
              "  'for',\n",
              "  'your',\n",
              "  'country',\n",
              "  'before',\n",
              "  'downloading',\n",
              "  'or',\n",
              "  'redistributing'],\n",
              " ['this', 'or', 'any', 'other', 'project', 'gutenberg', 'file'],\n",
              " ['this', 'or', 'any', 'other', 'project', 'gutenberg', 'file'],\n",
              " ['do',\n",
              "  'not',\n",
              "  'change',\n",
              "  'or',\n",
              "  'edit',\n",
              "  'it',\n",
              "  'without',\n",
              "  'written',\n",
              "  'permission']]"
            ]
          },
          "execution_count": null,
          "metadata": {},
          "output_type": "execute_result"
        }
      ],
      "source": [
        "mots = [line.split() for line in garde]\n",
        "mots[:5]"
      ]
    },
    {
      "cell_type": "markdown",
      "metadata": {},
      "source": [
        "On code les petits bouts :"
      ]
    },
    {
      "cell_type": "code",
      "execution_count": null,
      "metadata": {
        "collapsed": false
      },
      "outputs": [
        {
          "name": "stdout",
          "output_type": "stream",
          "text": [
            "['copyright', 'laws', 'for', 'your', 'country', 'before', 'downloading', 'dor\u00e9', 'redistributing']\n",
            "['copyright', 'laws', 'for', 'your', 'country', 'before', 'downloading', 'or', 'redistributing']\n"
          ]
        },
        {
          "data": {
            "text/plain": [
              "0.8888888888888888"
            ]
          },
          "execution_count": null,
          "metadata": {},
          "output_type": "execute_result"
        }
      ],
      "source": [
        "def pourcentage_mots_communs(p1, p2):\n",
        "    n = 0\n",
        "    for p in p1:\n",
        "        if p in p2:\n",
        "            n += 1\n",
        "    return n * 1.0 / max(len(p1),len(p2))\n",
        "\n",
        "p1, p2 = mots[0:2]\n",
        "print(p1)\n",
        "print(p2)\n",
        "pourcentage_mots_communs(p1, p2)"
      ]
    },
    {
      "cell_type": "markdown",
      "metadata": {},
      "source": [
        "Et l'autre :"
      ]
    },
    {
      "cell_type": "code",
      "execution_count": null,
      "metadata": {
        "collapsed": false
      },
      "outputs": [
        {
          "name": "stdout",
          "output_type": "stream",
          "text": [
            "['a', 'a', 'b', 'c']\n",
            "['a', 'f', 'g']\n"
          ]
        },
        {
          "data": {
            "text/plain": [
              "(['b', 'c'], ['f', 'g'])"
            ]
          },
          "execution_count": null,
          "metadata": {},
          "output_type": "execute_result"
        }
      ],
      "source": [
        "def mots_differents(p1, p2):\n",
        "    diff1 = []\n",
        "    for p in p1:\n",
        "        if p not in p2:\n",
        "            diff1.append(p)\n",
        "    diff2 = []\n",
        "    for p in p2:\n",
        "        if p not in p1:\n",
        "            diff2.append(p)\n",
        "    return diff1, diff2\n",
        "\n",
        "#p1, p2 = mots[0:2]\n",
        "p1, p2 = [\"a\", \"a\", \"b\", \"c\"], [\"a\", \"f\", \"g\"]\n",
        "print(p1)\n",
        "print(p2)\n",
        "mots_differents(p1, p2)"
      ]
    },
    {
      "cell_type": "markdown",
      "metadata": {},
      "source": [
        "Pour la boucle final, on proc\u00e8de par \u00e9tape, on affiche des r\u00e9sultats interm\u00e9diaires : "
      ]
    },
    {
      "cell_type": "code",
      "execution_count": null,
      "metadata": {
        "collapsed": false
      },
      "outputs": [
        {
          "name": "stdout",
          "output_type": "stream",
          "text": [
            "----\n",
            "['copyright', 'laws', 'for', 'your', 'country', 'before', 'downloading', 'dor\u00e9', 'redistributing']\n",
            "['copyright', 'laws', 'for', 'your', 'country', 'before', 'downloading', 'or', 'redistributing']\n",
            "0.8888888888888888\n",
            "(['dor\u00e9'], ['or'])\n",
            "----\n",
            "['copyright', 'laws', 'for', 'your', 'country', 'before', 'downloading', 'or', 'redistributing']\n",
            "['this', 'or', 'any', 'other', 'project', 'gutenberg', 'file']\n",
            "0.1111111111111111\n",
            "(['copyright', 'laws', 'for', 'your', 'country', 'before', 'downloading', 'redistributing'], ['this', 'any', 'other', 'project', 'gutenberg', 'file'])\n",
            "----\n",
            "['this', 'or', 'any', 'other', 'project', 'gutenberg', 'file']\n",
            "['this', 'or', 'any', 'other', 'project', 'gutenberg', 'file']\n",
            "1.0\n",
            "([], [])\n",
            "----\n",
            "['this', 'or', 'any', 'other', 'project', 'gutenberg', 'file']\n",
            "['do', 'not', 'change', 'or', 'edit', 'it', 'without', 'written', 'permission']\n",
            "0.1111111111111111\n",
            "(['this', 'any', 'other', 'project', 'gutenberg', 'file'], ['do', 'not', 'change', 'edit', 'it', 'without', 'written', 'permission'])\n",
            "----\n",
            "['do', 'not', 'change', 'or', 'edit', 'it', 'without', 'written', 'permission']\n",
            "['do', 'not', 'change', 'dor\u00e9', 'edit', 'it', 'without', 'written', 'permission']\n",
            "0.8888888888888888\n",
            "(['or'], ['dor\u00e9'])\n"
          ]
        }
      ],
      "source": [
        "for i in range(0,len(mots)):\n",
        "    p1 = mots[i]\n",
        "    p2 = mots[i+1]\n",
        "    print(\"----\")\n",
        "    print(p1)\n",
        "    print(p2)\n",
        "    print(pourcentage_mots_communs(p1,p2))\n",
        "    print(mots_differents(p1,p2))\n",
        "    if i > 3 :\n",
        "        break"
      ]
    },
    {
      "cell_type": "markdown",
      "metadata": {},
      "source": [
        "On compl\u00e8te cette premi\u00e8re boucle en supposant qu'une bonne paire de synonymes doit provenir d'une paire de mots ayant en pourcentage de mots communs sup\u00e9rieur \u00e0 50% et une seule paire de synonymes :"
      ]
    },
    {
      "cell_type": "code",
      "execution_count": null,
      "metadata": {
        "collapsed": false
      },
      "outputs": [],
      "source": [
        "compteur = {}\n",
        "for i in range(0,len(mots)-1):\n",
        "    p1 = mots[i]\n",
        "    p2 = mots[i+1]\n",
        "    if pourcentage_mots_communs(p1, p2) >= 0.5:\n",
        "        diff1, diff2 = mots_differents(p1, p2)\n",
        "        if len(diff1) == len(diff2) == 1:\n",
        "            m1 = diff1[0]\n",
        "            m2 = diff2[0]\n",
        "            l = [m1, m2]\n",
        "            l.sort()  # on trie les deux mots pour aggr\u00e9ger les deux paires m1, m2 et m2, m1\n",
        "            key = tuple(l)  # une liste ne peut \u00eatre la cl\u00e9 d'un dictionnaire\n",
        "            if key not in compteur:\n",
        "                compteur[key] = 0\n",
        "            compteur[key] += 1"
      ]
    },
    {
      "cell_type": "markdown",
      "metadata": {},
      "source": [
        "On regarde le r\u00e9sultat en triant par ordre de fr\u00e9quence d\u00e9croissante :"
      ]
    },
    {
      "cell_type": "code",
      "execution_count": null,
      "metadata": {
        "collapsed": false
      },
      "outputs": [
        {
          "data": {
            "text/plain": [
              "[(1, ('dangereux', 'pr\u00e9caire')),\n",
              " (1, ('autoriser', '\u00eatre')),\n",
              " (1, ('alors', 'ok')),\n",
              " (1, ('cogitation', 'consid\u00e9ration')),\n",
              " (1, ('diff\u00e9rencier', 'gouverner'))]"
            ]
          },
          "execution_count": null,
          "metadata": {},
          "output_type": "execute_result"
        }
      ],
      "source": [
        "l = [ (compteur[k],k) for k in compteur]\n",
        "l[:5]"
      ]
    },
    {
      "cell_type": "code",
      "execution_count": null,
      "metadata": {
        "collapsed": false
      },
      "outputs": [
        {
          "data": {
            "text/plain": [
              "[(149, ('lombric', 'terre')),\n",
              " (149, ('de', 'lombric')),\n",
              " (142, ('terre', 'ver')),\n",
              " (141, ('de', 'terre')),\n",
              " (137, ('de', 'ver')),\n",
              " (118, ('lombric', 'ver')),\n",
              " (61, ('du', 'fl\u00e9tan')),\n",
              " (42, ('trois', 'un')),\n",
              " (41, ('1', 'trois')),\n",
              " (34, ('1', 'un')),\n",
              " (33, ('ne', 'niet')),\n",
              " (32, ('ne', 'non')),\n",
              " (31, ('niet', 'pas')),\n",
              " (31, ('1', '10')),\n",
              " (30, ('parlement', 'voix')),\n",
              " (29, ('dor\u00e9', 'or')),\n",
              " (29, ('10', 'trois')),\n",
              " (28, ('son', '\u00e9lu')),\n",
              " (28, ('son', 'voix')),\n",
              " (27, ('non', 'pas'))]"
            ]
          },
          "execution_count": null,
          "metadata": {},
          "output_type": "execute_result"
        }
      ],
      "source": [
        "l.sort(reverse=True)\n",
        "l[:20]"
      ]
    },
    {
      "cell_type": "markdown",
      "metadata": {},
      "source": [
        "## V\u00e9rifications\n",
        "\n",
        "Ces mots ne paraissent pas tr\u00e8s pertinents au regard de la langue fran\u00e7aise. La m\u00e9thode est n\u00e9anmoins valable si elle permet de retrouver des synonymes qui ont permis de g\u00e9n\u00e9rer ce texte *zadig_augmente.txt*."
      ]
    },
    {
      "cell_type": "code",
      "execution_count": null,
      "metadata": {
        "collapsed": false
      },
      "outputs": [
        {
          "data": {
            "text/plain": [
              "{'de', 'lombric', 'terre', 'ver'}"
            ]
          },
          "execution_count": null,
          "metadata": {},
          "output_type": "execute_result"
        }
      ],
      "source": [
        "allsyn.get(\"lombric\", None)"
      ]
    },
    {
      "cell_type": "code",
      "execution_count": null,
      "metadata": {
        "collapsed": false
      },
      "outputs": [
        {
          "data": {
            "text/plain": [
              "{'du', 'elbot', 'fl\u00e9tan'}"
            ]
          },
          "execution_count": null,
          "metadata": {},
          "output_type": "execute_result"
        }
      ],
      "source": [
        "allsyn.get(\"fl\u00e9tan\", None)"
      ]
    },
    {
      "cell_type": "code",
      "execution_count": null,
      "metadata": {
        "collapsed": false
      },
      "outputs": [
        {
          "data": {
            "text/plain": [
              "{'ne', 'niet', 'non', 'pas'}"
            ]
          },
          "execution_count": null,
          "metadata": {},
          "output_type": "execute_result"
        }
      ],
      "source": [
        "allsyn.get(\"niet\", None)"
      ]
    },
    {
      "cell_type": "markdown",
      "metadata": {
        "collapsed": true
      },
      "source": [
        "## Am\u00e9liorations"
      ]
    },
    {
      "cell_type": "markdown",
      "metadata": {},
      "source": [
        "### stop words"
      ]
    },
    {
      "cell_type": "code",
      "execution_count": null,
      "metadata": {
        "collapsed": true
      },
      "outputs": [],
      "source": [
        "stopwords = {\"de\", \"ou\", \"a\", \"un\", \"du\"}\n",
        "compteur = {}\n",
        "for i in range(0,len(mots)-1):\n",
        "    p1 = mots[i]\n",
        "    p2 = mots[i+1]\n",
        "    if pourcentage_mots_communs(p1, p2) >= 0.5:\n",
        "        diff1, diff2 = mots_differents(p1, p2)\n",
        "        if len(diff1) == len(diff2) == 1:\n",
        "            m1 = diff1[0]\n",
        "            m2 = diff2[0]\n",
        "            if m1 not in  stopwords and m2 not in stopwords:\n",
        "                l = [m1, m2]\n",
        "                l.sort()\n",
        "                key = tuple(l)\n",
        "                if key not in compteur:\n",
        "                    compteur[key] = 0\n",
        "                compteur[key] += 1"
      ]
    },
    {
      "cell_type": "code",
      "execution_count": null,
      "metadata": {
        "collapsed": false
      },
      "outputs": [
        {
          "data": {
            "text/plain": [
              "[(149, ('lombric', 'terre')),\n",
              " (142, ('terre', 'ver')),\n",
              " (118, ('lombric', 'ver')),\n",
              " (41, ('1', 'trois')),\n",
              " (33, ('ne', 'niet')),\n",
              " (32, ('ne', 'non')),\n",
              " (31, ('niet', 'pas')),\n",
              " (31, ('1', '10')),\n",
              " (30, ('parlement', 'voix')),\n",
              " (29, ('dor\u00e9', 'or')),\n",
              " (29, ('10', 'trois')),\n",
              " (28, ('son', '\u00e9lu')),\n",
              " (28, ('son', 'voix')),\n",
              " (27, ('non', 'pas')),\n",
              " (25, ('lorsque', 'que')),\n",
              " (23, ('voix', '\u00e9lu')),\n",
              " (21, ('parlement', 'son')),\n",
              " (21, ('m\u00eame', 'que')),\n",
              " (21, ('en', 'ult\u00e9rieurement')),\n",
              " (21, ('abeilles', 'reine'))]"
            ]
          },
          "execution_count": null,
          "metadata": {},
          "output_type": "execute_result"
        }
      ],
      "source": [
        "l = [ (compteur[k],k) for k in compteur]\n",
        "l.sort(reverse=True)\n",
        "l[:20]"
      ]
    },
    {
      "cell_type": "markdown",
      "metadata": {},
      "source": [
        "### prise en compte de plus ligne\n",
        "\n",
        "Et pas seulement deux lignes cons\u00e9cutives"
      ]
    },
    {
      "cell_type": "code",
      "execution_count": null,
      "metadata": {
        "collapsed": true
      },
      "outputs": [],
      "source": [
        "stopwords = {\"de\", \"ou\", \"a\", \"un\", \"du\"}\n",
        "compteur = {}\n",
        "for i in range(0,len(mots)-1):\n",
        "    p1 = mots[i]\n",
        "    for k in range(0,10):\n",
        "        if i+k >= len(mots):\n",
        "            break\n",
        "        p2 = mots[i+k]\n",
        "        if pourcentage_mots_communs(p1, p2) >= 0.5:\n",
        "            diff1, diff2 = mots_differents(p1, p2)\n",
        "            if len(diff1) == len(diff2) == 1:\n",
        "                m1 = diff1[0]\n",
        "                m2 = diff2[0]\n",
        "                if m1 not in  stopwords and m2 not in stopwords:\n",
        "                    l = [m1, m2]\n",
        "                    l.sort()\n",
        "                    key = tuple(l)\n",
        "                    if key not in compteur:\n",
        "                        compteur[key] = 0\n",
        "                    compteur[key] += 1"
      ]
    },
    {
      "cell_type": "code",
      "execution_count": null,
      "metadata": {
        "collapsed": false
      },
      "outputs": [
        {
          "data": {
            "text/plain": [
              "[(418, ('terre', 'ver')),\n",
              " (393, ('lombric', 'ver')),\n",
              " (392, ('lombric', 'terre')),\n",
              " (111, ('1', 'trois')),\n",
              " (110, ('10', 'trois')),\n",
              " (99, ('ne', 'niet')),\n",
              " (97, ('niet', 'pas')),\n",
              " (91, ('parlement', 'voix')),\n",
              " (91, ('ne', 'non')),\n",
              " (85, ('lorsque', 'que')),\n",
              " (83, ('son', '\u00e9lu')),\n",
              " (82, ('non', 'pas')),\n",
              " (80, ('1', '10')),\n",
              " (78, ('voix', '\u00e9lu')),\n",
              " (77, ('quand', 'que')),\n",
              " (77, ('ne', 'pas')),\n",
              " (77, ('lorsque', 'quand')),\n",
              " (76, ('niet', 'non')),\n",
              " (75, ('m\u00eame', 'que')),\n",
              " (72, ('son', 'voix'))]"
            ]
          },
          "execution_count": null,
          "metadata": {},
          "output_type": "execute_result"
        }
      ],
      "source": [
        "l = [ (compteur[k],k) for k in compteur]\n",
        "l.sort(reverse=True)\n",
        "l[:20]"
      ]
    },
    {
      "cell_type": "markdown",
      "metadata": {},
      "source": [
        "Ca ne change pas grand compte tenu de la fa\u00e7on dont la base a \u00e9t\u00e9 construite."
      ]
    },
    {
      "cell_type": "code",
      "execution_count": null,
      "metadata": {
        "collapsed": true
      },
      "outputs": [],
      "source": []
    }
  ],
  "metadata": {
    "kernelspec": {
      "display_name": "Python 3",
      "language": "python",
      "name": "python3"
    },
    "language_info": {
      "codemirror_mode": {
        "name": "ipython",
        "version": 3
      },
      "file_extension": ".py",
      "mimetype": "text/x-python",
      "name": "python",
      "nbconvert_exporter": "python",
      "pygments_lexer": "ipython3",
      "version": "3.5.2"
    }
  },
  "nbformat": 4,
  "nbformat_minor": 0
}