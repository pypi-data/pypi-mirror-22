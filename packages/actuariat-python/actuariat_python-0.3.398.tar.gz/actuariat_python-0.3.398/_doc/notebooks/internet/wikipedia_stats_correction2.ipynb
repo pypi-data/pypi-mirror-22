{
  "cells": [
    {
      "cell_type": "markdown",
      "metadata": {},
      "source": [
        "# Statistiques Wikipedia - correction (live)\n",
        "\n",
        "R\u00e9cup\u00e9ration de donn\u00e9es wikipedia Correction effectu\u00e9 le 4 octobre 2016."
      ]
    },
    {
      "cell_type": "code",
      "execution_count": null,
      "metadata": {
        "collapsed": false
      },
      "outputs": [],
      "source": [
        "import urllib.request\n",
        "with urllib.request.urlopen('http://www.lemonde.fr') as f:\n",
        "    content = f.read()"
      ]
    },
    {
      "cell_type": "code",
      "execution_count": null,
      "metadata": {
        "collapsed": false
      },
      "outputs": [
        {
          "name": "stdout",
          "output_type": "stream",
          "text": [
            "417304\n"
          ]
        }
      ],
      "source": [
        "c2 = content.decode(\"utf-8\")\n",
        "print(len(c2))"
      ]
    },
    {
      "cell_type": "code",
      "execution_count": null,
      "metadata": {
        "collapsed": true
      },
      "outputs": [],
      "source": [
        "with open(\"lemonde.txt\", \"w\", encoding=\"utf-8\") as f:\n",
        "    f.write(c2)"
      ]
    },
    {
      "cell_type": "code",
      "execution_count": null,
      "metadata": {
        "collapsed": false
      },
      "outputs": [
        {
          "name": "stdout",
          "output_type": "stream",
          "text": [
            "d\u00e9j\u00e0 t\u00e9l\u00e9charg\u00e9\n",
            "d\u00e9j\u00e0 d\u00e9compress\u00e9\n"
          ]
        },
        {
          "data": {
            "text/plain": [
              "'pageviews-20160902-060000.gz.txt'"
            ]
          },
          "execution_count": null,
          "metadata": {},
          "output_type": "execute_result"
        }
      ],
      "source": [
        "import urllib.request\n",
        "debut = \"https://dumps.wikimedia.org/other/pageviews/\"\n",
        "change = \"2016/2016-09/pageviews-20160901-200000.gz\"\n",
        "\n",
        "def telecharge_wiki_stat(annee, mois, jour, heure):\n",
        "    fin = \"%04d/%04d-%02d/pageviews-%04d%02d%02d-%02d0000.gz\" % (\n",
        "                annee, annee, mois, annee, mois, jour, heure)\n",
        "    url = debut + fin\n",
        "    fichier = \"pageviews-%04d%02d%02d-%02d0000.gz\" % (\n",
        "                annee, mois, jour, heure)\n",
        "\n",
        "    # on t\u00e9l\u00e9charge\n",
        "    if not os.path.exists(fichier):\n",
        "        print(\"t\u00e9l\u00e9charge\", fin)\n",
        "        try:\n",
        "            with urllib.request.urlopen(url, timeout=1000) as u:\n",
        "                tout = u.read()\n",
        "        except Exception as e:\n",
        "            print(\"impossible de t\u00e9l\u00e9charger\", e)\n",
        "            return None\n",
        "        print(\"enregistre\", fichier)\n",
        "        with open(fichier, \"wb\") as f:\n",
        "            f.write(tout)\n",
        "    else:\n",
        "        print(\"d\u00e9j\u00e0 t\u00e9l\u00e9charg\u00e9\")\n",
        "        \n",
        "    # on d\u00e9compresse\n",
        "    if not os.path.exists(fichier + \".txt\"):\n",
        "        import gzip\n",
        "        with gzip.open(fichier, 'rb') as g:\n",
        "            file_content = g.read()        \n",
        "        with open(fichier + \".txt\", \"wb\") as f:\n",
        "            f.write(file_content)\n",
        "    else: print(\"d\u00e9j\u00e0 d\u00e9compress\u00e9\")\n",
        "    return fichier  + \".txt\"\n",
        "    \n",
        "telecharge_wiki_stat(2016,9,2,6)"
      ]
    },
    {
      "cell_type": "code",
      "execution_count": null,
      "metadata": {
        "collapsed": false
      },
      "outputs": [
        {
          "data": {
            "text/plain": [
              "('0.333', 0.3333333333333333)"
            ]
          },
          "execution_count": null,
          "metadata": {},
          "output_type": "execute_result"
        }
      ],
      "source": [
        "\"%1.3f\" % (1/3), 1/3"
      ]
    },
    {
      "cell_type": "code",
      "execution_count": null,
      "metadata": {
        "collapsed": false
      },
      "outputs": [
        {
          "data": {
            "text/html": [
              "<div>\n",
              "<table border=\"1\" class=\"dataframe\">\n",
              "  <thead>\n",
              "    <tr style=\"text-align: right;\">\n",
              "      <th></th>\n",
              "      <th>aa</th>\n",
              "      <th>Main_Page</th>\n",
              "      <th>4</th>\n",
              "      <th>0</th>\n",
              "    </tr>\n",
              "  </thead>\n",
              "  <tbody>\n",
              "    <tr>\n",
              "      <th>0</th>\n",
              "      <td>aa</td>\n",
              "      <td>Special:Search</td>\n",
              "      <td>2</td>\n",
              "      <td>0</td>\n",
              "    </tr>\n",
              "    <tr>\n",
              "      <th>1</th>\n",
              "      <td>aa</td>\n",
              "      <td>User:Gz260</td>\n",
              "      <td>1</td>\n",
              "      <td>0</td>\n",
              "    </tr>\n",
              "    <tr>\n",
              "      <th>2</th>\n",
              "      <td>aa.m</td>\n",
              "      <td>Main_Page</td>\n",
              "      <td>5</td>\n",
              "      <td>0</td>\n",
              "    </tr>\n",
              "    <tr>\n",
              "      <th>3</th>\n",
              "      <td>aa.m</td>\n",
              "      <td>Special:Contributions/84.231.242.141</td>\n",
              "      <td>1</td>\n",
              "      <td>0</td>\n",
              "    </tr>\n",
              "    <tr>\n",
              "      <th>4</th>\n",
              "      <td>aa.m</td>\n",
              "      <td>Special:History/Main_Page</td>\n",
              "      <td>1</td>\n",
              "      <td>0</td>\n",
              "    </tr>\n",
              "  </tbody>\n",
              "</table>\n",
              "</div>"
            ],
            "text/plain": [
              "     aa                             Main_Page  4  0\n",
              "0    aa                        Special:Search  2  0\n",
              "1    aa                            User:Gz260  1  0\n",
              "2  aa.m                             Main_Page  5  0\n",
              "3  aa.m  Special:Contributions/84.231.242.141  1  0\n",
              "4  aa.m             Special:History/Main_Page  1  0"
            ]
          },
          "execution_count": null,
          "metadata": {},
          "output_type": "execute_result"
        }
      ],
      "source": [
        "import pandas\n",
        "df = pandas.read_csv(\"pageviews-20160902-060000.gz.txt\", \n",
        "                     sep=\" \", nrows=10000, encoding=\"utf-8\")\n",
        "df.head()"
      ]
    },
    {
      "cell_type": "code",
      "execution_count": null,
      "metadata": {
        "collapsed": false
      },
      "outputs": [
        {
          "name": "stdout",
          "output_type": "stream",
          "text": [
            "t\u00e9l\u00e9charget\u00e9l\u00e9charge 2016/2016-09/pageviews-20160902-010000.gz\n",
            " 2016/2016-09/pageviews-20160902-000000.gz\n",
            "impossible de t\u00e9l\u00e9charger HTTP Error 503: Service Temporarily Unavailable\n",
            "t\u00e9l\u00e9charge 2016/2016-09/pageviews-20160902-020000.gz\n",
            "impossible de t\u00e9l\u00e9charger HTTP Error 503: Service Temporarily Unavailable\n",
            "t\u00e9l\u00e9charge 2016/2016-09/pageviews-20160902-030000.gz\n",
            "impossible de t\u00e9l\u00e9charger HTTP Error 503: Service Temporarily Unavailable\n",
            "t\u00e9l\u00e9charge 2016/2016-09/pageviews-20160902-040000.gz\n",
            "impossible de t\u00e9l\u00e9charger HTTP Error 503: Service Temporarily Unavailable\n",
            "t\u00e9l\u00e9charge 2016/2016-09/pageviews-20160902-050000.gz\n",
            "impossible de t\u00e9l\u00e9charger HTTP Error 503: Service Temporarily Unavailable\n",
            "d\u00e9j\u00e0 t\u00e9l\u00e9charg\u00e9\n",
            "d\u00e9j\u00e0 d\u00e9compress\u00e9\n",
            "t\u00e9l\u00e9charge 2016/2016-09/pageviews-20160902-070000.gz\n",
            "impossible de t\u00e9l\u00e9charger HTTP Error 503: Service Temporarily Unavailable\n",
            "t\u00e9l\u00e9charge 2016/2016-09/pageviews-20160902-080000.gz\n",
            "impossible de t\u00e9l\u00e9charger HTTP Error 503: Service Temporarily Unavailable\n",
            "t\u00e9l\u00e9charge 2016/2016-09/pageviews-20160902-090000.gz\n",
            "impossible de t\u00e9l\u00e9charger HTTP Error 503: Service Temporarily Unavailable\n",
            "t\u00e9l\u00e9charge 2016/2016-09/pageviews-20160902-100000.gz\n",
            "impossible de t\u00e9l\u00e9charger HTTP Error 503: Service Temporarily Unavailable\n",
            "t\u00e9l\u00e9charge 2016/2016-09/pageviews-20160902-110000.gz\n",
            "impossible de t\u00e9l\u00e9charger HTTP Error 503: Service Temporarily Unavailable\n",
            "t\u00e9l\u00e9charge 2016/2016-09/pageviews-20160902-120000.gz\n",
            "impossible de t\u00e9l\u00e9charger HTTP Error 503: Service Temporarily Unavailable\n",
            "t\u00e9l\u00e9charge 2016/2016-09/pageviews-20160902-130000.gz\n",
            "impossible de t\u00e9l\u00e9charger HTTP Error 503: Service Temporarily Unavailable\n",
            "t\u00e9l\u00e9charge 2016/2016-09/pageviews-20160902-140000.gz\n",
            "impossible de t\u00e9l\u00e9charger HTTP Error 503: Service Temporarily Unavailable\n",
            "t\u00e9l\u00e9charge 2016/2016-09/pageviews-20160902-150000.gz\n"
          ]
        },
        {
          "name": "stderr",
          "output_type": "stream",
          "text": [
            "[Parallel(n_jobs=2)]: Done  14 tasks      | elapsed:   20.4s\n"
          ]
        },
        {
          "name": "stdout",
          "output_type": "stream",
          "text": [
            "impossible de t\u00e9l\u00e9charger HTTP Error 503: Service Temporarily Unavailable\n",
            "t\u00e9l\u00e9charge 2016/2016-09/pageviews-20160902-160000.gz\n",
            "impossible de t\u00e9l\u00e9charger HTTP Error 503: Service Temporarily Unavailable\n",
            "t\u00e9l\u00e9charge 2016/2016-09/pageviews-20160902-170000.gz\n",
            "impossible de t\u00e9l\u00e9charger HTTP Error 503: Service Temporarily Unavailable\n",
            "t\u00e9l\u00e9charge 2016/2016-09/pageviews-20160902-180000.gz\n",
            "impossible de t\u00e9l\u00e9charger HTTP Error 503: Service Temporarily Unavailable\n",
            "t\u00e9l\u00e9charge 2016/2016-09/pageviews-20160902-190000.gz\n",
            "impossible de t\u00e9l\u00e9charger HTTP Error 503: Service Temporarily Unavailable\n",
            "t\u00e9l\u00e9charge 2016/2016-09/pageviews-20160902-200000.gz\n",
            "impossible de t\u00e9l\u00e9charger HTTP Error 503: Service Temporarily Unavailable\n",
            "t\u00e9l\u00e9charge 2016/2016-09/pageviews-20160902-210000.gz\n",
            "impossible de t\u00e9l\u00e9charger HTTP Error 503: Service Temporarily Unavailable\n",
            "t\u00e9l\u00e9charge 2016/2016-09/pageviews-20160902-220000.gz\n",
            "impossible de t\u00e9l\u00e9charger HTTP Error 503: Service Temporarily Unavailable\n",
            "t\u00e9l\u00e9charge 2016/2016-09/pageviews-20160902-230000.gz\n",
            "impossible de t\u00e9l\u00e9charger HTTP Error 503: Service Temporarily Unavailable\n",
            "enregistre pageviews-20160902-000000.gz\n"
          ]
        },
        {
          "name": "stderr",
          "output_type": "stream",
          "text": [
            "[Parallel(n_jobs=2)]: Done  24 out of  24 | elapsed:  2.7min finished\n"
          ]
        },
        {
          "data": {
            "text/plain": [
              "['pageviews-20160902-000000.gz.txt',\n",
              " None,\n",
              " None,\n",
              " None,\n",
              " None,\n",
              " None,\n",
              " 'pageviews-20160902-060000.gz.txt',\n",
              " None,\n",
              " None,\n",
              " None,\n",
              " None,\n",
              " None,\n",
              " None,\n",
              " None,\n",
              " None,\n",
              " None,\n",
              " None,\n",
              " None,\n",
              " None,\n",
              " None,\n",
              " None,\n",
              " None,\n",
              " None,\n",
              " None]"
            ]
          },
          "execution_count": null,
          "metadata": {},
          "output_type": "execute_result"
        }
      ],
      "source": [
        "import urllib.request, os, sys\n",
        "debut = \"https://dumps.wikimedia.org/other/pageviews/\"\n",
        "change = \"2016/2016-09/pageviews-20160901-200000.gz\"\n",
        "\n",
        "def telecharge_wiki_stat(annee, mois, jour, heure):\n",
        "    fin = \"%04d/%04d-%02d/pageviews-%04d%02d%02d-%02d0000.gz\" % (\n",
        "                annee, annee, mois, annee, mois, jour, heure)\n",
        "    url = debut + fin\n",
        "    fichier = \"pageviews-%04d%02d%02d-%02d0000.gz\" % (\n",
        "                annee, mois, jour, heure)\n",
        "    if not os.path.exists(fichier):\n",
        "        print(\"t\u00e9l\u00e9charge\", fin)\n",
        "        try:\n",
        "            with urllib.request.urlopen(url, timeout=1000) as u:\n",
        "                tout = u.read()\n",
        "        except Exception as e:\n",
        "            print(\"impossible de t\u00e9l\u00e9charger\", e)\n",
        "            return None\n",
        "        print(\"enregistre\", fichier)\n",
        "        with open(fichier, \"wb\") as f:\n",
        "            f.write(tout)\n",
        "    else: print(\"d\u00e9j\u00e0 t\u00e9l\u00e9charg\u00e9\")\n",
        "    # d\u00e9compresse\n",
        "    if not os.path.exists(fichier + \".txt\"):\n",
        "        import gzip\n",
        "        with gzip.open(fichier, 'rb') as g:\n",
        "            file_content = g.read()        \n",
        "        with open(fichier + \".txt\", \"wb\") as f:\n",
        "            f.write(file_content)\n",
        "    else: print(\"d\u00e9j\u00e0 d\u00e9compress\u00e9\")\n",
        "    return fichier  + \".txt\"\n",
        "    \n",
        "\n",
        "from joblib import Parallel, delayed\n",
        "from math import sqrt\n",
        "if __name__ == \"__main__\":\n",
        "    # Parallel(n_jobs=1)(delayed(sqrt)(i**2) for i in range(10))\n",
        "    Parallel(n_jobs=2, verbose=5, backend=\"threading\")(\n",
        "        delayed(telecharge_wiki_stat)(2016,9,2,h) for h in range(24))"
      ]
    },
    {
      "cell_type": "code",
      "execution_count": null,
      "metadata": {
        "collapsed": false
      },
      "outputs": [
        {
          "name": "stdout",
          "output_type": "stream",
          "text": [
            "Requirement already satisfied (use --upgrade to upgrade): joblib in c:\\python35_x64\\lib\\site-packages\n"
          ]
        }
      ],
      "source": [
        "!pip install joblib"
      ]
    },
    {
      "cell_type": "code",
      "execution_count": null,
      "metadata": {
        "collapsed": true
      },
      "outputs": [],
      "source": []
    }
  ],
  "metadata": {
    "kernelspec": {
      "display_name": "Python 3",
      "language": "python",
      "name": "python3"
    },
    "language_info": {
      "codemirror_mode": {
        "name": "ipython",
        "version": 3
      },
      "file_extension": ".py",
      "mimetype": "text/x-python",
      "name": "python",
      "nbconvert_exporter": "python",
      "pygments_lexer": "ipython3",
      "version": "3.5.2"
    }
  },
  "nbformat": 4,
  "nbformat_minor": 1
}